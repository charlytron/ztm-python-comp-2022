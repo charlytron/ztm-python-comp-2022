{
 "cells": [
  {
   "cell_type": "markdown",
   "metadata": {},
   "source": [
    "# "
   ]
  },
  {
   "cell_type": "markdown",
   "metadata": {},
   "source": [
    "# Hash Function\n",
    "\n",
    "Use this [generator](http://miraclesalad.com/webtools/md5.php)\n",
    "\n",
    "`md5` is the type of hash function.\n",
    "\n",
    "- SHA-1\n",
    "- SHA-256\n",
    "\n",
    "With this generator, md5 will hash the password `hello` into:\n",
    "\n",
    "`5d41402abc4b2a76b9719d911017c592`\n",
    "\n",
    "## Key Aspects of Hash Functions\n",
    "\n",
    "- it's one-way: we have no idea of the original password from the cryptic string. That's the magic of idempotent values.\n",
    "- No matter how many times we put 'hello' in the generator, it will be the same, but as soon as we change on character, it will completely change the output. That's the magic of idempotent values.\n",
    "- We'd want to use this in a data structure because we'll get really fast data access. The hash will be converted into an index or address space that it has, based on the hash value.\n",
    "\n",
    "Unlike arrays, where we have ordered indexes, with hash tables, we need only give them a key, and they know exactly where that item is in our memory. Every time we do a hash, though, we're taking up CPU cycles, though, right?\n",
    "\n",
    "Under the hood, hash tables are implemented with an optimum hashing function, one that is very fast. SHA-256 functions take a really long time to generate a hash, and they're overly complex hashing functions."
   ]
  }
 ],
 "metadata": {
  "language_info": {
   "name": "python"
  },
  "orig_nbformat": 4
 },
 "nbformat": 4,
 "nbformat_minor": 2
}
