{
 "cells": [
  {
   "cell_type": "markdown",
   "metadata": {},
   "source": [
    "# Hacker News Project 3\n",
    "\n",
    "We'll add another layer to the app, which is to sort our links from top to bottom. Instead of `return hn`, we'll create a new function called `sort_stories`."
   ]
  },
  {
   "cell_type": "code",
   "execution_count": 1,
   "metadata": {},
   "outputs": [
    {
     "data": {
      "text/plain": [
       "[{'title': 'Sound', 'link': 'https://ciechanow.ski/sound/', 'votes': 2920},\n",
       " {'title': 'NASA’s Webb takes star-filled portrait of Pillars of Creation',\n",
       "  'link': 'https://www.nasa.gov/feature/goddard/2022/nasa-s-webb-takes-star-filled-portrait-of-pillars-of-creation/',\n",
       "  'votes': 644},\n",
       " {'title': 'Inside the Proton',\n",
       "  'link': 'https://www.quantamagazine.org/inside-the-proton-the-most-complicated-thing-imaginable-20221019/',\n",
       "  'votes': 507},\n",
       " {'title': 'Write better error messages',\n",
       "  'link': 'https://wix-ux.com/when-life-gives-you-lemons-write-better-error-messages-46c5223e1a2f',\n",
       "  'votes': 507},\n",
       " {'title': 'How to use a watch as a compass',\n",
       "  'link': 'https://www.citizenwatch-global.com/support/exterior/direction.html',\n",
       "  'votes': 418},\n",
       " {'title': 'AI will replace middle management before robots replace hourly workers',\n",
       "  'link': 'https://chatterhead.bearblog.dev/ai-will-replace-middle-management-not-hourly-workers/',\n",
       "  'votes': 335},\n",
       " {'title': 'Wait vs. Interrupt Culture',\n",
       "  'link': 'http://benjaminrosshoffman.com/wait-vs-interrupt-culture/',\n",
       "  'votes': 285},\n",
       " {'title': 'Pocket Casts Mobile Apps Are Now Open Source',\n",
       "  'link': 'https://blog.pocketcasts.com/2022/10/19/pocket-casts-mobile-apps-are-now-open-source/',\n",
       "  'votes': 247},\n",
       " {'title': 'Liz Truss resigns as UK prime minister',\n",
       "  'link': 'https://www.bbc.co.uk/news/live/uk-politics-63309400',\n",
       "  'votes': 228},\n",
       " {'title': 'The Mystery of 355/113 (2010)',\n",
       "  'link': 'http://davidbau.com/archives/2010/03/14/the_mystery_of_355113.html',\n",
       "  'votes': 169},\n",
       " {'title': 'Your account is permanently suspended',\n",
       "  'link': 'https://twitter.com/benthompson/status/1583059222555930629',\n",
       "  'votes': 154},\n",
       " {'title': 'We are still early with the cloud',\n",
       "  'link': 'https://erikbern.com/2022/10/19/we-are-still-early-with-the-cloud.html',\n",
       "  'votes': 154},\n",
       " {'title': 'Stop Writing Dead Programs',\n",
       "  'link': 'https://jackrusher.com/strange-loop-2022/',\n",
       "  'votes': 136},\n",
       " {'title': \"We're Drowning\",\n",
       "  'link': 'https://snarfed.org/2022-03-10_were-drowning-software-dependencies',\n",
       "  'votes': 117},\n",
       " {'title': \"Copilot under fire as dev claims it emits 'large chunks of my copyrighted code'\",\n",
       "  'link': 'https://devclass.com/2022/10/17/github-copilot-under-fire-as-dev-claims-it-emits-large-chunks-of-my-copyrighted-code/',\n",
       "  'votes': 92},\n",
       " {'title': 'A large scale non-linear optimization library',\n",
       "  'link': 'https://github.com/ceres-solver/ceres-solver',\n",
       "  'votes': 90},\n",
       " {'title': 'Why modifying gravity doesn’t add up',\n",
       "  'link': 'https://bigthink.com/starts-with-a-bang/modifying-gravity/',\n",
       "  'votes': 90},\n",
       " {'title': 'Traff: An open source format/service for live road traffic updates',\n",
       "  'link': 'https://gitlab.com/traffxml',\n",
       "  'votes': 85},\n",
       " {'title': 'New research suggests our brains use quantum computation',\n",
       "  'link': 'https://phys.org/news/2022-10-brains-quantum.html',\n",
       "  'votes': 61},\n",
       " {'title': \"That Shouldn't Happen – UnreachableException in .NET 7\",\n",
       "  'link': 'https://ab.bot/blog/that-shouldnt-happen-unreachableexception-in-net-7',\n",
       "  'votes': 61},\n",
       " {'title': 'CarperAI announces plans for the first open-source “instruction-tuned” LM',\n",
       "  'link': 'https://carper.ai/instruct-gpt-announcement/',\n",
       "  'votes': 60},\n",
       " {'title': 'Can We Control Time in Operating System Design?',\n",
       "  'link': 'https://research.redhat.com/events/toward-knowledge-driven-system-management-to-control-timeliness/',\n",
       "  'votes': 49},\n",
       " {'title': \"Findings show that the Vikings' self-image was influenced by Ancient Rome\",\n",
       "  'link': 'https://phys.org/news/2022-10-vikings-self-image-ancient-rome.html',\n",
       "  'votes': 49},\n",
       " {'title': 'Firefox Beta for Android now supports custom add-on collections',\n",
       "  'link': 'https://www.ghacks.net/2022/10/20/firefox-beta-for-android-now-supports-custom-add-on-collections/',\n",
       "  'votes': 43},\n",
       " {'title': 'Rikuo: Harley-Davidson and the Birth of the Japanese Motorcycle (1978)',\n",
       "  'link': 'https://magazine.cycleworld.com/article/1978/04/01/rikuo',\n",
       "  'votes': 21},\n",
       " {'title': 'The Thoughtful Prick: On Casanova',\n",
       "  'link': 'https://harpers.org/archive/2022/11/the-thoughtful-prick-adventurer-the-life-and-times-of-giacomo-casanova-leo-damrosch/',\n",
       "  'votes': 18},\n",
       " {'title': 'Quirks, Caveats, and Gotchas in SQLite',\n",
       "  'link': 'https://www.sqlite.org/quirks.html',\n",
       "  'votes': 6},\n",
       " {'title': 'The M247/DataPacket Problem with Mullvad VPN',\n",
       "  'link': 'https://worldofmatthew.com/technology/mullvad-m247/',\n",
       "  'votes': 5},\n",
       " {'title': 'Illegal Jig Grinder – Charges and Arrests',\n",
       "  'link': 'https://www.justice.gov/opa/pr/justice-department-announces-charges-and-arrests-two-cases-involving-export-violation-schemes',\n",
       "  'votes': 3}]"
      ]
     },
     "execution_count": 1,
     "metadata": {},
     "output_type": "execute_result"
    }
   ],
   "source": [
    "import requests\n",
    "from bs4 import BeautifulSoup\n",
    "\n",
    "res = requests.get('https://news.ycombinator.com/')\n",
    "soup = BeautifulSoup(res.text, 'html.parser')\n",
    "links = soup.select('.titleline > a')\n",
    "subtext = soup.select('.subtext')\n",
    "\n",
    "def sort_stories_by_votes(hnlist):\n",
    "    return sorted(hnlist, key=lambda k:k['votes'], reverse=True)\n",
    "\n",
    "\n",
    "def create_custom_hn(links, subtext):\n",
    "    hn = []\n",
    "    for idx, item in enumerate(links):\n",
    "        title = item.getText()\n",
    "        href = item.get('href', None)\n",
    "        vote = subtext[idx].select('.score')\n",
    "        if len(vote):\n",
    "          points = int(vote[0].getText().replace(' points', ''))\n",
    "          hn.append({'title': title, 'link': href, 'votes': points})\n",
    "    return sort_stories_by_votes(hn)\n",
    "\n",
    "\n",
    "create_custom_hn(links, subtext)"
   ]
  },
  {
   "cell_type": "markdown",
   "metadata": {},
   "source": [
    "Okay, so how can we expand this list so that it includes more than just the first page of HN? If we go back to HN, we've only scraped 30 links. But we need to click `more` to get to the second page. Maybe we want to scrape the first two pages."
   ]
  }
 ],
 "metadata": {
  "kernelspec": {
   "display_name": "Python 3.10.6 64-bit",
   "language": "python",
   "name": "python3"
  },
  "language_info": {
   "codemirror_mode": {
    "name": "ipython",
    "version": 3
   },
   "file_extension": ".py",
   "mimetype": "text/x-python",
   "name": "python",
   "nbconvert_exporter": "python",
   "pygments_lexer": "ipython3",
   "version": "3.10.6"
  },
  "orig_nbformat": 4,
  "vscode": {
   "interpreter": {
    "hash": "916dbcbb3f70747c44a77c7bcd40155683ae19c65e1c03b4aa3499c5328201f1"
   }
  }
 },
 "nbformat": 4,
 "nbformat_minor": 2
}
