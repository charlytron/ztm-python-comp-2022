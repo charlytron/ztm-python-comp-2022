{
 "cells": [
  {
   "cell_type": "markdown",
   "metadata": {},
   "source": [
    "# Hacker News Project\n",
    "\n",
    "We have our data, but it's still kind of dirty. We haven't really filtered; that is, we only care about the stories with over 100 votes.\n",
    "\n",
    "We'll create a new Hacker news list, return it. But within this list, we only want to add the text and none of the HTML.\n",
    "\n",
    "We want to grab the title of each link"
   ]
  },
  {
   "cell_type": "code",
   "execution_count": 3,
   "metadata": {},
   "outputs": [
    {
     "name": "stdout",
     "output_type": "stream",
     "text": [
      "['The proton, the ‘most complicated thing’ imaginable (quantamagazine.org)', 'Kill Bill – Open-Source Subscription Billing and Payments Platform (github.com/killbill)', 'Write Better Error Messages (wix-ux.com)', 'Why Most Published Research Findings Are False (2005) (plos.org)', 'Replit Mobile App (replit.com)', 'Show HN: I made a new AI colorizer (palette.fm)', 'Forgotten Employee (2002) (sites.google.com)', 'Pipe Viewer (ivarch.com)', 'Substack is hiring Data Analysts to build the future for writing (greenhouse.io)', 'The Telefunken RA 770 Analog Computer (analogmuseum.org)', \"Wargame: LaTeX package to prepare hex'n'counter wargames (ctan.org)\", 'Why are process gates the hellish spawn of evil you should avoid at all costs? (rubick.com)', 'How a med student made the best AI writing assistant and got acquired by Jasper (theexitgame.substack.com)', 'Identity management for WireGuard networks (lwn.net)', 'A Lot of What Is Known about Pirates Is Not True (2017) (neh.gov)', \"My Initial Thoughts on Bluesky's AT Protocol (havenweb.org)\", 'It’s time to repeal the Jones Act (discoursemagazine.com)', 'Managing and using ONVIF IP cameras with Linux (skolelinux.org)', 'First known map of night sky found hidden in Medieval parchment (nature.com)', 'Elevator Saga: Elevator programming game (elevatorsaga.com)', 'Simple, Fast, and Scalable Reverse Image Search (canvatechblog.com)', 'Ask HN: How did Microsoft email services became the primary source for spam?', 'Furniture as Comrade: Enzo Mari’s Autoprogettazione (dispatchesmag.com)', 'Remote work may have fueled a baby boom among U.S. women (axios.com)', 'The Soviet Union’s Nuclear Icebreakers (asianometry.substack.com)', \"Ask HN: Why don't I see gold at the end of the remote working rainbow?\", 'Brave browser now blocks cookie banners (brave.com)', 'Sound (ciechanow.ski)', 'The Smash and Grab of Kroger-Albertsons (mattstoller.substack.com)', 'Next Stop for Waymo One: Los Angeles (waymo.com)']\n"
     ]
    }
   ],
   "source": [
    "import requests\n",
    "from bs4 import BeautifulSoup\n",
    "\n",
    "res = requests.get('https://news.ycombinator.com/')\n",
    "soup = BeautifulSoup(res.text, 'html.parser')\n",
    "links = soup.select('.titleline')\n",
    "votes = soup.select('.score')\n",
    "\n",
    "def create_custom_hn(links, votes):\n",
    "  hn = []\n",
    "  for idx, item in enumerate(links):\n",
    "    title = links[idx].getText()\n",
    "    hn.append(title)\n",
    "  return hn\n",
    "\n",
    "print(create_custom_hn(links,votes))"
   ]
  },
  {
   "cell_type": "markdown",
   "metadata": {},
   "source": [
    "And now we have all of the titles for our links, but these titles are useless without an `a href` link."
   ]
  },
  {
   "cell_type": "code",
   "execution_count": 5,
   "metadata": {},
   "outputs": [
    {
     "name": "stdout",
     "output_type": "stream",
     "text": [
      "['https://www.quantamagazine.org/inside-the-proton-the-most-complicated-thing-imaginable-20221019/', 'https://www.citizenwatch-global.com/support/exterior/direction.html', 'https://github.com/killbill/killbill', 'https://www.nasa.gov/feature/goddard/2022/nasa-s-webb-takes-star-filled-portrait-of-pillars-of-creation/', 'https://adguard.com/en/blog/easylist-filter-problem-help.html', 'https://blog.replit.com/mobile-app', 'https://wix-ux.com/when-life-gives-you-lemons-write-better-error-messages-46c5223e1a2f', 'https://www.theatlantic.com/technology/archive/2022/10/amazon-tracking-devices-surveillance-state/671772/', 'https://journals.plos.org/plosmedicine/article?id=10.1371/journal.pmed.0020124', 'https://palette.fm/', 'http://robots.stanford.edu/genealogy', 'https://mattstoller.substack.com/p/the-smash-and-grab-of-kroger-albertsons', 'https://boards.greenhouse.io/substack/jobs/4006118005?gh_src=hn', 'https://asianometry.substack.com/p/the-soviet-unions-nuclear-icebreakers', 'https://www.youtube.com/watch?v=GL77oOnrPzY', 'https://www.nature.com/articles/d41586-022-03296-1', 'https://sites.google.com/site/forgottenemployee/', 'http://www.ivarch.com/programs/pv.shtml', 'https://ctan.org/pkg/wargame', 'http://www.analogmuseum.org/english/collection/telefunken/ra770/', 'https://www.neh.gov/humanities/2017/winter/feature/lot-what-known-about-pirates-not-true-and-lot-what-true-not-known', 'https://lwn.net/SubscriberLink/910766/7678f8c4ede60928/', 'https://www.rubick.com/process-gates-of-hell/', 'https://dispatchesmag.com/reappraisal-enzo-mari/', 'https://havenweb.org/2022/10/19/bluesky.html', 'https://semiengineering.com/bespoke-silicon-rattles-chip-design-ecosystem/', 'https://play.elevatorsaga.com/', 'https://people.skolelinux.org/pere/blog/Managing_and_using_ONVIF_IP_cameras_with_Linux.html', 'https://canvatechblog.com/simple-fast-and-scalable-reverse-image-search-using-perceptual-hashes-and-dynamodb-df3007d19934', 'https://blog.waymo.com/2022/10/next-stop-for-waymo-one-los-angeles.html']\n"
     ]
    }
   ],
   "source": [
    "import requests\n",
    "from bs4 import BeautifulSoup\n",
    "\n",
    "res = requests.get('https://news.ycombinator.com/')\n",
    "soup = BeautifulSoup(res.text, 'html.parser')\n",
    "links = soup.select('.titleline > a')\n",
    "votes = soup.select('.score')\n",
    "\n",
    "def create_custom_hn(links, votes):\n",
    "  hn = []\n",
    "  for idx, item in enumerate(links):\n",
    "    title = links[idx].getText()\n",
    "    href = links[idx].get('href', None)\n",
    "    hn.append(href)\n",
    "  return hn\n",
    "\n",
    "print(create_custom_hn(links,votes))"
   ]
  },
  {
   "cell_type": "markdown",
   "metadata": {},
   "source": [
    "So, how do we combine the title and href? By using a dictionary. In our list, we can append one."
   ]
  },
  {
   "cell_type": "code",
   "execution_count": 6,
   "metadata": {},
   "outputs": [
    {
     "name": "stdout",
     "output_type": "stream",
     "text": [
      "[{'title': 'Inside the Proton', 'link': 'https://www.quantamagazine.org/inside-the-proton-the-most-complicated-thing-imaginable-20221019/'}, {'title': 'How to use a watch as a compass', 'link': 'https://www.citizenwatch-global.com/support/exterior/direction.html'}, {'title': 'Kill Bill – Open-Source Subscription Billing and Payments Platform', 'link': 'https://github.com/killbill/killbill'}, {'title': 'NASA’s Webb takes star-filled portrait of Pillars of Creation', 'link': 'https://www.nasa.gov/feature/goddard/2022/nasa-s-webb-takes-star-filled-portrait-of-pillars-of-creation/'}, {'title': 'EasyList is in trouble and so are many ad blockers', 'link': 'https://adguard.com/en/blog/easylist-filter-problem-help.html'}, {'title': 'Write Better Error Messages', 'link': 'https://wix-ux.com/when-life-gives-you-lemons-write-better-error-messages-46c5223e1a2f'}, {'title': 'Replit Mobile App', 'link': 'https://blog.replit.com/mobile-app'}, {'title': 'The Rise of ‘Luxury Surveillance’', 'link': 'https://www.theatlantic.com/technology/archive/2022/10/amazon-tracking-devices-surveillance-state/671772/'}, {'title': 'Why most published research findings are false (2005)', 'link': 'https://journals.plos.org/plosmedicine/article?id=10.1371/journal.pmed.0020124'}, {'title': 'Show HN: I made a new AI colorizer', 'link': 'https://palette.fm/'}, {'title': \"Sebastian Thrun's PhD Genealogy\", 'link': 'http://robots.stanford.edu/genealogy'}, {'title': 'The smash and grab of Kroger-Albertsons', 'link': 'https://mattstoller.substack.com/p/the-smash-and-grab-of-kroger-albertsons'}, {'title': 'Substack (YC W18) is hiring data analysts', 'link': 'https://boards.greenhouse.io/substack/jobs/4006118005?gh_src=hn'}, {'title': 'The Soviet Union’s Nuclear Icebreakers', 'link': 'https://asianometry.substack.com/p/the-soviet-unions-nuclear-icebreakers'}, {'title': 'Nima Arkani-Hamed: The End of Space-Time', 'link': 'https://www.youtube.com/watch?v=GL77oOnrPzY'}, {'title': 'Part of the long-lost star catalogue of Hipparchus found in medieval parchment', 'link': 'https://www.nature.com/articles/d41586-022-03296-1'}, {'title': 'Forgotten Employee (2002)', 'link': 'https://sites.google.com/site/forgottenemployee/'}, {'title': 'Pipe Viewer', 'link': 'http://www.ivarch.com/programs/pv.shtml'}, {'title': \"Wargame: LaTeX package to prepare hex'n'counter wargames\", 'link': 'https://ctan.org/pkg/wargame'}, {'title': 'The Telefunken RA 770 Analog Computer', 'link': 'http://www.analogmuseum.org/english/collection/telefunken/ra770/'}, {'title': 'A lot of what is known about pirates is not true (2017)', 'link': 'https://www.neh.gov/humanities/2017/winter/feature/lot-what-known-about-pirates-not-true-and-lot-what-true-not-known'}, {'title': 'Identity management for WireGuard', 'link': 'https://lwn.net/SubscriberLink/910766/7678f8c4ede60928/'}, {'title': 'What are the problems with process gates?', 'link': 'https://www.rubick.com/process-gates-of-hell/'}, {'title': 'Furniture as Comrade: Enzo Mari’s Autoprogettazione', 'link': 'https://dispatchesmag.com/reappraisal-enzo-mari/'}, {'title': \"My Initial Thoughts on Bluesky's AT Protocol\", 'link': 'https://havenweb.org/2022/10/19/bluesky.html'}, {'title': 'Elevator Saga: Elevator programming game', 'link': 'https://play.elevatorsaga.com/'}, {'title': 'Bespoke silicon rattles chip design ecosystem', 'link': 'https://semiengineering.com/bespoke-silicon-rattles-chip-design-ecosystem/'}, {'title': 'Managing and using ONVIF IP cameras with Linux', 'link': 'https://people.skolelinux.org/pere/blog/Managing_and_using_ONVIF_IP_cameras_with_Linux.html'}, {'title': 'Next Stop for Waymo One: Los Angeles', 'link': 'https://blog.waymo.com/2022/10/next-stop-for-waymo-one-los-angeles.html'}, {'title': 'Simple, Fast, and Scalable Reverse Image Search', 'link': 'https://canvatechblog.com/simple-fast-and-scalable-reverse-image-search-using-perceptual-hashes-and-dynamodb-df3007d19934'}]\n"
     ]
    }
   ],
   "source": [
    "import requests\n",
    "from bs4 import BeautifulSoup\n",
    "\n",
    "res = requests.get('https://news.ycombinator.com/')\n",
    "soup = BeautifulSoup(res.text, 'html.parser')\n",
    "links = soup.select('.titleline > a')\n",
    "votes = soup.select('.score')\n",
    "\n",
    "\n",
    "def create_custom_hn(links, votes):\n",
    "    hn = []\n",
    "    for idx, item in enumerate(links):\n",
    "        title = links[idx].getText()\n",
    "        href = links[idx].get('href', None)\n",
    "        hn.append({'title': title, 'link': href})\n",
    "    return hn\n",
    "\n",
    "\n",
    "print(create_custom_hn(links, votes))\n"
   ]
  },
  {
   "cell_type": "markdown",
   "metadata": {},
   "source": [
    "We still need the votes, though. We need to replace the ` points` with nothing in line 15. Otherwise we get `x points` returned, which distracts from what we want."
   ]
  },
  {
   "cell_type": "code",
   "execution_count": 4,
   "metadata": {},
   "outputs": [
    {
     "name": "stdout",
     "output_type": "stream",
     "text": [
      "67\n",
      "59\n",
      "42\n",
      "52\n",
      "161\n",
      "39\n",
      "24\n",
      "105\n",
      "80\n",
      "46\n",
      "125\n",
      "633\n",
      "73\n",
      "109\n",
      "60\n",
      "31\n",
      "148\n",
      "229\n",
      "314\n",
      "87\n",
      "18\n",
      "274\n",
      "2907\n",
      "406\n",
      "502\n",
      "108\n",
      "55\n",
      "17\n",
      "501\n"
     ]
    },
    {
     "ename": "IndexError",
     "evalue": "list index out of range",
     "output_type": "error",
     "traceback": [
      "\u001b[0;31m---------------------------------------------------------------------------\u001b[0m",
      "\u001b[0;31mIndexError\u001b[0m                                Traceback (most recent call last)",
      "Cell \u001b[0;32mIn [4], line 21\u001b[0m\n\u001b[1;32m     17\u001b[0m         hn\u001b[39m.\u001b[39mappend({\u001b[39m'\u001b[39m\u001b[39mtitle\u001b[39m\u001b[39m'\u001b[39m: title, \u001b[39m'\u001b[39m\u001b[39mlink\u001b[39m\u001b[39m'\u001b[39m: href})\n\u001b[1;32m     18\u001b[0m     \u001b[39mreturn\u001b[39;00m hn\n\u001b[0;32m---> 21\u001b[0m \u001b[39mprint\u001b[39m(create_custom_hn(links, votes))\n",
      "Cell \u001b[0;32mIn [4], line 15\u001b[0m, in \u001b[0;36mcreate_custom_hn\u001b[0;34m(links, votes)\u001b[0m\n\u001b[1;32m     13\u001b[0m title \u001b[39m=\u001b[39m links[idx]\u001b[39m.\u001b[39mgetText()\n\u001b[1;32m     14\u001b[0m href \u001b[39m=\u001b[39m links[idx]\u001b[39m.\u001b[39mget(\u001b[39m'\u001b[39m\u001b[39mhref\u001b[39m\u001b[39m'\u001b[39m, \u001b[39mNone\u001b[39;00m)\n\u001b[0;32m---> 15\u001b[0m points \u001b[39m=\u001b[39m \u001b[39mint\u001b[39m(votes[idx]\u001b[39m.\u001b[39mgetText()\u001b[39m.\u001b[39mreplace(\u001b[39m'\u001b[39m\u001b[39m points\u001b[39m\u001b[39m'\u001b[39m, \u001b[39m'\u001b[39m\u001b[39m'\u001b[39m))\n\u001b[1;32m     16\u001b[0m \u001b[39mprint\u001b[39m(points)\n\u001b[1;32m     17\u001b[0m hn\u001b[39m.\u001b[39mappend({\u001b[39m'\u001b[39m\u001b[39mtitle\u001b[39m\u001b[39m'\u001b[39m: title, \u001b[39m'\u001b[39m\u001b[39mlink\u001b[39m\u001b[39m'\u001b[39m: href})\n",
      "\u001b[0;31mIndexError\u001b[0m: list index out of range"
     ]
    }
   ],
   "source": [
    "import requests\n",
    "from bs4 import BeautifulSoup\n",
    "\n",
    "res = requests.get('https://news.ycombinator.com/')\n",
    "soup = BeautifulSoup(res.text, 'html.parser')\n",
    "links = soup.select('.titleline > a')\n",
    "votes = soup.select('.score')\n",
    "\n",
    "\n",
    "def create_custom_hn(links, votes):\n",
    "    hn = []\n",
    "    for idx, item in enumerate(links):\n",
    "        title = links[idx].getText()\n",
    "        href = links[idx].get('href', None)\n",
    "        points = int(votes[idx].getText().replace(' points', ''))\n",
    "        print(points)\n",
    "        hn.append({'title': title, 'link': href})\n",
    "    return hn\n",
    "\n",
    "\n",
    "print(create_custom_hn(links, votes))\n"
   ]
  },
  {
   "cell_type": "markdown",
   "metadata": {},
   "source": [
    "We have our numbers listed as a result, but our list index is out of range. "
   ]
  },
  {
   "cell_type": "markdown",
   "metadata": {},
   "source": []
  }
 ],
 "metadata": {
  "kernelspec": {
   "display_name": "Python 3.10.6 64-bit",
   "language": "python",
   "name": "python3"
  },
  "language_info": {
   "codemirror_mode": {
    "name": "ipython",
    "version": 3
   },
   "file_extension": ".py",
   "mimetype": "text/x-python",
   "name": "python",
   "nbconvert_exporter": "python",
   "pygments_lexer": "ipython3",
   "version": "3.10.6"
  },
  "orig_nbformat": 4,
  "vscode": {
   "interpreter": {
    "hash": "916dbcbb3f70747c44a77c7bcd40155683ae19c65e1c03b4aa3499c5328201f1"
   }
  }
 },
 "nbformat": 4,
 "nbformat_minor": 2
}
