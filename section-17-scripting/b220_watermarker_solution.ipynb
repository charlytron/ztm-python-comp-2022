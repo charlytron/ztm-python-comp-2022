{
 "cells": [
  {
   "cell_type": "markdown",
   "metadata": {},
   "source": [
    "# Watermarker exercise solution"
   ]
  },
  {
   "cell_type": "code",
   "execution_count": null,
   "metadata": {},
   "outputs": [],
   "source": [
    "\n",
    "import PyPDF2\n",
    "\n",
    "template = PyPDF2.PdfFileReader(open('super.pdf', 'rb'))\n",
    "watermark = PyPDF2.PdfFileReader(open('wtr.pdf', 'rb'))\n",
    "output = PyPDF2.PdfFileWriter()\n",
    "\n",
    "for i in range(template.getNumPages()):\n",
    "  page = template.getPage(i)\n",
    "  page.mergePage(watermark.getPage(0))\n",
    "  output.addPage(page)\n",
    "  \n",
    "  with open('watermarked_output', 'wb') as file:\n",
    "    output.write(file)"
   ]
  }
 ],
 "metadata": {
  "kernelspec": {
   "display_name": "Python 3.10.6 64-bit",
   "language": "python",
   "name": "python3"
  },
  "language_info": {
   "name": "python",
   "version": "3.10.6"
  },
  "orig_nbformat": 4,
  "vscode": {
   "interpreter": {
    "hash": "916dbcbb3f70747c44a77c7bcd40155683ae19c65e1c03b4aa3499c5328201f1"
   }
  }
 },
 "nbformat": 4,
 "nbformat_minor": 2
}
