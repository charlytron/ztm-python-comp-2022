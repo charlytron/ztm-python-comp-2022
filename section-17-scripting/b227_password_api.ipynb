{
 "cells": [
  {
   "cell_type": "markdown",
   "metadata": {},
   "source": [
    "# Password API\n",
    "\n",
    "In `checkmypass.py`, we want to import the requests module, but we first need to install `pip install requests`.\n",
    "\n",
    "This will allow us to make a request, a bit like having a mock browser."
   ]
  },
  {
   "cell_type": "code",
   "execution_count": 3,
   "metadata": {},
   "outputs": [
    {
     "name": "stdout",
     "output_type": "stream",
     "text": [
      "<Response [400]>\n"
     ]
    }
   ],
   "source": [
    "import requests\n",
    "\n",
    "url = 'https://api.pwnedpasswords.com/range/' + 'password123'\n",
    "res = requests.get(url)\n",
    "print(res)"
   ]
  },
  {
   "cell_type": "markdown",
   "metadata": {},
   "source": [
    "Such a response (400) means either unauthorized or something's up with the API. We want 200. We didn't exactly format our request according to how the API works.\n",
    "\n",
    "We're not using hashing like we should. Hashing a password is always recommended."
   ]
  },
  {
   "cell_type": "code",
   "execution_count": null,
   "metadata": {},
   "outputs": [],
   "source": [
    "import requests\n",
    "\n",
    "url = 'https://api.pwnedpasswords.com/range/' + 'password123'\n",
    "res = requests.get(url)\n",
    "print(res)\n"
   ]
  },
  {
   "cell_type": "markdown",
   "metadata": {},
   "source": [
    "We would prefer to send the hash of this password over the wire, and the hash generator is located [here](https://coding.tools/sha1).\n",
    "\n",
    "This will change the look of the generic password accordingly so that we can modify our url string:"
   ]
  },
  {
   "cell_type": "code",
   "execution_count": 4,
   "metadata": {},
   "outputs": [
    {
     "name": "stdout",
     "output_type": "stream",
     "text": [
      "<Response [200]>\n"
     ]
    }
   ],
   "source": [
    "import requests\n",
    "\n",
    "# can use the first 5 chars of the hash bec of k-anonymity\n",
    "url = 'https://api.pwnedpasswords.com/range/' + 'CBFDA' \n",
    "res = requests.get(url)\n",
    "print(res)"
   ]
  }
 ],
 "metadata": {
  "kernelspec": {
   "display_name": "Python 3.10.6 64-bit",
   "language": "python",
   "name": "python3"
  },
  "language_info": {
   "codemirror_mode": {
    "name": "ipython",
    "version": 3
   },
   "file_extension": ".py",
   "mimetype": "text/x-python",
   "name": "python",
   "nbconvert_exporter": "python",
   "pygments_lexer": "ipython3",
   "version": "3.10.6"
  },
  "orig_nbformat": 4,
  "vscode": {
   "interpreter": {
    "hash": "916dbcbb3f70747c44a77c7bcd40155683ae19c65e1c03b4aa3499c5328201f1"
   }
  }
 },
 "nbformat": 4,
 "nbformat_minor": 2
}
