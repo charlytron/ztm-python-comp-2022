{
 "cells": [
  {
   "cell_type": "markdown",
   "metadata": {},
   "source": [
    "# Web Scraping\n",
    "\n",
    "Programmatically grabbing data from a website.\n",
    "\n",
    "- Amazon\n",
    "- AirBnB\n",
    "- Recipe website\n",
    "\n",
    "Any website can be scraped. We download the page, grab the data--cleaning it up so that it's useful--and then using the data. Web scraping grabs the HTML data, then removes the parts that we don't need.\n",
    "\n",
    "## We will be scraping Hacker News\n",
    "\n"
   ]
  }
 ],
 "metadata": {
  "language_info": {
   "name": "python"
  },
  "orig_nbformat": 4
 },
 "nbformat": 4,
 "nbformat_minor": 2
}
