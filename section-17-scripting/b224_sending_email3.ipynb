{
 "cells": [
  {
   "cell_type": "markdown",
   "metadata": {},
   "source": [
    "# Sending emails with Python III\n",
    "\n",
    "Instead of sending a generic email, maybe we could customize it to each individual:"
   ]
  },
  {
   "cell_type": "code",
   "execution_count": null,
   "metadata": {},
   "outputs": [],
   "source": [
    "# Instead of this...\n",
    "\n",
    "import smtplib\n",
    "from email.message import EmailMessage\n",
    "\n",
    "email = EmailMessage()\n",
    "email['from'] = 'Chacha Blahui'\n",
    "email['to'] = 'bubba@gmail.com'\n",
    "email['subject'] = 'chills and spills'\n",
    "\n",
    "email.set_content('You\\'ve won')\n",
    "\n",
    "with smtplib.SMTP(host='smtp.gmail.com', port=587) as smtp:\n",
    "  smtp.ehlo()\n",
    "  smtp.starttls()\n",
    "  smtp.login('bubba@gmail.com', 'beelzebubba')\n",
    "  smtp.send_message('All good in the hood')"
   ]
  },
  {
   "cell_type": "markdown",
   "metadata": {},
   "source": [
    "Maybe we have a database of users, all of their first names and emails, so we can customize the email to that specific person.\n",
    "\n",
    "We can send text emails or HTML."
   ]
  },
  {
   "cell_type": "code",
   "execution_count": null,
   "metadata": {
    "vscode": {
     "languageId": "html"
    }
   },
   "outputs": [],
   "source": [
    "<!DOCTYPE html>\n",
    "<html>\n",
    "<head>\n",
    "</head>\n",
    "<body>\n",
    "    You just won sumpin, $name\n",
    "</body>\n",
    "</html>\n"
   ]
  },
  {
   "cell_type": "markdown",
   "metadata": {},
   "source": [
    "Two new packages will help us to achieve this:"
   ]
  },
  {
   "cell_type": "code",
   "execution_count": null,
   "metadata": {},
   "outputs": [],
   "source": [
    "import smtplib\n",
    "from email.message import EmailMessage\n",
    "from string import Template\n",
    "\n",
    "email = EmailMessage()\n",
    "email['from'] = 'Chacha Blahui'\n",
    "email['to'] = 'bubba@gmail.com'\n",
    "email['subject'] = 'chills and spills'\n",
    "\n",
    "email.set_content('You\\'ve won')\n",
    "\n",
    "with smtplib.SMTP(host='smtp.gmail.com', port=587) as smtp:\n",
    "  smtp.ehlo()\n",
    "  smtp.starttls()\n",
    "  smtp.login('bubba@gmail.com', 'beelzebubba')\n",
    "  smtp.send_message('All good in the hood')"
   ]
  },
  {
   "cell_type": "markdown",
   "metadata": {},
   "source": [
    "We're using the string template class, and what were doing is trying to substitute variables  inside of text. Ideally, we can update the `$name` variable below:"
   ]
  },
  {
   "cell_type": "code",
   "execution_count": null,
   "metadata": {
    "vscode": {
     "languageId": "html"
    }
   },
   "outputs": [],
   "source": [
    "<!DOCTYPE html>\n",
    "<html>\n",
    "<head>\n",
    "</head>\n",
    "<body>\n",
    "    You just won sumpin, $name\n",
    "</body>\n",
    "</html>"
   ]
  },
  {
   "cell_type": "markdown",
   "metadata": {},
   "source": [
    "We need to import another module in line 4 to make this work, though:"
   ]
  },
  {
   "cell_type": "code",
   "execution_count": null,
   "metadata": {},
   "outputs": [],
   "source": [
    "import smtplib\n",
    "from email.message import EmailMessage\n",
    "from string import Template\n",
    "from pathlib import Path\n",
    "\n",
    "email = EmailMessage()\n",
    "email['from'] = 'Chacha Blahui'\n",
    "email['to'] = 'bubba@gmail.com'\n",
    "email['subject'] = 'chills and spills'\n",
    "\n",
    "email.set_content('You\\'ve won')\n",
    "\n",
    "with smtplib.SMTP(host='smtp.gmail.com', port=587) as smtp:\n",
    "  smtp.ehlo()\n",
    "  smtp.starttls()\n",
    "  smtp.login('bubba@gmail.com', 'beelzebubba')\n",
    "  smtp.send_message('All good in the hood')"
   ]
  },
  {
   "cell_type": "markdown",
   "metadata": {},
   "source": [
    "`from pathlib import Path` is very similar to what we've used before:\n",
    "`os.path`. The point is that it allows us to access the HTML file.\n",
    "\n",
    "That said, we can have an HTML variable in line 6. The `Path` gives us access to `index.html`, and we can use the `read_text()` method to read it as a string: "
   ]
  },
  {
   "cell_type": "code",
   "execution_count": null,
   "metadata": {},
   "outputs": [],
   "source": [
    "import smtplib\n",
    "from email.message import EmailMessage\n",
    "from string import Template\n",
    "from pathlib import Path\n",
    "\n",
    "html = Path('index.html').read_text\n",
    "email = EmailMessage()\n",
    "email['from'] = 'Chacha Blahui'\n",
    "email['to'] = 'bubba@gmail.com'\n",
    "email['subject'] = 'chills and spills'\n",
    "\n",
    "email.set_content('You\\'ve won')\n",
    "\n",
    "with smtplib.SMTP(host='smtp.gmail.com', port=587) as smtp:\n",
    "  smtp.ehlo()\n",
    "  smtp.starttls()\n",
    "  smtp.login('bubba@gmail.com', 'beelzebubba')\n",
    "  smtp.send_message('All good in the hood')"
   ]
  },
  {
   "cell_type": "markdown",
   "metadata": {},
   "source": [
    "Why would we want to use `pathlib` instead of `ospath`? Check [here](https://treyhunner.com/2018/12/why-you-should-be-using-pathlib/) for explanation.\n",
    "\n",
    "We have our string in HTML, but we want to update so that the `$name` variable will be a custom variable. We'll wrap it in `Template` so that it becomes a `Template` object:\n",
    "\n",
    "`html = Template(Path('index.html').read_text)`\n",
    "\n",
    "Now, we have HTML that is a template, and once we have this string, we can use the `.substitute` to give it what we want to substitute it with.\n",
    "\n",
    "Instead of setting content in line 12, \n",
    "\n",
    "``` python\n",
    "email.set_content('You\\'ve won')\n",
    "```\n",
    "\n",
    "we're going to change this:\n",
    "\n",
    "``` python\n",
    "email.set_content(html.substitute({'name': 'RinTinTin'}), 'html')\n",
    "```\n",
    "\n",
    "wherein the second parameter `'html'` will allow us to parse the email body accordingly, to print the email in HTML as opposed to raw text:"
   ]
  },
  {
   "cell_type": "code",
   "execution_count": null,
   "metadata": {},
   "outputs": [],
   "source": [
    "import smtplib\n",
    "from email.message import EmailMessage\n",
    "from string import Template\n",
    "from pathlib import Path\n",
    "\n",
    "html = Template(Path('index.html').read_text)\n",
    "email = EmailMessage()\n",
    "email['from'] = 'Chacha Blahui'\n",
    "email['to'] = 'bubba@gmail.com'\n",
    "email['subject'] = 'chills and spills'\n",
    "\n",
    "email.set_content(html.substitute({'name': 'RinTinTin'}), 'html')\n",
    "\n",
    "\n",
    "with smtplib.SMTP(host='smtp.gmail.com', port=587) as smtp:\n",
    "  smtp.ehlo()\n",
    "  smtp.starttls()\n",
    "  smtp.login('bubba@gmail.com', 'beelzebubba')\n",
    "  smtp.send_message('All good in the hood')"
   ]
  }
 ],
 "metadata": {
  "kernelspec": {
   "display_name": "Python 3.10.6 64-bit",
   "language": "python",
   "name": "python3"
  },
  "language_info": {
   "name": "python",
   "version": "3.10.6"
  },
  "orig_nbformat": 4,
  "vscode": {
   "interpreter": {
    "hash": "916dbcbb3f70747c44a77c7bcd40155683ae19c65e1c03b4aa3499c5328201f1"
   }
  }
 },
 "nbformat": 4,
 "nbformat_minor": 2
}
