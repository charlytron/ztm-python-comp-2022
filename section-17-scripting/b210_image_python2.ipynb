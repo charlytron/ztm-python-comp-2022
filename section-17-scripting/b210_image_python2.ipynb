{
 "cells": [
  {
   "cell_type": "markdown",
   "metadata": {},
   "source": [
    "# Images with Python II\n",
    "\n",
    "Here's where we left off:"
   ]
  },
  {
   "cell_type": "code",
   "execution_count": null,
   "metadata": {},
   "outputs": [],
   "source": [
    "from PIL import Image, ImageFilter\n",
    "\n",
    "img = Image.open('./image-playground/pokedex/pikachu.jpg')\n",
    "filtered_img = img.convert('L')\n",
    "filtered_img.save(\"grey_scale.png\", 'png')"
   ]
  },
  {
   "cell_type": "markdown",
   "metadata": {},
   "source": [
    "Learning more with image manipulation would include the `show()` function which shows `grey_scale.png` in a separate window. It doesn't work in this particular Jupyter Notebook example, but it does work when running `images.py` on its own:"
   ]
  },
  {
   "cell_type": "code",
   "execution_count": null,
   "metadata": {},
   "outputs": [],
   "source": [
    "from PIL import Image, ImageFilter\n",
    "\n",
    "img = Image.open('./image-playground/pokedex/pikachu.jpg')\n",
    "filtered_img = img.convert('L')\n",
    "filtered_img.save(\"grey_scale.png\", 'png')\n",
    "filtered_img.show()"
   ]
  },
  {
   "cell_type": "markdown",
   "metadata": {},
   "source": [
    "We can also rotate the image:"
   ]
  },
  {
   "cell_type": "code",
   "execution_count": null,
   "metadata": {},
   "outputs": [],
   "source": [
    "from PIL import Image, ImageFilter\n",
    "\n",
    "img = Image.open('./pokedex/pikachu.jpg')\n",
    "filtered_img = img.convert('L')\n",
    "crooked = filtered_img.rotate(90)\n",
    "crooked.save(\"grey_scale.png\", 'png')"
   ]
  },
  {
   "cell_type": "markdown",
   "metadata": {},
   "source": [
    "And resize it:"
   ]
  },
  {
   "cell_type": "code",
   "execution_count": null,
   "metadata": {},
   "outputs": [],
   "source": [
    "from PIL import Image, ImageFilter\n",
    "\n",
    "img = Image.open('./pokedex/pikachu.jpg')\n",
    "filtered_img = img.convert('L')\n",
    "crooked = filtered_img.resize(76, 76)\n",
    "crooked.save(\"grey_scale.png\", 'png')"
   ]
  },
  {
   "cell_type": "markdown",
   "metadata": {},
   "source": [
    "And to crop an image:"
   ]
  },
  {
   "cell_type": "code",
   "execution_count": null,
   "metadata": {},
   "outputs": [],
   "source": [
    "from PIL import Image, ImageFilter\n",
    "\n",
    "img = Image.open('./pokedex/pikachu.jpg')\n",
    "filtered_img = img.convert('L')\n",
    "box = (100, 100, 400, 400)\n",
    "region = filtered_img.crop(box)\n",
    "region.save(\"grey_scale.png\", 'png')\n"
   ]
  }
 ],
 "metadata": {
  "kernelspec": {
   "display_name": "Python 3.10.6 64-bit",
   "language": "python",
   "name": "python3"
  },
  "language_info": {
   "codemirror_mode": {
    "name": "ipython",
    "version": 3
   },
   "file_extension": ".py",
   "mimetype": "text/x-python",
   "name": "python",
   "nbconvert_exporter": "python",
   "pygments_lexer": "ipython3",
   "version": "3.10.6"
  },
  "orig_nbformat": 4,
  "vscode": {
   "interpreter": {
    "hash": "916dbcbb3f70747c44a77c7bcd40155683ae19c65e1c03b4aa3499c5328201f1"
   }
  }
 },
 "nbformat": 4,
 "nbformat_minor": 2
}
