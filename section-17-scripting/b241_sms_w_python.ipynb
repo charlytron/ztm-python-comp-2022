{
 "cells": [
  {
   "cell_type": "markdown",
   "metadata": {},
   "source": [
    "# SMS with Python\n",
    "\n",
    "Simple project but basically we want to send ourselves a text message. __Use cases__:\n",
    "\n",
    "- Create a Python script that checks the stock price of APL and sends us a text.\n",
    "- When we create our portfolio, and we'll have a contact form, so we send a text.\n",
    "\n",
    "## It's all about APIs\n",
    "\n",
    "__Twilio__ is the go-to API when it comes to communication"
   ]
  }
 ],
 "metadata": {
  "kernelspec": {
   "display_name": "Python 3.10.6 64-bit",
   "language": "python",
   "name": "python3"
  },
  "language_info": {
   "name": "python",
   "version": "3.10.6"
  },
  "orig_nbformat": 4,
  "vscode": {
   "interpreter": {
    "hash": "916dbcbb3f70747c44a77c7bcd40155683ae19c65e1c03b4aa3499c5328201f1"
   }
  }
 },
 "nbformat": 4,
 "nbformat_minor": 2
}
