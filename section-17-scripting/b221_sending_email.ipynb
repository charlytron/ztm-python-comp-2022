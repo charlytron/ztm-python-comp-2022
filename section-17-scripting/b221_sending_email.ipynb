{
 "cells": [
  {
   "cell_type": "markdown",
   "metadata": {},
   "source": [
    "# Sending Emails with Python\n",
    "\n",
    "Python has a [built-in email module](https://docs.python.org/3/library/email.examples.html), and this module was updated with 3.6.\n",
    "\n",
    "## Use cases\n",
    "\n",
    "We have a list of emails that we've collected, and we want to launch a new startup. We want people to know about it.\n",
    "And we can create a program that sends emails to thousands of people simultaneously.\n",
    "\n",
    "__Why is Python useful for this?__ We could just as easily use Mailchimp, allowing us to send lots of emails to potential customers.\n",
    "Python does have its use cases for this."
   ]
  },
  {
   "cell_type": "code",
   "execution_count": null,
   "metadata": {},
   "outputs": [],
   "source": [
    "import smtplib\n",
    "from email.message import EmailMessage  # This is the built-in email module"
   ]
  },
  {
   "cell_type": "markdown",
   "metadata": {},
   "source": [
    "SMTP is going to allow us to create an SMTP server. Any time we send an email we need to have a server that communicates the language of the email.\n",
    "Emails have their own protocol: [SMTP](https://www.geeksforgeeks.org/simple-mail-transfer-protocol-smtp/). It'a a standard for emails to be sent.\n",
    "\n",
    "If we want to send an email, we need an SMTP server."
   ]
  }
 ],
 "metadata": {
  "kernelspec": {
   "display_name": "Python 3.10.6 64-bit",
   "language": "python",
   "name": "python3"
  },
  "language_info": {
   "name": "python",
   "version": "3.10.6"
  },
  "orig_nbformat": 4,
  "vscode": {
   "interpreter": {
    "hash": "916dbcbb3f70747c44a77c7bcd40155683ae19c65e1c03b4aa3499c5328201f1"
   }
  }
 },
 "nbformat": 4,
 "nbformat_minor": 2
}
