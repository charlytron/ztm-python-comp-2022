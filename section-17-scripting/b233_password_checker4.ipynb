{
 "cells": [
  {
   "cell_type": "markdown",
   "metadata": {},
   "source": [
    "# Password Checker IV\n",
    "\n",
    "We have to be mindful of the fact that we're saving passwords in the command line's history. Not exactly the most secure option.\n",
    "A good way to improve the program is to read the passwords from a text file, instead of a CLI argument.\n",
    "\n",
    "Now, in line 35, we make sure that this file runs if it's the only file being run: `if __name__ == '__main__':`\n",
    "This won't allow it to run in Jupyter, so we have to run it on the command line."
   ]
  },
  {
   "cell_type": "code",
   "execution_count": null,
   "metadata": {},
   "outputs": [],
   "source": [
    "import requests\n",
    "import hashlib # for SHA-1 hashing\n",
    "import sys\n",
    "\n",
    "\n",
    "def request_api_data(query_char):\n",
    "    url = 'https://api.pwnedpasswords.com/range/' + query_char\n",
    "    res = requests.get(url)\n",
    "    if res.status_code != 200:\n",
    "      raise RuntimeError(f'Error fetching: {res.status_code}, check the API and try again')\n",
    "    return res\n",
    "  \n",
    "def get_password_leaks_count(hashes, hash_to_check):\n",
    "  hashes = (line.split(':') for line in hashes.text.splitlines())\n",
    "  for h, count in hashes:\n",
    "    if h == hash_to_check:\n",
    "      return count\n",
    "  return 0\n",
    "\n",
    "def pwned_api_check(password):\n",
    "    sha1password = hashlib.sha1(password.encode('utf-8')).hexdigest().upper()\n",
    "    first5_char, tail = sha1password[:5], sha1password[5:]\n",
    "    response = request_api_data(first5_char)\n",
    "    return get_password_leaks_count(response, tail)\n",
    "    \n",
    "def main(args):\n",
    "  for password in args:\n",
    "    count = pwned_api_check(password)\n",
    "    if count:\n",
    "      print(f'{password} was found {count} times. Might want to change it')\n",
    "    else:\n",
    "      print(f'{password} was not found')\n",
    "  return 'done!'\n",
    "\n",
    "if __name__ == '__main__':\n",
    "  sys.exit(main(sys.argv[1:])) # this makes the sys call exit and bring us back to the command line"
   ]
  },
  {
   "cell_type": "markdown",
   "metadata": {},
   "source": [
    "Now, we have `done!` being returned with `sys.exit(main(sys.argv[1:]))` at the end. We're `exit`ing out of this file, so the entire `checkmypass.py` file was run, and the end of the function does indeed return `done!`."
   ]
  }
 ],
 "metadata": {
  "kernelspec": {
   "display_name": "Python 3.10.6 64-bit",
   "language": "python",
   "name": "python3"
  },
  "language_info": {
   "codemirror_mode": {
    "name": "ipython",
    "version": 3
   },
   "file_extension": ".py",
   "mimetype": "text/x-python",
   "name": "python",
   "nbconvert_exporter": "python",
   "pygments_lexer": "ipython3",
   "version": "3.10.6"
  },
  "orig_nbformat": 4,
  "vscode": {
   "interpreter": {
    "hash": "916dbcbb3f70747c44a77c7bcd40155683ae19c65e1c03b4aa3499c5328201f1"
   }
  }
 },
 "nbformat": 4,
 "nbformat_minor": 2
}
