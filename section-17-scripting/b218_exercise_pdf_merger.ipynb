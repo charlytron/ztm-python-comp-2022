{
 "cells": [
  {
   "cell_type": "markdown",
   "metadata": {},
   "source": [
    "# Exercise: PDF merger\n",
    "\n",
    "We'll combine the `dummy.pdf` and the `twopage.pdf` in this directory."
   ]
  },
  {
   "cell_type": "code",
   "execution_count": null,
   "metadata": {},
   "outputs": [],
   "source": [
    "# run this in pdf-playground folder\n",
    "\n",
    "import sys\n",
    "import PyPDF2\n",
    "\n",
    "# Grab all of the arguments, except the first one, as PDFs\n",
    "# e.g. pdf.py dummy.pdf twopage.pdf\n",
    "inputs = sys.argv[1:]\n",
    "\n",
    "\n",
    "def pdf_combine(pdf_list):\n",
    "    for pdf in pdf_list:\n",
    "        print(pdf)\n",
    "\n",
    "\n",
    "pdf_combine(inputs)\n"
   ]
  },
  {
   "cell_type": "markdown",
   "metadata": {},
   "source": [
    "The way to actually combine these three files is to use `PyPDF`s `merger` object, as we have in line 12"
   ]
  },
  {
   "cell_type": "code",
   "execution_count": 5,
   "metadata": {},
   "outputs": [],
   "source": [
    "# run this in pdf-playground folder\n",
    "\n",
    "import sys\n",
    "import PyPDF2\n",
    "\n",
    "# Grab all of the arguments, except the first one, as PDFs\n",
    "# e.g. pdf.py dummy.pdf twopage.pdf\n",
    "inputs = sys.argv[1:]\n",
    "\n",
    "\n",
    "def pdf_combine(pdf_list):\n",
    "    merger = PyPDF2.PdfFileMerger()\n",
    "    for pdf in pdf_list:\n",
    "        print(pdf)\n",
    "        merger.append(pdf)\n",
    "    merger.write('superdoc.pdf')\n",
    "    \n",
    "pdf_combine(inputs)\n"
   ]
  },
  {
   "cell_type": "markdown",
   "metadata": {},
   "source": [
    "If we open the resulting `super.pdf` file, everything is merged."
   ]
  }
 ],
 "metadata": {
  "kernelspec": {
   "display_name": "Python 3.10.6 64-bit",
   "language": "python",
   "name": "python3"
  },
  "language_info": {
   "codemirror_mode": {
    "name": "ipython",
    "version": 3
   },
   "file_extension": ".py",
   "mimetype": "text/x-python",
   "name": "python",
   "nbconvert_exporter": "python",
   "pygments_lexer": "ipython3",
   "version": "3.10.6"
  },
  "orig_nbformat": 4,
  "vscode": {
   "interpreter": {
    "hash": "916dbcbb3f70747c44a77c7bcd40155683ae19c65e1c03b4aa3499c5328201f1"
   }
  }
 },
 "nbformat": 4,
 "nbformat_minor": 2
}
