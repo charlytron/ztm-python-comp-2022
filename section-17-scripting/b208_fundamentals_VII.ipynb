{
 "cells": [
  {
   "cell_type": "markdown",
   "metadata": {},
   "source": [
    "# Developer Fundamentals VII\n",
    "\n",
    "__Pick the correct library__.\n",
    "\n",
    "Pillow is a fork of PIL, and PIL is th Python Imaging library. We need to pick the latest but also the most popular (lots of community support and updated frequently).\n",
    "\n",
    "We need to look at a description of the [Python Imaging Library](https://en.wikipedia.org/wiki/Python_Imaging_Library) to get the context. When Python 3 came out, PIL didn't support it, so `pillow` came along as a fork; that is, it's a copy of an open source library that was further developed by another developer.\n",
    "\n",
    "__Make sure that library is up-to-date__. It has to work with Python3, yes, but it also needs community support. Check the stars on GitHub."
   ]
  }
 ],
 "metadata": {
  "language_info": {
   "name": "python"
  },
  "orig_nbformat": 4
 },
 "nbformat": 4,
 "nbformat_minor": 2
}
