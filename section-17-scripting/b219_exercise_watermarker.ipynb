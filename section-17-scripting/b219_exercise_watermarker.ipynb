{
 "cells": [
  {
   "cell_type": "markdown",
   "metadata": {},
   "source": [
    "# Exercise: water marker\n",
    "\n",
    "Going to build a tool that watermarks all of our files. Why?"
   ]
  },
  {
   "cell_type": "code",
   "execution_count": null,
   "metadata": {},
   "outputs": [],
   "source": [
    "import sys\n",
    "import PyPDF2\n",
    "\n",
    "watermark = 'wtr.pdf'\n",
    "\n",
    "# Grab all of the arguments, except the first one, as PDFs\n",
    "# e.g. pdf.py dummy.pdf twopage.pdf\n",
    "inputs = sys.argv[1:]\n",
    "\n",
    "\n",
    "def pdf_combine(pdf_list):\n",
    "    merger = PyPDF2.PdfFileMerger()\n",
    "    for pdf in pdf_list:\n",
    "        print(pdf)\n",
    "        merger.append(pdf)\n",
    "    merger.write('superdoc.pdf')\n",
    "    \n",
    "pdf_combine(inputs)\n"
   ]
  }
 ],
 "metadata": {
  "kernelspec": {
   "display_name": "Python 3.10.6 64-bit",
   "language": "python",
   "name": "python3"
  },
  "language_info": {
   "name": "python",
   "version": "3.10.6"
  },
  "orig_nbformat": 4,
  "vscode": {
   "interpreter": {
    "hash": "916dbcbb3f70747c44a77c7bcd40155683ae19c65e1c03b4aa3499c5328201f1"
   }
  }
 },
 "nbformat": 4,
 "nbformat_minor": 2
}
