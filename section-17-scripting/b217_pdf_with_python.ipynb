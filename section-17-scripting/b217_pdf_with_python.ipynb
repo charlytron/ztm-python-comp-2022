{
 "cells": [
  {
   "cell_type": "markdown",
   "metadata": {},
   "source": [
    "# PDFs with Python\n",
    "\n",
    "We need a library that we can use with Python to process PDF files."
   ]
  },
  {
   "cell_type": "code",
   "execution_count": null,
   "metadata": {},
   "outputs": [],
   "source": [
    "# pdf.py\n",
    "\n",
    "import PyPDF2\n",
    "\n",
    "with open('dummy.pdf', 'r') as file:\n",
    "  reader = PyPDF2.PdfFileReader(file)\n",
    "  print(reader.numPages)"
   ]
  },
  {
   "cell_type": "markdown",
   "metadata": {},
   "source": [
    "Gives us a warning:\n",
    "\n",
    "<br />\n",
    "\n",
    "```bash\n",
    "PdfReadWarning: PdfFileReader stream/file object is not in binary mode. It may not be read correctly. [pdf.py:1079]\n",
    "Traceback (most recent call last):\n",
    "  File \"/home/ct/Documents/comp-python-2022-Neagoie/section-17-scripting/pdf.py\", line 4, in <module>\n",
    "    reader = PyPDF2.PdfFileReader(file)\n",
    "  File \"/home/ct/.local/lib/python3.10/site-packages/PyPDF2/pdf.py\", line 1084, in __init__\n",
    "    self.read(stream)\n",
    "  File \"/home/ct/.local/lib/python3.10/site-packages/PyPDF2/pdf.py\", line 1689, in read\n",
    "    stream.seek(-1, 2)\n",
    "io.UnsupportedOperation: can't do nonzero end-relative seeks\n",
    "```\n",
    "\n",
    "<br />\n",
    "\n",
    "We want to be able to read the __binary__"
   ]
  },
  {
   "cell_type": "code",
   "execution_count": null,
   "metadata": {},
   "outputs": [],
   "source": [
    "# pdf.py\n",
    "\n",
    "import PyPDF2\n",
    "\n",
    "with open('dummy.pdf', 'rb') as file:\n",
    "  reader = PyPDF2.PdfFileReader(file)\n",
    "  print(reader.numPages)"
   ]
  },
  {
   "cell_type": "markdown",
   "metadata": {},
   "source": [
    "Okay, so using `'rb'` as the second argument allows us to read the binary and output the following:\n",
    "\n",
    "``` bash\n",
    "ct@pop-os:~/Documents/comp-python-2022-Neagoie/section-17-scripting$ /bin/python3 /home/ct/Documents/comp-python-2022-Neagoie/section-17-scripting/pdf.py\n",
    "1\n",
    "```\n",
    "\n",
    "This creates a file stream object, thus it will convert the file object to __binary mode__ so that the PDF2 file reader can read the binary file object.\n",
    "Does the same for `twopage.pdf`:"
   ]
  },
  {
   "cell_type": "code",
   "execution_count": 3,
   "metadata": {},
   "outputs": [
    {
     "name": "stdout",
     "output_type": "stream",
     "text": [
      "1\n"
     ]
    },
    {
     "ename": "IndexError",
     "evalue": "list index out of range",
     "output_type": "error",
     "traceback": [
      "\u001b[0;31m---------------------------------------------------------------------------\u001b[0m",
      "\u001b[0;31mIndexError\u001b[0m                                Traceback (most recent call last)",
      "Cell \u001b[0;32mIn [3], line 8\u001b[0m\n\u001b[1;32m      6\u001b[0m reader \u001b[39m=\u001b[39m PyPDF2\u001b[39m.\u001b[39mPdfFileReader(file)\n\u001b[1;32m      7\u001b[0m \u001b[39mprint\u001b[39m(reader\u001b[39m.\u001b[39mnumPages)\n\u001b[0;32m----> 8\u001b[0m \u001b[39mprint\u001b[39m(reader\u001b[39m.\u001b[39;49mgetPage(\u001b[39m1\u001b[39;49m))\n",
      "File \u001b[0;32m~/.local/lib/python3.10/site-packages/PyPDF2/pdf.py:1177\u001b[0m, in \u001b[0;36mPdfFileReader.getPage\u001b[0;34m(self, pageNumber)\u001b[0m\n\u001b[1;32m   1175\u001b[0m \u001b[39mif\u001b[39;00m \u001b[39mself\u001b[39m\u001b[39m.\u001b[39mflattenedPages \u001b[39m==\u001b[39m \u001b[39mNone\u001b[39;00m:\n\u001b[1;32m   1176\u001b[0m     \u001b[39mself\u001b[39m\u001b[39m.\u001b[39m_flatten()\n\u001b[0;32m-> 1177\u001b[0m \u001b[39mreturn\u001b[39;00m \u001b[39mself\u001b[39;49m\u001b[39m.\u001b[39;49mflattenedPages[pageNumber]\n",
      "\u001b[0;31mIndexError\u001b[0m: list index out of range"
     ]
    }
   ],
   "source": [
    "# pdf.py\n",
    "\n",
    "import PyPDF2\n",
    "\n",
    "with open('dummy.pdf', 'rb') as file:\n",
    "  reader = PyPDF2.PdfFileReader(file)\n",
    "  print(reader.numPages)\n",
    "  print(reader.getPage(1))"
   ]
  },
  {
   "cell_type": "markdown",
   "metadata": {},
   "source": [
    "This makes sense because the `dummy.pdf` only has one page. We can also rotate the page:"
   ]
  },
  {
   "cell_type": "code",
   "execution_count": 4,
   "metadata": {},
   "outputs": [
    {
     "name": "stdout",
     "output_type": "stream",
     "text": [
      "1\n"
     ]
    },
    {
     "ename": "AttributeError",
     "evalue": "'PdfFileReader' object has no attribute 'rotate'",
     "output_type": "error",
     "traceback": [
      "\u001b[0;31m---------------------------------------------------------------------------\u001b[0m",
      "\u001b[0;31mAttributeError\u001b[0m                            Traceback (most recent call last)",
      "Cell \u001b[0;32mIn [4], line 8\u001b[0m\n\u001b[1;32m      6\u001b[0m reader \u001b[39m=\u001b[39m PyPDF2\u001b[39m.\u001b[39mPdfFileReader(file)\n\u001b[1;32m      7\u001b[0m \u001b[39mprint\u001b[39m(reader\u001b[39m.\u001b[39mnumPages)\n\u001b[0;32m----> 8\u001b[0m \u001b[39mprint\u001b[39m(reader\u001b[39m.\u001b[39;49mrotate(\u001b[39m180\u001b[39m))\n",
      "\u001b[0;31mAttributeError\u001b[0m: 'PdfFileReader' object has no attribute 'rotate'"
     ]
    }
   ],
   "source": [
    "# pdf.py\n",
    "\n",
    "import PyPDF2\n",
    "\n",
    "with open('dummy.pdf', 'rb') as file:\n",
    "  reader = PyPDF2.PdfFileReader(file)\n",
    "  print(reader.numPages)\n",
    "  print(reader.rotate(180))"
   ]
  },
  {
   "cell_type": "markdown",
   "metadata": {},
   "source": [
    "Of course PpPDF2 uses the ` object`, but it needs to know __what__ to rotate. We have to get the page of the reader in order to rotate it."
   ]
  },
  {
   "cell_type": "code",
   "execution_count": 5,
   "metadata": {},
   "outputs": [
    {
     "ename": "AttributeError",
     "evalue": "'PageObject' object has no attribute 'rotate'",
     "output_type": "error",
     "traceback": [
      "\u001b[0;31m---------------------------------------------------------------------------\u001b[0m",
      "\u001b[0;31mAttributeError\u001b[0m                            Traceback (most recent call last)",
      "Cell \u001b[0;32mIn [5], line 8\u001b[0m\n\u001b[1;32m      6\u001b[0m reader \u001b[39m=\u001b[39m PyPDF2\u001b[39m.\u001b[39mPdfFileReader(file)\n\u001b[1;32m      7\u001b[0m page \u001b[39m=\u001b[39m reader\u001b[39m.\u001b[39mgetPage(\u001b[39m0\u001b[39m)\n\u001b[0;32m----> 8\u001b[0m \u001b[39mprint\u001b[39m(page\u001b[39m.\u001b[39;49mrotate(\u001b[39m180\u001b[39m))\n",
      "\u001b[0;31mAttributeError\u001b[0m: 'PageObject' object has no attribute 'rotate'"
     ]
    }
   ],
   "source": [
    "# pdf.py\n",
    "\n",
    "import PyPDF2\n",
    "\n",
    "with open('dummy.pdf', 'rb') as file:\n",
    "  reader = PyPDF2.PdfFileReader(file)\n",
    "  page = reader.getPage(0)\n",
    "  print(page.rotate(180)) "
   ]
  },
  {
   "cell_type": "markdown",
   "metadata": {},
   "source": [
    "Rotate is not the word that we want here. How to solve?"
   ]
  },
  {
   "cell_type": "code",
   "execution_count": 6,
   "metadata": {},
   "outputs": [
    {
     "name": "stdout",
     "output_type": "stream",
     "text": [
      "{'/Type': '/Page', '/Parent': IndirectObject(4, 0), '/Resources': IndirectObject(11, 0), '/MediaBox': [0, 0, 595, 842], '/Group': {'/S': '/Transparency', '/CS': '/DeviceRGB', '/I': <PyPDF2.generic.BooleanObject object at 0x7f51c160b9d0>}, '/Contents': IndirectObject(2, 0), '/Rotate': -90}\n"
     ]
    }
   ],
   "source": [
    "import PyPDF2\n",
    "\n",
    "with open('dummy.pdf', 'rb') as file:\n",
    "  reader = PyPDF2.PdfFileReader(file)\n",
    "  page = reader.getPage(0)\n",
    "  print(page.rotateCounterClockwise(90)) \n"
   ]
  },
  {
   "cell_type": "markdown",
   "metadata": {},
   "source": [
    "We're returned an object here, but this object is in memory. We need to update our `dummy.pdf` to actually write and rotate counter clockwise.\n",
    "We'll do this with the `with` keyword, writing to the file in binary format:"
   ]
  },
  {
   "cell_type": "code",
   "execution_count": 1,
   "metadata": {},
   "outputs": [
    {
     "name": "stdout",
     "output_type": "stream",
     "text": [
      "{'/Type': '/Page', '/Parent': IndirectObject(4, 0), '/Resources': IndirectObject(11, 0), '/MediaBox': [0, 0, 595, 842], '/Group': {'/S': '/Transparency', '/CS': '/DeviceRGB', '/I': <PyPDF2.generic.BooleanObject object at 0x7f78582801f0>}, '/Contents': IndirectObject(2, 0), '/Rotate': -90}\n"
     ]
    }
   ],
   "source": [
    "from csv import writer\n",
    "import PyPDF2\n",
    "\n",
    "with open('dummy.pdf', 'rb') as file:\n",
    "  reader = PyPDF2.PdfFileReader(file)\n",
    "  page = reader.getPage(0)\n",
    "  print(page.rotateCounterClockwise(90))\n",
    "  writer = PyPDF2.PdfFileWriter()\n",
    "  with open('tilt.pdf', 'wb') as new_file:\n",
    "    writer.write(new_file)\n"
   ]
  },
  {
   "cell_type": "markdown",
   "metadata": {},
   "source": [
    "This doesn't do anything for us because we haven't done anything with `page`. Check out the modifications in line 7-9 and run. `tilt.pdf` is now a rotated file for real and not just in memory."
   ]
  },
  {
   "cell_type": "code",
   "execution_count": 2,
   "metadata": {},
   "outputs": [],
   "source": [
    "from csv import writer\n",
    "import PyPDF2\n",
    "\n",
    "with open('dummy.pdf', 'rb') as file:\n",
    "  reader = PyPDF2.PdfFileReader(file)\n",
    "  page = reader.getPage(0)\n",
    "  page.rotateCounterClockwise(90)\n",
    "  writer = PyPDF2.PdfFileWriter()\n",
    "  writer.addPage(page)\n",
    "  with open('tilt.pdf', 'wb') as new_file:\n",
    "    writer.write(new_file)"
   ]
  }
 ],
 "metadata": {
  "kernelspec": {
   "display_name": "Python 3.10.6 64-bit",
   "language": "python",
   "name": "python3"
  },
  "language_info": {
   "codemirror_mode": {
    "name": "ipython",
    "version": 3
   },
   "file_extension": ".py",
   "mimetype": "text/x-python",
   "name": "python",
   "nbconvert_exporter": "python",
   "pygments_lexer": "ipython3",
   "version": "3.10.6"
  },
  "orig_nbformat": 4,
  "vscode": {
   "interpreter": {
    "hash": "916dbcbb3f70747c44a77c7bcd40155683ae19c65e1c03b4aa3499c5328201f1"
   }
  }
 },
 "nbformat": 4,
 "nbformat_minor": 2
}
