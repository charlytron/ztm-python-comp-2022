{
 "cells": [
  {
   "cell_type": "markdown",
   "metadata": {},
   "source": [
    "# Sending emails II"
   ]
  },
  {
   "cell_type": "code",
   "execution_count": null,
   "metadata": {},
   "outputs": [],
   "source": [
    "import smtplib\n",
    "from email.message import EmailMessage\n",
    "\n",
    "email = EmailMessage()\n",
    "email['from'] = 'Chacha Blahui'\n",
    "email['to'] = 'bubba@gmail.com'\n",
    "email['subject'] = 'chills and spills'\n",
    "\n",
    "email.set_content('You\\'ve won')\n",
    "\n",
    "with smtplib.SMTP(host='smtp.gmail.com', port=587) as smtp:\n",
    "  smtp.ehlo()\n",
    "  smtp.starttls()\n",
    "  smtp.login('bubba@gmail.com', 'beelzebubba')\n",
    "  smtp.send_message('All good in the hood')"
   ]
  },
  {
   "cell_type": "markdown",
   "metadata": {},
   "source": [
    "Getting a message from Google:\n",
    "\n",
    "``` bash\n",
    "Traceback (most recent call last):\n",
    "  File \"/home/ct/Documents/comp-python-2022-Neagoie/section-17-scripting/email_message.py\", line 14, in <module>\n",
    "    smtp.login('bubbatron.x86@gmail.com', 'Fartybutt&@&9151')\n",
    "  File \"/usr/lib/python3.10/smtplib.py\", line 750, in login\n",
    "    raise last_exception\n",
    "  File \"/usr/lib/python3.10/smtplib.py\", line 739, in login\n",
    "    (code, resp) = self.auth(\n",
    "  File \"/usr/lib/python3.10/smtplib.py\", line 662, in auth\n",
    "    raise SMTPAuthenticationError(code, resp)\n",
    "smtplib.SMTPAuthenticationError: (535, b'5.7.8 Username and Password not accepted. Learn more at\\n5.7.8  https://support.google.com/mail/?p=BadCredentials e27-20020a0566380cdb00b003636c5dcf29sm7258346jak.176 - gsmtp')\n",
    "```\n",
    "\n",
    "Which is fine; it appears as though they've disallowed this. Users of 2FA can't very well shut off the 'less secure apps' option, so the above code stays academic at this stage. Besides, there's a helpful message on Google Help, indicating that use of third party apps is no [longer supported](https://support.google.com/accounts/answer/6010255?hl=en&visit_id=637896899107643254-869975220&p=less-secure-apps&rd=1#zippy=%2Cuse-an-app-password)."
   ]
  }
 ],
 "metadata": {
  "kernelspec": {
   "display_name": "Python 3.10.6 64-bit",
   "language": "python",
   "name": "python3"
  },
  "language_info": {
   "name": "python",
   "version": "3.10.6"
  },
  "orig_nbformat": 4,
  "vscode": {
   "interpreter": {
    "hash": "916dbcbb3f70747c44a77c7bcd40155683ae19c65e1c03b4aa3499c5328201f1"
   }
  }
 },
 "nbformat": 4,
 "nbformat_minor": 2
}
