{
 "cells": [
  {
   "cell_type": "markdown",
   "metadata": {},
   "source": [
    "# Password Checker III\n",
    "\n",
    "We now have the `hash` and the `count`. We can finalize this function `get_password_leaks_count()`.\n",
    "As we're looping through each item, we want to check"
   ]
  },
  {
   "cell_type": "code",
   "execution_count": null,
   "metadata": {},
   "outputs": [],
   "source": [
    "import requests\n",
    "import hashlib # for SHA-1 hashing\n",
    "import sys\n",
    "\n",
    "\n",
    "def request_api_data(query_char):\n",
    "    url = 'https://api.pwnedpasswords.com/range/' + query_char\n",
    "    res = requests.get(url)\n",
    "    if res.status_code != 200:\n",
    "      raise RuntimeError(f'Error fetching: {res.status_code}, check the API and try again')\n",
    "    return res\n",
    "  \n",
    "def get_password_leaks_count(hashes, hash_to_check):\n",
    "  hashes = (line.split(':') for line in hashes.text.splitlines())\n",
    "  for h, count in hashes:\n",
    "    if h == hash_to_check:\n",
    "      return count\n",
    "  return 0\n",
    "\n",
    "def pwned_api_check(password):\n",
    "    sha1password = hashlib.sha1(password.encode('utf-8')).hexdigest().upper()\n",
    "    first5_char, tail = sha1password[:5], sha1password[5:]\n",
    "    response = request_api_data(first5_char)\n",
    "    return get_password_leaks_count(response, tail)\n",
    "    \n",
    "def main(args):\n",
    "  for password in args:\n",
    "    count = pwned_api_check(password)\n",
    "    if count:\n",
    "      print(f'{password} was found {count} times. Might want to change it')\n",
    "    else:\n",
    "      print(f'{password} was not found')\n",
    "  return 'done!'\n",
    "\n",
    "main(sys.argv[1:])"
   ]
  },
  {
   "cell_type": "markdown",
   "metadata": {},
   "source": [
    "If we run this in a terminal, we get 'hello was not found' if we indent `return 0` in line 18 too many spaces. It should be flush with `for` in line 15.\n",
    "When we run the following:\n",
    "\n",
    "<br />\n",
    "\n",
    "``` bash\n",
    "section-17-scripting$ python3 checkmypass.py hello\n",
    "```\n",
    "<br />\n",
    "\n",
    "we should expect something like:\n",
    "\n",
    "<br />\n",
    "\n",
    "``` bash\n",
    "hello was found 264149 times. Might want to change it.\n",
    "```"
   ]
  }
 ],
 "metadata": {
  "kernelspec": {
   "display_name": "Python 3.10.6 64-bit",
   "language": "python",
   "name": "python3"
  },
  "language_info": {
   "codemirror_mode": {
    "name": "ipython",
    "version": 3
   },
   "file_extension": ".py",
   "mimetype": "text/x-python",
   "name": "python",
   "nbconvert_exporter": "python",
   "pygments_lexer": "ipython3",
   "version": "3.10.6"
  },
  "orig_nbformat": 4,
  "vscode": {
   "interpreter": {
    "hash": "916dbcbb3f70747c44a77c7bcd40155683ae19c65e1c03b4aa3499c5328201f1"
   }
  }
 },
 "nbformat": 4,
 "nbformat_minor": 2
}
