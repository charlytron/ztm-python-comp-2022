{
 "cells": [
  {
   "cell_type": "markdown",
   "metadata": {},
   "source": [
    "# Password Checker\n",
    "\n",
    "We recently discussed the password API, which allows us to trust no one."
   ]
  },
  {
   "cell_type": "code",
   "execution_count": 2,
   "metadata": {},
   "outputs": [
    {
     "name": "stdout",
     "output_type": "stream",
     "text": [
      "<Response [200]>\n"
     ]
    }
   ],
   "source": [
    "import requests\n",
    "\n",
    "url = 'https://api.pwnedpasswords.com/range/' + 'CBFDA'\n",
    "res = requests.get(url)\n",
    "print(res)"
   ]
  },
  {
   "cell_type": "markdown",
   "metadata": {},
   "source": [
    "That's to say that, instead of giving our entire hash to this url, we just give a snippet of it.\n",
    "\n",
    "Ideally, we have a function and we give it the hashed version of our password.\n",
    "This will be a function that will request our data and give us a response.\n",
    "\n",
    "Next, with this response, we want to check the `pwned_api` and in here we'll give our password"
   ]
  },
  {
   "cell_type": "code",
   "execution_count": 4,
   "metadata": {},
   "outputs": [
    {
     "ename": "RuntimeError",
     "evalue": "Error fetching: 404, check the API and try again",
     "output_type": "error",
     "traceback": [
      "\u001b[0;31m---------------------------------------------------------------------------\u001b[0m",
      "\u001b[0;31mRuntimeError\u001b[0m                              Traceback (most recent call last)",
      "Cell \u001b[0;32mIn [4], line 15\u001b[0m\n\u001b[1;32m     11\u001b[0m \u001b[39mdef\u001b[39;00m \u001b[39mpwned_api_check\u001b[39m(password):\n\u001b[1;32m     12\u001b[0m     \u001b[39m# Check existence of password in API response\u001b[39;00m\n\u001b[1;32m     13\u001b[0m     \u001b[39mpass\u001b[39;00m\n\u001b[0;32m---> 15\u001b[0m request_api_data(\u001b[39m'\u001b[39;49m\u001b[39m123\u001b[39;49m\u001b[39m'\u001b[39;49m)\n",
      "Cell \u001b[0;32mIn [4], line 8\u001b[0m, in \u001b[0;36mrequest_api_data\u001b[0;34m(query_char)\u001b[0m\n\u001b[1;32m      6\u001b[0m res \u001b[39m=\u001b[39m requests\u001b[39m.\u001b[39mget(url)\n\u001b[1;32m      7\u001b[0m \u001b[39mif\u001b[39;00m res\u001b[39m.\u001b[39mstatus_code \u001b[39m!=\u001b[39m \u001b[39m200\u001b[39m:\n\u001b[0;32m----> 8\u001b[0m   \u001b[39mraise\u001b[39;00m \u001b[39mRuntimeError\u001b[39;00m(\u001b[39mf\u001b[39m\u001b[39m'\u001b[39m\u001b[39mError fetching: \u001b[39m\u001b[39m{\u001b[39;00mres\u001b[39m.\u001b[39mstatus_code\u001b[39m}\u001b[39;00m\u001b[39m, check the API and try again\u001b[39m\u001b[39m'\u001b[39m)\n",
      "\u001b[0;31mRuntimeError\u001b[0m: Error fetching: 404, check the API and try again"
     ]
    }
   ],
   "source": [
    "import requests\n",
    "\n",
    "\n",
    "def request_api_data(query_char):\n",
    "    url = 'https://api.pwnedpasswords.com/rainge/' + query_char\n",
    "    res = requests.get(url)\n",
    "    if res.status_code != 200:\n",
    "      raise RuntimeError(f'Error fetching: {res.status_code}, check the API and try again')\n",
    "\n",
    "\n",
    "def pwned_api_check(password):\n",
    "    # Check existence of password in API response\n",
    "    pass\n",
    "  \n",
    "request_api_data('123')\n"
   ]
  },
  {
   "cell_type": "markdown",
   "metadata": {},
   "source": [
    "In our case, if we don't have that error in the subdirectory of the URL, we can just return the response. Calling `pwned_api_check('123')` does encode our password value as `b'123'` in utf-8."
   ]
  },
  {
   "cell_type": "code",
   "execution_count": 9,
   "metadata": {},
   "outputs": [
    {
     "name": "stdout",
     "output_type": "stream",
     "text": [
      "b'123'\n"
     ]
    }
   ],
   "source": [
    "import requests\n",
    "import hashlib # for SHA-1 hashing\n",
    "\n",
    "\n",
    "def request_api_data(query_char):\n",
    "    url = 'https://api.pwnedpasswords.com/range/' + query_char\n",
    "    res = requests.get(url)\n",
    "    if res.status_code != 200:\n",
    "      raise RuntimeError(f'Error fetching: {res.status_code}, check the API and try again')\n",
    "    return res\n",
    "\n",
    "def pwned_api_check(password):\n",
    "    print(password.encode('utf-8'))\n",
    "    # sha1password = hashlib.sha1(password.encode('utf-8'))\n",
    "    \n",
    "pwned_api_check('123')\n"
   ]
  },
  {
   "cell_type": "markdown",
   "metadata": {},
   "source": [
    "Next, when we use the `hashlib.sha1`, if we run the following, we get the hash object."
   ]
  },
  {
   "cell_type": "code",
   "execution_count": 10,
   "metadata": {},
   "outputs": [
    {
     "name": "stdout",
     "output_type": "stream",
     "text": [
      "<sha1 _hashlib.HASH object @ 0x7f5bbb8651b0>\n"
     ]
    }
   ],
   "source": [
    "import requests\n",
    "import hashlib # for SHA-1 hashing\n",
    "\n",
    "\n",
    "def request_api_data(query_char):\n",
    "    url = 'https://api.pwnedpasswords.com/range/' + query_char\n",
    "    res = requests.get(url)\n",
    "    if res.status_code != 200:\n",
    "      raise RuntimeError(f'Error fetching: {res.status_code}, check the API and try again')\n",
    "    return res\n",
    "\n",
    "def pwned_api_check(password):\n",
    "    print(hashlib.sha1(password.encode('utf-8')))\n",
    "    # sha1password = hashlib.sha1(password.encode('utf-8'))\n",
    "    \n",
    "pwned_api_check('123')"
   ]
  },
  {
   "cell_type": "markdown",
   "metadata": {},
   "source": [
    "We can now call `print(hashlib.sha1(password.encode('utf-8'))).hexdigest())` and if we run this, we get a hash, but how do we check it?"
   ]
  },
  {
   "cell_type": "code",
   "execution_count": 11,
   "metadata": {},
   "outputs": [
    {
     "name": "stdout",
     "output_type": "stream",
     "text": [
      "40bd001563085fc35165329ea1ff5c5ecbdbbeef\n"
     ]
    }
   ],
   "source": [
    "import requests\n",
    "import hashlib # for SHA-1 hashing\n",
    "\n",
    "\n",
    "def request_api_data(query_char):\n",
    "    url = 'https://api.pwnedpasswords.com/range/' + query_char\n",
    "    res = requests.get(url)\n",
    "    if res.status_code != 200:\n",
    "      raise RuntimeError(f'Error fetching: {res.status_code}, check the API and try again')\n",
    "    return res\n",
    "\n",
    "def pwned_api_check(password):\n",
    "    print(hashlib.sha1(password.encode('utf-8')).hexdigest())\n",
    "    # sha1password = hashlib.sha1(password.encode('utf-8'))\n",
    "    \n",
    "pwned_api_check('123')"
   ]
  },
  {
   "cell_type": "markdown",
   "metadata": {},
   "source": [
    "We can now go to `hashlib` and search for `hexdigest()`. Now we need to convert all of it to uppercase (line 13)."
   ]
  },
  {
   "cell_type": "code",
   "execution_count": 13,
   "metadata": {},
   "outputs": [
    {
     "name": "stdout",
     "output_type": "stream",
     "text": [
      "40BD001563085FC35165329EA1FF5C5ECBDBBEEF\n"
     ]
    }
   ],
   "source": [
    "import requests\n",
    "import hashlib # for SHA-1 hashing\n",
    "\n",
    "\n",
    "def request_api_data(query_char):\n",
    "    url = 'https://api.pwnedpasswords.com/range/' + query_char\n",
    "    res = requests.get(url)\n",
    "    if res.status_code != 200:\n",
    "      raise RuntimeError(f'Error fetching: {res.status_code}, check the API and try again')\n",
    "    return res\n",
    "\n",
    "def pwned_api_check(password):\n",
    "    print(hashlib.sha1(password.encode('utf-8')).hexdigest().upper())\n",
    "    # sha1password = hashlib.sha1(password.encode('utf-8'))\n",
    "    \n",
    "pwned_api_check('123')"
   ]
  },
  {
   "cell_type": "markdown",
   "metadata": {},
   "source": [
    "Now, everything is in uppercase as per the SHA-1 generator example. When we don't use `encode(utf-8)` in line 15:"
   ]
  },
  {
   "cell_type": "code",
   "execution_count": 14,
   "metadata": {},
   "outputs": [
    {
     "ename": "TypeError",
     "evalue": "Strings must be encoded before hashing",
     "output_type": "error",
     "traceback": [
      "\u001b[0;31m---------------------------------------------------------------------------\u001b[0m",
      "\u001b[0;31mTypeError\u001b[0m                                 Traceback (most recent call last)",
      "Cell \u001b[0;32mIn [14], line 16\u001b[0m\n\u001b[1;32m     13\u001b[0m     \u001b[39mprint\u001b[39m(hashlib\u001b[39m.\u001b[39msha1(password)\u001b[39m.\u001b[39mhexdigest()\u001b[39m.\u001b[39mupper())\n\u001b[1;32m     14\u001b[0m     \u001b[39m# sha1password = hashlib.sha1(password.encode('utf-8'))\u001b[39;00m\n\u001b[0;32m---> 16\u001b[0m pwned_api_check(\u001b[39m'\u001b[39;49m\u001b[39m123\u001b[39;49m\u001b[39m'\u001b[39;49m)\n",
      "Cell \u001b[0;32mIn [14], line 13\u001b[0m, in \u001b[0;36mpwned_api_check\u001b[0;34m(password)\u001b[0m\n\u001b[1;32m     12\u001b[0m \u001b[39mdef\u001b[39;00m \u001b[39mpwned_api_check\u001b[39m(password):\n\u001b[0;32m---> 13\u001b[0m     \u001b[39mprint\u001b[39m(hashlib\u001b[39m.\u001b[39;49msha1(password)\u001b[39m.\u001b[39mhexdigest()\u001b[39m.\u001b[39mupper())\n",
      "\u001b[0;31mTypeError\u001b[0m: Strings must be encoded before hashing"
     ]
    }
   ],
   "source": [
    "import requests\n",
    "import hashlib  # for SHA-1 hashing\n",
    "\n",
    "\n",
    "def request_api_data(query_char):\n",
    "    url = 'https://api.pwnedpasswords.com/range/' + query_char\n",
    "    res = requests.get(url)\n",
    "    if res.status_code != 200:\n",
    "        raise RuntimeError(\n",
    "            f'Error fetching: {res.status_code}, check the API and try again')\n",
    "    return res\n",
    "\n",
    "\n",
    "def pwned_api_check(password):\n",
    "    print(hashlib.sha1(password).hexdigest().upper())\n",
    "\n",
    "\n",
    "pwned_api_check('123')\n"
   ]
  },
  {
   "cell_type": "markdown",
   "metadata": {},
   "source": [
    "So, yeah, we're violating how `hashlib` works, so we need to change this back."
   ]
  },
  {
   "cell_type": "code",
   "execution_count": null,
   "metadata": {},
   "outputs": [],
   "source": [
    "import requests\n",
    "import hashlib # for SHA-1 hashing\n",
    "\n",
    "\n",
    "def request_api_data(query_char):\n",
    "    url = 'https://api.pwnedpasswords.com/range/' + query_char\n",
    "    res = requests.get(url)\n",
    "    if res.status_code != 200:\n",
    "      raise RuntimeError(f'Error fetching: {res.status_code}, check the API and try again')\n",
    "    return res\n",
    "\n",
    "def pwned_api_check(password):\n",
    "    print(hashlib.sha1(password.encode('utf-8')).hexdigest().upper())\n",
    "    # sha1password = hashlib.sha1(password.encode('utf-8'))\n",
    "    \n",
    "pwned_api_check('123')"
   ]
  },
  {
   "cell_type": "markdown",
   "metadata": {},
   "source": [
    "The point is that we need to get back a SHA-1 password that we can send."
   ]
  },
  {
   "cell_type": "code",
   "execution_count": 15,
   "metadata": {},
   "outputs": [
    {
     "data": {
      "text/plain": [
       "<sha1 _hashlib.HASH object @ 0x7f5bbb91b390>"
      ]
     },
     "execution_count": 15,
     "metadata": {},
     "output_type": "execute_result"
    }
   ],
   "source": [
    "import requests\n",
    "import hashlib # for SHA-1 hashing\n",
    "\n",
    "\n",
    "def request_api_data(query_char):\n",
    "    url = 'https://api.pwnedpasswords.com/range/' + query_char\n",
    "    res = requests.get(url)\n",
    "    if res.status_code != 200:\n",
    "      raise RuntimeError(f'Error fetching: {res.status_code}, check the API and try again')\n",
    "    return res\n",
    "\n",
    "def pwned_api_check(password):\n",
    "    sha1password = hashlib.sha1(password.encode('utf-8'))\n",
    "    return sha1password\n",
    "    \n",
    "pwned_api_check('123')"
   ]
  },
  {
   "cell_type": "markdown",
   "metadata": {},
   "source": [
    "Next, we'll send this password to the API and check the response."
   ]
  }
 ],
 "metadata": {
  "kernelspec": {
   "display_name": "Python 3.10.6 64-bit",
   "language": "python",
   "name": "python3"
  },
  "language_info": {
   "codemirror_mode": {
    "name": "ipython",
    "version": 3
   },
   "file_extension": ".py",
   "mimetype": "text/x-python",
   "name": "python",
   "nbconvert_exporter": "python",
   "pygments_lexer": "ipython3",
   "version": "3.10.6"
  },
  "orig_nbformat": 4,
  "vscode": {
   "interpreter": {
    "hash": "916dbcbb3f70747c44a77c7bcd40155683ae19c65e1c03b4aa3499c5328201f1"
   }
  }
 },
 "nbformat": 4,
 "nbformat_minor": 2
}
