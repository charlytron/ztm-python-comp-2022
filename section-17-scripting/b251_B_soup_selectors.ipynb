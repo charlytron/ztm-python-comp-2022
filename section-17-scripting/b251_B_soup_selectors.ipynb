{
 "cells": [
  {
   "cell_type": "markdown",
   "metadata": {},
   "source": [
    "# Beautiful Soup Selectors\n",
    "\n",
    "*(N.B. Hackernews now uses the .titleline class instead of the .storylink class so you just need to make sure you enter .titleline in the next video when you see me use .storylink)*\n",
    "\n",
    "One of the best ways to use the soup object is to use the `select` method on it:\n"
   ]
  },
  {
   "cell_type": "code",
   "execution_count": null,
   "metadata": {},
   "outputs": [],
   "source": [
    "import requests\n",
    "from bs4 import BeautifulSoup\n",
    "\n",
    "res = requests.get('https://news.ycombinator.com/')\n",
    "soup = BeautifulSoup(res.text, 'html.parser')\n",
    "print(soup.select(id='score_33256446'))"
   ]
  },
  {
   "cell_type": "markdown",
   "metadata": {},
   "source": [
    "This allows us to grab a piece of data--__using a CSS selector__--from the soup object that we just downloaded and created. The selector allows us to access this data\n",
    "\n",
    "- .class\n",
    "- #id\n",
    "- element\n",
    "\n",
    "The code below will select all of the `<a>` tags "
   ]
  },
  {
   "cell_type": "code",
   "execution_count": null,
   "metadata": {},
   "outputs": [],
   "source": [
    "import requests\n",
    "from bs4 import BeautifulSoup\n",
    "\n",
    "res = requests.get('https://news.ycombinator.com/')\n",
    "soup = BeautifulSoup(res.text, 'html.parser')\n",
    "print(soup.select('a'))"
   ]
  },
  {
   "cell_type": "markdown",
   "metadata": {},
   "source": [
    "But maybe we want to select the `class=\"score\"` with the dot notation, and this will grab all of the scores on the page:"
   ]
  },
  {
   "cell_type": "code",
   "execution_count": 2,
   "metadata": {},
   "outputs": [
    {
     "name": "stdout",
     "output_type": "stream",
     "text": [
      "[<span class=\"score\" id=\"score_33261846\">106 points</span>, <span class=\"score\" id=\"score_33261125\">76 points</span>, <span class=\"score\" id=\"score_33261766\">18 points</span>, <span class=\"score\" id=\"score_33261288\">21 points</span>, <span class=\"score\" id=\"score_33261399\">14 points</span>, <span class=\"score\" id=\"score_33228398\">52 points</span>, <span class=\"score\" id=\"score_33260525\">238 points</span>, <span class=\"score\" id=\"score_33251954\">321 points</span>, <span class=\"score\" id=\"score_33256446\">272 points</span>, <span class=\"score\" id=\"score_33260380\">15 points</span>, <span class=\"score\" id=\"score_33249215\">2606 points</span>, <span class=\"score\" id=\"score_33257197\">138 points</span>, <span class=\"score\" id=\"score_33259351\">113 points</span>, <span class=\"score\" id=\"score_33259835\">23 points</span>, <span class=\"score\" id=\"score_33244819\">110 points</span>, <span class=\"score\" id=\"score_33256378\">396 points</span>, <span class=\"score\" id=\"score_33228387\">90 points</span>, <span class=\"score\" id=\"score_33249988\">18 points</span>, <span class=\"score\" id=\"score_33260998\">31 points</span>, <span class=\"score\" id=\"score_33260695\">7 points</span>, <span class=\"score\" id=\"score_33261196\">21 points</span>, <span class=\"score\" id=\"score_33257300\">74 points</span>, <span class=\"score\" id=\"score_33258598\">36 points</span>, <span class=\"score\" id=\"score_33230977\">68 points</span>, <span class=\"score\" id=\"score_33247681\">36 points</span>, <span class=\"score\" id=\"score_33256388\">76 points</span>, <span class=\"score\" id=\"score_33254857\">38 points</span>, <span class=\"score\" id=\"score_33259414\">184 points</span>, <span class=\"score\" id=\"score_33254791\">336 points</span>, <span class=\"score\" id=\"score_33261862\">4 points</span>]\n"
     ]
    }
   ],
   "source": [
    "import requests\n",
    "from bs4 import BeautifulSoup\n",
    "\n",
    "res = requests.get('https://news.ycombinator.com/')\n",
    "soup = BeautifulSoup(res.text, 'html.parser')\n",
    "print(soup.select('.score'))"
   ]
  },
  {
   "cell_type": "markdown",
   "metadata": {},
   "source": [
    "It's just a list of all the spans because the span has a .score class. We can do the same with `\"id=`."
   ]
  },
  {
   "cell_type": "code",
   "execution_count": 4,
   "metadata": {},
   "outputs": [
    {
     "name": "stdout",
     "output_type": "stream",
     "text": [
      "[<span class=\"score\" id=\"score_33256446\">273 points</span>]\n"
     ]
    }
   ],
   "source": [
    "import requests\n",
    "from bs4 import BeautifulSoup\n",
    "\n",
    "res = requests.get('https://news.ycombinator.com/')\n",
    "soup = BeautifulSoup(res.text, 'html.parser')\n",
    "print(soup.select('#score_33256446'))"
   ]
  },
  {
   "cell_type": "markdown",
   "metadata": {},
   "source": [
    "What we want to do is grab all elements with  the class '.titleline'.  We get a ton of lists, but they're all `<a>` tags."
   ]
  },
  {
   "cell_type": "code",
   "execution_count": 6,
   "metadata": {},
   "outputs": [
    {
     "name": "stdout",
     "output_type": "stream",
     "text": [
      "[<span class=\"titleline\"><a href=\"https://brave.com/privacy-updates/21-blocking-cookie-notices/\">Brave browser now blocks cookie banners</a><span class=\"sitebit comhead\"> (<a href=\"from?site=brave.com\"><span class=\"sitestr\">brave.com</span></a>)</span></span>, <span class=\"titleline\"><a href=\"https://wix-ux.com/when-life-gives-you-lemons-write-better-error-messages-46c5223e1a2f\">Write Better Error Messages</a><span class=\"sitebit comhead\"> (<a href=\"from?site=wix-ux.com\"><span class=\"sitestr\">wix-ux.com</span></a>)</span></span>, <span class=\"titleline\"><a href=\"https://ctan.org/pkg/wargame\">Wargame: LaTeX package to prepare hex'n'counter wargames</a><span class=\"sitebit comhead\"> (<a href=\"from?site=ctan.org\"><span class=\"sitestr\">ctan.org</span></a>)</span></span>, <span class=\"titleline\"><a href=\"https://lwn.net/SubscriberLink/910766/7678f8c4ede60928/\">Identity management for WireGuard networks</a><span class=\"sitebit comhead\"> (<a href=\"from?site=lwn.net\"><span class=\"sitestr\">lwn.net</span></a>)</span></span>, <span class=\"titleline\"><a href=\"https://dispatchesmag.com/reappraisal-enzo-mari/\">Furniture as Comrade: Enzo Mari’s Autoprogettazione</a><span class=\"sitebit comhead\"> (<a href=\"from?site=dispatchesmag.com\"><span class=\"sitestr\">dispatchesmag.com</span></a>)</span></span>, <span class=\"titleline\"><a href=\"https://canvatechblog.com/simple-fast-and-scalable-reverse-image-search-using-perceptual-hashes-and-dynamodb-df3007d19934\">Simple, Fast, and Scalable Reverse Image Search</a><span class=\"sitebit comhead\"> (<a href=\"from?site=canvatechblog.com\"><span class=\"sitestr\">canvatechblog.com</span></a>)</span></span>, <span class=\"titleline\"><a href=\"item?id=33260525\">Ask HN: Has anyone managed to find enjoyment in their work after burnout?</a></span>, <span class=\"titleline\"><a href=\"https://swurl.com/?q=Paul+Graham+y+combinator\">Show HN: A new search engine UX I've been working on in my free time</a><span class=\"sitebit comhead\"> (<a href=\"from?site=swurl.com\"><span class=\"sitestr\">swurl.com</span></a>)</span></span>, <span class=\"titleline\"><a href=\"https://commoncog.com/focus-saying-no-to-good-ideas/\">Focus is saying no to good ideas</a><span class=\"sitebit comhead\"> (<a href=\"from?site=commoncog.com\"><span class=\"sitestr\">commoncog.com</span></a>)</span></span>, <span class=\"titleline\"><a href=\"item?id=33260380\">Show HN: I made a simple platform to find founders and buy side-projects</a></span>, <span class=\"titleline\"><a href=\"https://ciechanow.ski/sound/\">Sound</a><span class=\"sitebit comhead\"> (<a href=\"from?site=ciechanow.ski\"><span class=\"sitestr\">ciechanow.ski</span></a>)</span></span>, <span class=\"titleline\"><a href=\"https://smartfinvc.com/news/smartfin-acquires-leading-cybersecurity-software-provider-hex-rays-together-with-sfpim-and-sriw/\">IDA cybersecurity software provider Hex-Rays acquired</a><span class=\"sitebit comhead\"> (<a href=\"from?site=smartfinvc.com\"><span class=\"sitestr\">smartfinvc.com</span></a>)</span></span>, <span class=\"titleline\"><a href=\"item?id=33259351\">Ask HN: Why don't I see gold at the end of the remote working rainbow?</a></span>, <span class=\"titleline\"><a href=\"https://play.elevatorsaga.com/\">Elevator Saga: Elevator programming game</a><span class=\"sitebit comhead\"> (<a href=\"from?site=elevatorsaga.com\"><span class=\"sitestr\">elevatorsaga.com</span></a>)</span></span>, <span class=\"titleline\"><a href=\"https://www.nature.com/articles/d41586-022-03296-1\">First known map of night sky found hidden in Medieval parchment</a><span class=\"sitebit comhead\"> (<a href=\"from?site=nature.com\"><span class=\"sitestr\">nature.com</span></a>)</span></span>, <span class=\"titleline\"><a href=\"http://www.ivarch.com/programs/pv.shtml\" rel=\"nofollow\">Pipe Viewer</a><span class=\"sitebit comhead\"> (<a href=\"from?site=ivarch.com\"><span class=\"sitestr\">ivarch.com</span></a>)</span></span>, <span class=\"titleline\"><a href=\"https://github.com/FPGAwars/icestudio\">Icestudio: Drag and Drop FPGA programming and learning</a><span class=\"sitebit comhead\"> (<a href=\"from?site=github.com/fpgawars\"><span class=\"sitestr\">github.com/fpgawars</span></a>)</span></span>, <span class=\"titleline\"><a href=\"https://www.ableton.com/en/note/\">Ableton Note – A playable iOS app for forming musical ideas</a><span class=\"sitebit comhead\"> (<a href=\"from?site=ableton.com\"><span class=\"sitestr\">ableton.com</span></a>)</span></span>, <span class=\"titleline\"><a href=\"https://en.wikipedia.org/wiki/C--\">C Minus Minus</a><span class=\"sitebit comhead\"> (<a href=\"from?site=wikipedia.org\"><span class=\"sitestr\">wikipedia.org</span></a>)</span></span>, <span class=\"titleline\"><a href=\"https://www.starlink.com/aviation\">Starlink Aviation</a><span class=\"sitebit comhead\"> (<a href=\"from?site=starlink.com\"><span class=\"sitestr\">starlink.com</span></a>)</span></span>, <span class=\"titleline\"><a href=\"https://www.lesswrong.com/posts/CKpByWmsZ8WmpHtYa/competent-elites\">Competent Elites</a><span class=\"sitebit comhead\"> (<a href=\"from?site=lesswrong.com\"><span class=\"sitestr\">lesswrong.com</span></a>)</span></span>, <span class=\"titleline\"><a href=\"https://learn.microsoft.com/en-us/training/paths/startups/\">Build an early-stage startup</a><span class=\"sitebit comhead\"> (<a href=\"from?site=microsoft.com\"><span class=\"sitestr\">microsoft.com</span></a>)</span></span>, <span class=\"titleline\"><a href=\"https://futurepinball.com\">Future Pinball – A Real Time Pinball Development System</a><span class=\"sitebit comhead\"> (<a href=\"from?site=futurepinball.com\"><span class=\"sitestr\">futurepinball.com</span></a>)</span></span>, <span class=\"titleline\"><a href=\"https://www.docker.com/pricing/october-2022-pricing-change-faq/\">Docker October 2022 Pricing Change FAQ</a><span class=\"sitebit comhead\"> (<a href=\"from?site=docker.com\"><span class=\"sitestr\">docker.com</span></a>)</span></span>, <span class=\"titleline\"><a href=\"https://www.youtube.com/watch?v=RwEKg5cjkKQ\">Intelligence Beyond the Brain [video]</a><span class=\"sitebit comhead\"> (<a href=\"from?site=youtube.com\"><span class=\"sitestr\">youtube.com</span></a>)</span></span>, <span class=\"titleline\"><a href=\"https://m65digest.substack.com/p/mega65-adventures\">MEGA65 Adventures</a><span class=\"sitebit comhead\"> (<a href=\"from?site=m65digest.substack.com\"><span class=\"sitestr\">m65digest.substack.com</span></a>)</span></span>, <span class=\"titleline\"><a href=\"https://www.heartland.org/_template-assets/documents/publications/NIPCC%20Final.pdf\" rel=\"nofollow\">Climate Change Reconsidered [pdf]</a><span class=\"sitebit comhead\"> (<a href=\"from?site=heartland.org\"><span class=\"sitestr\">heartland.org</span></a>)</span></span>, <span class=\"titleline\"><a href=\"https://www.cis.upenn.edu/~jean/math-deep.pdf\">Algebra, Topology, Differential Calculus, and Optimization Theory [pdf]</a><span class=\"sitebit comhead\"> (<a href=\"from?site=upenn.edu\"><span class=\"sitestr\">upenn.edu</span></a>)</span></span>, <span class=\"titleline\"><a href=\"item?id=33261862\">Ask HN: Apps that are built with Git as the back end?</a></span>, <span class=\"titleline\"><a href=\"item?id=33259414\">Ask HN: How to deal with regret of not having kids</a></span>]\n"
     ]
    }
   ],
   "source": [
    "import requests\n",
    "from bs4 import BeautifulSoup\n",
    "\n",
    "res = requests.get('https://news.ycombinator.com/')\n",
    "soup = BeautifulSoup(res.text, 'html.parser')\n",
    "print(soup.select('.titleline'))"
   ]
  },
  {
   "cell_type": "markdown",
   "metadata": {},
   "source": [
    "We can grab the first element, using [0]:"
   ]
  },
  {
   "cell_type": "code",
   "execution_count": 7,
   "metadata": {},
   "outputs": [
    {
     "name": "stdout",
     "output_type": "stream",
     "text": [
      "<span class=\"titleline\"><a href=\"https://brave.com/privacy-updates/21-blocking-cookie-notices/\">Brave browser now blocks cookie banners</a><span class=\"sitebit comhead\"> (<a href=\"from?site=brave.com\"><span class=\"sitestr\">brave.com</span></a>)</span></span>\n"
     ]
    }
   ],
   "source": [
    "import requests\n",
    "from bs4 import BeautifulSoup\n",
    "\n",
    "res = requests.get('https://news.ycombinator.com/')\n",
    "soup = BeautifulSoup(res.text, 'html.parser')\n",
    "print(soup.select('.titleline')[0])"
   ]
  },
  {
   "cell_type": "markdown",
   "metadata": {},
   "source": [
    "`.titleline` grabs us the `<a>` tags for each one of the story titles. But we could just as easily grab the `vote`."
   ]
  },
  {
   "cell_type": "code",
   "execution_count": null,
   "metadata": {
    "vscode": {
     "languageId": "html"
    }
   },
   "outputs": [],
   "source": [
    "<span class=\"score\" id=\"score_33228398\">27 points</span>"
   ]
  },
  {
   "cell_type": "markdown",
   "metadata": {},
   "source": [
    "So, we'll grab all of the classes:"
   ]
  },
  {
   "cell_type": "code",
   "execution_count": 9,
   "metadata": {},
   "outputs": [
    {
     "name": "stdout",
     "output_type": "stream",
     "text": [
      "<span class=\"score\" id=\"score_33262637\">267 points</span>\n"
     ]
    }
   ],
   "source": [
    "import requests\n",
    "from bs4 import BeautifulSoup\n",
    "\n",
    "res = requests.get('https://news.ycombinator.com/')\n",
    "soup = BeautifulSoup(res.text, 'html.parser')\n",
    "links = soup.select('.titleline')\n",
    "votes = soup.select('.score')\n",
    "print(votes[0])"
   ]
  },
  {
   "cell_type": "markdown",
   "metadata": {},
   "source": [
    "With Beautiful Soup, we can keep chaining:"
   ]
  },
  {
   "cell_type": "code",
   "execution_count": 12,
   "metadata": {},
   "outputs": [
    {
     "name": "stdout",
     "output_type": "stream",
     "text": [
      "score_33262637\n"
     ]
    }
   ],
   "source": [
    "import requests\n",
    "from bs4 import BeautifulSoup\n",
    "\n",
    "res = requests.get('https://news.ycombinator.com/')\n",
    "soup = BeautifulSoup(res.text, 'html.parser')\n",
    "links = soup.select('.titleline')\n",
    "votes = soup.select('.score')\n",
    "print(votes[0].get('id'))"
   ]
  },
  {
   "cell_type": "markdown",
   "metadata": {},
   "source": [
    "We have the information that we need. It's time to go to the next step, which is to try and combine what's above and make it more useful."
   ]
  }
 ],
 "metadata": {
  "kernelspec": {
   "display_name": "Python 3.10.6 64-bit",
   "language": "python",
   "name": "python3"
  },
  "language_info": {
   "codemirror_mode": {
    "name": "ipython",
    "version": 3
   },
   "file_extension": ".py",
   "mimetype": "text/x-python",
   "name": "python",
   "nbconvert_exporter": "python",
   "pygments_lexer": "ipython3",
   "version": "3.10.6"
  },
  "orig_nbformat": 4,
  "vscode": {
   "interpreter": {
    "hash": "916dbcbb3f70747c44a77c7bcd40155683ae19c65e1c03b4aa3499c5328201f1"
   }
  }
 },
 "nbformat": 4,
 "nbformat_minor": 2
}
