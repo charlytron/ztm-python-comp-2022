{
 "cells": [
  {
   "cell_type": "markdown",
   "metadata": {},
   "source": [
    "# Scripting with Python: Section Overview\n",
    "\n",
    "A general term to denote writing of scripts to perform tasks, using the power of machines to increase productivity, leveraging the power of Python to make life easier.\n",
    "\n",
    "- image processing\n",
    "- Working with files (PDF)\n",
    "- Working with emails and text messages\n",
    "- building a twitter bot\n",
    "- password checker"
   ]
  }
 ],
 "metadata": {
  "language_info": {
   "name": "python"
  },
  "orig_nbformat": 4
 },
 "nbformat": 4,
 "nbformat_minor": 2
}
