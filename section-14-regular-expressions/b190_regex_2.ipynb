{
 "cells": [
  {
   "cell_type": "markdown",
   "metadata": {},
   "source": [
    "# Regular Expressions II\n",
    "\n",
    "With regex, we can write some crazy patterns that look like gibberish. We can refer to [this W3 Schools page](https://www.w3schools.com/python/python_regex.asp) for more information. Also check out [Regex 101](https://regex101.com)."
   ]
  },
  {
   "cell_type": "code",
   "execution_count": 4,
   "metadata": {},
   "outputs": [
    {
     "name": "stdout",
     "output_type": "stream",
     "text": [
      "a\n"
     ]
    }
   ],
   "source": [
    "import re\n",
    "\n",
    "pattern = re.compile(r\"([a-zA-Z]).([a])\")\n",
    "\n",
    "string = 'search inside of this text, if of this you please'\n",
    "\n",
    "a = pattern.search(string)\n",
    "b = pattern.findall(string)\n",
    "c = pattern.fullmatch(string) # has to be the exact string that we're searching\n",
    "print(a.group(2))\n"
   ]
  }
 ],
 "metadata": {
  "kernelspec": {
   "display_name": "Python 3.10.6 64-bit",
   "language": "python",
   "name": "python3"
  },
  "language_info": {
   "codemirror_mode": {
    "name": "ipython",
    "version": 3
   },
   "file_extension": ".py",
   "mimetype": "text/x-python",
   "name": "python",
   "nbconvert_exporter": "python",
   "pygments_lexer": "ipython3",
   "version": "3.10.6"
  },
  "orig_nbformat": 4,
  "vscode": {
   "interpreter": {
    "hash": "916dbcbb3f70747c44a77c7bcd40155683ae19c65e1c03b4aa3499c5328201f1"
   }
  }
 },
 "nbformat": 4,
 "nbformat_minor": 2
}
