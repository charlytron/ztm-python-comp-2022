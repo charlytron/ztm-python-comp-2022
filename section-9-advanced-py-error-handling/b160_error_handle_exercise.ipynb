{
 "cells": [
  {
   "cell_type": "code",
   "execution_count": 1,
   "metadata": {},
   "outputs": [
    {
     "name": "stdout",
     "output_type": "stream",
     "text": [
      "thank-you\n",
      "okay, I am done here\n"
     ]
    }
   ],
   "source": [
    "while True:\n",
    "  try:\n",
    "    age = int(input('what is your age? '))\n",
    "    10/age\n",
    "  except ValueError:\n",
    "      print('please enter a number')\n",
    "  except ZeroDivisionError:\n",
    "    print('please enter a number higher than 0')\n",
    "  else:\n",
    "    print('thank-you')\n",
    "    break\n",
    "  finally:\n",
    "    print('okay, I am done here')"
   ]
  },
  {
   "cell_type": "markdown",
   "metadata": {},
   "source": [
    "What happens if we try `continue` in line 7 and add a break in line 10?"
   ]
  },
  {
   "cell_type": "code",
   "execution_count": 4,
   "metadata": {},
   "outputs": [
    {
     "name": "stdout",
     "output_type": "stream",
     "text": [
      "please enter a number higher than 0\n",
      "okay, I am done here\n"
     ]
    }
   ],
   "source": [
    "while True:\n",
    "  try:\n",
    "    age = int(input('what is your age? '))\n",
    "    10/age\n",
    "  except ValueError:\n",
    "      print('please enter a number')\n",
    "      continue\n",
    "  except ZeroDivisionError:\n",
    "    print('please enter a number higher than 0')\n",
    "    break\n",
    "  else:\n",
    "    print('thank-you')\n",
    "    break\n",
    "  finally:\n",
    "    print('okay, I am done here')\n",
    "  print('can y\\'all hear me?')"
   ]
  },
  {
   "cell_type": "markdown",
   "metadata": {},
   "source": [
    "We never run the last print statement because we've broken out of the loop. Let's give it some gibberish as an input `jsahfal`:"
   ]
  },
  {
   "cell_type": "code",
   "execution_count": 5,
   "metadata": {},
   "outputs": [
    {
     "name": "stdout",
     "output_type": "stream",
     "text": [
      "please enter a number\n",
      "okay, I am done here\n",
      "please enter a number\n",
      "okay, I am done here\n"
     ]
    }
   ],
   "source": [
    "while True:\n",
    "  try:\n",
    "    age = int(input('what is your age? '))\n",
    "    10/age\n",
    "  except ValueError:\n",
    "      print('please enter a number')\n",
    "      continue\n",
    "  except ZeroDivisionError:\n",
    "    print('please enter a number higher than 0')\n",
    "    break\n",
    "  else:\n",
    "    print('thank-you')\n",
    "    break\n",
    "  finally:\n",
    "    print('okay, I am done here')\n",
    "  print('can y\\'all hear me?')"
   ]
  }
 ],
 "metadata": {
  "kernelspec": {
   "display_name": "Python 3.10.4 64-bit",
   "language": "python",
   "name": "python3"
  },
  "language_info": {
   "codemirror_mode": {
    "name": "ipython",
    "version": 3
   },
   "file_extension": ".py",
   "mimetype": "text/x-python",
   "name": "python",
   "nbconvert_exporter": "python",
   "pygments_lexer": "ipython3",
   "version": "3.10.4"
  },
  "orig_nbformat": 4,
  "vscode": {
   "interpreter": {
    "hash": "916dbcbb3f70747c44a77c7bcd40155683ae19c65e1c03b4aa3499c5328201f1"
   }
  }
 },
 "nbformat": 4,
 "nbformat_minor": 2
}
