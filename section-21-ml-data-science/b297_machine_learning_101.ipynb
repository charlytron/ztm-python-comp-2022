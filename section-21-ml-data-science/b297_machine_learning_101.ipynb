{
 "cells": [
  {
   "cell_type": "markdown",
   "metadata": {},
   "source": [
    "# Machine Learning 101\n",
    "\n",
    "Don't need to be really smart with math and statistics.\n",
    "\n",
    "What is Machine Learning, then? What does an ML person do?\n",
    "\n",
    "1. Import data\n",
    "  - we have a CSV file, snd we're going to import it with Python\n",
    "2. Clean the data\n",
    "  - Ideally we have perfect data. All the columns and rows of a CSV file are filled in\n",
    "  - Realistically, things are messier.\n",
    "     - missing labels\n",
    "     - missing cells or data\n",
    "     - unusable data\n",
    "  - When we use it later, we don't want it to give us errors or enable bad predictions.\n",
    "3. Split the data: example would be a 100-row Excel spreadsheet\n",
    "  - Training Set\n",
    "    - 80 rows to train the data.\n",
    "  - Test Set\n",
    "     - 20 rows allow us to tell the machine whether it got the answer right or wrong.\n",
    "     - We need to test if the model is good or bad.\n",
    "     - We use this to test the output that the ML function gives us.\n",
    "\n",
    "\n",
    "Until now, these three things are quite easy. But we're not done\n",
    "\n",
    "4. Create a model: don't need to shiver at the math gods here\n",
    "  - Most likely we'll import an algorithm here, one already created.\n",
    "  - Not to write things from scratch\n",
    "  - Library use is common\n",
    "     - SciKit Learn\n",
    "     - import and decide which algorithm to use\n",
    "       - decision trees\n",
    "       - K Nearest Neighbor\n",
    "\n",
    "5. Check the output of the model with test set\n",
    "   - does it match what we expected?\n",
    "\n",
    "6. Improve\n",
    "  - give the model extra inputs (e.g. extra column in the excel file)\n",
    "  - change the model or the algorithm that creates the model\n",
    "\n",
    "^^^ Facebook runs their ML pipeline this way\n",
    "\n",
    "## The most difficult part of this process is grabbing the data itself\n",
    "\n",
    "The more data we have, the better. The more inputs we have, the more training sets we can have, allowing us to improve the model. We can decide which algorithm to use to create a model, what inputs to use, but the more data that we have, the more options we have as machine learning experts.\n",
    "\n",
    "Makes sense that ML is pioneered by FB and Giggle. On our own, we don't have enough data to make ML worth it. Most companies don't need ML; not enough data. That's why Amazon is so valuable. They can share their model, but they usually keep their data private.\n",
    "\n",
    "### Now, we just need to decide which tools to use to build these steps"
   ]
  }
 ],
 "metadata": {
  "kernelspec": {
   "display_name": "Python 3.9.12 ('base')",
   "language": "python",
   "name": "python3"
  },
  "language_info": {
   "name": "python",
   "version": "3.9.12"
  },
  "orig_nbformat": 4,
  "vscode": {
   "interpreter": {
    "hash": "66b6dfc241c8325d69ccfbaf588ee11e398b2b02082dd5e73e37f3a4fd18fba0"
   }
  }
 },
 "nbformat": 4,
 "nbformat_minor": 2
}
