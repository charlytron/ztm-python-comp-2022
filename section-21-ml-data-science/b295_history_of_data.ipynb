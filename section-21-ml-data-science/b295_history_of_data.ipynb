{
 "cells": [
  {
   "cell_type": "markdown",
   "metadata": {},
   "source": [
    "# History of Data\n",
    "\n",
    "It's all about the why. Why do we learn what we do?\n",
    "\n",
    "How is ML useful? Most tech evolves from business needs, efficiency allowing the monger to gain an edge.\n",
    "\n",
    "Spreadsheets were a great innovation to store data. People got really good at one point at analyzing CSV files to make business decisions.\n",
    "\n",
    "Forecasting sales would be an obvious application of this. As companies got more and more data, they started mulling relational databases. It was a better way to organize things and to glean knowledge from our data.\n",
    "\n",
    "So evolved things like MySQL, which allowed us to use Structured Query Language to read and write information from snd to our database. Similar to spreadsheets, we use the data that we gathered from the business to make business decisions, making the business even more profitable.\n",
    "\n",
    "In 2000 arrived the term \"Big Data\".\n",
    "\n",
    "- Facebook\n",
    "- Amazon\n",
    "- Twitter\n",
    "- Google\n",
    "\n",
    "All started accumulating more and more data that couldn't be managed by spreadsheets.\n",
    "\n",
    "- user actions\n",
    "- user likes\n",
    "- user purchasing history\n",
    "\n",
    "These companies had so much data, much of which was messy and unstructured. That's where NoSQL and MongoDB came in, allowing us to __store__ unstructured data. Hopefully, we could make business decisions out of that.\n",
    "\n",
    "If we were Amazon, we could use customer's purchasing history to recommend different products. Since we were able to do that, the idea of \"Big Data\" has evolved into machine learning.\n",
    "\n",
    "Instead of humans trying to parse the data, we give the data to the machines so that they can make business decisions. THe improvement in CPUs and GPUs helped this along.\n",
    "\n",
    "Using the massive improvements in computation, we can use these machines, give them the Big Data, and let them make decisions for us.\n",
    "\n"
   ]
  }
 ],
 "metadata": {
  "language_info": {
   "name": "python"
  },
  "orig_nbformat": 4
 },
 "nbformat": 4,
 "nbformat_minor": 2
}
