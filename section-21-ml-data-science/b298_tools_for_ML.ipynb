{
 "cells": [
  {
   "cell_type": "code",
   "execution_count": null,
   "metadata": {},
   "outputs": [],
   "source": []
  },
  {
   "cell_type": "markdown",
   "metadata": {},
   "source": [
    "# Tools for Machine Learning\n",
    "\n",
    "We've learned the theory about machine learning, but what tools do we use in order to learn about machine learning?\n",
    "\n",
    "Python is one of the most popular languages when using machine learning. It has a big community, and it's an easy language.\n",
    "It has a lot of libraries and modules that help us to do machine learning in a fast and efficient way.\n",
    "\n",
    "Python certainly isn't the only language that we can do ML in, but it has the best tools currently available for ML.\n",
    "\n",
    "- __NumPy__ is definitely a must learn. It allows us to use lists and multi-dimensional arrays in Python, used very often in machine learning.\n",
    "\n",
    "- __Pandas__ is used for data analysis, and it gives us an idea of __data frame__, which allows us the functionality to manipulate data in tabular structure with rows and columns. We get to read a CSV file (usually), and Pandas will extract this data into data frames, and we can do amazing transformations and aggregations with it.\n",
    "\n",
    "- __scikit-learn__ allows us to create a model. We import the `scikit` library, and it comes pre-built with different algorithms\n",
    "  - classification\n",
    "  - Regression\n",
    "  - Dimensionality Reduction\n",
    "  - Model Selection\n",
    "  - Preprocessing\n",
    "\n",
    "- __Matplotlib__ is a charting library which allows us to visualize data in a nice way.\n",
    "\n",
    "- __Jupyter Notebooks__ allow us to us the charts unlike with an IDE like Pycharm. It allows for better communication.\n",
    "\n",
    "- __The data itself__ We need data to work with in order to learn ML.\n"
   ]
  }
 ],
 "metadata": {
  "kernelspec": {
   "display_name": "Python 3.9.12 ('base')",
   "language": "python",
   "name": "python3"
  },
  "language_info": {
   "name": "python",
   "version": "3.9.12"
  },
  "orig_nbformat": 4,
  "vscode": {
   "interpreter": {
    "hash": "66b6dfc241c8325d69ccfbaf588ee11e398b2b02082dd5e73e37f3a4fd18fba0"
   }
  }
 },
 "nbformat": 4,
 "nbformat_minor": 2
}
