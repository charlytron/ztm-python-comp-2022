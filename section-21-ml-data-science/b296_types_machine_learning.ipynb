{
 "cells": [
  {
   "cell_type": "markdown",
   "metadata": {},
   "source": [
    "# Types of Machine learning\n",
    "\n",
    "We're familiar with the 'why' of ML. But the only reason that we care about it is that we can use machines to predict results based on incoming data.\n",
    "\n",
    "What are some of the ML categories?\n",
    "\n",
    "It's all about predicting results based on incoming data. That's what the subcategories above do.\n",
    "\n",
    "- Supervised: in this case, the data already has categories. Like a CSV file with rows and columns labeled.\n",
    "  - labeled data\n",
    "    - test data that is labeled so that we know that our function is right or wrong. How to use it?\n",
    "    - classification: here we can decide 'is this an apple or a pear'?\n",
    "    - regression: based on input, we can:\n",
    "        - predict stock prices.\n",
    "        - hire engineers\n",
    "          - years of experience\n",
    "          - age\n",
    "          - where they live\n",
    "      all of this can be used in a supervised learning system to decide, \"should we hire that guy?\"\n",
    "- Unsupervised: this is for data that doesn't have labels, like a CSV without the column with all the labels\n",
    "  - Clustering: training the machine to create these groups\n",
    "    - We give it a bunch of data points and the machine decides which of the data points logically fit together.\n",
    "  - Association Rule learning:\n",
    "    - We associate different things to predict what a customer might buy in the future\n",
    "    - When groups or labels don't exist, we call it __*unsupervised learning*__.\n",
    "    - We can't tell the machines they are right or wrong, since no true categories exist, so we let the machines create the categories for us.\n",
    "- Reinforcement Learning:\n",
    "  - All about teaching machines through trial and error\n",
    "    - A program could learn a video game by playing it millions of times until it gets the highest score.\n",
    "      - Skill acquisition \n",
    "      - Real time learning\n",
    "  - ML has different categories, ways to accomplish the goal.\n",
    "     - Neural networks \n",
    "     - Decision trees\n",
    "     - Support vector machines\n",
    "     - K nearest neighbor\n",
    "  These are just algorithms that are used with the various subfields of ML listed above, allowing us to come to our predictions.\n",
    "\n",
    "  ## 'Learn from the data, predict something' is the gist\n"
   ]
  }
 ],
 "metadata": {
  "language_info": {
   "name": "python"
  },
  "orig_nbformat": 4
 },
 "nbformat": 4,
 "nbformat_minor": 2
}
