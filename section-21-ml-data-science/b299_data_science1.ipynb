{
 "cells": [
  {
   "cell_type": "markdown",
   "metadata": {},
   "source": [
    "# Data Science I\n",
    "\n",
    "First we import the data: FIFA 2019. We've placed it [in this same directory](./fifa-19-complete-player-dataset.ipynb)."
   ]
  }
 ],
 "metadata": {
  "kernelspec": {
   "display_name": "Python 3.9.12 ('base')",
   "language": "python",
   "name": "python3"
  },
  "language_info": {
   "name": "python",
   "version": "3.9.12"
  },
  "orig_nbformat": 4,
  "vscode": {
   "interpreter": {
    "hash": "66b6dfc241c8325d69ccfbaf588ee11e398b2b02082dd5e73e37f3a4fd18fba0"
   }
  }
 },
 "nbformat": 4,
 "nbformat_minor": 2
}
