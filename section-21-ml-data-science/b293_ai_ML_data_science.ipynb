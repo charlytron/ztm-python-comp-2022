{
 "cells": [
  {
   "cell_type": "markdown",
   "metadata": {},
   "source": [
    "# AI/Machine Learning/Data Science\n",
    "\n",
    "Up until this point we haven't covered:\n",
    "\n",
    "- Research Analyst\n",
    "- Data Scientist\n",
    "- Data Analyst\n",
    "\n",
    "All these fields overlap.\n",
    "\n",
    "When we talk about ML, it's a subset of AI, a machine that acts like a human. Currently, we have narrow AI, meaning machines can be just as good as humans at a specific task, like detecting heart disease from images. They can't be like humans, with multiple abilities.\n",
    "\n",
    "__We're a long ways from general AI__.\n",
    "\n",
    "ML is a subset of AI. It's an __approach__ to try and achieve artificial intelligence through systems that can find patterns in a set of data. It's the idea of getting computers to act without being explicitly programmed.\n",
    "\n",
    "So what is __deep learning__? One of the techniques for implementing machine learning. It's a type of algorithm.\n",
    "\n",
    "And what is Data Science? Overlaps with ML quite a bit. It's all about analyzing data, yo."
   ]
  }
 ],
 "metadata": {
  "language_info": {
   "name": "python"
  },
  "orig_nbformat": 4
 },
 "nbformat": 4,
 "nbformat_minor": 2
}
