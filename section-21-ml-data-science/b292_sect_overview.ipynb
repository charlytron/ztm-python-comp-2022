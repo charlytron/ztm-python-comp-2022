{
 "cells": [
  {
   "cell_type": "markdown",
   "metadata": {},
   "source": [
    "# Section Overview: Machine Learning: Data Science\n",
    "\n",
    "Computers are good at tasks with defined rules, all the way up to a game of chess. But as soon as we stop having specific rules, things start to break down.\n",
    "\n",
    "If we could describe a cat to a computer, writing that code in Python, how would we do it? The harder things become to describe, the harder it is for us to tell machines what to do.\n",
    "\n",
    "We'll solve this problem with ML.\n",
    "\n",
    "- self-driving cars\n",
    "- robots\n",
    "- vision and language processing\n",
    "- recommendation engine\n",
    "- translation\n",
    "- stock prices prediction\n",
    "\n",
    "__The goal is to make machines act more like humans__. The smarter they get, the more they help humans accomplish their goals.\n",
    "\n",
    "\n",
    "\n",
    "\n"
   ]
  }
 ],
 "metadata": {
  "language_info": {
   "name": "python"
  },
  "orig_nbformat": 4
 },
 "nbformat": 4,
 "nbformat_minor": 2
}
