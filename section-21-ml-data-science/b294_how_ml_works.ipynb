{
 "cells": [
  {
   "cell_type": "markdown",
   "metadata": {},
   "source": [
    "# How Machine Learning Works\n",
    "\n",
    "Machines don't really understand words. Our brain just knows how to identify a snake in a picture. Try making a computer do that! With ML we can teach this to a computer, but how?\n",
    "\n",
    "Often, our programs are procedural: do this, then that. We write the input and the function, and the computer just calculates with these the output.\n",
    "\n",
    "ML changes this idea. It asks us to give it the input, ask me what you want the output to be; that is, give me all of the data that you have and tell me what the answer is, or the output that y'all want. We ask the machine to figure out what the function is. Tell us if this image has a snake in it or whatever.\n",
    "\n",
    "Here are all of the pictures, and here is what we expect the output to be, either snake or no snake. With ML the function is generated or created by the machine.\n",
    "\n",
    "Instead of us writing the function, with ML, the machine writes the function; we give it the input and the output. Replace `function` with `model` and it basically means the same thing. Model is a function that receives an input and returns an output.\n",
    "\n",
    "In other words, we're dealing with an algorithm. The side effect is that when we talk about machine learning models, these functions are difficult to understand. The computer comes up with the function on its own, an a human would have a hard time understanding how that works.\n",
    "\n",
    "As the models get more complex, it becomes more difficult to understand how it all works.\n",
    "\n",
    "# We need to train the machine to create the function by giving it data\n",
    "\n",
    "Maybe lots of data, if we should want the best results. And we want to test to make sure that the data that we give it will yield the correct output. It's all about a computer writing its own function based on the inputs and outputs."
   ]
  },
  {
   "cell_type": "markdown",
   "metadata": {},
   "source": []
  }
 ],
 "metadata": {
  "language_info": {
   "name": "python"
  },
  "orig_nbformat": 4
 },
 "nbformat": 4,
 "nbformat_minor": 2
}
