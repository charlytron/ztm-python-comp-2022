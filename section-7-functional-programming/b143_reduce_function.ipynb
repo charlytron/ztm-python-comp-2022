{
 "cells": [
  {
   "cell_type": "markdown",
   "metadata": {},
   "source": [
    "# `reduce()`\n",
    "\n",
    "## Doesn't come as part of Python functionality\n",
    "\n",
    "### It comes from `functools`\n",
    "\n",
    "In order to use it, we have to do something like this in line 1:"
   ]
  },
  {
   "cell_type": "code",
   "execution_count": null,
   "metadata": {},
   "outputs": [],
   "source": [
    "from functools import reduce\n",
    "my_list = [1, 2, 3]\n",
    "youse_list = (10, 20, 30)\n",
    "their_list = (5, 4, 3)\n",
    "\n",
    "\n",
    "def multiply_by2(item):\n",
    "    return item * 2\n",
    "\n",
    "\n",
    "def only_odd(item):\n",
    "    return item % 2 != 0  # evaluates to Boolean expression\n",
    "\n",
    "\n",
    "print(list(zip(my_list, youse_list, their_list)))\n",
    "print(my_list)\n"
   ]
  },
  {
   "cell_type": "markdown",
   "metadata": {},
   "source": [
    "When we downloaded Python interpreter, we can import from `functools`, which are eponymous functional tools, something that comes with the Python installation.\n",
    "\n",
    "We only need the `reduce` function. With `reduce` we'll need a few things: the function, the sequence (data).\n",
    "\n",
    "`my_list` handles the data argument"
   ]
  },
  {
   "cell_type": "code",
   "execution_count": 1,
   "metadata": {},
   "outputs": [
    {
     "name": "stdout",
     "output_type": "stream",
     "text": [
      "0 1\n",
      "1 2\n",
      "3 3\n"
     ]
    },
    {
     "ename": "TypeError",
     "evalue": "'int' object is not iterable",
     "output_type": "error",
     "traceback": [
      "\u001b[0;31m---------------------------------------------------------------------------\u001b[0m",
      "\u001b[0;31mTypeError\u001b[0m                                 Traceback (most recent call last)",
      "Cell \u001b[0;32mIn [1], line 17\u001b[0m\n\u001b[1;32m     13\u001b[0m     \u001b[38;5;28mprint\u001b[39m(acc, item)\n\u001b[1;32m     14\u001b[0m     \u001b[38;5;28;01mreturn\u001b[39;00m acc \u001b[38;5;241m+\u001b[39m item\n\u001b[0;32m---> 17\u001b[0m \u001b[38;5;28mprint\u001b[39m(\u001b[38;5;28;43mlist\u001b[39;49m\u001b[43m(\u001b[49m\u001b[43mreduce\u001b[49m\u001b[43m(\u001b[49m\u001b[43maccumulator\u001b[49m\u001b[43m,\u001b[49m\u001b[43m \u001b[49m\u001b[43mmy_list\u001b[49m\u001b[43m,\u001b[49m\u001b[43m \u001b[49m\u001b[38;5;241;43m0\u001b[39;49m\u001b[43m)\u001b[49m\u001b[43m)\u001b[49m)\n\u001b[1;32m     18\u001b[0m \u001b[38;5;28mprint\u001b[39m(my_list)\n",
      "\u001b[0;31mTypeError\u001b[0m: 'int' object is not iterable"
     ]
    }
   ],
   "source": [
    "from functools import reduce\n",
    "my_list = [1, 2, 3]\n",
    "\n",
    "\n",
    "def multiply_by2(item):\n",
    "    return item * 2\n",
    "\n",
    "\n",
    "def only_odd(item):\n",
    "    return item % 2 != 0  # evaluates to Boolean expression\n",
    "  \n",
    "def accumulator(acc, item):\n",
    "    print(acc, item)\n",
    "    return acc + item\n",
    "\n",
    "\n",
    "print(list(reduce(accumulator, my_list, 0)))\n",
    "print(my_list)\n"
   ]
  },
  {
   "cell_type": "markdown",
   "metadata": {},
   "source": [
    "Tricky error to debug. Let's remove `list` before the `reduce()`"
   ]
  },
  {
   "cell_type": "code",
   "execution_count": 3,
   "metadata": {},
   "outputs": [
    {
     "name": "stdout",
     "output_type": "stream",
     "text": [
      "0 1\n",
      "1 2\n",
      "3 3\n",
      "6\n",
      "[1, 2, 3]\n"
     ]
    }
   ],
   "source": [
    "from functools import reduce\n",
    "my_list = [1, 2, 3]\n",
    "\n",
    "\n",
    "def multiply_by2(item):\n",
    "    return item * 2\n",
    "\n",
    "\n",
    "def only_odd(item):\n",
    "    return item % 2 != 0  # evaluates to Boolean expression\n",
    "  \n",
    "def accumulator(acc, item):\n",
    "    print(acc, item)\n",
    "    return acc + item\n",
    "\n",
    "\n",
    "print(reduce(accumulator, my_list, 0))\n",
    "print(my_list)\n"
   ]
  },
  {
   "cell_type": "markdown",
   "metadata": {},
   "source": [
    "Explain this result. Reduce reduces a value from the iterable.\n",
    "\n",
    "- We have `my_list` which will be applied to `accumulator` through `reduce()`\n",
    "- the `accumulator` will take `my_list`\n",
    "   - in the first pass, it will query what is the accumulator\n",
    "     - `accumulator` is set to 0\n",
    "     - `item` will be set to 1\n",
    "   - in the second pass, the accumulator will be the sum of `acc + item`. in the next pass through, whatever is returned will be filled into `accumulator`.\n",
    "- We've accumulated all these values per `acc + item` and returned on single item, 6\n",
    "- We've reduced our list into some data that we've manipulated\n",
    "\n",
    "If we change our last argument, we essentially get the same effect:\n"
   ]
  },
  {
   "cell_type": "code",
   "execution_count": 4,
   "metadata": {},
   "outputs": [
    {
     "name": "stdout",
     "output_type": "stream",
     "text": [
      "10 1\n",
      "11 2\n",
      "13 3\n",
      "16\n"
     ]
    }
   ],
   "source": [
    "print(reduce(accumulator, my_list, 10))"
   ]
  }
 ],
 "metadata": {
  "kernelspec": {
   "display_name": "Python 3.10.4 64-bit",
   "language": "python",
   "name": "python3"
  },
  "language_info": {
   "codemirror_mode": {
    "name": "ipython",
    "version": 3
   },
   "file_extension": ".py",
   "mimetype": "text/x-python",
   "name": "python",
   "nbconvert_exporter": "python",
   "pygments_lexer": "ipython3",
   "version": "3.10.4"
  },
  "orig_nbformat": 4,
  "vscode": {
   "interpreter": {
    "hash": "916dbcbb3f70747c44a77c7bcd40155683ae19c65e1c03b4aa3499c5328201f1"
   }
  }
 },
 "nbformat": 4,
 "nbformat_minor": 2
}
