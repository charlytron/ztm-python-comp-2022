{
 "cells": [
  {
   "cell_type": "markdown",
   "metadata": {},
   "source": [
    "# Functional Programming Paradigm\n",
    "\n",
    "The Scheme language was one of it's originators. The functional paradigm is a way for us to think about and organize our code. There's no better way: OOP or functional.\n",
    "\n",
    "Trade-offs are everywhere.\n",
    "\n",
    "So what is FP? \n",
    "\n",
    "- Separation of concerns (each being good at one thing)\n",
    "- packaging code into separate chunks\n",
    "- Each part organized according to functionality\n",
    "\n",
    "Key difference from OOP is the separtion of data and functions, a different worldview than the combination of methods and attributes.\n",
    "\n",
    "- data gets acted upon\n",
    "- functions are separate from that\n",
    "\n",
    "Functional languages have an emphasis on simplicity, as far as data and functions go. Functions operate on well-defined data structures like lists, dictionaries.\n",
    "\n",
    "Ultimate goal is similar to OOP:\n",
    "\n",
    "- clear and understandable\n",
    "- Easy extensibility\n",
    "- Easy maintenance\n",
    "- memorially efficient\n",
    "- DRY\n",
    "\n",
    "__Unlike OOP__, we're dealing with pure functions\n",
    "\n",
    "- !encapsulation\n",
    "- !abstraction\n",
    "- !inheritance\n",
    "- !polymorphism\n"
   ]
  }
 ],
 "metadata": {
  "language_info": {
   "name": "python"
  },
  "orig_nbformat": 4
 },
 "nbformat": 4,
 "nbformat_minor": 2
}
