{
 "cells": [
  {
   "cell_type": "markdown",
   "metadata": {},
   "source": [
    "# Exercises: map filter, zip, reduce\n",
    "\n",
    "Now that we learned about map(), filter(), zip() and reduce(), here's a test:"
   ]
  },
  {
   "cell_type": "code",
   "execution_count": 16,
   "metadata": {},
   "outputs": [
    {
     "name": "stdout",
     "output_type": "stream",
     "text": [
      "['Sisi', 'Bibi', 'Titi', 'Carla']\n",
      "['sisi', 'bibi', 'titi', 'carla']\n",
      "[('a', 1), ('b', 2), ('c', 3), ('d', 4), ('e', 5)]\n",
      "[73, 65, 76, 100, 88]\n",
      "5 4\n",
      "9 3\n",
      "12 2\n",
      "14 1\n",
      "15 73\n",
      "88 20\n",
      "108 65\n",
      "173 19\n",
      "192 76\n",
      "268 100\n",
      "368 88\n",
      "456\n",
      "[5, 4, 3, 2, 1]\n"
     ]
    }
   ],
   "source": [
    "from functools import reduce\n",
    "\n",
    "#1 Capitalize all of the pet names and print the list\n",
    "my_pets = ['sisi', 'bibi', 'titi', 'carla']\n",
    "\n",
    "def capitalizr(pet):\n",
    "    return pet.capitalize()\n",
    "print(list(map(capitalizr, my_pets)))\n",
    "print(my_pets)\n",
    "\n",
    "\n",
    "#2 Zip the 2 lists into a list of tuples, but sort the numbers from lowest to highest.\n",
    "my_strings = ['a', 'b', 'c', 'd', 'e']\n",
    "my_numbers = [5,4,3,2,1]\n",
    "\n",
    "\n",
    "def reverse_order():\n",
    "  return my_numbers[::-1]\n",
    "  \n",
    "\n",
    "print(list(zip(my_strings, my_numbers[::-1])))\n",
    "\n",
    "\n",
    "\n",
    "\n",
    "#3 Filter the scores that pass over 50%\n",
    "scores = [73, 20, 65, 19, 76, 100, 88]\n",
    "\n",
    "def fifty_plus(score):\n",
    "    if score > 50:\n",
    "      return score\n",
    "  \n",
    "                                                                    \n",
    "  \n",
    "print(list(filter(fifty_plus, scores)))\n",
    "\n",
    "\n",
    "#4 Combine all of the numbers that are in a list on this file using reduce (my_numbers and scores). What is the total?\n",
    "\n",
    "\n",
    "my_numbers = [5,4,3,2,1]\n",
    "scores = [73, 20, 65, 19, 76, 100, 88]\n",
    "\n",
    "def accumulator(acc, item):\n",
    "    return acc + item\n",
    "\n",
    "\n",
    "print(reduce(accumulator, (my_numbers + scores)))\n",
    "print(my_numbers)\n",
    "\n"
   ]
  }
 ],
 "metadata": {
  "kernelspec": {
   "display_name": "Python 3.10.4 64-bit",
   "language": "python",
   "name": "python3"
  },
  "language_info": {
   "codemirror_mode": {
    "name": "ipython",
    "version": 3
   },
   "file_extension": ".py",
   "mimetype": "text/x-python",
   "name": "python",
   "nbconvert_exporter": "python",
   "pygments_lexer": "ipython3",
   "version": "3.10.4"
  },
  "orig_nbformat": 4,
  "vscode": {
   "interpreter": {
    "hash": "916dbcbb3f70747c44a77c7bcd40155683ae19c65e1c03b4aa3499c5328201f1"
   }
  }
 },
 "nbformat": 4,
 "nbformat_minor": 2
}
