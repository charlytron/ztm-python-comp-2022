{
 "cells": [
  {
   "cell_type": "markdown",
   "metadata": {},
   "source": [
    "# `zip()` function\n",
    "\n",
    "Let's create a new function that is akin to a zipper. We need two iterables that we can 'zip' together:"
   ]
  },
  {
   "cell_type": "code",
   "execution_count": 1,
   "metadata": {},
   "outputs": [
    {
     "name": "stdout",
     "output_type": "stream",
     "text": [
      "[(1, 10), (2, 20), (3, 30)]\n",
      "[1, 2, 3]\n"
     ]
    }
   ],
   "source": [
    "my_list = [1, 2, 3]\n",
    "youse_list = [10, 20, 30]\n",
    "\n",
    "\n",
    "def multiply_by2(item):\n",
    "    return item * 2\n",
    "\n",
    "\n",
    "def only_odd(item):\n",
    "    return item % 2 != 0  # evaluates to Boolean expression\n",
    "\n",
    "\n",
    "print(list(zip(my_list, youse_list)))\n",
    "print(my_list)\n"
   ]
  },
  {
   "cell_type": "markdown",
   "metadata": {},
   "source": [
    "`zip()` takes the two iterables, grabbing the first item from each, zipping both lists together.\n",
    "We could also have both a list and a tuple in the mix, and it wouldn't matter. Same result:"
   ]
  },
  {
   "cell_type": "code",
   "execution_count": 2,
   "metadata": {},
   "outputs": [
    {
     "name": "stdout",
     "output_type": "stream",
     "text": [
      "[(1, 10), (2, 20), (3, 30)]\n",
      "[1, 2, 3]\n"
     ]
    }
   ],
   "source": [
    "my_list = [1, 2, 3]\n",
    "youse_list = (10, 20, 30)\n",
    "\n",
    "\n",
    "def multiply_by2(item):\n",
    "    return item * 2\n",
    "\n",
    "\n",
    "def only_odd(item):\n",
    "    return item % 2 != 0  # evaluates to Boolean expression\n",
    "\n",
    "\n",
    "print(list(zip(my_list, youse_list)))\n",
    "print(my_list)\n"
   ]
  },
  {
   "cell_type": "markdown",
   "metadata": {},
   "source": [
    "An iterable is an iterable. A use case of this would be a database, where we collected all the usernames from one column, the phone numbers from another.\n",
    "We can combine these into a tuple, using `zip()`, thus creating a whole new data structure.\n",
    "\n",
    "Let's say we had another list, `their_list`, we can add it to the `zip()`, allowing us to keep zipping things together.\n",
    "`zip()` iterates over each of these data structures:"
   ]
  },
  {
   "cell_type": "code",
   "execution_count": 3,
   "metadata": {},
   "outputs": [
    {
     "name": "stdout",
     "output_type": "stream",
     "text": [
      "[(1, 10, 5), (2, 20, 4), (3, 30, 3)]\n",
      "[1, 2, 3]\n"
     ]
    }
   ],
   "source": [
    "my_list = [1, 2, 3]\n",
    "youse_list = (10, 20, 30)\n",
    "their_list = (5, 4, 3)\n",
    "\n",
    "\n",
    "def multiply_by2(item):\n",
    "    return item * 2\n",
    "\n",
    "\n",
    "def only_odd(item):\n",
    "    return item % 2 != 0  # evaluates to Boolean expression\n",
    "\n",
    "\n",
    "print(list(zip(my_list, youse_list, their_list)))\n",
    "print(my_list)\n"
   ]
  }
 ],
 "metadata": {
  "kernelspec": {
   "display_name": "Python 3.10.4 64-bit",
   "language": "python",
   "name": "python3"
  },
  "language_info": {
   "codemirror_mode": {
    "name": "ipython",
    "version": 3
   },
   "file_extension": ".py",
   "mimetype": "text/x-python",
   "name": "python",
   "nbconvert_exporter": "python",
   "pygments_lexer": "ipython3",
   "version": "3.10.4"
  },
  "orig_nbformat": 4,
  "vscode": {
   "interpreter": {
    "hash": "916dbcbb3f70747c44a77c7bcd40155683ae19c65e1c03b4aa3499c5328201f1"
   }
  }
 },
 "nbformat": 4,
 "nbformat_minor": 2
}
