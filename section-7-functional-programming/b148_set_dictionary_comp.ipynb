{
 "cells": [
  {
   "cell_type": "markdown",
   "metadata": {},
   "source": [
    "# Set and Dictionary Comprehension\n",
    "\n",
    "With sets, we can do the same thing as with lists, changing square bracket notation to `{}`. The string elements will come out unordered, and of course sets will only allow unique, un-duplicated numbers."
   ]
  },
  {
   "cell_type": "code",
   "execution_count": 3,
   "metadata": {},
   "outputs": [
    {
     "name": "stdout",
     "output_type": "stream",
     "text": [
      "{'h', 'o', 'l', 'e'}\n",
      "{0, 1, 2, 3, 4, 5, 6, 7, 8, 9, 10, 11, 12, 13, 14, 15, 16, 17, 18, 19, 20, 21, 22, 23, 24, 25, 26, 27, 28, 29, 30, 31, 32, 33, 34, 35, 36, 37, 38, 39, 40, 41, 42, 43, 44, 45, 46, 47, 48, 49, 50, 51, 52, 53, 54, 55, 56, 57, 58, 59, 60, 61, 62, 63, 64, 65, 66, 67, 68, 69, 70, 71, 72, 73, 74, 75, 76, 77, 78, 79, 80, 81, 82, 83, 84, 85, 86, 87, 88, 89, 90, 91, 92, 93, 94, 95, 96, 97, 98, 99}\n",
      "{0, 1, 1024, 4096, 4, 9216, 9, 16, 529, 3600, 4624, 25, 36, 2601, 49, 7225, 3136, 64, 576, 1089, 1600, 2116, 5184, 6724, 7744, 9801, 81, 8281, 6241, 100, 625, 121, 4225, 1156, 8836, 3721, 144, 1681, 2704, 5776, 4761, 2209, 676, 169, 3249, 9409, 196, 1225, 5329, 729, 225, 1764, 7396, 6889, 7921, 2809, 256, 2304, 6400, 3844, 4356, 784, 1296, 8464, 289, 3364, 4900, 5929, 1849, 9025, 324, 841, 1369, 2401, 2916, 5476, 361, 3969, 900, 9604, 4489, 400, 1936, 7056, 7569, 3481, 6561, 1444, 8100, 5041, 441, 961, 2500, 6084, 8649, 3025, 484, 2025, 1521, 5625}\n",
      "{0, 256, 1024, 2304, 4, 900, 1156, 3844, 4096, 4356, 8836, 9604, 16, 144, 400, 784, 1296, 1936, 2704, 3600, 4624, 5776, 9216, 36, 676, 1444, 3364, 4900, 8100, 7056, 7744, 64, 576, 1600, 3136, 196, 324, 2116, 2500, 5184, 6084, 6400, 6724, 8464, 100, 484, 1764, 2916, 5476, 7396}\n"
     ]
    }
   ],
   "source": [
    "from typing import Iterable\n",
    "\n",
    "my_list = {char for char in 'hello'}\n",
    "my_list_2 = {num for num in range(0, 100)}\n",
    "my_list_3 = {num**2 for num in range(0, 100)}\n",
    "my_list_4 = {num**2 for num in range(0, 100)\n",
    "             if num % 2 == 0}\n",
    "\n",
    "\n",
    "print(my_list)\n",
    "print(my_list_2)\n",
    "print(my_list_3)\n",
    "print(my_list_4)\n"
   ]
  },
  {
   "cell_type": "markdown",
   "metadata": {},
   "source": [
    "As for dictionary comprehensions, "
   ]
  },
  {
   "cell_type": "code",
   "execution_count": 4,
   "metadata": {},
   "outputs": [
    {
     "name": "stdout",
     "output_type": "stream",
     "text": [
      "{'a': 1, 'b': 4}\n"
     ]
    }
   ],
   "source": [
    "simple_dict = {\n",
    "    'a': 1,\n",
    "    'b': 2\n",
    "}\n",
    "\n",
    "my_dict = {key: value**2 for key, value in simple_dict.items()}\n",
    "print(my_dict)\n"
   ]
  },
  {
   "cell_type": "markdown",
   "metadata": {},
   "source": [
    "`key: value**2`, the first part, is what we want to do with the data.\n",
    "In our case, we want key and value and raise the value to the power of two.\n",
    "\n",
    "Next is the `for` loop. Extract the key and value, using the `dict.items()` and square the value, thus generating `{'a': 1, 'b': 4}`\n",
    "\n",
    "As with list comprehensions, we can add an `if` statement at the end:"
   ]
  },
  {
   "cell_type": "code",
   "execution_count": 5,
   "metadata": {},
   "outputs": [
    {
     "name": "stdout",
     "output_type": "stream",
     "text": [
      "{'b': 4}\n"
     ]
    }
   ],
   "source": [
    "simple_dict = {\n",
    "    'a': 1,\n",
    "    'b': 2\n",
    "}\n",
    "\n",
    "my_dict = {key: value**2 for key, value in simple_dict.items()\n",
    "           if value % 2 == 0}\n",
    "print(my_dict)\n"
   ]
  },
  {
   "cell_type": "markdown",
   "metadata": {},
   "source": [
    "__What if we do this another way?__"
   ]
  },
  {
   "cell_type": "code",
   "execution_count": 6,
   "metadata": {},
   "outputs": [
    {
     "name": "stdout",
     "output_type": "stream",
     "text": [
      "{1: 2, 2: 4, 3: 6}\n"
     ]
    }
   ],
   "source": [
    "\n",
    "my_dict = {num:num*2 for num in [1,2,3]}\n",
    "print(my_dict)"
   ]
  },
  {
   "cell_type": "markdown",
   "metadata": {},
   "source": [
    "Can use comprehensions to create lists with Python, creating these data structures quickly."
   ]
  }
 ],
 "metadata": {
  "kernelspec": {
   "display_name": "Python 3.10.4 64-bit",
   "language": "python",
   "name": "python3"
  },
  "language_info": {
   "codemirror_mode": {
    "name": "ipython",
    "version": 3
   },
   "file_extension": ".py",
   "mimetype": "text/x-python",
   "name": "python",
   "nbconvert_exporter": "python",
   "pygments_lexer": "ipython3",
   "version": "3.10.4"
  },
  "orig_nbformat": 4,
  "vscode": {
   "interpreter": {
    "hash": "916dbcbb3f70747c44a77c7bcd40155683ae19c65e1c03b4aa3499c5328201f1"
   }
  }
 },
 "nbformat": 4,
 "nbformat_minor": 2
}
