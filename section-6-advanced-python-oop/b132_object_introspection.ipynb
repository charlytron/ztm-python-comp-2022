{
 "cells": [
  {
   "cell_type": "markdown",
   "metadata": {},
   "source": [
    "# Object Introspection\n",
    "\n",
    "It's the ability to determine the type of an object at __runtime__, when the code is running.\n",
    "\n",
    "All are objects in Python, therefore we can __examine__ an object, given some helper functions.\n",
    "\n",
    "Enter the `dir` function at line"
   ]
  },
  {
   "cell_type": "code",
   "execution_count": 1,
   "metadata": {},
   "outputs": [
    {
     "name": "stdout",
     "output_type": "stream",
     "text": [
      "['__class__', '__delattr__', '__dict__', '__dir__', '__doc__', '__eq__', '__format__', '__ge__', '__getattribute__', '__gt__', '__hash__', '__init__', '__init_subclass__', '__le__', '__lt__', '__module__', '__ne__', '__new__', '__reduce__', '__reduce_ex__', '__repr__', '__setattr__', '__sizeof__', '__str__', '__subclasshook__', '__weakref__', 'attack', 'email', 'name', 'power', 'sign_in']\n",
      "gruvr@gmail.com\n"
     ]
    }
   ],
   "source": [
    "class User(object):\n",
    "  def __init__(self, email):\n",
    "    self.email = email\n",
    "  def sign_in(self):\n",
    "    print('logged in')\n",
    "    \n",
    "class Wizard(User):\n",
    "  def __init__(self, name, power, email):\n",
    "    User.__init__(self, email)\n",
    "    self.name = name\n",
    "    self.power = power\n",
    "    \n",
    "  def attack(self):\n",
    "    print(f'attacking with power of {self.power}')\n",
    "\n",
    "# Introspection\n",
    "wizard1 = Wizard('Shaggy', 50, 'gruvr@gmail.com')\n",
    "print(dir(wizard1))\n",
    "print(wizard1.email)"
   ]
  },
  {
   "cell_type": "markdown",
   "metadata": {},
   "source": [
    "This gives all the methods and attributes available to the `wizard1` instance we give it as an argument."
   ]
  },
  {
   "cell_type": "code",
   "execution_count": null,
   "metadata": {},
   "outputs": [],
   "source": [
    "'attack', 'email', 'name', 'power', 'sign_in'"
   ]
  },
  {
   "cell_type": "markdown",
   "metadata": {},
   "source": [
    "...are just a few of those that we can work with. Whenever we see an autocomplete box pop up when we type the `.` after our instance name, listing out our available methods,that functionality is leveraging object introspection.\n",
    "\n",
    "What do we have access to within the instance of the class? Introspection will tell us.\n",
    "But a lot of the dunder methods in such a list can seem a bit abstruse.\n",
    "\n",
    "Why all the magic methods?"
   ]
  }
 ],
 "metadata": {
  "kernelspec": {
   "display_name": "Python 3.10.4 64-bit",
   "language": "python",
   "name": "python3"
  },
  "language_info": {
   "codemirror_mode": {
    "name": "ipython",
    "version": 3
   },
   "file_extension": ".py",
   "mimetype": "text/x-python",
   "name": "python",
   "nbconvert_exporter": "python",
   "pygments_lexer": "ipython3",
   "version": "3.10.4"
  },
  "orig_nbformat": 4,
  "vscode": {
   "interpreter": {
    "hash": "916dbcbb3f70747c44a77c7bcd40155683ae19c65e1c03b4aa3499c5328201f1"
   }
  }
 },
 "nbformat": 4,
 "nbformat_minor": 2
}
