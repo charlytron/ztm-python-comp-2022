{
 "cells": [
  {
   "cell_type": "markdown",
   "metadata": {},
   "source": [
    "# Exercise: Extending List\n",
    "\n",
    "Create a class `SuperList()` just like we have a `list` in Python, adding code that allows us to have access to index or to any way that a regular list allows us to use it.\n",
    "\n",
    "Key difference between `SuperList()` and `__list__` is that `SuperList()` is going to have a special dunder method.\n",
    "When we do `len()`, we'll have it return `1000` no matter what."
   ]
  },
  {
   "cell_type": "code",
   "execution_count": 5,
   "metadata": {},
   "outputs": [
    {
     "name": "stdout",
     "output_type": "stream",
     "text": [
      "1000\n",
      "[5, 6]\n"
     ]
    }
   ],
   "source": [
    "class SuperList(list):  # list now becomes the parent class\n",
    "  def __len__(self):\n",
    "    return 1000\n",
    "  \n",
    "  \n",
    "super_list1 = SuperList()\n",
    "print(len(super_list1))\n",
    "super_list1.append(5) # append is derived from list in object class\n",
    "super_list1.append(6)\n",
    "super_list1[0]\n",
    "print (super_list1)\n"
   ]
  },
  {
   "cell_type": "markdown",
   "metadata": {},
   "source": [
    "We were able to easily extend the functionality of the `list` object this way. We can double-check the extension with `issubclasss()`"
   ]
  },
  {
   "cell_type": "code",
   "execution_count": 6,
   "metadata": {},
   "outputs": [
    {
     "name": "stdout",
     "output_type": "stream",
     "text": [
      "True\n"
     ]
    }
   ],
   "source": [
    "print(issubclass(SuperList, list))"
   ]
  },
  {
   "cell_type": "markdown",
   "metadata": {},
   "source": [
    "And we have a winner! And here's another; list as a subclass of the base object;"
   ]
  },
  {
   "cell_type": "code",
   "execution_count": 7,
   "metadata": {},
   "outputs": [
    {
     "name": "stdout",
     "output_type": "stream",
     "text": [
      "True\n"
     ]
    }
   ],
   "source": [
    "print(issubclass(list, object))"
   ]
  },
  {
   "cell_type": "markdown",
   "metadata": {},
   "source": [
    "Everything in Python really is an object that inherits from the base object class."
   ]
  }
 ],
 "metadata": {
  "kernelspec": {
   "display_name": "Python 3.10.4 64-bit",
   "language": "python",
   "name": "python3"
  },
  "language_info": {
   "codemirror_mode": {
    "name": "ipython",
    "version": 3
   },
   "file_extension": ".py",
   "mimetype": "text/x-python",
   "name": "python",
   "nbconvert_exporter": "python",
   "pygments_lexer": "ipython3",
   "version": "3.10.4"
  },
  "orig_nbformat": 4,
  "vscode": {
   "interpreter": {
    "hash": "916dbcbb3f70747c44a77c7bcd40155683ae19c65e1c03b4aa3499c5328201f1"
   }
  }
 },
 "nbformat": 4,
 "nbformat_minor": 2
}
