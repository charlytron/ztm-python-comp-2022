{
 "cells": [
  {
   "cell_type": "code",
   "execution_count": null,
   "id": "3467bbc6",
   "metadata": {},
   "outputs": [],
   "source": [
    "class PlayerCharacter:\n",
    "    membership = True # class object attribute\n",
    "    def __init__(self, name,age):\n",
    "        if (PlayerCharacter.membership):\n",
    "            self.name = name # attributes, or properties\n",
    "            self.age = age\n",
    "\n",
    "    def shout(self):\n",
    "        print(f'my name is {self.name}')\n",
    "        return 'done'\n",
    "\n",
    "player1 = PlayerCharacter('Billy', 20) #\n",
    "player2 = PlayerCharacter('Mildred', 21)\n",
    "\n",
    "print(player1.membership) # True\n",
    "print(player1.name) # Billy\n",
    "print(player1.age) # 20\n",
    "print(player2.name) # Mildred\n",
    "print(player2.age) # 21\n",
    "print(player1.run()) # run done"
   ]
  },
  {
   "cell_type": "markdown",
   "id": "63d21cbd",
   "metadata": {},
   "source": [
    "# A note about the constructor function\n",
    "\n",
    "`__init__` gets called every time we instantiate a class. It's how we create custom objects.\n",
    "\n",
    "Because we have control over how the instantiation happens, we can do different safeguards.\n",
    "\n",
    "For now, we'll remove `if (PlayerCharacter.membership):` from the constructor function and replace it with an age comparison\n",
    "\n",
    "because our game is not for children:\n",
    "\n",
    "\n",
    "\n"
   ]
  },
  {
   "cell_type": "code",
   "execution_count": null,
   "id": "a40bdeee",
   "metadata": {},
   "outputs": [],
   "source": [
    "class PlayerCharacter:\n",
    "    membership = True # class object attribute\n",
    "    def __init__(self, name,age):\n",
    "        if (age > 18):\n",
    "            self.name = name # attributes, or properties\n",
    "            self.age = age\n",
    "\n",
    "    def shout(self):\n",
    "        print(f'my name is {self.name}')\n",
    "        return 'done'\n",
    "\n",
    "player1 = PlayerCharacter('Billy', 20) #\n",
    "player2 = PlayerCharacter('Mildred', 21)\n",
    "\n",
    "print(player1.membership) # True\n",
    "print(player1.name) # Billy\n",
    "print(player1.age) # 20\n",
    "print(player2.name) # Mildred\n",
    "print(player2.age) # 21\n"
   ]
  },
  {
   "cell_type": "markdown",
   "id": "2a47d030",
   "metadata": {},
   "source": [
    "We can do different things inside the constructor to make sure that we are instantiating the object correctly. We can also give default parameters to the constructor function, where `name='anonymous'` is the default value for the `name` parameter and `age=0` is the default value for the `age` parameter."
   ]
  },
  {
   "cell_type": "code",
   "execution_count": null,
   "id": "4288efbd",
   "metadata": {},
   "outputs": [],
   "source": [
    "class PlayerCharacter:\n",
    "    membership = True # class object attribute\n",
    "    def __init__(self, name='anonymous', age=0):\n",
    "        if (age > 18):\n",
    "            self.name = name # attributes, or properties\n",
    "            self.age = age\n",
    "\n",
    "    def shout(self):\n",
    "        print(f'my name is {self.name}')\n",
    "        return 'done'\n",
    "\n",
    "player1 = PlayerCharacter('Billy', 20) #\n",
    "player2 = PlayerCharacter('Mildred', 21)\n",
    "\n",
    "print(player1.membership) # True\n",
    "print(player1.name) # Billy\n",
    "print(player1.age) # 20\n",
    "print(player2.name) # Mildred\n",
    "print(player2.age) # 21"
   ]
  },
  {
   "cell_type": "markdown",
   "id": "650e6270",
   "metadata": {},
   "source": [
    "If we should forget to pass in a value for `name` or `age`, the default value will be used instead. But if we refuse to instantiate player1 and player2 with a name and age, we'll get an error."
   ]
  },
  {
   "cell_type": "code",
   "execution_count": null,
   "id": "1c7888ed",
   "metadata": {},
   "outputs": [],
   "source": [
    "class PlayerCharacter:\n",
    "    membership = True # class object attribute\n",
    "    def __init__(self, name='anonymous', age=0):\n",
    "        if (age > 18):\n",
    "            self.name = name # attributes, or properties\n",
    "            self.age = age\n",
    "\n",
    "    def shout(self):\n",
    "      print(f'my name is {self.name}')\n",
    "      return 'done'\n",
    "\n",
    "player1 = PlayerCharacter() #\n",
    "player2 = PlayerCharacter()\n",
    "\n",
    "print(player2.shout()) "
   ]
  },
  {
   "cell_type": "markdown",
   "id": "a4e5cc46",
   "metadata": {},
   "source": [
    "We'll give our players some attributes:"
   ]
  },
  {
   "cell_type": "code",
   "execution_count": null,
   "id": "e1ee4d1d",
   "metadata": {},
   "outputs": [],
   "source": [
    "class PlayerCharacter:\n",
    "    membership = True # class object attribute\n",
    "    def __init__(self, name='anonymous', age=0):\n",
    "        if (age > 18):\n",
    "            self.name = name # attributes, or properties\n",
    "            self.age = age\n",
    "\n",
    "    def shout(self):\n",
    "      print(f'my name is {self.name}')\n",
    "      return 'done'\n",
    "\n",
    "player1 = PlayerCharacter('Timmah', 10) # player has no attribute name (too young)\n",
    "\n",
    "\n",
    "print(player1.shout()) "
   ]
  },
  {
   "cell_type": "markdown",
   "id": "1aa0c4e4",
   "metadata": {},
   "source": [
    "We also get an error because Timmah is only 10 years old. We need to make sure that, when we actually instantiate the `player1` object, we're doing it the correct way. __`__init__` gives us a lot of control over how we instantiate our objects.__"
   ]
  }
 ],
 "metadata": {
  "kernelspec": {
   "display_name": "Python 3.10.4 64-bit",
   "language": "python",
   "name": "python3"
  },
  "language_info": {
   "codemirror_mode": {
    "name": "ipython",
    "version": 3
   },
   "file_extension": ".py",
   "mimetype": "text/x-python",
   "name": "python",
   "nbconvert_exporter": "python",
   "pygments_lexer": "ipython3",
   "version": "3.10.4"
  },
  "vscode": {
   "interpreter": {
    "hash": "916dbcbb3f70747c44a77c7bcd40155683ae19c65e1c03b4aa3499c5328201f1"
   }
  }
 },
 "nbformat": 4,
 "nbformat_minor": 5
}
