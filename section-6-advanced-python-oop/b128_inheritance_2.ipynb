{
 "cells": [
  {
   "cell_type": "markdown",
   "metadata": {},
   "source": [
    "# Inheritance, continued\n",
    "\n",
    "Python allows us to check if something is an instance of a class"
   ]
  },
  {
   "cell_type": "code",
   "execution_count": null,
   "metadata": {},
   "outputs": [],
   "source": [
    "isinstance(wizard1, Wizard) # True"
   ]
  },
  {
   "cell_type": "markdown",
   "metadata": {},
   "source": [
    "It's a built-in function whose parameters are the __instance__ and the __class__ against which we check."
   ]
  },
  {
   "cell_type": "code",
   "execution_count": 4,
   "metadata": {},
   "outputs": [
    {
     "name": "stdout",
     "output_type": "stream",
     "text": [
      "attacking with power of 50\n",
      "attacking with arrows: arrows left- 100\n",
      "True\n",
      "True\n",
      "True\n"
     ]
    }
   ],
   "source": [
    "class User:\n",
    "  def sign_in(self):\n",
    "    print('logged in')\n",
    "\n",
    "class Wizard(User):\n",
    "  def __init__(self, name, power):\n",
    "    self.name = name\n",
    "    self.power = power\n",
    "    \n",
    "  def attack(self):\n",
    "    print(f'attacking with power of {self.power}')\n",
    "    \n",
    "class Archer(User):\n",
    "    def __init__(self, name, num_arrows):\n",
    "      self.name = name\n",
    "      self.num_arrows = num_arrows\n",
    "\n",
    "    def attack(self):\n",
    "      print(f'attacking with arrows: arrows left- {self.num_arrows}')\n",
    "\n",
    "wizard1 = Wizard('Merlin', 50)\n",
    "archer1 = Archer('Robin', 100)\n",
    "wizard1.attack()\n",
    "archer1.attack()\n",
    "\n",
    "\n",
    "print(isinstance(wizard1, Wizard))\n",
    "print(isinstance(wizard1, User))\n",
    "print(isinstance(wizard1, object))\n"
   ]
  },
  {
   "cell_type": "markdown",
   "metadata": {},
   "source": [
    "Line 26 will return true because `wizard1` is clearly an instance of `Wizard` and also `User` by virtue of the `self` keyword, which ties this all together. We're querying subclasses here, so that makes sense.\n",
    "\n",
    "Everything in Python inherits from the out-of-the-box __base object class__, and this is why"
   ]
  },
  {
   "cell_type": "code",
   "execution_count": null,
   "metadata": {},
   "outputs": [],
   "source": [
    "print(isinstance(wizard1, object))"
   ]
  },
  {
   "cell_type": "markdown",
   "metadata": {},
   "source": [
    "would return `True`. We haven't said much about the `object` class, but it supersedes even the `User` class. In fact, this is where the automatic method, `isinstance` comes from."
   ]
  },
  {
   "cell_type": "code",
   "execution_count": 6,
   "metadata": {},
   "outputs": [
    {
     "name": "stdout",
     "output_type": "stream",
     "text": [
      "True\n"
     ]
    },
    {
     "data": {
      "text/plain": [
       "<method-wrapper '__repr__' of Wizard object at 0x7f3a9041a110>"
      ]
     },
     "execution_count": 6,
     "metadata": {},
     "output_type": "execute_result"
    }
   ],
   "source": [
    "class User:\n",
    "  def sign_in(self):\n",
    "    print('logged in')\n",
    "\n",
    "class Wizard(User):\n",
    "  def __init__(self, name, power):\n",
    "    self.name = name\n",
    "    self.power = power\n",
    "    \n",
    "  def attack(self):\n",
    "    print(f'attacking with power of {self.power}')\n",
    "    \n",
    "class Archer(User):\n",
    "    def __init__(self, name, num_arrows):\n",
    "      self.name = name\n",
    "      self.num_arrows = num_arrows\n",
    "\n",
    "    def attack(self):\n",
    "      print(f'attacking with arrows: arrows left- {self.num_arrows}')\n",
    "\n",
    "wizard1 = Wizard('Merlin', 50)\n",
    "\n",
    "print(isinstance(wizard1, object))\n",
    "[].__repr__\n",
    "wizard1.__repr__"
   ]
  },
  {
   "cell_type": "markdown",
   "metadata": {},
   "source": [
    "both `[]` and wizard1 inherit from the object class. When we create the `User` class, it's actually accepting `object`.\n",
    "This checks out as the parent class:"
   ]
  },
  {
   "cell_type": "code",
   "execution_count": 7,
   "metadata": {},
   "outputs": [],
   "source": [
    "class User(object):\n",
    "  def sign_in(self):\n",
    "    print('logged in')"
   ]
  },
  {
   "cell_type": "markdown",
   "metadata": {},
   "source": []
  }
 ],
 "metadata": {
  "kernelspec": {
   "display_name": "Python 3.10.4 64-bit",
   "language": "python",
   "name": "python3"
  },
  "language_info": {
   "codemirror_mode": {
    "name": "ipython",
    "version": 3
   },
   "file_extension": ".py",
   "mimetype": "text/x-python",
   "name": "python",
   "nbconvert_exporter": "python",
   "pygments_lexer": "ipython3",
   "version": "3.10.4"
  },
  "orig_nbformat": 4,
  "vscode": {
   "interpreter": {
    "hash": "916dbcbb3f70747c44a77c7bcd40155683ae19c65e1c03b4aa3499c5328201f1"
   }
  }
 },
 "nbformat": 4,
 "nbformat_minor": 2
}
