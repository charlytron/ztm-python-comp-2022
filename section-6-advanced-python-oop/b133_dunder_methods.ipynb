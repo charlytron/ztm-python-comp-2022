{
 "cells": [
  {
   "cell_type": "markdown",
   "metadata": {},
   "source": [
    "# Dunder Methods"
   ]
  },
  {
   "cell_type": "code",
   "execution_count": 1,
   "metadata": {},
   "outputs": [
    {
     "name": "stdout",
     "output_type": "stream",
     "text": [
      "['__class__', '__delattr__', '__dict__', '__dir__', '__doc__', '__eq__', '__format__', '__ge__', '__getattribute__', '__gt__', '__hash__', '__init__', '__init_subclass__', '__le__', '__lt__', '__module__', '__ne__', '__new__', '__reduce__', '__reduce_ex__', '__repr__', '__setattr__', '__sizeof__', '__str__', '__subclasshook__', '__weakref__', 'attack', 'email', 'name', 'power', 'sign_in']\n"
     ]
    }
   ],
   "source": [
    "class User(object):\n",
    "  def __init__(self, email):\n",
    "    self.email = email\n",
    "  def sign_in(self):\n",
    "    print('logged in')\n",
    "    \n",
    "class Wizard(User):\n",
    "  def __init__(self, name, power, email):\n",
    "    User.__init__(self, email)\n",
    "    self.name = name\n",
    "    self.power = power\n",
    "    \n",
    "  def attack(self):\n",
    "    print(f'attacking with power of {self.power}')\n",
    "\n",
    "# Introspection\n",
    "wizard1 = Wizard('Shaggy', 50, 'gruvr@gmail.com')\n",
    "print(dir(wizard1))\n"
   ]
  },
  {
   "cell_type": "markdown",
   "metadata": {},
   "source": [
    "What the dilly? We're able to see the methods of our instance, using the `dir` method, and the dunders were inherited from our base class.\n",
    "They're special methods. \n",
    "\n",
    "\n",
    "Think of len([1,2,3]), allowing us to evaluate the length of an array. Such methods are implemented with dunder methods, but how?\n",
    "Dunder methods allow us to use Python-specific functions on objects created through our class. Take `__str__` for example:"
   ]
  },
  {
   "cell_type": "code",
   "execution_count": 3,
   "metadata": {},
   "outputs": [
    {
     "name": "stdout",
     "output_type": "stream",
     "text": [
      "<__main__.Toy object at 0x7f49ad8bf400>\n"
     ]
    }
   ],
   "source": [
    "class Toy():\n",
    "  def __init__(self, color, age):\n",
    "    self.color = color\n",
    "    self.age = age\n",
    "    \n",
    "    \n",
    "action_figure = Toy('red', 0)\n",
    "print(action_figure.__str__())"
   ]
  },
  {
   "cell_type": "markdown",
   "metadata": {},
   "source": [
    "This is the same as our writing `print(str(action_figure))`:"
   ]
  },
  {
   "cell_type": "code",
   "execution_count": 4,
   "metadata": {},
   "outputs": [
    {
     "name": "stdout",
     "output_type": "stream",
     "text": [
      "<__main__.Toy object at 0x7f49ad8bff40>\n",
      "<__main__.Toy object at 0x7f49ad8bff40>\n"
     ]
    }
   ],
   "source": [
    "class Toy():\n",
    "  def __init__(self, color, age):\n",
    "    self.color = color\n",
    "    self.age = age\n",
    "    \n",
    "    \n",
    "action_figure = Toy('red', 0)\n",
    "print(action_figure.__str__())\n",
    "print(str(action_figure))"
   ]
  },
  {
   "cell_type": "markdown",
   "metadata": {},
   "source": [
    "The `__dunder__` methods are special methods within Python. `__str__` allows us to use the more readable format `print(str(action_figure))`.\n",
    "If we look at the Python Docs, under [3.3 Special Method Names](https://docs.python.org/3/reference/datamodel.html), we can do basic customization of these Dunder methods.\n",
    "\n",
    "As an example, we can modify what the `__str__` method does, starting in line 6:"
   ]
  },
  {
   "cell_type": "code",
   "execution_count": 5,
   "metadata": {},
   "outputs": [
    {
     "name": "stdout",
     "output_type": "stream",
     "text": [
      "red\n",
      "red\n"
     ]
    }
   ],
   "source": [
    "class Toy():\n",
    "  def __init__(self, color, age):\n",
    "    self.color = color\n",
    "    self.age = age\n",
    "    \n",
    "  def __str__(self):\n",
    "    return f'{self.color}'\n",
    "    \n",
    "    \n",
    "action_figure = Toy('red', 0)\n",
    "print(action_figure.__str__())\n",
    "print(str(action_figure))"
   ]
  },
  {
   "cell_type": "markdown",
   "metadata": {},
   "source": [
    "We're told not to modify Dunder methods, but there are use cases for this, especially when we want our class to behave a certain way. Dictionaries, lists and tuples can all behave in a certain way, so why not?"
   ]
  },
  {
   "cell_type": "code",
   "execution_count": 6,
   "metadata": {},
   "outputs": [
    {
     "name": "stdout",
     "output_type": "stream",
     "text": [
      "action_figure\n"
     ]
    }
   ],
   "source": [
    "print(str('action_figure'))"
   ]
  },
  {
   "cell_type": "markdown",
   "metadata": {},
   "source": [
    "The `__str__` is only modified when we use it on the specific `action_figure` object."
   ]
  },
  {
   "cell_type": "code",
   "execution_count": 7,
   "metadata": {},
   "outputs": [
    {
     "name": "stdout",
     "output_type": "stream",
     "text": [
      "red\n"
     ]
    }
   ],
   "source": [
    "print(str(action_figure))"
   ]
  },
  {
   "cell_type": "markdown",
   "metadata": {},
   "source": [
    "We can also change the meaning of the `len()` built-in:"
   ]
  },
  {
   "cell_type": "code",
   "execution_count": 10,
   "metadata": {},
   "outputs": [
    {
     "name": "stdout",
     "output_type": "stream",
     "text": [
      "red\n",
      "5\n"
     ]
    }
   ],
   "source": [
    "class Toy():\n",
    "  def __init__(self, color, age):\n",
    "    self.color = color\n",
    "    self.age = age\n",
    "    \n",
    "  def __str__(self):\n",
    "    return f'{self.color}'\n",
    "  \n",
    "  def __len__(self):\n",
    "    return 5\n",
    "    \n",
    "action_figure = Toy('red', 0)\n",
    "print(action_figure.__str__())\n",
    "print(len(action_figure))"
   ]
  },
  {
   "cell_type": "markdown",
   "metadata": {},
   "source": [
    "Rather academic, but we've changed the dunder of length and rendered the incorrect value.\n",
    "What else can we mess with?"
   ]
  },
  {
   "cell_type": "code",
   "execution_count": 12,
   "metadata": {},
   "outputs": [
    {
     "name": "stdout",
     "output_type": "stream",
     "text": [
      "deleted, dog!\n",
      "red\n",
      "5\n",
      "deleted, dog!\n"
     ]
    }
   ],
   "source": [
    "class Toy():\n",
    "  def __init__(self, color, age):\n",
    "    self.color = color\n",
    "    self.age = age\n",
    "    \n",
    "  def __str__(self):\n",
    "    return f'{self.color}'\n",
    "  \n",
    "  def __len__(self):\n",
    "    return 5\n",
    "  \n",
    "  def __del__(self):\n",
    "    print('deleted, dog!')\n",
    "    \n",
    "action_figure = Toy('red', 0)\n",
    "print(action_figure.__str__())\n",
    "print(len(action_figure))\n",
    "del action_figure"
   ]
  },
  {
   "cell_type": "markdown",
   "metadata": {},
   "source": [
    "This one can cause some bugs. `__del__` is supposed to delete some variable that we may have had in our program.\n",
    "We can also use `__call__`"
   ]
  },
  {
   "cell_type": "code",
   "execution_count": 13,
   "metadata": {},
   "outputs": [
    {
     "name": "stdout",
     "output_type": "stream",
     "text": [
      "red\n",
      "5\n",
      "Yassss\n"
     ]
    }
   ],
   "source": [
    "class Toy():\n",
    "  def __init__(self, color, age):\n",
    "    self.color = color\n",
    "    self.age = age\n",
    "    \n",
    "  def __str__(self):\n",
    "    return f'{self.color}'\n",
    "  \n",
    "  def __len__(self):\n",
    "    return 5\n",
    "  \n",
    "  def __call__(self):\n",
    "    return('Yassss')\n",
    "    \n",
    "action_figure = Toy('red', 0)\n",
    "print(action_figure.__str__())\n",
    "print(len(action_figure))\n",
    "print(action_figure()) "
   ]
  },
  {
   "cell_type": "markdown",
   "metadata": {},
   "source": [
    "When we use `action_figure()` like so, we're actually implementing the built-in `__call__` method.\n",
    "__Generally, we don't want to overwrite Dunder methods__, but it's possible to do so.\n",
    "\n",
    "Here's another mess-around, this time with  `__getitem__`, with self as the first param and `i` for 'index'."
   ]
  },
  {
   "cell_type": "code",
   "execution_count": 18,
   "metadata": {},
   "outputs": [
    {
     "name": "stdout",
     "output_type": "stream",
     "text": [
      "red\n",
      "5\n",
      "Yee-haw\n",
      "Beauregard\n"
     ]
    }
   ],
   "source": [
    "class Toy():\n",
    "  def __init__(self, color, age):\n",
    "    self.color = color\n",
    "    self.age = age\n",
    "    self.my_dict = {\n",
    "      'name': 'Beauregard',\n",
    "      'has_pets': False\n",
    "    }\n",
    "    \n",
    "  def __str__(self):\n",
    "    return f'{self.color}'\n",
    "  \n",
    "  def __len__(self):\n",
    "    return 5\n",
    "  \n",
    "  def __call__(self):\n",
    "    return('Yee-haw')\n",
    "  \n",
    "  def __getitem__(self, i):\n",
    "    return self.my_dict[i]\n",
    "    \n",
    "    \n",
    "action_figure = Toy('red', 0)\n",
    "print(action_figure.__str__())\n",
    "print(len(action_figure))\n",
    "print(action_figure())\n",
    "print(action_figure['name'])"
   ]
  },
  {
   "cell_type": "markdown",
   "metadata": {},
   "source": [
    "A lot of custom class modifications going on."
   ]
  }
 ],
 "metadata": {
  "kernelspec": {
   "display_name": "Python 3.10.4 64-bit",
   "language": "python",
   "name": "python3"
  },
  "language_info": {
   "codemirror_mode": {
    "name": "ipython",
    "version": 3
   },
   "file_extension": ".py",
   "mimetype": "text/x-python",
   "name": "python",
   "nbconvert_exporter": "python",
   "pygments_lexer": "ipython3",
   "version": "3.10.4"
  },
  "orig_nbformat": 4,
  "vscode": {
   "interpreter": {
    "hash": "916dbcbb3f70747c44a77c7bcd40155683ae19c65e1c03b4aa3499c5328201f1"
   }
  }
 },
 "nbformat": 4,
 "nbformat_minor": 2
}
