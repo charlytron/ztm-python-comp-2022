{
 "cells": [
  {
   "cell_type": "markdown",
   "metadata": {},
   "source": [
    "# Private Vs. Public Variables\n",
    "\n",
    "Previously, we overwrote `name` and `speak`, basically defeating the purpose for using a class, in a way.\n"
   ]
  },
  {
   "cell_type": "code",
   "execution_count": null,
   "metadata": {},
   "outputs": [],
   "source": [
    "class PlayerCharacter:\n",
    "    membership = True # class object attribute\n",
    "    def __init__(self, name,age):\n",
    "        if (PlayerCharacter.membership):\n",
    "            self.name = name # attributes, or properties\n",
    "            self.age = age\n",
    "\n",
    "    def run(self):\n",
    "        return self\n",
    "      \n",
    "    def talk(self):\n",
    "        print(f'My name is {self.name}, and I am {self.age} years old')\n",
    "    \n",
    "\n",
    "player1 = PlayerCharacter('Billy', 20)\n",
    "player1.name = 'Sally'\n",
    "player1.speak = 'I am a new attribute'\n",
    "print(player1.speak) # I am a new attribute\n",
    "print (player1.name) # Sally"
   ]
  },
  {
   "cell_type": "markdown",
   "metadata": {},
   "source": [
    "As per abstraction, in Python, we have __public__ and __private__ variables. We hide away information for a reason, only giving access where needed.\n",
    "\n",
    "We shouldn't have access to init, but we do above, where we can modify `talk()` or modify `name` and `age`.  When we create a player, we should be able to make a private variable in our class, but there's not the conventional notion of privacy in Python, using something like Java as a standard.\n",
    "\n",
    "__What's the workaround?__. Enter the underscore:"
   ]
  },
  {
   "cell_type": "code",
   "execution_count": null,
   "metadata": {},
   "outputs": [],
   "source": [
    "class PlayerCharacter:\n",
    "    membership = True # class object attribute\n",
    "    def __init__(self, name, age):\n",
    "        if (PlayerCharacter.membership):\n",
    "            self._name = name # attributes, or properties\n",
    "            self._age = age"
   ]
  },
  {
   "cell_type": "markdown",
   "metadata": {},
   "source": [
    "When we see it, we should note that this is a private variable. When we use it within the `talk()` method, "
   ]
  },
  {
   "cell_type": "code",
   "execution_count": 1,
   "metadata": {},
   "outputs": [
    {
     "name": "stdout",
     "output_type": "stream",
     "text": [
      "My name is Billy, and I am 20 years old\n",
      "None\n"
     ]
    }
   ],
   "source": [
    "class PlayerCharacter:\n",
    "    membership = True # class object attribute\n",
    "    def __init__(self, name,age):\n",
    "        if (PlayerCharacter.membership):\n",
    "            self._name = name # attributes, or properties\n",
    "            self._age = age\n",
    "\n",
    "    def run(self):\n",
    "        return self\n",
    "      \n",
    "    def talk(self):\n",
    "        print(f'My name is {self._name}, and I am {self._age} years old')\n",
    "        \n",
    "player1 = PlayerCharacter('Billy', 20)\n",
    "\n",
    "print(player1.talk()) # My name is Billy, and I am 20 years old None"
   ]
  },
  {
   "cell_type": "markdown",
   "metadata": {},
   "source": [
    "Should we try to overwrite these variables, we get:"
   ]
  },
  {
   "cell_type": "code",
   "execution_count": 4,
   "metadata": {},
   "outputs": [
    {
     "name": "stdout",
     "output_type": "stream",
     "text": [
      "I am a new attribute\n"
     ]
    }
   ],
   "source": [
    "class PlayerCharacter:\n",
    "    membership = True # class object attribute\n",
    "    def __init__(self, name,age):\n",
    "        if (PlayerCharacter.membership):\n",
    "            self._name = name # attributes, or properties\n",
    "            self._age = age\n",
    "\n",
    "    def run(self):\n",
    "        return self\n",
    "      \n",
    "    def talk(self):\n",
    "        print(f'My name is {self._name}, and I am {self._age} years old')\n",
    "        \n",
    "player1 = PlayerCharacter('Billy', 20)\n",
    "player1._name = 'Sally'\n",
    "player1.talk = 'I am a new attribute'\n",
    "\n",
    "print(player1.talk) # My name is Billy, and I am 20 years old None"
   ]
  },
  {
   "cell_type": "markdown",
   "metadata": {},
   "source": [
    "## The sacred underscore\n",
    "\n",
    "Prefixing a variable with `_` is no guarantee that things will remain private.  It's more like a gentlemen's agreement between coders, as if to say, \"can't touch this!\".\n",
    "\n",
    "So what about `__init__`? Dunder methods come later. Besides, we don't ever write our own dunder methods.\n",
    "\n",
    "With each data type, we're given several dunder methods. Don't try to write your own.\n",
    "\n",
    "## Now, back to abstraction...\n",
    "\n"
   ]
  }
 ],
 "metadata": {
  "kernelspec": {
   "display_name": "Python 3.10.4 64-bit",
   "language": "python",
   "name": "python3"
  },
  "language_info": {
   "codemirror_mode": {
    "name": "ipython",
    "version": 3
   },
   "file_extension": ".py",
   "mimetype": "text/x-python",
   "name": "python",
   "nbconvert_exporter": "python",
   "pygments_lexer": "ipython3",
   "version": "3.10.4"
  },
  "orig_nbformat": 4,
  "vscode": {
   "interpreter": {
    "hash": "916dbcbb3f70747c44a77c7bcd40155683ae19c65e1c03b4aa3499c5328201f1"
   }
  }
 },
 "nbformat": 4,
 "nbformat_minor": 2
}
