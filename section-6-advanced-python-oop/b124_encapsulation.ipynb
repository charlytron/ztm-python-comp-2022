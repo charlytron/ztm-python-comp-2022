{
 "cells": [
  {
   "cell_type": "markdown",
   "metadata": {},
   "source": [
    "# Encapsulation: OOP's First Pillar\n",
    "\n",
    "The binding of data and the functions that manipulate it. We __encapsulate__ it all into one big object, keeping everything in a box with which users, code or machines can interact.\n",
    "\n",
    "- data: __attributes__\n",
    "- functions: __methods__\n",
    "\n",
    "We may encapsulate the `PlayerCharacter` by having `name` and `age` data but also functions that can act the part."
   ]
  },
  {
   "cell_type": "code",
   "execution_count": null,
   "metadata": {},
   "outputs": [],
   "source": [
    "class PlayerCharacter:\n",
    "    membership = True # class object attribute\n",
    "    def __init__(self, name,age):\n",
    "        if (PlayerCharacter.membership):\n",
    "            self.name = name # attributes, or properties\n",
    "            self.age = age\n",
    "\n",
    "    def run(self):\n",
    "        return self\n",
    "      \n",
    "    def talk(self):\n",
    "        print(f'My name is {self.name}, and I am {self.age} years old')\n",
    "    \n",
    "\n",
    "player1 = PlayerCharacter('Billy', 20)\n",
    "player1.talk() # My name is Billy, and I am 20 years old\n",
    "\n",
    "print(player1.run()) # <__main__.PlayerCharacter object at 0x7f8b8c0b4a90>"
   ]
  },
  {
   "cell_type": "markdown",
   "metadata": {},
   "source": [
    "Neagoie calls this __'Encapsulating the functionality'__. We have variables and functions, but we need the class to tie it all together.\n",
    "The idea is to have a blueprint from which we can generate multiple objects like this. It should remind us of built-in Python data types."
   ]
  },
  {
   "cell_type": "code",
   "execution_count": 4,
   "metadata": {},
   "outputs": [
    {
     "data": {
      "text/plain": [
       "'Jello'"
      ]
     },
     "execution_count": 4,
     "metadata": {},
     "output_type": "execute_result"
    }
   ],
   "source": [
    "'Jello'.upper() # 'JELLO'\n",
    "'Jello'.lower() # 'jello'\n",
    "'Jello'.capitalize() # 'Jello'\n",
    "'Jello'.title() # 'Jello'"
   ]
  },
  {
   "cell_type": "markdown",
   "metadata": {},
   "source": [
    "If our `PlayerCharacter` doesn't have actions, only attributes, we're dealing with a useless `dict`."
   ]
  },
  {
   "cell_type": "code",
   "execution_count": 5,
   "metadata": {},
   "outputs": [
    {
     "name": "stdout",
     "output_type": "stream",
     "text": [
      "<__main__.PlayerCharacter object at 0x7f031010b6d0>\n"
     ]
    }
   ],
   "source": [
    "print(player1)"
   ]
  },
  {
   "cell_type": "markdown",
   "metadata": {},
   "source": [
    "Okay, so we have the `.PlayerCharacter` object. But the very nature of an object allows us to access more than just attributes:"
   ]
  },
  {
   "cell_type": "code",
   "execution_count": 6,
   "metadata": {},
   "outputs": [
    {
     "name": "stdout",
     "output_type": "stream",
     "text": [
      "Billy\n",
      "20\n"
     ]
    }
   ],
   "source": [
    "print(player1.name) # Billy\n",
    "print(player1.age) # 20"
   ]
  },
  {
   "cell_type": "markdown",
   "metadata": {},
   "source": [
    "We need something more dynamic, right?"
   ]
  },
  {
   "cell_type": "code",
   "execution_count": null,
   "metadata": {},
   "outputs": [],
   "source": [
    "player3 = {'name': 'Esmerelda', 'age': 21}"
   ]
  },
  {
   "cell_type": "markdown",
   "metadata": {},
   "source": [
    "we're accessing the information differently, but it means the same thing, though we use the `[]` notation to access the keys:"
   ]
  },
  {
   "cell_type": "code",
   "execution_count": 11,
   "metadata": {},
   "outputs": [
    {
     "name": "stdout",
     "output_type": "stream",
     "text": [
      "Esmerelda\n",
      "21\n"
     ]
    }
   ],
   "source": [
    "player3 = {'name': 'Esmerelda', 'age': 21}\n",
    "print(player3['name']) \n",
    "print(player3['age']) "
   ]
  },
  {
   "cell_type": "markdown",
   "metadata": {},
   "source": [
    "According to this pillar, we Can't have data without action. We need dynamism, a modeling of real world, where inert objects are a subset of that pool. The Dynamism of that world needs to be __encapsulated__."
   ]
  }
 ],
 "metadata": {
  "kernelspec": {
   "display_name": "Python 3.10.4 64-bit",
   "language": "python",
   "name": "python3"
  },
  "language_info": {
   "codemirror_mode": {
    "name": "ipython",
    "version": 3
   },
   "file_extension": ".py",
   "mimetype": "text/x-python",
   "name": "python",
   "nbconvert_exporter": "python",
   "pygments_lexer": "ipython3",
   "version": "3.10.4"
  },
  "orig_nbformat": 4,
  "vscode": {
   "interpreter": {
    "hash": "916dbcbb3f70747c44a77c7bcd40155683ae19c65e1c03b4aa3499c5328201f1"
   }
  }
 },
 "nbformat": 4,
 "nbformat_minor": 2
}
