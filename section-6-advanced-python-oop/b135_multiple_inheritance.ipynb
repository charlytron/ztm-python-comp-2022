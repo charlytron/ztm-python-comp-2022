{
 "cells": [
  {
   "cell_type": "markdown",
   "metadata": {},
   "source": [
    "# Multiple Inheritance\n",
    "\n",
    "Remember the `User`, `Wizard` and `Archer` classes; we're going to clean up our code"
   ]
  },
  {
   "cell_type": "code",
   "execution_count": null,
   "metadata": {},
   "outputs": [],
   "source": [
    "class User(object):\n",
    "  def __init__(self, email):\n",
    "    self.email = email\n",
    "  def sign_in(self):\n",
    "    print('logged in')\n",
    "    \n",
    "class Wizard(User):\n",
    "  def __init__(self, name, power, email):\n",
    "    User.__init__(self, email)\n",
    "    self.name = name\n",
    "    self.power = power\n",
    "    \n",
    "  def attack(self):\n",
    "    print(f'attacking with power of {self.power}')\n",
    "    \n",
    "class Archer(User):\n",
    "  def __init__(self,name, arrows):\n",
    "    self.name = name\n",
    "    self.arrows = arrows\n",
    "    \n",
    "  def check_arrows(self):\n",
    "    print(f'{self.arrows} remainink')\n",
    "\n",
    "# Introspection\n",
    "wizard1 = Wizard('Shaggy', 50, 'gruvr@gmail.com')\n",
    "print(dir(wizard1))\n"
   ]
  },
  {
   "cell_type": "markdown",
   "metadata": {},
   "source": [
    "We don't need our `__init__` function anymore"
   ]
  },
  {
   "cell_type": "code",
   "execution_count": null,
   "metadata": {},
   "outputs": [],
   "source": [
    "class User(object):\n",
    "  def sign_in(self):\n",
    "    print('logged in')"
   ]
  },
  {
   "cell_type": "markdown",
   "metadata": {},
   "source": [
    "And with `Wizard`, which inherits from `User`"
   ]
  },
  {
   "cell_type": "code",
   "execution_count": null,
   "metadata": {},
   "outputs": [],
   "source": [
    "class Wizard(User):\n",
    "  def __init__(self, name, power, email):\n",
    "    User.__init__(self, email)\n",
    "    self.name = name\n",
    "    self.power = power"
   ]
  },
  {
   "cell_type": "markdown",
   "metadata": {},
   "source": [
    "Same thing with the `Archer` class:"
   ]
  },
  {
   "cell_type": "code",
   "execution_count": null,
   "metadata": {},
   "outputs": [],
   "source": [
    "class Archer(User):\n",
    "  def __init__(self,name, arrows):\n",
    "    self.name = name\n",
    "    self.arrows = arrows\n",
    "    \n",
    "  def check_arrows(self):\n",
    "    print(f'{self.arrows} remaining')"
   ]
  },
  {
   "cell_type": "markdown",
   "metadata": {},
   "source": [
    "But to all of this, we may want to add yet another class, `SyBorg`, having the `attack` powers of `Wizard`, the `check_arrows` powers of `Archer`. We'll add our own method `run` to the `Archer` mix.\n",
    "\n",
    "We want `SyBorg` to have all of these methods in line 22, and we can give it as many parameters as we want:"
   ]
  },
  {
   "cell_type": "code",
   "execution_count": 9,
   "metadata": {},
   "outputs": [
    {
     "ename": "TypeError",
     "evalue": "Wizard.__init__() missing 2 required positional arguments: 'name' and 'power'",
     "output_type": "error",
     "traceback": [
      "\u001b[0;31m---------------------------------------------------------------------------\u001b[0m",
      "\u001b[0;31mTypeError\u001b[0m                                 Traceback (most recent call last)",
      "Cell \u001b[0;32mIn [9], line 28\u001b[0m\n\u001b[1;32m     25\u001b[0m \u001b[38;5;28;01mclass\u001b[39;00m \u001b[38;5;21;01mSyBorg\u001b[39;00m(Wizard, Archer):\n\u001b[1;32m     26\u001b[0m   \u001b[38;5;28;01mpass\u001b[39;00m\n\u001b[0;32m---> 28\u001b[0m sb1 \u001b[38;5;241m=\u001b[39m \u001b[43mSyBorg\u001b[49m\u001b[43m(\u001b[49m\u001b[43m)\u001b[49m \n\u001b[1;32m     29\u001b[0m \u001b[38;5;28mprint\u001b[39m(sb1\u001b[38;5;241m.\u001b[39mrun())\n",
      "\u001b[0;31mTypeError\u001b[0m: Wizard.__init__() missing 2 required positional arguments: 'name' and 'power'"
     ]
    }
   ],
   "source": [
    "class User():\n",
    "  def sign_in(self):\n",
    "    print('logged in')\n",
    "    \n",
    "class Wizard(User):\n",
    "  def __init__(self, name, power):\n",
    "    self.name = name\n",
    "    self.power = power\n",
    "    \n",
    "  def attack(self):\n",
    "    print(f'attacking with the power of {self.power}')\n",
    "    \n",
    "    \n",
    "class Archer(User):\n",
    "  def __init__(self, name, arrows):\n",
    "    self.name = name\n",
    "    self.arrows = arrows\n",
    "    \n",
    "  def check_arrows(self):\n",
    "    print(f'{self.arrows} remaining')\n",
    "    \n",
    "  def run(self):\n",
    "    print('ran like a shot')\n",
    "    \n",
    "class SyBorg(Wizard, Archer):\n",
    "  pass\n",
    "\n",
    "sb1 = SyBorg() \n",
    "print(sb1.run())"
   ]
  },
  {
   "cell_type": "markdown",
   "metadata": {},
   "source": [
    "What's up with that? We have to pass in the arguments that we want to use. The classes accept certain parameters, right? Now, check line 28 and the output:"
   ]
  },
  {
   "cell_type": "code",
   "execution_count": 11,
   "metadata": {},
   "outputs": [
    {
     "name": "stdout",
     "output_type": "stream",
     "text": [
      "ran like a shot\n",
      "None\n"
     ]
    }
   ],
   "source": [
    "class User():\n",
    "  def sign_in(self):\n",
    "    print('logged in')\n",
    "    \n",
    "class Wizard(User):\n",
    "  def __init__(self, name, power):\n",
    "    self.name = name\n",
    "    self.power = power\n",
    "    \n",
    "  def attack(self):\n",
    "    print(f'attacking with the power of {self.power}')\n",
    "    \n",
    "    \n",
    "class Archer(User):\n",
    "  def __init__(self, name, arrows):\n",
    "    self.name = name\n",
    "    self.arrows = arrows\n",
    "    \n",
    "  def check_arrows(self):\n",
    "    print(f'{self.arrows} remaining')\n",
    "    \n",
    "  def run(self):\n",
    "    print('ran like a shot')\n",
    "    \n",
    "class SyBorg(Wizard, Archer):\n",
    "  pass\n",
    "\n",
    "sb1 = SyBorg('Joe', 50)\n",
    "print(sb1.run())"
   ]
  },
  {
   "cell_type": "markdown",
   "metadata": {},
   "source": [
    "We were able to inherit that unique `run()` method from `Archer`. What about `check_arrows`?"
   ]
  },
  {
   "cell_type": "code",
   "execution_count": 12,
   "metadata": {},
   "outputs": [
    {
     "ename": "AttributeError",
     "evalue": "'SyBorg' object has no attribute 'arrows'",
     "output_type": "error",
     "traceback": [
      "\u001b[0;31m---------------------------------------------------------------------------\u001b[0m",
      "\u001b[0;31mAttributeError\u001b[0m                            Traceback (most recent call last)",
      "Cell \u001b[0;32mIn [12], line 1\u001b[0m\n\u001b[0;32m----> 1\u001b[0m \u001b[38;5;28mprint\u001b[39m(\u001b[43msb1\u001b[49m\u001b[38;5;241;43m.\u001b[39;49m\u001b[43mcheck_arrows\u001b[49m\u001b[43m(\u001b[49m\u001b[43m)\u001b[49m)\n",
      "Cell \u001b[0;32mIn [11], line 20\u001b[0m, in \u001b[0;36mArcher.check_arrows\u001b[0;34m(self)\u001b[0m\n\u001b[1;32m     19\u001b[0m \u001b[38;5;28;01mdef\u001b[39;00m \u001b[38;5;21mcheck_arrows\u001b[39m(\u001b[38;5;28mself\u001b[39m):\n\u001b[0;32m---> 20\u001b[0m   \u001b[38;5;28mprint\u001b[39m(\u001b[38;5;124mf\u001b[39m\u001b[38;5;124m'\u001b[39m\u001b[38;5;132;01m{\u001b[39;00m\u001b[38;5;28mself\u001b[39m\u001b[38;5;241m.\u001b[39marrows\u001b[38;5;132;01m}\u001b[39;00m\u001b[38;5;124m remaining\u001b[39m\u001b[38;5;124m'\u001b[39m)\n",
      "\u001b[0;31mAttributeError\u001b[0m: 'SyBorg' object has no attribute 'arrows'"
     ]
    }
   ],
   "source": [
    "print(sb1.check_arrows())"
   ]
  },
  {
   "cell_type": "markdown",
   "metadata": {},
   "source": [
    "But why? We inherited from `Wizard` first, then `Archer`, and `Wizard` accepts `name` and `power`, but we never gave the argument for `arrows`. Can we just add the extra argument?"
   ]
  },
  {
   "cell_type": "code",
   "execution_count": 13,
   "metadata": {},
   "outputs": [
    {
     "ename": "TypeError",
     "evalue": "Wizard.__init__() takes 3 positional arguments but 4 were given",
     "output_type": "error",
     "traceback": [
      "\u001b[0;31m---------------------------------------------------------------------------\u001b[0m",
      "\u001b[0;31mTypeError\u001b[0m                                 Traceback (most recent call last)",
      "Cell \u001b[0;32mIn [13], line 1\u001b[0m\n\u001b[0;32m----> 1\u001b[0m sb1 \u001b[38;5;241m=\u001b[39m \u001b[43mSyBorg\u001b[49m\u001b[43m(\u001b[49m\u001b[38;5;124;43m'\u001b[39;49m\u001b[38;5;124;43mJoe\u001b[39;49m\u001b[38;5;124;43m'\u001b[39;49m\u001b[43m,\u001b[49m\u001b[43m \u001b[49m\u001b[38;5;241;43m50\u001b[39;49m\u001b[43m,\u001b[49m\u001b[43m \u001b[49m\u001b[38;5;241;43m89\u001b[39;49m\u001b[43m)\u001b[49m\n\u001b[1;32m      2\u001b[0m \u001b[38;5;28mprint\u001b[39m(sb1\u001b[38;5;241m.\u001b[39mcheck_arrows())\n",
      "\u001b[0;31mTypeError\u001b[0m: Wizard.__init__() takes 3 positional arguments but 4 were given"
     ]
    }
   ],
   "source": [
    "sb1 = SyBorg('Joe', 50, 89)\n",
    "print(sb1.check_arrows())"
   ]
  },
  {
   "cell_type": "markdown",
   "metadata": {},
   "source": [
    "This is why we're confounded by multiple inheritance. (Some languages don't even allow it!) We need to understand just how classes are implemented. Not only that, we need to make sure that we're not overwriting anything.\n",
    "\n",
    "In our case we may adjust our code. In line 26, we'll write `def __init__(self, name, power, arrows)`"
   ]
  },
  {
   "cell_type": "code",
   "execution_count": 18,
   "metadata": {},
   "outputs": [
    {
     "name": "stdout",
     "output_type": "stream",
     "text": [
      "ran like a shot\n",
      "None\n",
      "234\n",
      "Joe\n"
     ]
    },
    {
     "ename": "AttributeError",
     "evalue": "'SyBorg' object has no attribute 'power'",
     "output_type": "error",
     "traceback": [
      "\u001b[0;31m---------------------------------------------------------------------------\u001b[0m",
      "\u001b[0;31mAttributeError\u001b[0m                            Traceback (most recent call last)",
      "Cell \u001b[0;32mIn [18], line 34\u001b[0m\n\u001b[1;32m     32\u001b[0m \u001b[38;5;28mprint\u001b[39m(sb1\u001b[38;5;241m.\u001b[39marrows)\n\u001b[1;32m     33\u001b[0m \u001b[38;5;28mprint\u001b[39m(sb1\u001b[38;5;241m.\u001b[39mname)\n\u001b[0;32m---> 34\u001b[0m \u001b[38;5;28mprint\u001b[39m(\u001b[43msb1\u001b[49m\u001b[38;5;241;43m.\u001b[39;49m\u001b[43mattack\u001b[49m\u001b[43m(\u001b[49m\u001b[43m)\u001b[49m)\n",
      "Cell \u001b[0;32mIn [18], line 11\u001b[0m, in \u001b[0;36mWizard.attack\u001b[0;34m(self)\u001b[0m\n\u001b[1;32m     10\u001b[0m \u001b[38;5;28;01mdef\u001b[39;00m \u001b[38;5;21mattack\u001b[39m(\u001b[38;5;28mself\u001b[39m):\n\u001b[0;32m---> 11\u001b[0m   \u001b[38;5;28mprint\u001b[39m(\u001b[38;5;124mf\u001b[39m\u001b[38;5;124m'\u001b[39m\u001b[38;5;124mattacking with the power of \u001b[39m\u001b[38;5;132;01m{\u001b[39;00m\u001b[38;5;28mself\u001b[39m\u001b[38;5;241m.\u001b[39mpower\u001b[38;5;132;01m}\u001b[39;00m\u001b[38;5;124m'\u001b[39m)\n",
      "\u001b[0;31mAttributeError\u001b[0m: 'SyBorg' object has no attribute 'power'"
     ]
    }
   ],
   "source": [
    "class User():\n",
    "  def sign_in(self):\n",
    "    print('logged in')\n",
    "    \n",
    "class Wizard(User):\n",
    "  def __init__(self, name, power):\n",
    "    self.name = name\n",
    "    self.power = power\n",
    "    \n",
    "  def attack(self):\n",
    "    print(f'attacking with the power of {self.power}')\n",
    "    \n",
    "    \n",
    "class Archer(User):\n",
    "  def __init__(self, name, arrows):\n",
    "    self.name = name\n",
    "    self.arrows = arrows\n",
    "    \n",
    "  def check_arrows(self):\n",
    "    print(f'{self.arrows} remaining')\n",
    "    \n",
    "  def run(self):\n",
    "    print('ran like a shot')\n",
    "    \n",
    "class SyBorg(Wizard, Archer):\n",
    "  def __init__(self, name, power, arrows):\n",
    "    Archer.__init__(self, name, arrows)\n",
    "    \n",
    "\n",
    "sb1 = SyBorg('Joe', 50, 234)\n",
    "print(sb1.run())\n",
    "print(sb1.arrows)\n",
    "print(sb1.name)\n",
    "print(sb1.attack())"
   ]
  },
  {
   "cell_type": "markdown",
   "metadata": {},
   "source": [
    "We don't have the attack attribute because we didn't inherit it. All we had to do was add `Wizard.__init__` to the SyBorg class definition in line 28."
   ]
  },
  {
   "cell_type": "code",
   "execution_count": 23,
   "metadata": {},
   "outputs": [
    {
     "name": "stdout",
     "output_type": "stream",
     "text": [
      "logged in\n",
      "None\n",
      "ran like a shot\n",
      "None\n",
      "234\n",
      "Joe\n",
      "attacking with the power of 50\n",
      "None\n",
      "234 remaining\n",
      "None\n"
     ]
    }
   ],
   "source": [
    "class User():\n",
    "  def sign_in(self):\n",
    "    print('logged in')\n",
    "    \n",
    "class Wizard(User):\n",
    "  def __init__(self, name, power):\n",
    "    self.name = name\n",
    "    self.power = power\n",
    "    \n",
    "  def attack(self):\n",
    "    print(f'attacking with the power of {self.power}')\n",
    "    \n",
    "    \n",
    "class Archer(User):\n",
    "  def __init__(self, name, arrows):\n",
    "    self.name = name\n",
    "    self.arrows = arrows\n",
    "    \n",
    "  def check_arrows(self):\n",
    "    print(f'{self.arrows} remaining')\n",
    "    \n",
    "  def run(self):\n",
    "    print('ran like a shot')\n",
    "    \n",
    "class SyBorg(Wizard, Archer):\n",
    "  def __init__(self, name, power, arrows):\n",
    "    Archer.__init__(self, name, arrows)\n",
    "    Wizard.__init__(self, name, power)\n",
    "    \n",
    "\n",
    "sb1 = SyBorg('Joe', 50, 234)\n",
    "print(sb1.sign_in())\n",
    "print(sb1.run())\n",
    "print(sb1.arrows)\n",
    "print(sb1.name)\n",
    "print(sb1.attack())\n",
    "print(sb1.check_arrows())"
   ]
  },
  {
   "cell_type": "markdown",
   "metadata": {},
   "source": []
  }
 ],
 "metadata": {
  "kernelspec": {
   "display_name": "Python 3.10.4 64-bit",
   "language": "python",
   "name": "python3"
  },
  "language_info": {
   "codemirror_mode": {
    "name": "ipython",
    "version": 3
   },
   "file_extension": ".py",
   "mimetype": "text/x-python",
   "name": "python",
   "nbconvert_exporter": "python",
   "pygments_lexer": "ipython3",
   "version": "3.10.4"
  },
  "orig_nbformat": 4,
  "vscode": {
   "interpreter": {
    "hash": "916dbcbb3f70747c44a77c7bcd40155683ae19c65e1c03b4aa3499c5328201f1"
   }
  }
 },
 "nbformat": 4,
 "nbformat_minor": 2
}
