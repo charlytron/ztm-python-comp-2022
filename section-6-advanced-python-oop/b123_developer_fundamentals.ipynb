{
 "cells": [
  {
   "cell_type": "markdown",
   "metadata": {},
   "source": [
    "# We need to test our assumptions\n",
    "\n",
    "...meaning we need to both understand and explain what's going on in the code."
   ]
  },
  {
   "cell_type": "code",
   "execution_count": 3,
   "metadata": {},
   "outputs": [
    {
     "name": "stdout",
     "output_type": "stream",
     "text": [
      "<__main__.PlayerCharacter object at 0x7fd3ea7effa0>\n"
     ]
    }
   ],
   "source": [
    "class PlayerCharacter:\n",
    "    membership = True # class object attribute\n",
    "    def __init__(self, name,age):\n",
    "        if (PlayerCharacter.membership):\n",
    "            self.name = name # attributes, or properties\n",
    "            self.age = age\n",
    "\n",
    "    def run(self):\n",
    "        return self\n",
    "    \n",
    "\n",
    "player1 = PlayerCharacter('Billy', 20) #\n",
    "\n",
    "print(player1.run()) # run done"
   ]
  },
  {
   "cell_type": "markdown",
   "metadata": {},
   "source": [
    "`self` refers to the `PlayerCharacter` class, but how do we test this assumption?"
   ]
  },
  {
   "cell_type": "code",
   "execution_count": null,
   "metadata": {},
   "outputs": [],
   "source": [
    "print(player1.run()) # <__main__.PlayerCharacter object at 0x7fd3ea7effa0>"
   ]
  },
  {
   "cell_type": "markdown",
   "metadata": {},
   "source": [
    "This gives us the exact address of the `PlayerCharacter`, i.e. `player1` in memory. And we do this to make sure that what's returned is what we expected.\n",
    "\n",
    "If we don't understand what's returned by the REPL, we need to examine it.\n",
    "\n",
    "`__main__`, for example. [The Python docs](https://docs.python.org/3/library/__main__.html) tell the story of this module.\n",
    "\n",
    "This is just one example of how we test our learning, allowing us to learn with more intention."
   ]
  }
 ],
 "metadata": {
  "kernelspec": {
   "display_name": "Python 3.10.4 64-bit",
   "language": "python",
   "name": "python3"
  },
  "language_info": {
   "codemirror_mode": {
    "name": "ipython",
    "version": 3
   },
   "file_extension": ".py",
   "mimetype": "text/x-python",
   "name": "python",
   "nbconvert_exporter": "python",
   "pygments_lexer": "ipython3",
   "version": "3.10.4"
  },
  "orig_nbformat": 4,
  "vscode": {
   "interpreter": {
    "hash": "916dbcbb3f70747c44a77c7bcd40155683ae19c65e1c03b4aa3499c5328201f1"
   }
  }
 },
 "nbformat": 4,
 "nbformat_minor": 2
}
