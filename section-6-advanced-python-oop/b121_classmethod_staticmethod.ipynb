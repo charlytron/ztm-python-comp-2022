{
 "cells": [
  {
   "cell_type": "markdown",
   "metadata": {},
   "source": [
    "So, we learned how to create an attribute for the actual class (line 2). But can we do the same for methods? We can use a decorator, creating a method that is not dependent on the object itself, but on the class itself. This is called `@classmethod`.\n",
    "\n",
    "With this decorator, we can create such a function.\n"
   ]
  },
  {
   "cell_type": "code",
   "execution_count": null,
   "metadata": {},
   "outputs": [],
   "source": [
    "class PlayerCharacter:\n",
    "    membership = True # class object attribute\n",
    "    def __init__(self, name,age):\n",
    "        if (PlayerCharacter.membership):\n",
    "            self.name = name # attributes, or properties\n",
    "            self.age = age\n",
    "\n",
    "    def shout(self):\n",
    "        print(f'my name is {self.name}')\n",
    "        \n",
    "    @classmethod\n",
    "    def adding_things(num1, num2):\n",
    "      return num1 + num2\n",
    "\n",
    "player1 = PlayerCharacter('Billy', 20) #\n",
    "\n",
    "print(player1.adding_things(2,3)) # 5"
   ]
  },
  {
   "cell_type": "markdown",
   "metadata": {},
   "source": [
    "But what does this `@classmethod` do? \n",
    "\n",
    "When we run the above code, we get the following error from line 17:\n",
    "\n",
    "``` bash\n",
    "TypeError: PlayerCharacter.adding_things() takes 2 positional arguments but 3 were given\n",
    "```\n",
    "So, what the hey is the other parameter we cannot see? It's the `cls` parameter. This is a reference to the class itself. \n",
    "\n",
    "we may use this to create a new instance of the class, and return it. In our case, it's the `PlayerCharacter` class to which we refer.\n",
    "Therefore, we'll change line 12 to include the `cls` parameter, and return a new instance of the class, with the `num1` and `num2` parameters."
   ]
  },
  {
   "cell_type": "code",
   "execution_count": null,
   "metadata": {},
   "outputs": [],
   "source": [
    "class PlayerCharacter:\n",
    "    membership = True # class object attribute\n",
    "    def __init__(self, name,age):\n",
    "        if (PlayerCharacter.membership):\n",
    "            self.name = name # attributes, or properties\n",
    "            self.age = age\n",
    "\n",
    "    def shout(self):\n",
    "        print(f'my name is {self.name}')\n",
    "        \n",
    "    @classmethod\n",
    "    def adding_things(cls, num1, num2):\n",
    "      return num1 + num2\n",
    "\n",
    "player1 = PlayerCharacter('Billy', 20) #\n",
    "\n",
    "print(player1.adding_things(2, 3)) # 5"
   ]
  },
  {
   "cell_type": "markdown",
   "metadata": {},
   "source": [
    "Instead of using `self`, we'll use `cls` to refer to the class itself. We can use it without instantiating a class, and it will still work. If we don't instantiate \n",
    "player1 as per line 15, calling instead `PlayerCharacter.adding_things(2,3)` per line 18, we'll get the same result."
   ]
  },
  {
   "cell_type": "code",
   "execution_count": null,
   "metadata": {},
   "outputs": [],
   "source": [
    "class PlayerCharacter:\n",
    "    membership = True # class object attribute\n",
    "    def __init__(self, name,age):\n",
    "        if (PlayerCharacter.membership):\n",
    "            self.name = name # attributes, or properties\n",
    "            self.age = age\n",
    "\n",
    "    def shout(self):\n",
    "        print(f'my name is {self.name}')\n",
    "        \n",
    "    @classmethod\n",
    "    def adding_things(cls, num1, num2):\n",
    "      return num1 + num2\n",
    "\n",
    "# player1 = PlayerCharacter('Billy', 20) #\n",
    "\n",
    "#print(player1.adding_things(2, 3)) # 5\n",
    "print(PlayerCharacter.adding_things(2, 3)) # 5"
   ]
  },
  {
   "cell_type": "markdown",
   "metadata": {},
   "source": [
    "Class methods aren't used as often as static methods, but they can be useful in 5% of all use cases.\n",
    "\n",
    "We can use `cls` to instantiate an object on line 13. When we hit run we get: \n",
    "  \n",
    "  ``` bash\n",
    "  <__main__.PlayerCharacter object at 0x7f00103702e0>\n",
    "  ```\n",
    "\n",
    "We've essentially instantiated `'Tedski'` with the age of `5`."
   ]
  },
  {
   "cell_type": "code",
   "execution_count": null,
   "metadata": {},
   "outputs": [],
   "source": [
    "class PlayerCharacter:\n",
    "    membership = True # class object attribute\n",
    "    def __init__(self, name,age):\n",
    "        if (PlayerCharacter.membership):\n",
    "            self.name = name # attributes, or properties\n",
    "            self.age = age\n",
    "\n",
    "    def shout(self):\n",
    "        print(f'my name is {self.name}')\n",
    "        \n",
    "    @classmethod\n",
    "    def adding_things(cls, num1, num2):\n",
    "      return cls('Tedski', num1 + num2)\n",
    "\n",
    "# player1 = PlayerCharacter('Billy', 20) #\n",
    "\n",
    "#print(player1.adding_things(2, 3)) # 5\n",
    "print(PlayerCharacter.adding_things(2, 3)) # 5"
   ]
  },
  {
   "cell_type": "markdown",
   "metadata": {},
   "source": [
    "Now we can assign  `player3` to the result of `adding_things` and print it out, getting the same result as before."
   ]
  },
  {
   "cell_type": "code",
   "execution_count": null,
   "metadata": {},
   "outputs": [],
   "source": [
    "player3 = PlayerCharacter.adding_things(2, 3)\n",
    "print(player3.age) # 5"
   ]
  },
  {
   "cell_type": "markdown",
   "metadata": {},
   "source": [
    "We can literally create a whole new player, using the `@classmethod` decorator. And there's one other way to do this, using `@staticmethod`. It works the exact same way, but it doesn't have access to the class or the object itself. It's just a function that lives inside the class."
   ]
  },
  {
   "cell_type": "code",
   "execution_count": null,
   "metadata": {},
   "outputs": [],
   "source": [
    "@staticmethod\n",
    "def adding_things(num1, num2):\n",
    "  return num1 + num2"
   ]
  },
  {
   "cell_type": "markdown",
   "metadata": {},
   "source": [
    "Here it is in action. The only difference between the two is that we don't have access to the parameters to the `cls` parameter. We can't use `self` or `cls` in a static method."
   ]
  },
  {
   "cell_type": "code",
   "execution_count": null,
   "metadata": {},
   "outputs": [],
   "source": [
    "class PlayerCharacter:\n",
    "    membership = True # class object attribute\n",
    "    def __init__(self, name,age):\n",
    "        if (PlayerCharacter.membership):\n",
    "            self.name = name # attributes, or properties\n",
    "            self.age = age\n",
    "\n",
    "    def shout(self):\n",
    "        print(f'my name is {self.name}')\n",
    "        \n",
    "    @classmethod\n",
    "    def adding_things(cls, num1, num2):\n",
    "      return cls('Tedski', num1 + num2)\n",
    "    \n",
    "    @staticmethod\n",
    "    def adding_things(num1, num2):  \n",
    "      return cls('Freddy', num1 + num2)\n",
    "\n",
    "# player1 = PlayerCharacter('Billy', 20) #\n",
    "\n",
    "#print(player1.adding_things(2, 3)) # 5\n",
    "print(PlayerCharacter.adding_things(2, 3)) # 5"
   ]
  },
  {
   "cell_type": "markdown",
   "metadata": {},
   "source": [
    "We would use a static method when we don't care about the class state. we don't care about the attributes in this case. We use something like a class method when we do care about the class attributes, and maybe we want to modify or change them.\n",
    "\n",
    "We won't see `@classmethod` and `@staticmethod` very often, but we may encounter it."
   ]
  }
 ],
 "metadata": {
  "kernelspec": {
   "display_name": "Python 3.10.4 64-bit",
   "language": "python",
   "name": "python3"
  },
  "language_info": {
   "codemirror_mode": {
    "name": "ipython",
    "version": 3
   },
   "file_extension": ".py",
   "mimetype": "text/x-python",
   "name": "python",
   "nbconvert_exporter": "python",
   "pygments_lexer": "ipython3",
   "version": "3.10.4"
  },
  "orig_nbformat": 4,
  "vscode": {
   "interpreter": {
    "hash": "916dbcbb3f70747c44a77c7bcd40155683ae19c65e1c03b4aa3499c5328201f1"
   }
  }
 },
 "nbformat": 4,
 "nbformat_minor": 2
}
