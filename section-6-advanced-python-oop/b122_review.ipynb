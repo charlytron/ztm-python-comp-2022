{
 "cells": [
  {
   "cell_type": "markdown",
   "metadata": {},
   "source": [
    "# Reviewing what we know so far\n",
    "\n",
    "- OOP is a structural paradigm.\n",
    "\n",
    "- We went from procedural to writing functions to OOP.\n",
    "\n",
    "- We use classes to incorporate these paradigms.\n",
    "\n",
    "- Creating a class with the `class` keyword, using camel case, but with the first word capitalized.\n",
    "\n",
    "- Class Object Attributes\n",
    "\n",
    "- `__init__` function runs on every instantiation to __customize__ our objects.\n",
    "\n",
    "- How to add methods to our class so that each object that we create and instantiate has access to these methods.\n",
    "\n",
    "- `@classmethod` and `@staticmethod` are methods that can be called on hte class without actually instantiating it. "
   ]
  }
 ],
 "metadata": {
  "language_info": {
   "name": "python"
  },
  "orig_nbformat": 4
 },
 "nbformat": 4,
 "nbformat_minor": 2
}
