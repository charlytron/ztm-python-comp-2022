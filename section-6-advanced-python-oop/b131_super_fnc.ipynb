{
 "cells": [
  {
   "cell_type": "markdown",
   "metadata": {},
   "source": [
    "# The `super()` function\n",
    "\n",
    "Previously we learned how to call a method from a subclass of the parent class. See in line 14"
   ]
  },
  {
   "cell_type": "code",
   "execution_count": null,
   "metadata": {},
   "outputs": [],
   "source": [
    "def attack(self):\n",
    "    User.attack(self)\n",
    "    print(f'attacking with power of {self.power}')"
   ]
  },
  {
   "cell_type": "markdown",
   "metadata": {},
   "source": [
    "That's so we can run the `attack` method in `User`. If we remove the `attack` method from the parent, however, we'll get an error.\n",
    "That's okay, we're trying something different here."
   ]
  },
  {
   "cell_type": "code",
   "execution_count": 3,
   "metadata": {},
   "outputs": [
    {
     "name": "stdout",
     "output_type": "stream",
     "text": [
      "<__main__.Wizard object at 0x7f084814e590>\n"
     ]
    },
    {
     "ename": "AttributeError",
     "evalue": "'Wizard' object has no attribute 'email'",
     "output_type": "error",
     "traceback": [
      "\u001b[0;31m---------------------------------------------------------------------------\u001b[0m",
      "\u001b[0;31mAttributeError\u001b[0m                            Traceback (most recent call last)",
      "Cell \u001b[0;32mIn [3], line 26\u001b[0m\n\u001b[1;32m     24\u001b[0m archer1 \u001b[38;5;241m=\u001b[39m Archer(\u001b[38;5;124m'\u001b[39m\u001b[38;5;124mScooby\u001b[39m\u001b[38;5;124m'\u001b[39m, \u001b[38;5;241m100\u001b[39m)\n\u001b[1;32m     25\u001b[0m \u001b[38;5;28mprint\u001b[39m(wizard1)\n\u001b[0;32m---> 26\u001b[0m \u001b[38;5;28mprint\u001b[39m(\u001b[43mwizard1\u001b[49m\u001b[38;5;241;43m.\u001b[39;49m\u001b[43memail\u001b[49m)\n",
      "\u001b[0;31mAttributeError\u001b[0m: 'Wizard' object has no attribute 'email'"
     ]
    }
   ],
   "source": [
    "class User(object):\n",
    "  def __init__(self, email):\n",
    "    self.email = email\n",
    "  def sign_in(self):\n",
    "    print('logged in')\n",
    "\n",
    "class Wizard(User):\n",
    "  def __init__(self, name, power):\n",
    "    self.name = name\n",
    "    self.power = power\n",
    "    \n",
    "  def attack(self):\n",
    "    print(f'attacking with power of {self.power}')\n",
    "    \n",
    "class Archer(User):\n",
    "    def __init__(self, name, num_arrows):\n",
    "      self.name = name\n",
    "      self.num_arrows = num_arrows\n",
    "\n",
    "    def attack(self):\n",
    "      print(f'attacking with arrows: arrows left- {self.num_arrows}')\n",
    "\n",
    "wizard1 = Wizard('Shaggy', 50)\n",
    "archer1 = Archer('Scooby', 100)\n",
    "print(wizard1)\n",
    "print(wizard1.email)\n"
   ]
  },
  {
   "cell_type": "markdown",
   "metadata": {},
   "source": [
    "and we see that wizard has no email. But why? We assume that `User` is going to be called when we create the wizard.\n",
    "Although we might get the `sign_in` from the parent class, "
   ]
  },
  {
   "cell_type": "code",
   "execution_count": 4,
   "metadata": {},
   "outputs": [
    {
     "name": "stdout",
     "output_type": "stream",
     "text": [
      "logged in\n",
      "None\n"
     ]
    }
   ],
   "source": [
    "print(wizard1.sign_in())"
   ]
  },
  {
   "cell_type": "markdown",
   "metadata": {},
   "source": [
    "The wizard already __has__ an `__init__` function, a constructor."
   ]
  },
  {
   "cell_type": "code",
   "execution_count": null,
   "metadata": {},
   "outputs": [],
   "source": [
    "class Wizard(User):\n",
    "  def __init__(self, name, power):\n",
    "    self.name = name\n",
    "    self.power = power"
   ]
  },
  {
   "cell_type": "markdown",
   "metadata": {},
   "source": [
    "Now, what? We could add `email` to the list of properties in wizard's constructor, having the `email` attribute there. "
   ]
  },
  {
   "cell_type": "code",
   "execution_count": null,
   "metadata": {},
   "outputs": [],
   "source": [
    "class Wizard(User):\n",
    "  def __init__(self, name, power, email):\n",
    "    self.name = name\n",
    "    self.power = power\n",
    "    self.email = email"
   ]
  },
  {
   "cell_type": "markdown",
   "metadata": {},
   "source": [
    "The problem is that we assume all characters have an email and, ideally, we'd like to reuse that functionality. When we realize that these attributes are going to be the same on all of our subclasses, we'd ideally like to register the `email` within the `User` constructor:"
   ]
  },
  {
   "cell_type": "code",
   "execution_count": null,
   "metadata": {},
   "outputs": [],
   "source": [
    "class User(object):\n",
    "  def __init__(self, email):\n",
    "    self.email = email\n",
    "  def sign_in(self):\n",
    "    print('logged in')"
   ]
  },
  {
   "cell_type": "markdown",
   "metadata": {},
   "source": [
    "But we need to more efficiently add email as an attribute than simply adding it to every subclass, which gets a little repetitive. we want to call the `__init__` method of the `User` from inside each subclass:"
   ]
  },
  {
   "cell_type": "code",
   "execution_count": null,
   "metadata": {},
   "outputs": [],
   "source": [
    "class Wizard(User):\n",
    "  def __init__(self, name, power):\n",
    "    self.name = name\n",
    "    self.power = power\n",
    "    \n",
    "  def attack(self):\n",
    "    print(f'attacking with power of {self.power}')\n",
    "    "
   ]
  },
  {
   "cell_type": "markdown",
   "metadata": {},
   "source": [
    "How are we gonna do that? Every time we instantiate a new wizard, `__init__` will be called. Let's try the following in line 3:"
   ]
  },
  {
   "cell_type": "code",
   "execution_count": null,
   "metadata": {},
   "outputs": [],
   "source": [
    "class Wizard(User):\n",
    "  def __init__(self, name, power, email):\n",
    "    User.__init__(self, email)\n",
    "    self.name = name\n",
    "    self.power = power\n",
    "    \n",
    "  def attack(self):\n",
    "    print(f'attacking with power of {self.power}')\n",
    "    "
   ]
  },
  {
   "cell_type": "markdown",
   "metadata": {},
   "source": [
    "We __still__ have to pass in the email as a parameter to the subclass `__init__` function here. Besides, when we add a new instance of the class, we'll need space for the extra argument. The w`email` attribute, initialized in the `User` class, can now be printed to the console:"
   ]
  },
  {
   "cell_type": "code",
   "execution_count": 3,
   "metadata": {},
   "outputs": [
    {
     "name": "stdout",
     "output_type": "stream",
     "text": [
      "gruvr@gmail.com\n"
     ]
    }
   ],
   "source": [
    "class User(object):\n",
    "  def __init__(self, email):\n",
    "    self.email = email\n",
    "  def sign_in(self):\n",
    "    print('logged in')\n",
    "    \n",
    "class Wizard(User):\n",
    "  def __init__(self, name, power, email):\n",
    "    User.__init__(self, email)\n",
    "    self.name = name\n",
    "    self.power = power\n",
    "    \n",
    "  def attack(self):\n",
    "    print(f'attacking with power of {self.power}')\n",
    "    \n",
    "wizard1 = Wizard('Shaggy', 50, 'gruvr@gmail.com')\n",
    "print(wizard1.email)"
   ]
  },
  {
   "cell_type": "markdown",
   "metadata": {},
   "source": [
    "We called the `__init__` method of the `User` inside of the `Wizard` so that when we instantiated a new wizard, we ran the `Wizard`'s own `__init__` function. Nested within was the `User.__init__(self, email)` where our email parameter is passed in, chaining it to the parent.\n",
    "\n",
    "__This is only one way to accomplish the linkage of classes__. Another involves the use of __`super()`__ to replace `User` in line 9.\n",
    "\n",
    "`super()` refers to the *superclass*, a feature of Python 2.2.\n",
    "\n",
    "This evolution in housekeeping cleans up our code: we no longer need to use `self` as a parameter in our subclass's `__init__` function.\n",
    "\n",
    "Running our code gives us the same result:"
   ]
  },
  {
   "cell_type": "code",
   "execution_count": 4,
   "metadata": {},
   "outputs": [
    {
     "name": "stdout",
     "output_type": "stream",
     "text": [
      "gruvr@gmail.com\n"
     ]
    }
   ],
   "source": [
    "class User(object):\n",
    "  def __init__(self, email):\n",
    "    self.email = email\n",
    "  def sign_in(self):\n",
    "    print('logged in')\n",
    "    \n",
    "class Wizard(User):\n",
    "  def __init__(self, name, power, email):\n",
    "    super().__init__(email)\n",
    "    self.name = name\n",
    "    self.power = power\n",
    "    \n",
    "  def attack(self):\n",
    "    print(f'attacking with power of {self.power}')\n",
    "    \n",
    "wizard1 = Wizard('Shaggy', 50, 'gruvr@gmail.com')\n",
    "print(wizard1.email)"
   ]
  },
  {
   "cell_type": "markdown",
   "metadata": {},
   "source": [
    "`super()` allows us to refer to `User` without schlepping `self` around, giving the subclass a whiff of autonomy."
   ]
  }
 ],
 "metadata": {
  "kernelspec": {
   "display_name": "Python 3.10.4 64-bit",
   "language": "python",
   "name": "python3"
  },
  "language_info": {
   "codemirror_mode": {
    "name": "ipython",
    "version": 3
   },
   "file_extension": ".py",
   "mimetype": "text/x-python",
   "name": "python",
   "nbconvert_exporter": "python",
   "pygments_lexer": "ipython3",
   "version": "3.10.4"
  },
  "orig_nbformat": 4,
  "vscode": {
   "interpreter": {
    "hash": "916dbcbb3f70747c44a77c7bcd40155683ae19c65e1c03b4aa3499c5328201f1"
   }
  }
 },
 "nbformat": 4,
 "nbformat_minor": 2
}
