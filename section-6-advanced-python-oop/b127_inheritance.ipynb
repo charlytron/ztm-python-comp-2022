{
 "cells": [
  {
   "cell_type": "markdown",
   "metadata": {},
   "source": [
    "# Inheritance, the third OOP pillar\n",
    "\n",
    "New objects take on the properties of existing objects. Here's how we inherit classes:"
   ]
  },
  {
   "cell_type": "code",
   "execution_count": null,
   "metadata": {},
   "outputs": [],
   "source": [
    "class User:\n",
    "  def sign_in(self):\n",
    "    print('logged in')"
   ]
  },
  {
   "cell_type": "markdown",
   "metadata": {},
   "source": [
    "__Notice__: no `__init__` method here. If we have no variables or attributes to assign, we don't need it.\n",
    "\n",
    "Howsabout adding a few __subclasses__? Ideally, all these subclasses are also `User`."
   ]
  },
  {
   "cell_type": "code",
   "execution_count": 1,
   "metadata": {},
   "outputs": [],
   "source": [
    "class User:\n",
    "  def sign_in(self):\n",
    "    print('logged in')\n",
    "    \n",
    "class Wizard(User):\n",
    "  def __init__(self, name, power):\n",
    "    self.name = name\n",
    "    self.power = power\n",
    "\n",
    "  def attack(self):\n",
    "    print(f'attacking with power of {self.power}')\n",
    "    \n",
    "class Archer(User):\n",
    "    def __init__(self, name, num_arrows):\n",
    "      self.name = name\n",
    "      self.num_arrows = num_arrows\n",
    "\n",
    "    def attack(self):\n",
    "      print(f'attacking with arrows: arrows left- {self.num_arrows}')"
   ]
  },
  {
   "cell_type": "markdown",
   "metadata": {},
   "source": [
    "All of these guys have to be signed in first. __Inheritance asks, how do we ensure that they have access to the `sign_in ` method?__\n",
    "\n",
    "## Passing in the parent class, `User` is key here\n",
    "\n",
    "Now, let's instantiate a class:"
   ]
  },
  {
   "cell_type": "code",
   "execution_count": 2,
   "metadata": {},
   "outputs": [
    {
     "name": "stdout",
     "output_type": "stream",
     "text": [
      "<__main__.Wizard object at 0x7f38af768e20>\n"
     ]
    }
   ],
   "source": [
    "wizard1 = Wizard('Merlin', 50)\n",
    "print(wizard1)"
   ]
  },
  {
   "cell_type": "markdown",
   "metadata": {},
   "source": [
    "And the Wizard object has been created. Let's sign it in:"
   ]
  },
  {
   "cell_type": "code",
   "execution_count": 3,
   "metadata": {},
   "outputs": [
    {
     "name": "stdout",
     "output_type": "stream",
     "text": [
      "logged in\n",
      "None\n"
     ]
    }
   ],
   "source": [
    "print(wizard1.sign_in())"
   ]
  },
  {
   "cell_type": "markdown",
   "metadata": {},
   "source": [
    "We're logged in because we __inherited__ from the `User` class.\n",
    "Now we can __extend__ our `Wizard`."
   ]
  },
  {
   "cell_type": "code",
   "execution_count": null,
   "metadata": {},
   "outputs": [],
   "source": [
    "class User:\n",
    "  def sign_in(self):\n",
    "    print('logged in')\n",
    "\n",
    "class Wizard(User):\n",
    "  def __init__(self, name, power):\n",
    "    self.name = name\n",
    "    self.power = power\n",
    "    \n",
    "  def attack(self):\n",
    "    User.attack(self)\n",
    "    print(f'attacking with power of {self.power}')\n",
    "    \n",
    "class Archer(User):\n",
    "    def __init__(self, name, num_arrows):\n",
    "      self.name = name\n",
    "      self.num_arrows = num_arrows\n",
    "\n",
    "    def attack(self):\n",
    "      print(f'attacking with arrows: arrows left- {self.num_arrows}')\n",
    "\n",
    "    def attack(self):\n",
    "      print(f'attacking with arrows: arrows left- {self.num_arrows}')\n"
   ]
  },
  {
   "cell_type": "markdown",
   "metadata": {},
   "source": [
    "Now that we have established the classes, let's establish the first wizard, Merlin, and the archer, Robin."
   ]
  },
  {
   "cell_type": "code",
   "execution_count": null,
   "metadata": {},
   "outputs": [],
   "source": [
    "wizard1 = Wizard('Merlin', 50)\n",
    "archer1 = Archer('Robin', 100)"
   ]
  },
  {
   "cell_type": "markdown",
   "metadata": {},
   "source": [
    "Both will have access to the `sign_in` but also the `attack`, of course, but the way that they access that functionality is up to the classes themselves."
   ]
  },
  {
   "cell_type": "code",
   "execution_count": 5,
   "metadata": {},
   "outputs": [
    {
     "name": "stdout",
     "output_type": "stream",
     "text": [
      "attacking with power of 50\n",
      "attacking with arrows: arrows left- 100\n"
     ]
    }
   ],
   "source": [
    "class User:\n",
    "  def sign_in(self):\n",
    "    print('logged in')\n",
    "\n",
    "class Wizard(User):\n",
    "  def __init__(self, name, power):\n",
    "    self.name = name\n",
    "    self.power = power\n",
    "    \n",
    "  def attack(self):\n",
    "    print(f'attacking with power of {self.power}')\n",
    "    \n",
    "class Archer(User):\n",
    "    def __init__(self, name, num_arrows):\n",
    "      self.name = name\n",
    "      self.num_arrows = num_arrows\n",
    "\n",
    "    def attack(self):\n",
    "      print(f'attacking with arrows: arrows left- {self.num_arrows}')\n",
    "\n",
    "wizard1 = Wizard('Merlin', 50)\n",
    "archer1 = Archer('Robin', 100)\n",
    "wizard1.attack()\n",
    "archer1.attack()"
   ]
  },
  {
   "cell_type": "markdown",
   "metadata": {},
   "source": [
    "And they'll also be able to modify their own properties. Both `Wizard` and `Archer`, however, utilize the `sign_in` function at the same time. __This is what is meant by *inheritance*__. We abstract the code block that they both share, but these subclasses adapt themselves according to their own purposes.\n",
    "\n",
    "Our methods and properties in `Wizard` and `Archer` may differ among both, while still sharing `User` functionality. Here's our __parent__ class:"
   ]
  },
  {
   "cell_type": "code",
   "execution_count": null,
   "metadata": {},
   "outputs": [],
   "source": [
    "class User:\n",
    "  def sign_in(self):\n",
    "    print('logged in')"
   ]
  },
  {
   "cell_type": "markdown",
   "metadata": {},
   "source": [
    "And here are the children classes, also known as __*subclasses*__ or __*derived classes*__. They're spawned by the `User` class."
   ]
  },
  {
   "cell_type": "code",
   "execution_count": null,
   "metadata": {},
   "outputs": [],
   "source": [
    "class Wizard(User):\n",
    "  def __init__(self, name, power):\n",
    "    self.name = name\n",
    "    self.power = power\n",
    "    \n",
    "  def attack(self):\n",
    "    print(f'attacking with power of {self.power}')\n",
    "    \n",
    "class Archer(User):\n",
    "    def __init__(self, name, num_arrows):\n",
    "      self.name = name\n",
    "      self.num_arrows = num_arrows\n",
    "\n",
    "    def attack(self):\n",
    "      print(f'attacking with arrows: arrows left- {self.num_arrows}')"
   ]
  }
 ],
 "metadata": {
  "kernelspec": {
   "display_name": "Python 3.10.4 64-bit",
   "language": "python",
   "name": "python3"
  },
  "language_info": {
   "codemirror_mode": {
    "name": "ipython",
    "version": 3
   },
   "file_extension": ".py",
   "mimetype": "text/x-python",
   "name": "python",
   "nbconvert_exporter": "python",
   "pygments_lexer": "ipython3",
   "version": "3.10.4"
  },
  "orig_nbformat": 4,
  "vscode": {
   "interpreter": {
    "hash": "916dbcbb3f70747c44a77c7bcd40155683ae19c65e1c03b4aa3499c5328201f1"
   }
  }
 },
 "nbformat": 4,
 "nbformat_minor": 2
}
