{
 "cells": [
  {
   "cell_type": "markdown",
   "metadata": {},
   "source": [
    "# MRO stands for Method Resolution Order\n",
    "\n",
    "We have two classes that do nothing, and classes A and C share the same attribute"
   ]
  },
  {
   "cell_type": "code",
   "execution_count": 1,
   "metadata": {},
   "outputs": [],
   "source": [
    "class A:\n",
    "  num = 10\n",
    "  \n",
    "class B(A):\n",
    "  pass\n",
    "\n",
    "class C(A):\n",
    "  num = 1\n",
    "  \n",
    "class D(B, C):\n",
    "  pass"
   ]
  },
  {
   "cell_type": "markdown",
   "metadata": {},
   "source": [
    "If we drew it out it would look like this:"
   ]
  },
  {
   "cell_type": "code",
   "execution_count": null,
   "metadata": {},
   "outputs": [],
   "source": [
    "'''\n",
    "\n",
    "    A\n",
    "  /   \\\n",
    " /     \\\n",
    "B       C\n",
    "\\       /\n",
    " \\     /\n",
    "    D\n",
    "   \n",
    "   \n",
    "'''"
   ]
  },
  {
   "cell_type": "markdown",
   "metadata": {},
   "source": [
    "D has multiple inheritance from B and C, and B and C inherit from A.\n",
    "\n",
    "MRO (Multiple Resolution Order) is a rule that Python follows to determine which method we run when we run a method; do this, then do that, if you will.\n"
   ]
  },
  {
   "cell_type": "code",
   "execution_count": 2,
   "metadata": {},
   "outputs": [
    {
     "name": "stdout",
     "output_type": "stream",
     "text": [
      "1\n"
     ]
    }
   ],
   "source": [
    "class A:\n",
    "  num = 10\n",
    "  \n",
    "class B(A):\n",
    "  pass\n",
    "\n",
    "class C(A):\n",
    "  num = 1\n",
    "  \n",
    "class D(B, C):\n",
    "  pass\n",
    "\n",
    "print(D.num)"
   ]
  },
  {
   "cell_type": "markdown",
   "metadata": {},
   "source": [
    "The MRO in this case would give us 1 because the order is not D->B->A but D->B->C->A.\n",
    "\n",
    "MRO asks, what's first in line. If methods, variables or attributes recur among classes, what's the priority?"
   ]
  },
  {
   "cell_type": "code",
   "execution_count": 3,
   "metadata": {},
   "outputs": [
    {
     "name": "stdout",
     "output_type": "stream",
     "text": [
      "<built-in method mro of type object at 0x55c4cbd2b8d0>\n"
     ]
    }
   ],
   "source": [
    "print(D.mro)"
   ]
  },
  {
   "cell_type": "code",
   "execution_count": 4,
   "metadata": {},
   "outputs": [
    {
     "name": "stdout",
     "output_type": "stream",
     "text": [
      "[<class '__main__.D'>, <class '__main__.B'>, <class '__main__.C'>, <class '__main__.A'>, <class 'object'>]\n"
     ]
    }
   ],
   "source": [
    "print(D.mro())"
   ]
  },
  {
   "cell_type": "markdown",
   "metadata": {},
   "source": [
    "This gives us the exact order of operations. if we want the value of `print(D.num)` We check D first, then B, then C, then A."
   ]
  },
  {
   "cell_type": "code",
   "execution_count": 6,
   "metadata": {},
   "outputs": [
    {
     "name": "stdout",
     "output_type": "stream",
     "text": [
      "[<class '__main__.M'>, <class '__main__.B'>, <class '__main__.A'>, <class '__main__.X'>, <class '__main__.Y'>, <class '__main__.Z'>, <class 'object'>]\n"
     ]
    }
   ],
   "source": [
    "class X: pass\n",
    "class Y: pass\n",
    "class Z: pass\n",
    "class A(X, Y): pass\n",
    "class B(Y, Z): pass\n",
    "class M(B, A, Z): pass\n",
    "print(M.mro())"
   ]
  },
  {
   "cell_type": "markdown",
   "metadata": {},
   "source": [
    "If we check the method resolution order of M, `print(M.mro())` gives us a counter-intuitive result. I was expecting M->B->A->Z->X->Y->object, but that's not how it works.\n",
    "\n",
    "The order results from the way we pass in the parameters:\n",
    "\n",
    "- B is passed before A and Z\n",
    "- After A, however, the order goes to X\n",
    "\n",
    "The algorithm used for MRO is `Depth First Search`, and it's a bit confusing. Python changed the MRO rules. But wwe may be writing bad code if we hve to resort to DFS to figure out the order of operations. The last thing we want to do is over-complicate things.\n",
    "\n",
    "__Let's not structure our code in this way.__\n",
    "\n"
   ]
  },
  {
   "cell_type": "code",
   "execution_count": null,
   "metadata": {},
   "outputs": [],
   "source": []
  }
 ],
 "metadata": {
  "kernelspec": {
   "display_name": "Python 3.10.4 64-bit",
   "language": "python",
   "name": "python3"
  },
  "language_info": {
   "codemirror_mode": {
    "name": "ipython",
    "version": 3
   },
   "file_extension": ".py",
   "mimetype": "text/x-python",
   "name": "python",
   "nbconvert_exporter": "python",
   "pygments_lexer": "ipython3",
   "version": "3.10.4"
  },
  "orig_nbformat": 4,
  "vscode": {
   "interpreter": {
    "hash": "916dbcbb3f70747c44a77c7bcd40155683ae19c65e1c03b4aa3499c5328201f1"
   }
  }
 },
 "nbformat": 4,
 "nbformat_minor": 2
}
