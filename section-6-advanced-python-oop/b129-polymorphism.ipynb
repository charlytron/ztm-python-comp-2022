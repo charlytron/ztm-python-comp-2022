{
 "cells": [
  {
   "cell_type": "markdown",
   "metadata": {},
   "source": [
    "# Polymorphism\n",
    "\n",
    "- poly: many\n",
    "- morphism: form\n",
    "\n",
    "Methods belong to objects. The `self` keyword acts upon the object that was instantiated.\n",
    "\n",
    "Object classes can share the same method name, but those method names can act differently based on what object calls them.\n",
    "`attack()` is used on both lines 10 and 18 below; it's a __shared__ method, true, but each one does something different with the stock f string, based on the attribute.\n",
    "\n"
   ]
  },
  {
   "cell_type": "code",
   "execution_count": null,
   "metadata": {},
   "outputs": [],
   "source": [
    "wizard1.attack()\n",
    "archer1.attack()"
   ]
  },
  {
   "cell_type": "markdown",
   "metadata": {},
   "source": [
    "Both uses of this method yield different results:"
   ]
  },
  {
   "cell_type": "code",
   "execution_count": 4,
   "metadata": {},
   "outputs": [
    {
     "name": "stdout",
     "output_type": "stream",
     "text": [
      "attacking with power of 50\n",
      "attacking with arrows: arrows left- 100\n",
      "attacking with power of 50\n",
      "attacking with arrows: arrows left- 100\n"
     ]
    }
   ],
   "source": [
    "class User:\n",
    "  def sign_in(self):\n",
    "    print('logged in')\n",
    "\n",
    "class Wizard(User):\n",
    "  def __init__(self, name, power):\n",
    "    self.name = name\n",
    "    self.power = power\n",
    "    \n",
    "  def attack(self):\n",
    "    print(f'attacking with power of {self.power}')\n",
    "    \n",
    "class Archer(User):\n",
    "    def __init__(self, name, num_arrows):\n",
    "      self.name = name\n",
    "      self.num_arrows = num_arrows\n",
    "\n",
    "    def attack(self):\n",
    "      print(f'attacking with arrows: arrows left- {self.num_arrows}')\n",
    "\n",
    "wizard1 = Wizard('Shaggy', 50)\n",
    "archer1 = Archer('Scooby', 100)\n",
    "\n",
    "wizard1.attack()\n",
    "archer1.attack()\n",
    "\n",
    "def player_attack(char):\n",
    "  char.attack()\n",
    "\n",
    "player_attack(wizard1)\n",
    "player_attack(archer1)"
   ]
  },
  {
   "cell_type": "markdown",
   "metadata": {},
   "source": [
    "we're passing in a different object here, but still getting the same result, hence the name __polymorphism__."
   ]
  },
  {
   "cell_type": "code",
   "execution_count": null,
   "metadata": {},
   "outputs": [],
   "source": [
    "def player_attack(char):\n",
    "  char.attack()\n",
    "\n",
    "player_attack(wizard1)\n",
    "player_attack(archer1)"
   ]
  },
  {
   "cell_type": "markdown",
   "metadata": {},
   "source": [
    "We may also demonstrate this via a `for` loop."
   ]
  },
  {
   "cell_type": "code",
   "execution_count": 5,
   "metadata": {},
   "outputs": [
    {
     "name": "stdout",
     "output_type": "stream",
     "text": [
      "attacking with power of 50\n",
      "attacking with arrows: arrows left- 100\n"
     ]
    }
   ],
   "source": [
    "class User:\n",
    "  def sign_in(self):\n",
    "    print('logged in')\n",
    "\n",
    "class Wizard(User):\n",
    "  def __init__(self, name, power):\n",
    "    self.name = name\n",
    "    self.power = power\n",
    "    \n",
    "  def attack(self):\n",
    "    print(f'attacking with power of {self.power}')\n",
    "    \n",
    "class Archer(User):\n",
    "    def __init__(self, name, num_arrows):\n",
    "      self.name = name\n",
    "      self.num_arrows = num_arrows\n",
    "\n",
    "    def attack(self):\n",
    "      print(f'attacking with arrows: arrows left- {self.num_arrows}')\n",
    "\n",
    "wizard1 = Wizard('Shaggy', 50)\n",
    "archer1 = Archer('Scooby', 100)\n",
    "\n",
    "for char in [wizard1, archer1]:\n",
    "  char.attack()"
   ]
  },
  {
   "cell_type": "markdown",
   "metadata": {},
   "source": [
    "When we click `run`, we still get two different outputs. This is powerful because we can customize the method to our needs.\n",
    "\n",
    "Suppose we have both `User` and `Wizard` run the `attack()` method:"
   ]
  },
  {
   "cell_type": "code",
   "execution_count": 9,
   "metadata": {},
   "outputs": [
    {
     "name": "stdout",
     "output_type": "stream",
     "text": [
      "do nothing\n",
      "attacking with power of 50\n",
      "None\n"
     ]
    }
   ],
   "source": [
    "class User:\n",
    "  def sign_in(self):\n",
    "    print('logged in')\n",
    "    \n",
    "  def attack(self):\n",
    "    print('do nothing')\n",
    "\n",
    "class Wizard(User):\n",
    "  def __init__(self, name, power):\n",
    "    self.name = name\n",
    "    self.power = power\n",
    "    \n",
    "  def attack(self):\n",
    "    User.attack(self)\n",
    "    print(f'attacking with power of {self.power}')\n",
    "    \n",
    "class Archer(User):\n",
    "    def __init__(self, name, num_arrows):\n",
    "      self.name = name\n",
    "      self.num_arrows = num_arrows\n",
    "\n",
    "    def attack(self):\n",
    "      print(f'attacking with arrows: arrows left- {self.num_arrows}')\n",
    "\n",
    "wizard1 = Wizard('Shaggy', 50)\n",
    "archer1 = Archer('Scooby', 100)\n",
    "print(wizard1.attack())\n"
   ]
  },
  {
   "cell_type": "markdown",
   "metadata": {},
   "source": [
    "The point is that polymorphism allows us to have many forms. It gives us the ability to redefine methods for these derived classes.\n",
    "and an object that gets instantiated can behave in different ways, based on polymorphism.\n",
    "\n",
    "Why is it important? We are able to modify our classes to our specific needs."
   ]
  }
 ],
 "metadata": {
  "kernelspec": {
   "display_name": "Python 3.10.4 64-bit",
   "language": "python",
   "name": "python3"
  },
  "language_info": {
   "codemirror_mode": {
    "name": "ipython",
    "version": 3
   },
   "file_extension": ".py",
   "mimetype": "text/x-python",
   "name": "python",
   "nbconvert_exporter": "python",
   "pygments_lexer": "ipython3",
   "version": "3.10.4"
  },
  "orig_nbformat": 4,
  "vscode": {
   "interpreter": {
    "hash": "916dbcbb3f70747c44a77c7bcd40155683ae19c65e1c03b4aa3499c5328201f1"
   }
  }
 },
 "nbformat": 4,
 "nbformat_minor": 2
}
