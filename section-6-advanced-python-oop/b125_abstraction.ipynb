{
 "cells": [
  {
   "cell_type": "markdown",
   "metadata": {},
   "source": [
    "# Abstaction: Second OOP Pillar\n",
    "\n",
    "Sometimes we need to hide away information, giving access to what's necessary, what the user, programmer or machine needs to see. And why should they, if it doesn't concern them?"
   ]
  },
  {
   "cell_type": "code",
   "execution_count": null,
   "metadata": {},
   "outputs": [],
   "source": [
    "class PlayerCharacter:\n",
    "    membership = True # class object attribute\n",
    "    def __init__(self, name,age):\n",
    "        if (PlayerCharacter.membership):\n",
    "            self.name = name # attributes, or properties\n",
    "            self.age = age\n",
    "\n",
    "    def run(self):\n",
    "        return self\n",
    "      \n",
    "    def talk(self):\n",
    "        print(f'My name is {self.name}, and I am {self.age} years old')\n",
    "    \n",
    "\n",
    "player1 = PlayerCharacter('Billy', 20)\n"
   ]
  },
  {
   "cell_type": "markdown",
   "metadata": {},
   "source": [
    "Maybe we have a `PlayerCharacter` with a bunch of methods. Where is the abstraction in this example?\n",
    "\n",
    "When we write: "
   ]
  },
  {
   "cell_type": "code",
   "execution_count": null,
   "metadata": {},
   "outputs": [],
   "source": [
    "player1.talk()"
   ]
  },
  {
   "cell_type": "markdown",
   "metadata": {},
   "source": [
    "we're witnessing __abstraction__. When we run the code below, we get the expected string, but we don't care how `talk()` works when we call it, since we already took care of the implementation when instantiating the object.\n",
    "\n",
    "`Player1` has access to `talk()`: that's all we need to know.\n",
    "\n",
    "The same applies to the built-in functionality of a __tuple__:"
   ]
  },
  {
   "cell_type": "code",
   "execution_count": 7,
   "metadata": {},
   "outputs": [
    {
     "name": "stdout",
     "output_type": "stream",
     "text": [
      "My name is Billy, and I am 20 years old\n",
      "2\n"
     ]
    }
   ],
   "source": [
    "class PlayerCharacter:\n",
    "    membership = True # class object attribute\n",
    "    def __init__(self, name,age):\n",
    "        if (PlayerCharacter.membership):\n",
    "            self.name = name # attributes, or properties\n",
    "            self.age = age\n",
    "\n",
    "    def run(self):\n",
    "        return self\n",
    "      \n",
    "    def talk(self):\n",
    "        print(f'My name is {self.name}, and I am {self.age} years old')\n",
    "    \n",
    "\n",
    "player1 = PlayerCharacter('Billy', 20)\n",
    "player1.talk() # My name is Billy, and I am 20 years old\n",
    "print((1,2,3,4,1).count(1))"
   ]
  },
  {
   "cell_type": "markdown",
   "metadata": {},
   "source": [
    "We needn't know how these methods are implemented. What's the point of knowing how `len()` works, since we use it all the time anyway:"
   ]
  },
  {
   "cell_type": "code",
   "execution_count": 9,
   "metadata": {},
   "outputs": [
    {
     "name": "stdout",
     "output_type": "stream",
     "text": [
      "5\n"
     ]
    }
   ],
   "source": [
    "print(len((1,2,3,4,1)))"
   ]
  },
  {
   "cell_type": "markdown",
   "metadata": {},
   "source": [
    "In this pillar of OOP, The implementation is abstracted away from us, allowing us to be more efficient. We know how it all works, but that gets in our way when we have a lot of work to do.\n",
    "\n",
    "Outside of the class construction, implementation details are academic, and it has a place in how we structure our code. Yes, they have practical importance, just not in the abstraction layer of our code."
   ]
  },
  {
   "cell_type": "code",
   "execution_count": 12,
   "metadata": {},
   "outputs": [
    {
     "name": "stdout",
     "output_type": "stream",
     "text": [
      "I am a new attribute\n",
      "Sally\n"
     ]
    }
   ],
   "source": [
    "class PlayerCharacter:\n",
    "    membership = True # class object attribute\n",
    "    def __init__(self, name,age):\n",
    "        if (PlayerCharacter.membership):\n",
    "            self.name = name # attributes, or properties\n",
    "            self.age = age\n",
    "\n",
    "    def run(self):\n",
    "        return self\n",
    "      \n",
    "    def talk(self):\n",
    "        print(f'My name is {self.name}, and I am {self.age} years old')\n",
    "    \n",
    "\n",
    "player1 = PlayerCharacter('Billy', 20)\n",
    "player1.name = 'Sally'\n",
    "player1.speak = 'I am a new attribute'\n",
    "print(player1.speak) # I am a new attribute\n",
    "print (player1.name) # Sally"
   ]
  },
  {
   "cell_type": "markdown",
   "metadata": {},
   "source": [
    "It seems unfortunate that our variables can be so easily overwritten here, __but that's an occupational hazard of abstraction__, and it's a good reason why we need to distinguish between __public__ and __private__ variables."
   ]
  }
 ],
 "metadata": {
  "kernelspec": {
   "display_name": "Python 3.10.4 64-bit",
   "language": "python",
   "name": "python3"
  },
  "language_info": {
   "codemirror_mode": {
    "name": "ipython",
    "version": 3
   },
   "file_extension": ".py",
   "mimetype": "text/x-python",
   "name": "python",
   "nbconvert_exporter": "python",
   "pygments_lexer": "ipython3",
   "version": "3.10.4"
  },
  "orig_nbformat": 4,
  "vscode": {
   "interpreter": {
    "hash": "916dbcbb3f70747c44a77c7bcd40155683ae19c65e1c03b4aa3499c5328201f1"
   }
  }
 },
 "nbformat": 4,
 "nbformat_minor": 2
}
