{
 "cells": [
  {
   "cell_type": "markdown",
   "metadata": {},
   "source": [
    "# Setting up Flask\n",
    "\n",
    "We want to build a real server using Python.\n",
    "So, we need a module? We already have `http.server`.\n",
    "\n",
    "But it's not recommended for production, and it only implements basic security checks.\n",
    "\n",
    "We can use a framework for this. Flask fits the bill, using something like `http.server` under the hood, but makes sure that the security and the added benefits are already prebuilt.\n",
    "\n",
    "There are two popular frameworks in Python: [Flask](https://flask.palletsprojects.com/en/2.2.x/) and [Django](https://www.djangoproject.com/).\n",
    "\n",
    "\n",
    "Flask is a __micro framework__. Django has a lot of rules.\n",
    "\n"
   ]
  }
 ],
 "metadata": {
  "kernelspec": {
   "display_name": "Python 3.10.6 64-bit",
   "language": "python",
   "name": "python3"
  },
  "language_info": {
   "name": "python",
   "version": "3.10.6"
  },
  "orig_nbformat": 4,
  "vscode": {
   "interpreter": {
    "hash": "916dbcbb3f70747c44a77c7bcd40155683ae19c65e1c03b4aa3499c5328201f1"
   }
  }
 },
 "nbformat": 4,
 "nbformat_minor": 2
}
