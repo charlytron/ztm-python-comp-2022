{
 "cells": [
  {
   "cell_type": "markdown",
   "metadata": {},
   "source": [
    "# Setting up Flask\n",
    "\n",
    "We want to build a real server using Python.\n",
    "So, we need a module? We already have `http.server`.\n",
    "\n",
    "But it's not recommended for production, and it only implements basic security checks.\n",
    "\n",
    "We can use a framework for this. Flask fits the bill, using something like `http.server` under the hood, but makes sure that the security and the added benefits are already prebuilt.\n",
    "\n",
    "There are two popular frameworks in Python: [Flask](https://flask.palletsprojects.com/en/2.2.x/) and [Django](https://www.djangoproject.com/).\n",
    "\n",
    "\n",
    "Flask is a __micro framework__. Django has a lot of rules.\n",
    "\n"
   ]
  }
 ],
 "metadata": {
  "language_info": {
   "name": "python"
  },
  "orig_nbformat": 4
 },
 "nbformat": 4,
 "nbformat_minor": 2
}
