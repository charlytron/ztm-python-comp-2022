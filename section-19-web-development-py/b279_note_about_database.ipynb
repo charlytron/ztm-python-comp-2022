{
 "cells": [
  {
   "cell_type": "markdown",
   "metadata": {},
   "source": [
    "# Quick note bout databases\n",
    "\n",
    "They exist so that our data may persist, on the server side, instead of excel file.\n",
    "\n",
    "- MongoDB\n",
    "\n",
    "Going back to server.py:"
   ]
  },
  {
   "cell_type": "code",
   "execution_count": null,
   "metadata": {},
   "outputs": [],
   "source": [
    "from lib2to3.pgen2.token import NEWLINE\n",
    "from flask import Flask, render_template, url_for, request, redirect\n",
    "import csv\n",
    "\n",
    "app = Flask(__name__)\n",
    "print(__name__)\n",
    "\n",
    "@app.route('/')\n",
    "def my_home():\n",
    "    return render_template('index.html')\n",
    "\n",
    "\n",
    "@app.route('/<string:page_name>')\n",
    "def html_page(page_name):\n",
    "    return render_template(page_name)\n",
    "  \n",
    "  \n",
    "def write_to_csv(data):\n",
    "    with open('database.csv', newline='', mode='a') as database2: # a = append\n",
    "        email = data[\"email\"]\n",
    "        subject = data[\"subject\"]\n",
    "        message = data[\"message\"]\n",
    "        csv_writer = csv.writer(database2, delimiter=',', quotechar='\"', quoting=csv.QUOTE_MINIMAL)\n",
    "        csv_writer.writerow([email,subject,message])\n",
    "  \n",
    "@app.route('/submit_form', methods=['POST', 'GET'])\n",
    "def submit_form():\n",
    "    if request.method == 'POST':\n",
    "      try:\n",
    "        data = request.form.to_dict()\n",
    "        write_to_csv(data)\n",
    "        return redirect('/thank_you.html')\n",
    "      except:\n",
    "        return 'did not save to database'\n",
    "    else: \n",
    "        return 'something went wrong. Try agin!'"
   ]
  }
 ],
 "metadata": {
  "kernelspec": {
   "display_name": "Python 3.9.12 ('base')",
   "language": "python",
   "name": "python3"
  },
  "language_info": {
   "name": "python",
   "version": "3.9.12"
  },
  "orig_nbformat": 4,
  "vscode": {
   "interpreter": {
    "hash": "66b6dfc241c8325d69ccfbaf588ee11e398b2b02082dd5e73e37f3a4fd18fba0"
   }
  }
 },
 "nbformat": 4,
 "nbformat_minor": 2
}
