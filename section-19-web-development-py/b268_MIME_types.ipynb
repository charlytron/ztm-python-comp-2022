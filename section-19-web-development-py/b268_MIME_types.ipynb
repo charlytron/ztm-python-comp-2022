{
 "cells": [
  {
   "cell_type": "markdown",
   "metadata": {},
   "source": [
    "# MIME types\n",
    "\n",
    "Need to discuss data transfer from server to browser. When we open developer tools, we can go to the Network tab and actually see what type of data gets sent from the server.\n",
    "\n",
    "- HTML\n",
    "- CSS \n",
    "- JS\n",
    "\n",
    "There are a few other types available. We need to look at the field `Content-Type`; it uses a [MIME type](https://developer.mozilla.org/en-US/docs/Web/HTTP/Basics_of_HTTP/MIME_types) (Multipurpose Internet Mail Extension). Browsers use the MIME type to determine how to process a URL. They look at the `Content-Type` that our Flask app automatically sends to the browser so as to determine what to do with that file.\n",
    "\n",
    "All of this data that we're transferring is all just text. __But we want to focus on the types important for web development__.\n",
    "\n",
    "- plain/text\n",
    "- text/css\n",
    "- text/html\n",
    "- text/javascript\n",
    "\n",
    "If we click on the JS file in Dev Tools, and go to `Content-Type`, we'll see that it's `application/javascript`.\n",
    "\n",
    "All told, it's actually text that we receive from the server, even from a PNG file.\n",
    "\n",
    "Websites send the data and let the browser take care of building the page for us.\n",
    "\n",
    "Swapi.co just sends us information, not a webpage. THe content type of the `/people` route is just `application/json`. A website takes this data and may display it. This endpoint, instead of sending HTML, CSS and JS, just sends us the object notation that we need.\n",
    "\n",
    "## Servers serve data; that's what they do\n",
    "\n",
    "Developers use the idea of servers to grab data from a server and display something useful on a browser.\n",
    "\n"
   ]
  }
 ],
 "metadata": {
  "language_info": {
   "name": "python"
  },
  "orig_nbformat": 4
 },
 "nbformat": 4,
 "nbformat_minor": 2
}
