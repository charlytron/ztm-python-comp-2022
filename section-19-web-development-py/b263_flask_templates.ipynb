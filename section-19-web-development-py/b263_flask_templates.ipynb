{
 "cells": [
  {
   "cell_type": "markdown",
   "metadata": {},
   "source": [
    "# Flask Templates\n",
    "\n",
    "A server usually accepts a request from the browser. Up until know, we've established a `root` route or `/`. But we need to consider the other routes on the page. "
   ]
  },
  {
   "cell_type": "code",
   "execution_count": null,
   "metadata": {},
   "outputs": [],
   "source": [
    "from flask import Flask\n",
    "\n",
    "app = Flask(__name__)\n",
    "\n",
    "@app.route(\"/\")\n",
    "def hello_world():\n",
    "    return \"<p>Hello, World!</p>\""
   ]
  },
  {
   "cell_type": "markdown",
   "metadata": {},
   "source": [
    "At the moment our server is only listening to the root request. We will create a `/blog` route as well."
   ]
  },
  {
   "cell_type": "code",
   "execution_count": null,
   "metadata": {},
   "outputs": [],
   "source": [
    "from flask import Flask\n",
    "\n",
    "app = Flask(__name__)\n",
    "\n",
    "@app.route(\"/\")\n",
    "def hello_world():\n",
    "    return \"<p>Home Page!</p>\"\n",
    "  \n",
    "@app.route(\"/blog\")\n",
    "def blog():\n",
    "    return \"<p>Such are my thoughts on the matter</p>\"\n",
    "  \n",
    "  "
   ]
  },
  {
   "cell_type": "markdown",
   "metadata": {},
   "source": [
    "Now our server is listening to more than one route request. We now have multiple routes. Headers in the Network tab indicate a 200 status, so we're good there. And the `Content-Type` was `text/html`. Flask does this for us.\n",
    "\n",
    "We just sent a string in this block of code:"
   ]
  },
  {
   "cell_type": "code",
   "execution_count": null,
   "metadata": {},
   "outputs": [],
   "source": [
    "@app.route(\"/\")\n",
    "def hello_world():\n",
    "    return \"<p>Home Page!</p>\""
   ]
  },
  {
   "cell_type": "markdown",
   "metadata": {},
   "source": [
    "Flask automatically converts this to HTML so that the browser can understand it. Now, if we go to the `elements` tab in F12, we get a `<body>` with `polly wanna cracka` automatically."
   ]
  },
  {
   "cell_type": "code",
   "execution_count": null,
   "metadata": {
    "vscode": {
     "languageId": "html"
    }
   },
   "outputs": [],
   "source": [
    "<!DOCTYPE html>\n",
    "<html lang=\"en\">\n",
    "<head>\n",
    "  <meta charset=\"UTF-8\">\n",
    "  <meta http-equiv=\"X-UA-Compatible\" content=\"IE=edge\">\n",
    "  <meta name=\"viewport\" content=\"width=device-width, initial-scale=1.0\">\n",
    "  <link rel=\"stylesheet\" href=\"style.css\">\n",
    "  \n",
    "  <title>Document</title>\n",
    "</head>\n",
    "<body>\n",
    "  <P>Polly wanna cracker</P>\n",
    "  <script src=\"script.js\"></script>\n",
    "</body>\n",
    "</html>\n"
   ]
  },
  {
   "cell_type": "markdown",
   "metadata": {},
   "source": [
    "But we can create even more routes as seen in line 13:"
   ]
  },
  {
   "cell_type": "code",
   "execution_count": null,
   "metadata": {},
   "outputs": [],
   "source": [
    "from flask import Flask\n",
    "\n",
    "app = Flask(__name__)\n",
    "\n",
    "@app.route(\"/\")\n",
    "def hello_world():\n",
    "    return \"<p>Home Page!</p>\"\n",
    "  \n",
    "@app.route(\"/blog\")\n",
    "def blog():\n",
    "    return \"<p>Such are my thoughts on the matter</p>\"\n",
    "  \n",
    "@app.route(\"/blog/2020/dogs\")\n",
    "def blog2():\n",
    "    return \"<p>Such are my thoughts on dogs, dog!</p>\"\n",
    "  \n",
    "  "
   ]
  },
  {
   "cell_type": "markdown",
   "metadata": {},
   "source": [
    "What if we remove the dogs part and have two instances of `/blog` endpoint?"
   ]
  },
  {
   "cell_type": "code",
   "execution_count": null,
   "metadata": {},
   "outputs": [],
   "source": [
    "from flask import Flask, render_template\n",
    "\n",
    "app = Flask(__name__)\n",
    "\n",
    "@app.route(\"/\")\n",
    "def hello_world():\n",
    "    return render_template('./index.html')\n",
    "  \n",
    "@app.route(\"/blog\")\n",
    "def blog():\n",
    "    return \"<p>Blog</p>\"\n",
    "\n",
    "@app.route(\"/blog\")\n",
    "def blog2():\n",
    "    return \"<p>This is my dog, dog</p>\""
   ]
  },
  {
   "cell_type": "markdown",
   "metadata": {},
   "source": [
    "Now, if we go to the `/blog` endpoint, we get `Blog` as the HTML rendered. Once we hit a route that flask sees, it's going to automatically return and forget about the remaining duplicate routes on the site. We might want to bring our `dog` blog post back, for obvious reasons, so we can comment out that code in `server.py`.\n",
    "\n",
    "But instead of just sending out text, we'd do ourselves a favor by leveraging __templates__, importing this feature in line 1:"
   ]
  },
  {
   "cell_type": "code",
   "execution_count": null,
   "metadata": {},
   "outputs": [],
   "source": [
    "from flask import Flask, render_template\n",
    "\n",
    "app = Flask(__name__)\n",
    "\n",
    "@app.route(\"/\")\n",
    "def hello_world():\n",
    "    return render_template('./index.html')\n",
    "  \n",
    "@app.route(\"/blog\")\n",
    "def blog():\n",
    "    return \"<p>Blog</p>\"\n",
    "\n",
    "@app.route(\"/blog/2020/dogs\")\n",
    "def blog2():\n",
    "    return \"<p>This is my dog, dog</p>\""
   ]
  },
  {
   "cell_type": "markdown",
   "metadata": {},
   "source": [
    "`render_template` will allow us to actually send the HTML file. We make the home route in line 7 actually return the `index.html` template. But we need to keep out HTML files in a `templates` folder for this to work because `render_template` is going to look for that folder as per the documentation.\n",
    "\n",
    "We can create a new file for the `/about` route as follows and place it in the same `templates` folder:"
   ]
  },
  {
   "cell_type": "code",
   "execution_count": null,
   "metadata": {
    "vscode": {
     "languageId": "html"
    }
   },
   "outputs": [],
   "source": [
    "<!DOCTYPE html>\n",
    "<html lang=\"en\">\n",
    "<head>\n",
    "  <meta charset=\"UTF-8\">\n",
    "  <meta http-equiv=\"X-UA-Compatible\" content=\"IE=edge\">\n",
    "  <meta name=\"viewport\" content=\"width=device-width, initial-scale=1.0\">\n",
    "  <link rel=\"stylesheet\" href=\"style.css\">\n",
    "  \n",
    "  <title>About</title>\n",
    "</head>\n",
    "<body>\n",
    "  <P>It's all about you</P>\n",
    "  <script src=\"script.js\"></script>\n",
    "</body>\n",
    "</html>\n"
   ]
  },
  {
   "cell_type": "markdown",
   "metadata": {},
   "source": [
    "But that's not quite enough. We also have to change the `server.py` file accordingly to establish the `about.html` route:"
   ]
  },
  {
   "cell_type": "code",
   "execution_count": null,
   "metadata": {},
   "outputs": [],
   "source": [
    "from flask import Flask, render_template\n",
    "\n",
    "app = Flask(__name__)\n",
    "\n",
    "@app.route(\"/\")\n",
    "def hello_world():\n",
    "    return render_template('./index.html')\n",
    "\n",
    "@app.route(\"/about.html\")\n",
    "def about():\n",
    "    return render_template('./about.html')\n",
    "  \n",
    "@app.route(\"/blog\")\n",
    "def blog():\n",
    "    return \"<p>Blog</p>\"\n",
    "\n",
    "@app.route(\"/blog/2020/dogs\")\n",
    "def blog2():\n",
    "    return \"<p>This is my dog, dog</p>\""
   ]
  }
 ],
 "metadata": {
  "kernelspec": {
   "display_name": "Python 3.9.12 ('base')",
   "language": "python",
   "name": "python3"
  },
  "language_info": {
   "codemirror_mode": {
    "name": "ipython",
    "version": 3
   },
   "file_extension": ".py",
   "mimetype": "text/x-python",
   "name": "python",
   "nbconvert_exporter": "python",
   "pygments_lexer": "ipython3",
   "version": "3.9.12"
  },
  "orig_nbformat": 4,
  "vscode": {
   "interpreter": {
    "hash": "66b6dfc241c8325d69ccfbaf588ee11e398b2b02082dd5e73e37f3a4fd18fba0"
   }
  }
 },
 "nbformat": 4,
 "nbformat_minor": 2
}
