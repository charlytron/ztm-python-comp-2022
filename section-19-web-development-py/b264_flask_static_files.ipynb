{
 "cells": [
  {
   "cell_type": "markdown",
   "metadata": {},
   "source": [
    "# Flask Static Files\n",
    "\n",
    "Here, we'll figure out how to add css and JavaScript to our `index.html`. \n",
    "\n",
    "We are using `<script src=\"script.js\"></script>` and `<link rel=\"stylesheet\" href=\"style.css\">`.\n",
    "\n",
    "A __static file__ is simply a file that doesn't change, like CSS and JS. We have to store the files on the filesystem as `static/style.css` for example. That means we need to create a static folder."
   ]
  }
 ],
 "metadata": {
  "kernelspec": {
   "display_name": "Python 3.9.12 ('base')",
   "language": "python",
   "name": "python3"
  },
  "language_info": {
   "name": "python",
   "version": "3.9.12"
  },
  "orig_nbformat": 4,
  "vscode": {
   "interpreter": {
    "hash": "66b6dfc241c8325d69ccfbaf588ee11e398b2b02082dd5e73e37f3a4fd18fba0"
   }
  }
 },
 "nbformat": 4,
 "nbformat_minor": 2
}
