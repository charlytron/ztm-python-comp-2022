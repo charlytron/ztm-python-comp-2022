{
 "cells": [
  {
   "cell_type": "markdown",
   "metadata": {},
   "source": [
    "# URL Parameters\n",
    "\n",
    "Flask tool called __Variable Rules__ allows us to be dynamic."
   ]
  },
  {
   "cell_type": "code",
   "execution_count": null,
   "metadata": {},
   "outputs": [],
   "source": [
    "@app.route('/user/<username>')"
   ]
  },
  {
   "cell_type": "markdown",
   "metadata": {},
   "source": [
    "If we go back to `server.py`, we can inside of our `hello_world()` ask for `<username>`. Flask will look at this and say that we can pass it on into the `hello_world()` function. Now, in our `index.html`, we can pass on this data. In other words, we can write the route as `http://127.0.0.1:5000/chaboom` in the browser and the name of the route will show up on the page."
   ]
  },
  {
   "cell_type": "code",
   "execution_count": null,
   "metadata": {},
   "outputs": [],
   "source": [
    "from flask import Flask, render_template, url_for\n",
    "\n",
    "app = Flask(__name__)\n",
    "print(__name__)\n",
    "\n",
    "@app.route('/<username>')\n",
    "def hello_world(username=None):\n",
    "    return render_template('./index.html', name=username)\n",
    "\n",
    "@app.route(\"/about.html\")\n",
    "def about():\n",
    "    return render_template('./about.html')\n",
    "  \n",
    "\n",
    "@app.route(\"/blog/2020/dogs\")\n",
    "def blog2():\n",
    "    return \"<p>This is my dog, dog</p>\"\n",
    "\n"
   ]
  },
  {
   "cell_type": "markdown",
   "metadata": {},
   "source": [
    "In the Flask documentation, in Variable Rules, we have different rules to apply. We can require a positive integer or any other data type, a path or `uuid`.\n",
    "\n",
    "We'll try a `post_id` in line 6 to show how this works: `@app.route('/<username>/<int:post_id>')`. Now the second parameter of our `hello_world()` function will be `post_id=None`, and the third argument of `render_template()` will be `post_id=post_id`."
   ]
  },
  {
   "cell_type": "code",
   "execution_count": null,
   "metadata": {},
   "outputs": [],
   "source": [
    "from flask import Flask, render_template, url_for\n",
    "\n",
    "app = Flask(__name__)\n",
    "print(__name__)\n",
    "\n",
    "@app.route('/<username>/<int:post_id>')\n",
    "def hello_world(username=None, post_id=None):\n",
    "    return render_template('./index.html', name=username, post_id=post_id)\n",
    "\n",
    "@app.route(\"/about.html\")\n",
    "def about():\n",
    "    return render_template('./about.html')\n",
    "  \n",
    "\n",
    "@app.route(\"/blog/2020/dogs\")\n",
    "def blog2():\n",
    "    return \"<p>This is my dog, dog</p>\"\n"
   ]
  },
  {
   "cell_type": "markdown",
   "metadata": {},
   "source": [
    "Our server, based on what URL parameters we give it, is able to decide what resource to send to the front end so that it can display the appropriate info."
   ]
  }
 ],
 "metadata": {
  "kernelspec": {
   "display_name": "Python 3.9.12 ('base')",
   "language": "python",
   "name": "python3"
  },
  "language_info": {
   "name": "python",
   "version": "3.9.12"
  },
  "orig_nbformat": 4,
  "vscode": {
   "interpreter": {
    "hash": "66b6dfc241c8325d69ccfbaf588ee11e398b2b02082dd5e73e37f3a4fd18fba0"
   }
  }
 },
 "nbformat": 4,
 "nbformat_minor": 2
}
