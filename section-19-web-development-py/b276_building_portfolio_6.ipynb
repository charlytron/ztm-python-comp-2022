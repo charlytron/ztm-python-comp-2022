{
 "cells": [
  {
   "cell_type": "markdown",
   "metadata": {},
   "source": [
    "# Building a Portfolio, part 6\n",
    "\n",
    "\n",
    "People can now interact with the website, and we've sent this form data to our Python server. Thing is, as soon as the server stops running, or crashes, that data is lost.\n",
    "\n",
    "Ideally, we write the data onto disk so that if we stop the server, the data persists on a file.\n",
    "\n",
    "## we need to write our data to a file, and we've done it before\n",
    "\n",
    "We'll create a new `.txt` file and name it `database.txt`. It will be where we store info that the server receives.\n",
    "\n",
    "- email\n",
    "- subject\n",
    "- message\n",
    "\n",
    "Ideally, we're able to append or add to this file as people submit the form.\n",
    "\n",
    "\n"
   ]
  },
  {
   "cell_type": "code",
   "execution_count": null,
   "metadata": {},
   "outputs": [],
   "source": [
    "from flask import Flask, render_template, url_for, request, redirect\n",
    "\n",
    "app = Flask(__name__)\n",
    "print(__name__)\n",
    "\n",
    "@app.route('/')\n",
    "def my_home():\n",
    "    return render_template('index.html')\n",
    "\n",
    "\n",
    "@app.route('/<string:page_name>')\n",
    "def html_page(page_name):\n",
    "    return render_template(page_name)\n",
    "  \n",
    "  \n",
    "def write_to_file(data):\n",
    "    with open('database.txt', mode='a') as database: # a = append\n",
    "        email = data[\"email\"]\n",
    "        subject = data[\"subject\"]\n",
    "        message = data[\"message\"]\n",
    "        file = database.write(f'\\n{email},{subject},{message}')\n",
    "  \n",
    "@app.route('/submit_form', methods=['POST', 'GET'])\n",
    "def submit_form():\n",
    "    if request.method == 'POST':\n",
    "        data = request.form.to_dict()\n",
    "        write_to_file(data)\n",
    "        return redirect('/thank_you.html')\n",
    "    else: \n",
    "        return 'something went wrong. Try again!'"
   ]
  },
  {
   "cell_type": "markdown",
   "metadata": {},
   "source": [
    "And this does persist the info to `database.txt`, but just not in the most accessible format"
   ]
  },
  {
   "cell_type": "raw",
   "metadata": {},
   "source": [
    "email,subject,message\n",
    "dfww@df.biz,aaaaaaaaaaaaah,oooohwow\n",
    "dfww@df.biz,aaaaaaaaaaaaah,oooohwow\n",
    "f@f.com,aaaaaaaaaaaaah,oooooooooooooooooooooh\n",
    "fee@fofifum.com,aaaaaaaaaaaaah,oooooooooooooooooooooh"
   ]
  },
  {
   "cell_type": "markdown",
   "metadata": {},
   "source": [
    "Maybe it would be better to set this up as a CSV file. We need to explore that. "
   ]
  }
 ],
 "metadata": {
  "kernelspec": {
   "display_name": "Python 3.9.12 ('base')",
   "language": "python",
   "name": "python3"
  },
  "language_info": {
   "name": "python",
   "version": "3.9.12"
  },
  "orig_nbformat": 4,
  "vscode": {
   "interpreter": {
    "hash": "66b6dfc241c8325d69ccfbaf588ee11e398b2b02082dd5e73e37f3a4fd18fba0"
   }
  }
 },
 "nbformat": 4,
 "nbformat_minor": 2
}
