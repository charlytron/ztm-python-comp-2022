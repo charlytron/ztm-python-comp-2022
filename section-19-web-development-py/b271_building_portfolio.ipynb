{
 "cells": [
  {
   "cell_type": "markdown",
   "metadata": {},
   "source": [
    "# Building a Portfolio, part 2\n",
    "\n",
    "Can we improve server.py to make it more dynamic? There's a lot of repeated routing going on. No point in copying and pasting code every time we add an HTML file to the mix."
   ]
  },
  {
   "cell_type": "code",
   "execution_count": null,
   "metadata": {},
   "outputs": [],
   "source": [
    "from flask import Flask, render_template, url_for\n",
    "\n",
    "app = Flask(__name__)\n",
    "print(__name__)\n",
    "\n",
    "\n",
    "@app.route('/index.html')\n",
    "def my_home():\n",
    "    return render_template('./index.html')\n",
    "\n",
    "\n",
    "@app.route('/works.html')\n",
    "def my_works():\n",
    "    return render_template('./works.html')\n",
    "\n",
    "\n",
    "@app.route('/work.html')\n",
    "def my_work():\n",
    "    return render_template('./work.html')\n",
    "\n",
    "\n",
    "@app.route(\"/about.html\")\n",
    "def about():\n",
    "    return render_template('./about.html')\n",
    "\n",
    "\n",
    "@app.route(\"/contact.html\")\n",
    "def contact():\n",
    "    return render_template('./contact.html')\n",
    "\n",
    "\n",
    "@app.route(\"/components.html\")\n",
    "def components():\n",
    "    return render_template('./components.html')\n"
   ]
  }
 ],
 "metadata": {
  "kernelspec": {
   "display_name": "Python 3.9.12 ('base')",
   "language": "python",
   "name": "python3"
  },
  "language_info": {
   "name": "python",
   "version": "3.9.12"
  },
  "orig_nbformat": 4,
  "vscode": {
   "interpreter": {
    "hash": "66b6dfc241c8325d69ccfbaf588ee11e398b2b02082dd5e73e37f3a4fd18fba0"
   }
  }
 },
 "nbformat": 4,
 "nbformat_minor": 2
}
