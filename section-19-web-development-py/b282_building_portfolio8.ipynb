{
 "cells": [
  {
   "cell_type": "markdown",
   "metadata": {},
   "source": [
    "# Building Portfolio: 8\n",
    "\n",
    "Our problem is that we're running the browser as well as the server on the same computer. But that's not how the real world works. Nobody can see 127.0.0.1 but us."
   ]
  }
 ],
 "metadata": {
  "language_info": {
   "name": "python"
  },
  "orig_nbformat": 4
 },
 "nbformat": 4,
 "nbformat_minor": 2
}
