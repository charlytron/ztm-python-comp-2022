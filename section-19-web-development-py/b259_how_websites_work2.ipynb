{
 "cells": [
  {
   "cell_type": "markdown",
   "metadata": {},
   "source": [
    "# How Websites Work II\n",
    "\n",
    "In the previous lecture, we learned that the browser sends a request to the server, using the HTTPS protocol.\n",
    "\n",
    "Then, it receives the JS, HTML, CSS files so that it's able to display a website."
   ]
  }
 ],
 "metadata": {
  "language_info": {
   "name": "python"
  },
  "orig_nbformat": 4
 },
 "nbformat": 4,
 "nbformat_minor": 2
}
