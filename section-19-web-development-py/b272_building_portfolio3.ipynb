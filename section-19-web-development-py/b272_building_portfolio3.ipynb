{
 "cells": [
  {
   "cell_type": "markdown",
   "metadata": {},
   "source": [
    "# Building a Portfolio, Part 3\n",
    "\n",
    "We need to make this all more dynamic. We have our home route, but the rest of the pages repeat this code a lot."
   ]
  },
  {
   "cell_type": "code",
   "execution_count": null,
   "metadata": {},
   "outputs": [],
   "source": [
    "from flask import Flask, render_template, url_for\n",
    "\n",
    "app = Flask(__name__)\n",
    "print(__name__)\n",
    "\n",
    "\n",
    "@app.route('/index.html')\n",
    "def my_home():\n",
    "    return render_template('./index.html')\n",
    "\n",
    "\n",
    "@app.route('/works.html')\n",
    "def my_works():\n",
    "    return render_template('./works.html')\n",
    "\n",
    "\n",
    "@app.route('/work.html')\n",
    "def my_work():\n",
    "    return render_template('./work.html')\n",
    "\n",
    "\n",
    "@app.route(\"/about.html\")\n",
    "def about():\n",
    "    return render_template('./about.html')\n",
    "\n",
    "\n",
    "@app.route(\"/contact.html\")\n",
    "def contact():\n",
    "    return render_template('./contact.html')\n",
    "\n",
    "\n",
    "@app.route(\"/components.html\")\n",
    "def components():\n",
    "    return render_template('./components.html')\n"
   ]
  },
  {
   "cell_type": "markdown",
   "metadata": {},
   "source": [
    "We will delete all of these and, instead, dynamically accept different URL parameters. And we want to render the data that gets typed into the URL:"
   ]
  },
  {
   "cell_type": "code",
   "execution_count": null,
   "metadata": {},
   "outputs": [],
   "source": [
    "from flask import Flask, render_template, url_for\n",
    "\n",
    "app = Flask(__name__)\n",
    "print(__name__)\n",
    "\n",
    "\n",
    "@app.route('/<string: page_name>')\n",
    "def html_page(page_name):\n",
    "    return render_template(page_name)\n",
    "\n"
   ]
  }
 ],
 "metadata": {
  "kernelspec": {
   "display_name": "Python 3.9.12 ('base')",
   "language": "python",
   "name": "python3"
  },
  "language_info": {
   "name": "python",
   "version": "3.9.12"
  },
  "orig_nbformat": 4,
  "vscode": {
   "interpreter": {
    "hash": "66b6dfc241c8325d69ccfbaf588ee11e398b2b02082dd5e73e37f3a4fd18fba0"
   }
  }
 },
 "nbformat": 4,
 "nbformat_minor": 2
}
