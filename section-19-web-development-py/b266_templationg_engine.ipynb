{
 "cells": [
  {
   "cell_type": "markdown",
   "metadata": {},
   "source": [
    "# Templating Engine\n",
    "\n",
    "Getting back to the weird syntax of including a Favicon:"
   ]
  },
  {
   "cell_type": "code",
   "execution_count": null,
   "metadata": {
    "vscode": {
     "languageId": "html"
    }
   },
   "outputs": [],
   "source": [
    "<link rel=\"shortcut icon\" href=\"{{ url_for('static', filename='global.ico') }}\">"
   ]
  },
  {
   "cell_type": "markdown",
   "metadata": {},
   "source": [
    "We would need to understand the idea of a templating language. The power of Flask is the fact that we can build things dynamically. Let's assume that in the `<body>` tag we write `4 + 5` between two curly brackets:"
   ]
  },
  {
   "cell_type": "code",
   "execution_count": null,
   "metadata": {
    "vscode": {
     "languageId": "html"
    }
   },
   "outputs": [],
   "source": [
    "<!DOCTYPE html>\n",
    "<html lang=\"en\">\n",
    "<head>\n",
    "  <meta charset=\"UTF-8\">\n",
    "  <meta http-equiv=\"X-UA-Compatible\" content=\"IE=edge\">\n",
    "  <meta name=\"viewport\" content=\"width=device-width, initial-scale=1.0\">\n",
    "  <link rel=\"stylesheet\" href=\"style.css\">\n",
    "  <link rel=\"shortcut icon\" href=\"{{ url_for('static', filename='global.ico') }}\">\n",
    "  <title>Document</title>\n",
    "</head>\n",
    "<body>\n",
    "  {{ 4 + 5}}\n",
    "  <script src=\"script.js\"></script>\n",
    "</body>\n",
    "</html>"
   ]
  },
  {
   "cell_type": "markdown",
   "metadata": {},
   "source": [
    "The curly braces evaluate the expression. But what's between is not HTML. Flask looks at it differently; as a Python expression. Under the hood, it uses [Jinja](https://jinja.palletsprojects.com/en/3.1.x/), a templating language, which is a way for us to do `{{ 4 + 5 }}`, and it's included in Flask.\n",
    "\n",
    "If we look at the favicon, line 8, we've used Jinja to say, 'evaluate this as Python'. If we copy this, and we go to `server.py`, the `hello_world()` function will understand what to do with `url_for()` in line 8, as long as we properly import it in line 1."
   ]
  },
  {
   "cell_type": "code",
   "execution_count": null,
   "metadata": {},
   "outputs": [],
   "source": [
    "from flask import Flask, render_template, url_for\n",
    "\n",
    "app = Flask(__name__)\n",
    "print(__name__)\n",
    "\n",
    "@app.route(\"/\")\n",
    "def hello_world():\n",
    "    print(url_for('static', filename='global.ico'))\n",
    "    return render_template('./index.html')\n",
    "\n",
    "@app.route(\"/about.html\")\n",
    "def about():\n",
    "    return render_template('./about.html')\n",
    "  \n",
    "# @app.route(\"/favicon.ico\")\n",
    "# def blog():\n",
    "#     return \"<p>Blog</p>\"\n",
    "\n",
    "@app.route(\"/blog/2020/dogs\")\n",
    "def blog2():\n",
    "    return \"<p>This is my dog, dog</p>\""
   ]
  },
  {
   "cell_type": "markdown",
   "metadata": {},
   "source": [
    "We're now able to dynamically update parts of the page. What if when we refresh we are given the username of the website."
   ]
  }
 ],
 "metadata": {
  "kernelspec": {
   "display_name": "Python 3.9.12 ('base')",
   "language": "python",
   "name": "python3"
  },
  "language_info": {
   "codemirror_mode": {
    "name": "ipython",
    "version": 3
   },
   "file_extension": ".py",
   "mimetype": "text/x-python",
   "name": "python",
   "nbconvert_exporter": "python",
   "pygments_lexer": "ipython3",
   "version": "3.9.12"
  },
  "orig_nbformat": 4,
  "vscode": {
   "interpreter": {
    "hash": "66b6dfc241c8325d69ccfbaf588ee11e398b2b02082dd5e73e37f3a4fd18fba0"
   }
  }
 },
 "nbformat": 4,
 "nbformat_minor": 2
}
