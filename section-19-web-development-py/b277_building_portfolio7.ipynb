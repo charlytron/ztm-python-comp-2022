{
 "cells": [
  {
   "cell_type": "markdown",
   "metadata": {},
   "source": [
    "# Building Portfolio VII\n",
    "\n",
    "Need to learn about CSV files, as Python has a CSV module. We'll deploy this instead of writing to `.txt`. If we look at the CSV module docs, we can create a new file called `database.csv`.\n",
    "\n",
    "We need to return to `server.py` and, instead of the `write_to_file()` function, we'll write another function which will be\n",
    "`write_to_csv()` "
   ]
  },
  {
   "cell_type": "code",
   "execution_count": null,
   "metadata": {},
   "outputs": [],
   "source": [
    "from flask import Flask, render_template, url_for, request, redirect\n",
    "import csv\n",
    "\n",
    "app = Flask(__name__)\n",
    "print(__name__)\n",
    "\n",
    "@app.route('/')\n",
    "def my_home():\n",
    "    return render_template('index.html')\n",
    "\n",
    "\n",
    "@app.route('/<string:page_name>')\n",
    "def html_page(page_name):\n",
    "    return render_template(page_name)\n",
    "  \n",
    "  \n",
    "def write_to_file(data):\n",
    "    with open('database.txt', mode='a') as database: # a = append\n",
    "        email = data[\"email\"]\n",
    "        subject = data[\"subject\"]\n",
    "        message = data[\"message\"]\n",
    "        file = database.write(f'\\n{email},{subject},{message}')\n",
    "        \n",
    "def write_to_csv(data):\n",
    "    with open('database.csv', newline='', mode='a') as database2: # a = append\n",
    "        email = data[\"email\"]\n",
    "        subject = data[\"subject\"]\n",
    "        message = data[\"message\"]\n",
    "        csv_writer = csv.writer(database2, delimiter=',', quotechar='', quoting=csv.QUOTE_MINIMAL)\n",
    "        csv_writer.writerow(email,subject,message)\n",
    "  \n",
    "@app.route('/submit_form', methods=['POST', 'GET'])\n",
    "def submit_form():\n",
    "    if request.method == 'POST':\n",
    "        data = request.form.to_dict()\n",
    "        write_to_file(data)\n",
    "        return redirect('/thank_you.html')\n",
    "    else: \n",
    "        return 'something went wrong. Try again!'"
   ]
  },
  {
   "cell_type": "markdown",
   "metadata": {},
   "source": [
    "This works,but we need a database, something we can keep on a completely different machine. we want some sort of guarantee that we're not going to lose our data."
   ]
  }
 ],
 "metadata": {
  "kernelspec": {
   "display_name": "Python 3.9.12 ('base')",
   "language": "python",
   "name": "python3"
  },
  "language_info": {
   "name": "python",
   "version": "3.9.12"
  },
  "orig_nbformat": 4,
  "vscode": {
   "interpreter": {
    "hash": "66b6dfc241c8325d69ccfbaf588ee11e398b2b02082dd5e73e37f3a4fd18fba0"
   }
  }
 },
 "nbformat": 4,
 "nbformat_minor": 2
}
