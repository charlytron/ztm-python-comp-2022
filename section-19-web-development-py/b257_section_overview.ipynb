{
 "cells": [
  {
   "cell_type": "markdown",
   "metadata": {},
   "source": [
    "# Section Overview\n",
    "\n",
    "Exploring how to use Python to build websites. It will also work with mobile development.\n",
    "\n",
    "General overview in this section:\n",
    "\n",
    "- what it involves\n",
    "- how sites actually work\n",
    "- how browsers work\n",
    "- using Python to build a server\n",
    "- own portfolio webpage"
   ]
  }
 ],
 "metadata": {
  "language_info": {
   "name": "python"
  },
  "orig_nbformat": 4
 },
 "nbformat": 4,
 "nbformat_minor": 2
}
