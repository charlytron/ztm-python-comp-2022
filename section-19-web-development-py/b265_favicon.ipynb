{
 "cells": [
  {
   "cell_type": "markdown",
   "metadata": {},
   "source": [
    "# Favicon\n",
    "\n",
    "Need to put the favicon `.ico` file in the `/static` directory and add the following line to the head per line 6:"
   ]
  },
  {
   "cell_type": "code",
   "execution_count": null,
   "metadata": {
    "vscode": {
     "languageId": "html"
    }
   },
   "outputs": [],
   "source": [
    "<head>\n",
    "  <meta charset=\"UTF-8\">\n",
    "  <meta http-equiv=\"X-UA-Compatible\" content=\"IE=edge\">\n",
    "  <meta name=\"viewport\" content=\"width=device-width, initial-scale=1.0\">\n",
    "  <link rel=\"stylesheet\" href=\"static/style.css\">\n",
    "  <link rel=\"shortcut icon\" href=\"{{ url_for('static', filename='global.ico') }}\">\n",
    "\n",
    "  <title>Document</title>\n",
    "</head>"
   ]
  },
  {
   "cell_type": "markdown",
   "metadata": {},
   "source": [
    "It didn't work for me at first in Chrome, so I had to flush the cache with ctrl + F5, then I got the favicon to show. We don't even need a favicon endpoint to clutter up the code. Still, we need to understand the full meaning of the following code, which leverages the templating engine:"
   ]
  },
  {
   "cell_type": "code",
   "execution_count": null,
   "metadata": {
    "vscode": {
     "languageId": "html"
    }
   },
   "outputs": [],
   "source": [
    "<link rel=\"shortcut icon\" href=\"{{ url_for('static', filename='global.ico') }}\">"
   ]
  }
 ],
 "metadata": {
  "kernelspec": {
   "display_name": "Python 3.9.12 ('base')",
   "language": "python",
   "name": "python3"
  },
  "language_info": {
   "name": "python",
   "version": "3.9.12"
  },
  "orig_nbformat": 4,
  "vscode": {
   "interpreter": {
    "hash": "66b6dfc241c8325d69ccfbaf588ee11e398b2b02082dd5e73e37f3a4fd18fba0"
   }
  }
 },
 "nbformat": 4,
 "nbformat_minor": 2
}
