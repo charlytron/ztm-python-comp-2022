{
 "cells": [
  {
   "cell_type": "markdown",
   "metadata": {},
   "source": [
    "# Building a Portfolio 4\n",
    "\n",
    "We'll create a contact page where users can submit contact information and a message. In the quickstart guide in the Flask documentation, in Accessing Request Data, we're shown how to handle such forms."
   ]
  },
  {
   "cell_type": "code",
   "execution_count": null,
   "metadata": {},
   "outputs": [],
   "source": [
    "from flask import request"
   ]
  },
  {
   "cell_type": "code",
   "execution_count": null,
   "metadata": {},
   "outputs": [],
   "source": [
    "@app.route('/login', methods=['POST', 'GET'])\n",
    "def login():\n",
    "    error = None\n",
    "    if request.method == 'POST':\n",
    "        if valid_login(request.form['username'],\n",
    "                       request.form['password']):\n",
    "            return log_the_user_in(request.form['username'])\n",
    "        else:\n",
    "            error = 'Invalid username/password'\n",
    "    # the code below is executed if the request method\n",
    "    # was GET or the credentials were invalid\n",
    "    return render_template('login.html', error=error)\n"
   ]
  },
  {
   "cell_type": "markdown",
   "metadata": {},
   "source": [
    "What's happening here? We'll go to `server.py`, where we have our basic routes, and we'll add another one:"
   ]
  },
  {
   "cell_type": "code",
   "execution_count": null,
   "metadata": {},
   "outputs": [],
   "source": [
    "from flask import Flask, render_template, url_for\n",
    "\n",
    "app = Flask(__name__)\n",
    "print(__name__)\n",
    "\n",
    "@app.route('/')\n",
    "def my_home():\n",
    "    return render_template('index.html')\n",
    "\n",
    "\n",
    "@app.route('/<string:page_name>')\n",
    "def html_page(page_name):\n",
    "    return render_template(page_name)\n",
    "  \n",
    "@app.route('/submit_form', methods=['POST', 'GET'])\n",
    "def submit_form():\n",
    "    return 'form submitted wahoo, bwai'\n"
   ]
  }
 ],
 "metadata": {
  "kernelspec": {
   "display_name": "Python 3.9.12 ('base')",
   "language": "python",
   "name": "python3"
  },
  "language_info": {
   "name": "python",
   "version": "3.9.12"
  },
  "orig_nbformat": 4,
  "vscode": {
   "interpreter": {
    "hash": "66b6dfc241c8325d69ccfbaf588ee11e398b2b02082dd5e73e37f3a4fd18fba0"
   }
  }
 },
 "nbformat": 4,
 "nbformat_minor": 2
}
