{
 "cells": [
  {
   "cell_type": "markdown",
   "metadata": {},
   "source": [
    "# Generators Performance\n",
    "\n",
    "Seriously, what gives with these generator features? Who decided?\n",
    "\n",
    "- `yield`?\n",
    "- `next`?\n",
    "\n",
    "A more useful example to explain it would be our `@performance` decorator, giving us `performance()` and `long_time()`, both of which use a range, though the latter function converts that `range` into a `list`:"
   ]
  },
  {
   "cell_type": "code",
   "execution_count": 2,
   "metadata": {},
   "outputs": [
    {
     "name": "stdout",
     "output_type": "stream",
     "text": [
      "took 2.584113121032715 seconds\n",
      "took 3.7500483989715576 seconds\n"
     ]
    }
   ],
   "source": [
    "from time import time\n",
    "def performance(fn):\n",
    "  def wrapper(*args, **kwargs):\n",
    "    t2 = time()\n",
    "    result = fn(*args, **kwargs)\n",
    "    t1 = time()\n",
    "    print(f'took {t1 - t2} seconds')\n",
    "    return result\n",
    "  return wrapper\n",
    "\n",
    "@performance\n",
    "def long_time():\n",
    "    for i in (range(100000000)):\n",
    "        i * 5\n",
    "@performance\n",
    "def long_time2():\n",
    "    for i in list(range(100000000)):\n",
    "        i * 5\n",
    "\n",
    "long_time()\n",
    "long_time2()"
   ]
  },
  {
   "cell_type": "markdown",
   "metadata": {},
   "source": [
    "From that list that is created in memory, `long_time` and `longtime2` will, one-by-one, multiply things by 5.\n",
    "\n",
    "A range, a built-in generator, will go in and, one-by-one, hold 0 in memory and multiply by 5, then one, and so on, __removing from memory any old numbers__.\n",
    "\n",
    "`long_time2()` is going to be slower (not sure if both are not slower than the instructor's example, due to our use of the Jupyter VS Code extension, since we're about a second slower than he is in repl.it)\n",
    "\n",
    "N.B. check for specific OS optimization, in this case: https://www.ubuntupit.com/how-to-speed-up-ubuntu-linux-must-follow-tips/\n",
    "\n",
    "Testing our assumptions, running both `long_time()` and\n",
    "`long_time2()` again gives a similar result. __The point is, the former function is over a second faster__.\n",
    "\n",
    "With generators, we needn't consume so many resources, processing data more efficiently as we are. Processes can even die unexpectedly if they're too memory-intensive. (Think of cloud applications and how costly that would be.)\n",
    "\n",
    "## Generators are useful in calculating large sets of data\n",
    "\n",
    "Especially for long loops.\n",
    "\n",
    "A lot of libraries in Python use generators instead of lists.\n",
    "\n",
    "\n"
   ]
  },
  {
   "cell_type": "code",
   "execution_count": null,
   "metadata": {},
   "outputs": [],
   "source": [
    "def gen_func(num):\n",
    "  for i in range(num):\n",
    "    yield i\n",
    "    \n",
    "for item in gen_func(100):\n",
    "  print(item)"
   ]
  }
 ],
 "metadata": {
  "kernelspec": {
   "display_name": "Python 3.10.4 64-bit",
   "language": "python",
   "name": "python3"
  },
  "language_info": {
   "codemirror_mode": {
    "name": "ipython",
    "version": 3
   },
   "file_extension": ".py",
   "mimetype": "text/x-python",
   "name": "python",
   "nbconvert_exporter": "python",
   "pygments_lexer": "ipython3",
   "version": "3.10.4"
  },
  "orig_nbformat": 4,
  "vscode": {
   "interpreter": {
    "hash": "916dbcbb3f70747c44a77c7bcd40155683ae19c65e1c03b4aa3499c5328201f1"
   }
  }
 },
 "nbformat": 4,
 "nbformat_minor": 2
}
