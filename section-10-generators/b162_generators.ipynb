{
 "cells": [
  {
   "cell_type": "markdown",
   "metadata": {},
   "source": [
    "# Generators\n",
    "\n",
    "allow us to __generate__ a sequence of values over time."
   ]
  },
  {
   "cell_type": "code",
   "execution_count": null,
   "metadata": {},
   "outputs": [],
   "source": [
    "range(900)"
   ]
  },
  {
   "cell_type": "markdown",
   "metadata": {},
   "source": [
    "A generator is a special type in Python that allows the use of a special keyword"
   ]
  },
  {
   "cell_type": "code",
   "execution_count": null,
   "metadata": {},
   "outputs": [],
   "source": [
    "range(100)\n",
    "list(range(100))"
   ]
  },
  {
   "cell_type": "markdown",
   "metadata": {},
   "source": [
    "The list here creates a list of 100 items in memory. The range creates the items one-by-one."
   ]
  },
  {
   "cell_type": "code",
   "execution_count": null,
   "metadata": {},
   "outputs": [],
   "source": [
    "range(100)\n",
    "list(range(100))\n",
    "\n",
    "def make_list(num):\n",
    "  result = []\n",
    "  for i in range(n):\n",
    "    result.append(i * 3)\n",
    "  return result"
   ]
  },
  {
   "cell_type": "markdown",
   "metadata": {},
   "source": [
    "When we make a list as above, we're using `range()` to create a list and return `result` which will live in memory."
   ]
  },
  {
   "cell_type": "code",
   "execution_count": 4,
   "metadata": {},
   "outputs": [
    {
     "name": "stdout",
     "output_type": "stream",
     "text": [
      "[0, 3, 6, 9, 12, 15, 18, 21, 24, 27, 30, 33, 36, 39, 42, 45, 48, 51, 54, 57, 60, 63, 66, 69, 72, 75, 78, 81, 84, 87, 90, 93, 96, 99, 102, 105, 108, 111, 114, 117, 120, 123, 126, 129, 132, 135, 138, 141, 144, 147, 150, 153, 156, 159, 162, 165, 168, 171, 174, 177, 180, 183, 186, 189, 192, 195, 198, 201, 204, 207, 210, 213, 216, 219, 222, 225, 228, 231, 234, 237, 240, 243, 246, 249, 252, 255, 258, 261, 264, 267, 270, 273, 276, 279, 282, 285, 288, 291, 294, 297]\n"
     ]
    }
   ],
   "source": [
    "range(100)\n",
    "list(range(100))\n",
    "\n",
    "\n",
    "def make_list(num):\n",
    "    result = []\n",
    "    for i in range(num):\n",
    "        result.append(i * 3)\n",
    "    return result\n",
    "\n",
    "\n",
    "my_list = make_list(100)\n",
    "print(my_list)\n"
   ]
  },
  {
   "cell_type": "markdown",
   "metadata": {},
   "source": [
    "Let's establish that this list lives in our memory. It's taking up space.\n",
    "\n",
    "`range` is a __generator__. When we wrote the above `for` loop, the `range` doesn't create for itself a giant list of 0 -100, or whatever.\n",
    "\n",
    "As a `range` it's going to give us first the 0 then all the consecutive values. In memory, it never creates the list like we see in the output above, with `print(my_list)`.\n",
    "\n",
    "Maybe we want to create a giant list in line 13:"
   ]
  },
  {
   "cell_type": "code",
   "execution_count": null,
   "metadata": {},
   "outputs": [],
   "source": [
    "# range(100)\n",
    "list(range(1000))\n",
    "\n",
    "\n",
    "def make_list(num):\n",
    "    result = []\n",
    "    for i in range(num):\n",
    "        result.append(i * 3)\n",
    "    return result\n",
    "\n",
    "\n",
    "my_list = make_list(100)\n",
    "print(list(range(1000)))"
   ]
  },
  {
   "cell_type": "markdown",
   "metadata": {},
   "source": [
    "We're using up a lot of memory in doing this! A more efficient way is to use a generator, generating these values one-by-one, without taking space in memory. We need to go back to the fundamentals to understand how to do this."
   ]
  }
 ],
 "metadata": {
  "kernelspec": {
   "display_name": "Python 3.10.4 64-bit",
   "language": "python",
   "name": "python3"
  },
  "language_info": {
   "codemirror_mode": {
    "name": "ipython",
    "version": 3
   },
   "file_extension": ".py",
   "mimetype": "text/x-python",
   "name": "python",
   "nbconvert_exporter": "python",
   "pygments_lexer": "ipython3",
   "version": "3.10.4"
  },
  "orig_nbformat": 4,
  "vscode": {
   "interpreter": {
    "hash": "916dbcbb3f70747c44a77c7bcd40155683ae19c65e1c03b4aa3499c5328201f1"
   }
  }
 },
 "nbformat": 4,
 "nbformat_minor": 2
}
