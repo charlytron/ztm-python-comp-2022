{
 "cells": [
  {
   "cell_type": "markdown",
   "metadata": {},
   "source": [
    "# Under the Hood: Generators\n",
    "\n",
    "Two examples: for  loop and range\n",
    "\n",
    "- our own __for loop__: \n",
    "  - receives iterable\n",
    "  - iter() function \n",
    "    - accepts iterable\n",
    "    - allows us to use `next()` on iterable"
   ]
  },
  {
   "cell_type": "code",
   "execution_count": 4,
   "metadata": {},
   "outputs": [
    {
     "name": "stdout",
     "output_type": "stream",
     "text": [
      "<list_iterator object at 0x7f5e5c11a2c0>\n",
      "<list_iterator object at 0x7f5e5c11a2c0>\n",
      "<list_iterator object at 0x7f5e5c11a2c0>\n",
      "<list_iterator object at 0x7f5e5c11a2c0>\n"
     ]
    }
   ],
   "source": [
    "def special_for(iterable):\n",
    "    iterator = iter(iterable)\n",
    "    while True:\n",
    "        try:\n",
    "            print(iterator)\n",
    "            next(iterator)\n",
    "        except StopIteration:\n",
    "          break\n",
    "        \n",
    "special_for([1,2,3])"
   ]
  },
  {
   "cell_type": "markdown",
   "metadata": {},
   "source": [
    "We've looped through some iterable objects here, using `next()` in line 6. The object exists in the same memory space, though we're constantly looping through it.\n",
    "\n",
    "Checking the actual value of the iterator: the `next()` will output whatever that item is, so if we wrap `next()` with `print()` we'll get the number of the iteration (line 6). Or we can also give a multiple of it:"
   ]
  },
  {
   "cell_type": "code",
   "execution_count": 6,
   "metadata": {},
   "outputs": [
    {
     "name": "stdout",
     "output_type": "stream",
     "text": [
      "<list_iterator object at 0x7f5e5c11aaa0>\n",
      "2\n",
      "<list_iterator object at 0x7f5e5c11aaa0>\n",
      "4\n",
      "<list_iterator object at 0x7f5e5c11aaa0>\n",
      "6\n",
      "<list_iterator object at 0x7f5e5c11aaa0>\n"
     ]
    }
   ],
   "source": [
    "def special_for(iterable):\n",
    "    iterator = iter(iterable)\n",
    "    while True:\n",
    "        try:\n",
    "            print(iterator)\n",
    "            print(next(iterator) * 2)\n",
    "        except StopIteration:\n",
    "          break\n",
    "        \n",
    "special_for([1,2,3])"
   ]
  },
  {
   "cell_type": "markdown",
   "metadata": {},
   "source": [
    "## Can we create our own range function?\n",
    " __See below__. We create an object that has actionable items.\n",
    " `MyGen()` mimics what a range does. We have a class, and this class\n",
    " will have a range, telling us to start with `first` and end with `last`.\n",
    "\n",
    " We're using a class because we're creating our own data type; our own special range."
   ]
  },
  {
   "cell_type": "code",
   "execution_count": 5,
   "metadata": {},
   "outputs": [
    {
     "name": "stdout",
     "output_type": "stream",
     "text": [
      "0\n",
      "1\n",
      "2\n",
      "3\n",
      "4\n"
     ]
    }
   ],
   "source": [
    "class MyGen():\n",
    "    current = 0\n",
    "\n",
    "    def __init__(self, first, last):\n",
    "        self.first = first\n",
    "        self.last = last\n",
    "\n",
    "    def __iter__(self):\n",
    "        return self\n",
    "\n",
    "    def __next__(self):\n",
    "        if MyGen.current < self.last:\n",
    "            num = MyGen.current\n",
    "            MyGen.current += 1\n",
    "            return num\n",
    "        raise StopIteration\n",
    "\n",
    "\n",
    "gen = MyGen(0, 5)\n",
    "for i in gen:\n",
    "    print(i)\n"
   ]
  },
  {
   "cell_type": "markdown",
   "metadata": {},
   "source": [
    "And this is how `next()` works under the hood: we're able to loop through the generator and print `i`, i.e. from zero to five.\n",
    "\n",
    "- We increment our current location by 1\n",
    "- Return the number and keep going\n",
    "- When `current` is no longer less than `last`, iteration __done__\n",
    "- Then raise `StopIteration`"
   ]
  }
 ],
 "metadata": {
  "kernelspec": {
   "display_name": "Python 3.10.4 64-bit",
   "language": "python",
   "name": "python3"
  },
  "language_info": {
   "codemirror_mode": {
    "name": "ipython",
    "version": 3
   },
   "file_extension": ".py",
   "mimetype": "text/x-python",
   "name": "python",
   "nbconvert_exporter": "python",
   "pygments_lexer": "ipython3",
   "version": "3.10.6"
  },
  "orig_nbformat": 4,
  "vscode": {
   "interpreter": {
    "hash": "916dbcbb3f70747c44a77c7bcd40155683ae19c65e1c03b4aa3499c5328201f1"
   }
  }
 },
 "nbformat": 4,
 "nbformat_minor": 2
}
