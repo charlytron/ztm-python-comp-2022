{
 "cells": [
  {
   "cell_type": "markdown",
   "metadata": {},
   "source": [
    "# Generators II\n",
    "\n",
    "(View similar content on [Corey Schafer's Channel](https://www.youtube.com/watch?v=bD05uGo_sVI))\n",
    "\n",
    "\n",
    "A list is an __*iterable*__, right? It's any object that we're able to __loop__ through.\n",
    "\n",
    "It has the `__iter__`, in case we're wondering. When the object is created, the dunder method allows us to have an iterable object.\n",
    "\n",
    "__Iteration__ per se is the act of taking an item from an iterable, acting upon it, and going to the next item.\n",
    "\n",
    "- `for` loops\n",
    "- `while` loops\n",
    "\n",
    "__Generators are iterable__: everything that is a generator can be iterated over, but not everything that is iterable is a generator.\n",
    "\n",
    "- `range()`? a generator. It will always be iterable.\n",
    "- `list` is an iterable, not a generator, which is a __subset__ of iterable.\n",
    "\n",
    "THe difference between a generator and a regular iterable is in the __implementation__.\n",
    "\n",
    "## How to create a generator?\n",
    "\n",
    "Instead of `return` we'll use a keyword, `yield`."
   ]
  },
  {
   "cell_type": "code",
   "execution_count": null,
   "metadata": {},
   "outputs": [],
   "source": [
    "def generator_function(num):\n",
    "    for i in range(10):\n",
    "        yield i\n",
    "\n",
    "# Notice the difference below\n",
    "\n",
    "# def make_list(num):\n",
    "#     result = []\n",
    "#     for i in range(num):\n",
    "#         result.append(i * 3)\n",
    "#     return result\n"
   ]
  },
  {
   "cell_type": "markdown",
   "metadata": {},
   "source": [
    "Instead of returning, appending and creating lots of data, we use `yield`, which pauses the function, coming back to it when we do something with `next`.\n",
    "\n",
    "We'll print using the generator function. Because it is an iterable, for every item in its range, we don't create a list in memory"
   ]
  },
  {
   "cell_type": "code",
   "execution_count": null,
   "metadata": {},
   "outputs": [],
   "source": [
    "def generator_function(num):\n",
    "    for i in range(num):\n",
    "        yield i\n",
    "        \n",
    "for item in generator_function(1000):\n",
    "  print(item)\n",
    "\n",
    "# Notice the difference below\n",
    "\n",
    "# def make_list(num):\n",
    "#     result = []\n",
    "#     for i in range(num):\n",
    "#         result.append(i * 3)\n",
    "#     return result\n"
   ]
  },
  {
   "cell_type": "markdown",
   "metadata": {},
   "source": [
    "Let's multiply by two, but instead of the `for` loop, we'll call the function"
   ]
  },
  {
   "cell_type": "code",
   "execution_count": 4,
   "metadata": {},
   "outputs": [
    {
     "name": "stdout",
     "output_type": "stream",
     "text": [
      "<generator object generator_function at 0x7f074846d380>\n"
     ]
    }
   ],
   "source": [
    "def generator_function(num):\n",
    "    for i in range(num):\n",
    "        yield i * 2\n",
    "        \n",
    "g = generator_function(10)\n",
    "print(g)\n",
    "# for item in generator_function(1000):\n",
    "#   print(item)\n"
   ]
  },
  {
   "cell_type": "markdown",
   "metadata": {},
   "source": [
    "If we just `return` i * 2, we'll not get anything special, just a value. By using the `yield` keyword, we convert it into a generator function that..."
   ]
  },
  {
   "cell_type": "code",
   "execution_count": 7,
   "metadata": {},
   "outputs": [
    {
     "name": "stdout",
     "output_type": "stream",
     "text": [
      "<generator object generator_function at 0x7f074846d9a0>\n",
      "4\n"
     ]
    }
   ],
   "source": [
    "def generator_function(num):\n",
    "    for i in range(num):\n",
    "        yield i * 2\n",
    "        \n",
    "g = generator_function(10)\n",
    "next(g)\n",
    "next(g)\n",
    "print(next(g))"
   ]
  },
  {
   "cell_type": "markdown",
   "metadata": {},
   "source": [
    "Why 4? The `yield` pauses the function:\n",
    "\n",
    "- first item in range: 0\n",
    "- second item: 1 (* 2 = 2)\n",
    "- third item: 2 (*2 = 4)\n",
    "\n",
    "`yield` pauses the function and comes back to it when `next` is called. It keeps track of the state.\n",
    "\n",
    "If it has a `yield` keyword, it becomes a generator. __It keeps track of the state of `(i * 2)`, the *value*, and it only keeps track of the most recent data in memory.__\n",
    "\n"
   ]
  },
  {
   "cell_type": "code",
   "execution_count": 2,
   "metadata": {},
   "outputs": [
    {
     "name": "stdout",
     "output_type": "stream",
     "text": [
      "4\n",
      "6\n"
     ]
    }
   ],
   "source": [
    "def generator_function(num):\n",
    "    for i in range(num):\n",
    "        yield i * 2\n",
    "        \n",
    "g = generator_function(10)\n",
    "next(g)\n",
    "next(g)\n",
    "print(next(g))\n",
    "\n",
    "# do it once more, just to be clear\n",
    "print(next(g))"
   ]
  },
  {
   "cell_type": "markdown",
   "metadata": {},
   "source": [
    "It remembers that, previously, `i * 2` was 4. Running it on line 11 gives us 6.\n",
    "\n",
    "If we only write in `range(1)` and remove `yield i * 2`"
   ]
  },
  {
   "cell_type": "code",
   "execution_count": 3,
   "metadata": {},
   "outputs": [
    {
     "ename": "StopIteration",
     "evalue": "",
     "output_type": "error",
     "traceback": [
      "\u001b[0;31m---------------------------------------------------------------------------\u001b[0m",
      "\u001b[0;31mStopIteration\u001b[0m                             Traceback (most recent call last)",
      "Cell \u001b[0;32mIn [3], line 8\u001b[0m\n\u001b[1;32m      6\u001b[0m g \u001b[38;5;241m=\u001b[39m generator_function(\u001b[38;5;241m1\u001b[39m)\n\u001b[1;32m      7\u001b[0m \u001b[38;5;28mnext\u001b[39m(g)\n\u001b[0;32m----> 8\u001b[0m \u001b[38;5;28;43mnext\u001b[39;49m\u001b[43m(\u001b[49m\u001b[43mg\u001b[49m\u001b[43m)\u001b[49m\n\u001b[1;32m      9\u001b[0m \u001b[38;5;28mprint\u001b[39m(\u001b[38;5;28mnext\u001b[39m(g))\n\u001b[1;32m     11\u001b[0m \u001b[38;5;66;03m# do it once more, just to be clear\u001b[39;00m\n",
      "\u001b[0;31mStopIteration\u001b[0m: "
     ]
    }
   ],
   "source": [
    "def generator_function(num):\n",
    "    for i in range(num):\n",
    "        # yield i * 2\n",
    "        yield i\n",
    "        \n",
    "g = generator_function(1)\n",
    "next(g)\n",
    "next(g)\n",
    "print(next(g))\n",
    "\n",
    "# do it once more, just to be clear\n",
    "print(next(g))"
   ]
  },
  {
   "cell_type": "markdown",
   "metadata": {},
   "source": [
    "`next()` can be called as many times as we want until this range expires. When we exceed the number of items in the range, we get the `StopIteration` jazz, saying __*\"hey, cut it out, we're done here!\"*__.\n",
    "\n",
    "When we use `for` loops, they will test for such expirations. Once the `for` loops encounters `StopIteration` it will stop looping, though that behavior is abstracted from us.\n",
    "\n"
   ]
  }
 ],
 "metadata": {
  "kernelspec": {
   "display_name": "Python 3.10.4 64-bit",
   "language": "python",
   "name": "python3"
  },
  "language_info": {
   "codemirror_mode": {
    "name": "ipython",
    "version": 3
   },
   "file_extension": ".py",
   "mimetype": "text/x-python",
   "name": "python",
   "nbconvert_exporter": "python",
   "pygments_lexer": "ipython3",
   "version": "3.10.4"
  },
  "orig_nbformat": 4,
  "vscode": {
   "interpreter": {
    "hash": "916dbcbb3f70747c44a77c7bcd40155683ae19c65e1c03b4aa3499c5328201f1"
   }
  }
 },
 "nbformat": 4,
 "nbformat_minor": 2
}
