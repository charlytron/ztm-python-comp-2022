{
 "cells": [
  {
   "cell_type": "markdown",
   "metadata": {},
   "source": [
    "# __name__\n",
    "\n",
    "No understanding of modules would be complete without an understanding of this concept. But specifically, pay attention to `__main__`.\n",
    "\n",
    "We'll see a lot of code like this, so we need to know what it does:"
   ]
  },
  {
   "cell_type": "code",
   "execution_count": null,
   "metadata": {},
   "outputs": [],
   "source": [
    "from utility import multiply, divide\n",
    "from shopping.more_shopping import shop_cart\n",
    "\n",
    "print(shop_cart.buy('apple'))\n",
    "print(divide(4, 2))\n",
    "print(multiply(4, 2))\n",
    "print(max([1,2,3]))\n",
    "\n",
    "\n",
    "# if __name__ == '__main__':\n",
    "  "
   ]
  },
  {
   "cell_type": "markdown",
   "metadata": {},
   "source": [
    "Let's try running `print(__name__)` above the two files, `shop_cart.py` and `utility.py`:"
   ]
  },
  {
   "cell_type": "code",
   "execution_count": null,
   "metadata": {},
   "outputs": [],
   "source": [
    "print(__name__)\n",
    "def buy(item):\n",
    "  cart = []\n",
    "  cart.append(item)\n",
    "  return cart\n",
    "\n",
    "# \n",
    "# /home/ct/PycharmProjects/modules/venv/bin/python /home/ct/PycharmProjects/modules/venv/main.py \n",
    "# utility\n",
    "# shopping.more_shopping.shop_cart\n",
    "# ['apple']\n",
    "# 2.0\n",
    "# 8\n",
    "# 3"
   ]
  },
  {
   "cell_type": "markdown",
   "metadata": {},
   "source": [
    "When we import in Python, it finds the module in line 1, runs the code, then adds the code to memory.\n",
    "\n",
    "Then, it goes onto line 2, importing again from the shopping cart.\n",
    "\n",
    "Finally, it will go through the main function body in `main.py`, with all it's print statements:"
   ]
  },
  {
   "cell_type": "code",
   "execution_count": null,
   "metadata": {},
   "outputs": [],
   "source": [
    "from utility import multiply, divide\n",
    "from shopping.more_shopping import shop_cart\n",
    "\n",
    "print(shop_cart.buy('apple'))\n",
    "print(divide(4, 2))\n",
    "print(multiply(4, 2))\n",
    "print(max([1,2,3]))\n",
    "\n",
    "# if __name__ == '__main__':"
   ]
  },
  {
   "cell_type": "markdown",
   "metadata": {},
   "source": [
    "At this point, by line 4, the imports have been run, and they're in memory. The interpreter now has access to `divide`, `multiply`, etc.\n",
    "\n",
    "If at line 9 we write the following in `main.py`:"
   ]
  },
  {
   "cell_type": "code",
   "execution_count": null,
   "metadata": {},
   "outputs": [],
   "source": [
    "from utility import multiply, divide\n",
    "from shopping.more_shopping import shop_cart\n",
    "\n",
    "print(shop_cart.buy('apple'))\n",
    "print(divide(4, 2))\n",
    "print(multiply(4, 2))\n",
    "print(max([1,2,3]))\n",
    "\n",
    "print(__name__)\n",
    "\n"
   ]
  },
  {
   "cell_type": "markdown",
   "metadata": {},
   "source": [
    "the interpreter returns to us:\n",
    "\n",
    "``` bash\n",
    "/home/ct/PycharmProjects/modules/venv/bin/python /home/ct/PycharmProjects/modules/venv/main.py \n",
    "utility\n",
    "shopping.more_shopping.shop_cart\n",
    "['apple']\n",
    "2.0\n",
    "8\n",
    "3\n",
    "__main__\n",
    "\n",
    "Process finished with exit code 0\n",
    "```\n",
    "\n",
    "Check out `__main__` at the bottom."
   ]
  },
  {
   "cell_type": "markdown",
   "metadata": {},
   "source": [
    "Not what I expected, and if we rename `main.py` to `test.py` we get the same result; that is `__main__` is printed at the bottom, after the results of `shop_cart` and `utility` have been returned.\n",
    "\n",
    "When we see this code:"
   ]
  },
  {
   "cell_type": "code",
   "execution_count": null,
   "metadata": {},
   "outputs": [],
   "source": [
    "if __name__ == '__main__':\n",
    "  pass"
   ]
  },
  {
   "cell_type": "markdown",
   "metadata": {},
   "source": [
    "`__main__` is given specifically to the file that we run.  When we push play, running `test.py`, we run that one file which imports all those modules and runs them.\n",
    "\n",
    "`__main__` is the default file that acts as a port of entry for the other modules.\n",
    "\n",
    "We see things like `if __name__ == '__main__':` in Python because sometimes we want to make sure that we run a module only if it's the `__main__` module."
   ]
  },
  {
   "cell_type": "code",
   "execution_count": null,
   "metadata": {},
   "outputs": [],
   "source": [
    "from utility import multiply, divide\n",
    "from shopping.more_shopping import shop_cart\n",
    "\n",
    "print(shop_cart.buy('apple'))\n",
    "print(divide(4, 2))\n",
    "print(multiply(4, 2))\n",
    "print(max([1,2,3]))\n",
    "\n",
    "if __name__ == '__main__':\n",
    "  print('Please run this')"
   ]
  },
  {
   "cell_type": "markdown",
   "metadata": {},
   "source": [
    "Returns:\n",
    "\n",
    "``` bash\n",
    "/home/ct/PycharmProjects/modules/venv/bin/python /home/ct/PycharmProjects/modules/venv/test.py \n",
    "utility\n",
    "shopping.more_shopping.shop_cart\n",
    "['apple']\n",
    "2.0\n",
    "8\n",
    "3\n",
    "Please run this\n",
    "\n",
    "Process finished with exit code 0\n",
    "```"
   ]
  },
  {
   "cell_type": "code",
   "execution_count": null,
   "metadata": {},
   "outputs": [],
   "source": [
    "if __name__ == '__main__':\n",
    "  print('Please run this')"
   ]
  },
  {
   "cell_type": "markdown",
   "metadata": {},
   "source": [
    "^^^ This won't work if we put the same conditional in `utility.py`, right? `Please run this` will not show up in the output.\n",
    "\n",
    "The `__name__` in this case is not `__main__` but `utility`.\n",
    "\n",
    "This is how we only run code of the main file, and __it's a common structure that we'll see as a project gets bigger and bigger.\n",
    "\n",
    "We might not want to run certain code unless it's the `__main__` file."
   ]
  },
  {
   "cell_type": "code",
   "execution_count": null,
   "metadata": {},
   "outputs": [],
   "source": [
    "# utility.py\n",
    "\n",
    "\n",
    "print(__name__)\n",
    "if __name__ == '__main__':\n",
    "    def multiply(num1, num2):\n",
    "        return num1 * num2\n",
    "\n",
    "\n",
    "    def divide(num1, num2):\n",
    "        return num1 / num2\n",
    "\n",
    "    def max():\n",
    "        return 'flubble'"
   ]
  },
  {
   "cell_type": "markdown",
   "metadata": {},
   "source": [
    "This will return an ImportError:\n",
    "\n",
    "``` bash\n",
    "ImportError: cannot import name 'multiply' from 'utility' (/home/ct/PycharmProjects/modules/venv/utility.py)\n",
    "```\n",
    "\n",
    "We're not able to import this, because we didn't run it.\n",
    "\n",
    "Reverting back to the original `utility.py`, we can wrap `test.py` print block accordingly:"
   ]
  },
  {
   "cell_type": "code",
   "execution_count": null,
   "metadata": {},
   "outputs": [],
   "source": [
    "from utility import multiply, divide\n",
    "from shopping.more_shopping import shop_cart\n",
    "\n",
    "if __name__ == '__main__':\n",
    "    print(shop_cart.buy('apple'))\n",
    "    print(divide(4, 2))\n",
    "    print(multiply(4, 2))\n",
    "    print(max([1,2,3]))\n",
    "    \n",
    "    print('Please, yo, run dis')"
   ]
  },
  {
   "cell_type": "markdown",
   "metadata": {},
   "source": [
    "``` bash\n",
    "/home/ct/PycharmProjects/modules/venv/bin/python /home/ct/PycharmProjects/modules/venv/test.py \n",
    "utility\n",
    "shopping.more_shopping.shop_cart\n",
    "['apple']\n",
    "2.0\n",
    "8\n",
    "3\n",
    "Please, yo, run dis\n",
    "\n",
    "Process finished with exit code 0\n",
    "```"
   ]
  },
  {
   "cell_type": "markdown",
   "metadata": {},
   "source": [
    "as for classes, "
   ]
  },
  {
   "cell_type": "code",
   "execution_count": 4,
   "metadata": {},
   "outputs": [
    {
     "name": "stdout",
     "output_type": "stream",
     "text": [
      "<class '__main__.Student'>\n"
     ]
    }
   ],
   "source": [
    "class Student():\n",
    "  pass\n",
    "\n",
    "st1 = Student()\n",
    "print(type(st1))"
   ]
  },
  {
   "cell_type": "markdown",
   "metadata": {},
   "source": [
    "It says that this class was created in the `__main__` file that we ran.\n",
    "\n",
    "If we copy this and added it to the utility"
   ]
  },
  {
   "cell_type": "code",
   "execution_count": null,
   "metadata": {},
   "outputs": [],
   "source": [
    "print(__name__)\n",
    "\n",
    "def multiply(num1, num2):\n",
    "    return num1 * num2\n",
    "\n",
    "\n",
    "def divide(num1, num2):\n",
    "    return num1 / num2\n",
    "\n",
    "def max():\n",
    "    return 'flubble'\n",
    "  \n",
    "class Student():\n",
    "  pass\n",
    "\n",
    "st1 = Student()\n",
    "print(type(st1))"
   ]
  },
  {
   "cell_type": "markdown",
   "metadata": {},
   "source": [
    "Then we create main.py and run it:"
   ]
  },
  {
   "cell_type": "code",
   "execution_count": null,
   "metadata": {},
   "outputs": [],
   "source": [
    "import utility\n",
    "\n",
    "print(type(utility.st1))"
   ]
  },
  {
   "cell_type": "markdown",
   "metadata": {},
   "source": [
    "We get:\n",
    "\n",
    "``` bash\n",
    "<class 'utility.Student'>\n",
    "```"
   ]
  },
  {
   "cell_type": "markdown",
   "metadata": {},
   "source": [
    "It's telling us that this is a class that was created in the `__main__` file. We're told *if this is the file that's run as the `__main__` file, then do stuff.\n",
    "\n",
    "__It's just a good way to check how our modules are being used, whether imported or ran__."
   ]
  }
 ],
 "metadata": {
  "kernelspec": {
   "display_name": "Python 3.10.6 64-bit",
   "language": "python",
   "name": "python3"
  },
  "language_info": {
   "codemirror_mode": {
    "name": "ipython",
    "version": 3
   },
   "file_extension": ".py",
   "mimetype": "text/x-python",
   "name": "python",
   "nbconvert_exporter": "python",
   "pygments_lexer": "ipython3",
   "version": "3.10.6"
  },
  "orig_nbformat": 4,
  "vscode": {
   "interpreter": {
    "hash": "916dbcbb3f70747c44a77c7bcd40155683ae19c65e1c03b4aa3499c5328201f1"
   }
  }
 },
 "nbformat": 4,
 "nbformat_minor": 2
}
