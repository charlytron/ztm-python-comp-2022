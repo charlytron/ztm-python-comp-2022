{
 "cells": [
  {
   "cell_type": "markdown",
   "metadata": {},
   "source": [
    "# Python Package Index\n",
    "\n",
    "Code is shared all the time. We don't have to write what's already been written outside of the standard library.\n",
    "\n",
    "- numpy\n",
    "- pandas\n",
    "- tensorflow\n",
    "\n",
    "All are libraries from the developer community. We can procure these through the `pip install` command\n",
    "\n",
    "[Python Package Index](https://pypi.org) is the source of these libraries.\n",
    "\n"
   ]
  }
 ],
 "metadata": {
  "kernelspec": {
   "display_name": "Python 3.10.6 64-bit",
   "language": "python",
   "name": "python3"
  },
  "language_info": {
   "name": "python",
   "version": "3.10.6"
  },
  "orig_nbformat": 4,
  "vscode": {
   "interpreter": {
    "hash": "916dbcbb3f70747c44a77c7bcd40155683ae19c65e1c03b4aa3499c5328201f1"
   }
  }
 },
 "nbformat": 4,
 "nbformat_minor": 2
}
