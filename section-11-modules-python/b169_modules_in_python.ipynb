{
 "cells": [
  {
   "cell_type": "markdown",
   "metadata": {},
   "source": [
    "# Modules in Python\n",
    "\n",
    "There are a few ways to organize code. \n",
    "\n",
    "1. Writing Python in a __file__ is okay, but it's just one way to organize.\n",
    "\n",
    "2. Then we learned __functions__, which are used to make code reusable.\n",
    "\n",
    "3. __classes__: blueprints to create objects from. We can instantiate new python data types beyond what we're given.\n",
    "\n",
    "As we write more lines of code, it gets harder to remember where everything is.\n",
    "\n",
    "4. Functional programming: purely functions that we pass data into, organizing things into small pieces.\n",
    "\n",
    "All of the above features were meant to keep our code cleaner, more maintainable, thus keeping it more organized. As we write more code it gets harder to keep our organizational schemas in our heads.\n",
    "\n",
    "__Keep in mind though that everything is still contained in one .py file__\n",
    "\n",
    "- functions\n",
    "- classes\n",
    "\n",
    "Real life is different; we have a lot more code, and we can't have one file to contain it all. If we had multiple files, there is a way to link them.\n",
    "\n",
    "\n",
    "## Each `.py` file is a *module*\n",
    "\n",
    "By building and linking these modules, we can write more organized code. When writing modules, we use the same principles as variables in Python.\n",
    "\n",
    "We want to divide our code into chunks. Take Netflix:\n",
    "\n",
    "- file dedicated to videos\n",
    "- login\n",
    "- analytics\n",
    "\n",
    "We want to group these classes and functions together inside of a file that makes sense.\n",
    "\n",
    " a utility is one of the most common ways to deploy a module, and it's accessible to the whole project.\n",
    "\n",
    " ### A simple utility example, a tool belt of sorts"
   ]
  },
  {
   "cell_type": "code",
   "execution_count": 2,
   "metadata": {},
   "outputs": [],
   "source": [
    "def multiply(num1, num2):\n",
    "    return num1 * num2\n",
    "\n",
    "\n",
    "def divide(num1, num2):\n",
    "    return num1 / num2\n"
   ]
  },
  {
   "cell_type": "markdown",
   "metadata": {},
   "source": [
    "Let's try using this in a main file, using the `import` command"
   ]
  },
  {
   "cell_type": "code",
   "execution_count": 4,
   "metadata": {},
   "outputs": [
    {
     "name": "stdout",
     "output_type": "stream",
     "text": [
      "<module 'utility' from '/home/ct/Documents/comp-python-2022-Neagoie/section-11-modules-python/utility.py'>\n"
     ]
    }
   ],
   "source": [
    "# main.py\n",
    "\n",
    "import utility\n",
    "\n",
    "print(utility)"
   ]
  },
  {
   "cell_type": "markdown",
   "metadata": {},
   "source": [
    "In doing this, we generated a `__pycache__` folder, which now lives in our root directory. Although the file uses unsupported text encoding, it is in fact created every time we use the `import` statement. i.e.when we're making use of modules.\n",
    "\n",
    "The interpreter proclaims that  it's running the `main.py file`, and anything that it imports is going to be __cached__.\n",
    "\n",
    "It's called `utility.cpython-310.pyc` precisely because it's using the __cpython interpreter__, which is written in C. It's actually a compiled file.\n",
    "\n",
    "Next time we click run on `main.py`, nothing changes. instead of loading `utility.py`, it will load up the compiled version of `utility`. Nothing has changed, after all.\n",
    "\n",
    "If we edit `utility.py`, the `.pyc` file will be rerun. Editors us such files so that our programs can run faster."
   ]
  },
  {
   "cell_type": "code",
   "execution_count": 5,
   "metadata": {},
   "outputs": [
    {
     "name": "stdout",
     "output_type": "stream",
     "text": [
      "0.6666666666666666\n"
     ]
    }
   ],
   "source": [
    "print(utility.divide(2,3))"
   ]
  },
  {
   "cell_type": "markdown",
   "metadata": {},
   "source": [
    "^^^ Here, the divide and multiply properties are automatically suggested by autocomplete as soon as we type the dot. And we can import as many times as we want."
   ]
  }
 ],
 "metadata": {
  "kernelspec": {
   "display_name": "Python 3.10.6 64-bit",
   "language": "python",
   "name": "python3"
  },
  "language_info": {
   "codemirror_mode": {
    "name": "ipython",
    "version": 3
   },
   "file_extension": ".py",
   "mimetype": "text/x-python",
   "name": "python",
   "nbconvert_exporter": "python",
   "pygments_lexer": "ipython3",
   "version": "3.10.6"
  },
  "orig_nbformat": 4,
  "vscode": {
   "interpreter": {
    "hash": "916dbcbb3f70747c44a77c7bcd40155683ae19c65e1c03b4aa3499c5328201f1"
   }
  }
 },
 "nbformat": 4,
 "nbformat_minor": 2
}
