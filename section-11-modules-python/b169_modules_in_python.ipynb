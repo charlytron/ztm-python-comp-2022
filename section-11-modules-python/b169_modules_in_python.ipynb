{
 "cells": [
  {
   "cell_type": "markdown",
   "metadata": {},
   "source": [
    "# Modules in Python\n",
    "\n",
    "There are a few ways to organize code. \n",
    "\n",
    "1. Writing Python in a __file__ is okay, but it's just one way to organize.\n",
    "\n",
    "2. Then we learned __functions__, which are used to make code reusable.\n",
    "\n",
    "3. __classes__: blueprints to create objects from. We can instantiate new python data types beyond what we're given.\n",
    "\n",
    "As we write more lines of code, it gets harder to remember where everything is."
   ]
  }
 ],
 "metadata": {
  "language_info": {
   "name": "python"
  },
  "orig_nbformat": 4
 },
 "nbformat": 4,
 "nbformat_minor": 2
}
