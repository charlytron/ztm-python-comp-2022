{
 "cells": [
  {
   "cell_type": "markdown",
   "metadata": {},
   "source": [
    "# Virtual Environments\n",
    "\n",
    "Versioning\n",
    "\n",
    "1. First number contains bug fixes 0.0.0 --> 0.0.1 --> 0.0.2\n",
    "2. Second will be new release, added features 0.1.0 --> 0.2.0 --> 0.3.0\n",
    "3. Third will be __breaking changes__ or major versions\n",
    "\n",
    "Mature library would be like 2.5.0\n",
    "\n",
    "We can uninstall old versions:\n",
    "\n",
    "``` bash\n",
    "pip uninstall pyjokes\n",
    "```\n",
    "\n",
    "When we do `pip install pyjokes==0.4.0`, we give it a specific version. But why?\n",
    "\n",
    "Sometimes we may need a specific version, depending on the project. So how can we have two versions of one package on the same machine?\n",
    "\n",
    "## `pipenv`\n",
    "\n",
    "It's a tool that we install, allowing us to use `pip` and `virtualenv` to install packages based on each project. If we're using PyCharm, we have `venv` by default.\n",
    "We'll create a new project there:\n",
    "\n",
    "<br />\n",
    "\n",
    "![pycharm8](./pycharm8.png)\n"
   ]
  }
 ],
 "metadata": {
  "kernelspec": {
   "display_name": "Python 3.10.6 64-bit",
   "language": "python",
   "name": "python3"
  },
  "language_info": {
   "name": "python",
   "version": "3.10.6"
  },
  "orig_nbformat": 4,
  "vscode": {
   "interpreter": {
    "hash": "916dbcbb3f70747c44a77c7bcd40155683ae19c65e1c03b4aa3499c5328201f1"
   }
  }
 },
 "nbformat": 4,
 "nbformat_minor": 2
}
