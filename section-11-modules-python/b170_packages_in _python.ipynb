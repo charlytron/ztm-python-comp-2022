{
 "cells": [
  {
   "cell_type": "markdown",
   "metadata": {},
   "source": [
    "# Packages in Python\n",
    "\n",
    "We need modules, but what happens when our projects get bigger?\n",
    "\n",
    "Microsoft example: shopping functionality so we can get some swag.\n",
    "In our `shopping` folder, we have a new file, `shop_cart.py`."
   ]
  },
  {
   "cell_type": "code",
   "execution_count": null,
   "metadata": {},
   "outputs": [],
   "source": [
    "# shop_cart.py\n",
    "\n",
    "def buy(item):\n",
    "  cart = []\n",
    "  cart.append(item)\n",
    "  return cart"
   ]
  },
  {
   "cell_type": "markdown",
   "metadata": {},
   "source": [
    "Now, in our `main.py` file, we want to import our `shop_cart` function."
   ]
  },
  {
   "cell_type": "code",
   "execution_count": null,
   "metadata": {},
   "outputs": [],
   "source": [
    "# main.py\n",
    "\n",
    "import utility\n",
    "import shopping.shop_cart"
   ]
  },
  {
   "cell_type": "markdown",
   "metadata": {},
   "source": [
    "We've created a __package__ here with `shopping`, a folder, a level up, a parent folder containing potential multiple modules. Mind the dot syntax here!"
   ]
  },
  {
   "cell_type": "code",
   "execution_count": 1,
   "metadata": {},
   "outputs": [
    {
     "name": "stdout",
     "output_type": "stream",
     "text": [
      "<module 'shopping.shop_cart' from '/home/ct/Documents/comp-python-2022-Neagoie/section-11-modules-python/shopping/shop_cart.py'>\n"
     ]
    }
   ],
   "source": [
    "# main.py\n",
    "\n",
    "import utility\n",
    "import shopping.shop_cart\n",
    "\n",
    "print(shopping.shop_cart)"
   ]
  },
  {
   "cell_type": "markdown",
   "metadata": {},
   "source": [
    "Now we have access to the shopping cart module by importing the package, `shopping` and then the `shop_cart`. And we have a `__pycache__` for the `shop_cart`."
   ]
  },
  {
   "cell_type": "markdown",
   "metadata": {},
   "source": [
    "Can we use the `buy` function?"
   ]
  },
  {
   "cell_type": "code",
   "execution_count": 1,
   "metadata": {},
   "outputs": [
    {
     "name": "stdout",
     "output_type": "stream",
     "text": [
      "['apple']\n"
     ]
    }
   ],
   "source": [
    "import utility\n",
    "import shopping.shop_cart\n",
    "\n",
    "print(shopping.shop_cart.buy('apple'))"
   ]
  },
  {
   "cell_type": "markdown",
   "metadata": {},
   "source": [
    "## Realistic Scenario"
   ]
  },
  {
   "cell_type": "markdown",
   "metadata": {},
   "source": [
    "For this, we'll use PyCharm.\n",
    "\n",
    "Basically, we set up PyCharm Community edition in this section.  I downloaded it from a .deb repository.\n",
    "\n",
    "Will be using it for the purpose of setting up packages and checking out the IDE.  Will be useful to have it set up for courses in the future, but I should have thought of using the Neagoie folder for the project folder in PyCharm.\n",
    "\n",
    "I found it a little peculiar that the package files would go into the venv folder here. It's a different environment than what I'm used to, but I suppose I just need to be get exposed to IDEs other than VS Code, taking note of how larger scale projects manage the organization of code.\n",
    "\n",
    "So, it looks like Mr. Neagoie has `main.py` and `utility.py` and the `shopping` package inside of the `venv` folder.\n",
    "\n",
    "We have our files situated as in VS Code, like so:\n",
    "\n",
    "![image](pycharm1.png)\n",
    "\n",
    "This PyCharm exercise is not just academic; there is an extra file here. `shopping` has an `__init__.py` file. VS Code repl hides this away from us.\n",
    "\n",
    "It's completely empty. Usually on the root of such a package, we require an `__init__.py` file.\n",
    "\n",
    "This is how the interpreter knows that it is a Python package. `__init__.py` gets added with right-clicking on new up at the top and clicking `Python package` in the select menu. Every time we create a package, we need an `__init` file."
   ]
  }
 ],
 "metadata": {
  "kernelspec": {
   "display_name": "Python 3.10.6 64-bit",
   "language": "python",
   "name": "python3"
  },
  "language_info": {
   "codemirror_mode": {
    "name": "ipython",
    "version": 3
   },
   "file_extension": ".py",
   "mimetype": "text/x-python",
   "name": "python",
   "nbconvert_exporter": "python",
   "pygments_lexer": "ipython3",
   "version": "3.10.6"
  },
  "orig_nbformat": 4,
  "vscode": {
   "interpreter": {
    "hash": "916dbcbb3f70747c44a77c7bcd40155683ae19c65e1c03b4aa3499c5328201f1"
   }
  }
 },
 "nbformat": 4,
 "nbformat_minor": 2
}
