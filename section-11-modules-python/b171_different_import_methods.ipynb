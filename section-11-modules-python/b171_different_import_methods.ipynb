{
 "cells": [
  {
   "cell_type": "markdown",
   "metadata": {},
   "source": [
    "# Different ways to import\n",
    "\n",
    "Sometimes the `import` statement won't cut it for large projects.\n",
    "\n",
    "We can have a package within a package, as we have here with `more_shopping` within `shopping`:\n",
    "\n",
    "![image](./pycharm3.png)\n",
    "\n",
    "Now, when we import `shop_cart.py` in `main.py`, we do things a little differently:"
   ]
  },
  {
   "cell_type": "markdown",
   "metadata": {},
   "source": [
    "![image](./pycharm4.png)\n",
    "<br />\n",
    "\n",
    "But things are starting to look a little long-winded, using dot after dot in our imports."
   ]
  },
  {
   "cell_type": "code",
   "execution_count": null,
   "metadata": {},
   "outputs": [],
   "source": [
    "import utility\n",
    "import shopping.more_shopping.shop_cart\n",
    "\n",
    "print(shopping.more_shopping.shop_cart.buy('apple'))"
   ]
  },
  {
   "cell_type": "markdown",
   "metadata": {},
   "source": [
    "How do we clean this?"
   ]
  },
  {
   "cell_type": "code",
   "execution_count": null,
   "metadata": {},
   "outputs": [],
   "source": [
    "from shopping.more_shopping.shop_cart import buy"
   ]
  },
  {
   "cell_type": "markdown",
   "metadata": {},
   "source": [
    "`main.py` is now more readable:"
   ]
  },
  {
   "cell_type": "code",
   "execution_count": null,
   "metadata": {},
   "outputs": [],
   "source": [
    "import utility\n",
    "from shopping.more_shopping.shop_cart import buy\n",
    "print(buy('apple')) # prints ['apple']"
   ]
  },
  {
   "cell_type": "markdown",
   "metadata": {},
   "source": [
    "We can change the other import statement too"
   ]
  },
  {
   "cell_type": "code",
   "execution_count": null,
   "metadata": {},
   "outputs": [],
   "source": [
    "from utility import multiply, divide\n",
    "from shopping.more_shopping.shop_cart import buy\n",
    "print(buy('apple')) # prints ['apple']"
   ]
  },
  {
   "cell_type": "markdown",
   "metadata": {},
   "source": [
    "We can also say *from package_name, package_name* and then import the entire module."
   ]
  },
  {
   "cell_type": "code",
   "execution_count": null,
   "metadata": {},
   "outputs": [],
   "source": [
    "from utility import multiply, divide\n",
    "from shopping.more_shopping import shop_cart"
   ]
  },
  {
   "cell_type": "markdown",
   "metadata": {},
   "source": [
    "We may want to do this if we don't want name collisions."
   ]
  },
  {
   "cell_type": "code",
   "execution_count": null,
   "metadata": {},
   "outputs": [],
   "source": [
    "from utility import multiply, divide\n",
    "from shopping.more_shopping import shop_cart\n",
    "\n",
    "print(shop_cart.buy('apple'))\n",
    "print(divide(4, 2))\n",
    "print(multiply(4, 2))\n",
    "print(max([1,2,3])) # max is 3"
   ]
  },
  {
   "cell_type": "markdown",
   "metadata": {},
   "source": [
    "If in our `utility` function, we added a `max()` "
   ]
  },
  {
   "cell_type": "code",
   "execution_count": null,
   "metadata": {},
   "outputs": [],
   "source": [
    "def multiply(num1, num2):\n",
    "    return num1 * num2\n",
    "\n",
    "\n",
    "def divide(num1, num2):\n",
    "    return num1 / num2\n",
    "  \n",
    "def max():\n",
    "  return 'flubble'"
   ]
  },
  {
   "cell_type": "markdown",
   "metadata": {},
   "source": [
    "We may go back to main.py and import max from `utility` and get a name collision with the built-in.\n",
    "\n",
    "``` bash\n",
    "File \"/home/ct/PycharmProjects/modules/venv/main.py\", line 7, in <module>\n",
    "    print(max([1,2,3]))\n",
    "TypeError: max() takes 0 positional arguments but 1 was given\n",
    "```\n",
    "We can actually override existing functions. Always be explicit and say exactly what we want to import.\n",
    "\n",
    "## The gist: modules and packages help us have good engineering practices."
   ]
  },
  {
   "cell_type": "markdown",
   "metadata": {},
   "source": []
  }
 ],
 "metadata": {
  "kernelspec": {
   "display_name": "Python 3.10.6 64-bit",
   "language": "python",
   "name": "python3"
  },
  "language_info": {
   "name": "python",
   "version": "3.10.6"
  },
  "orig_nbformat": 4,
  "vscode": {
   "interpreter": {
    "hash": "916dbcbb3f70747c44a77c7bcd40155683ae19c65e1c03b4aa3499c5328201f1"
   }
  }
 },
 "nbformat": 4,
 "nbformat_minor": 2
}
