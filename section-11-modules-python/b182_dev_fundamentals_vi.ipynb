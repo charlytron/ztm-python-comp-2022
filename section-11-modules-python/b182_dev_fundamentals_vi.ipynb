{
 "cells": [
  {
   "cell_type": "markdown",
   "metadata": {},
   "source": [
    "# Developer Fundamentals\n",
    "\n",
    "## Pros and Cons of Libraries\n",
    "\n",
    "Not always good to use packages.\n",
    "\n",
    "- Some are buggy\n",
    "- Some are not maintained\n",
    "- Know what's popular with the community\n",
    "\n",
    "Every time we add a library to our project, we're adding more data, making project heavier.\n",
    "\n",
    "Before importing a library, ask if you can write it yourself.\n",
    "\n",
    "Most of the time devs are matching and pulling in different libraries and getting them to all work together. A lot of our work will involve libraries, reading their documentation and figuring things out as we go.\n",
    "\n"
   ]
  }
 ],
 "metadata": {
  "kernelspec": {
   "display_name": "Python 3.10.6 64-bit",
   "language": "python",
   "name": "python3"
  },
  "language_info": {
   "name": "python",
   "version": "3.10.6"
  },
  "orig_nbformat": 4,
  "vscode": {
   "interpreter": {
    "hash": "916dbcbb3f70747c44a77c7bcd40155683ae19c65e1c03b4aa3499c5328201f1"
   }
  }
 },
 "nbformat": 4,
 "nbformat_minor": 2
}
