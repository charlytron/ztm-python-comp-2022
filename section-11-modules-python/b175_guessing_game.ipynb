{
 "cells": [
  {
   "cell_type": "markdown",
   "metadata": {},
   "source": [
    "# Guessing game exercise"
   ]
  },
  {
   "cell_type": "code",
   "execution_count": 5,
   "metadata": {},
   "outputs": [
    {
     "name": "stdout",
     "output_type": "stream",
     "text": [
      "Please enter a number, g\n",
      "all good\n"
     ]
    }
   ],
   "source": [
    "from random import randint\n",
    "\n",
    "# generate a number 1 - 10\n",
    "answer = randint(1, 10)\n",
    "\n",
    "# get input from user\n",
    "\n",
    "\n",
    "# check that input is a number from 1 - 10\n",
    "while True:\n",
    "    try:\n",
    "      guess = input('guess a number from 1 to 10:  ')\n",
    "      if int(guess) > 0 and int(guess) < 11:\n",
    "            print('all good')\n",
    "            break\n",
    "      else:\n",
    "        print('hey, doobah, 1 -10, okay?')\n",
    "    except ValueError:\n",
    "      print('Please enter a number')\n",
    "      continue\n",
    "\n",
    "# check if number is the right guess\n"
   ]
  }
 ],
 "metadata": {
  "kernelspec": {
   "display_name": "Python 3.10.6 64-bit",
   "language": "python",
   "name": "python3"
  },
  "language_info": {
   "codemirror_mode": {
    "name": "ipython",
    "version": 3
   },
   "file_extension": ".py",
   "mimetype": "text/x-python",
   "name": "python",
   "nbconvert_exporter": "python",
   "pygments_lexer": "ipython3",
   "version": "3.10.6"
  },
  "orig_nbformat": 4,
  "vscode": {
   "interpreter": {
    "hash": "916dbcbb3f70747c44a77c7bcd40155683ae19c65e1c03b4aa3499c5328201f1"
   }
  }
 },
 "nbformat": 4,
 "nbformat_minor": 2
}
