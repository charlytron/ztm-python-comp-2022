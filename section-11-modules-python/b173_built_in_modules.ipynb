{
 "cells": [
  {
   "cell_type": "markdown",
   "metadata": {},
   "source": [
    "# Built-in Python Modules\n",
    "\n",
    "Key feature: core language is small. Python was created in a small package as a feature to keep things simple, leaving less to memorize.\n",
    "\n",
    "Py is popular because it leverages external modules and packages, allowing us to expand on the functionality with the built-in modules.\n",
    "\n",
    "[Python documents of all its modules](https://docs.python.org/3/py-modindex.html)\n",
    "\n",
    "These come with the Python interpreter, but we have to import them as needed.\n",
    "\n",
    "- [email module](https://docs.python.org/3/library/email.html)\n",
    "- [math module](https://docs.python.org/3/library/math.html?highlight=math%20module#module-math)\n",
    "\n",
    "\n",
    "They exist to help us gain extra functionality. Likely, we'll use 30% of them.\n",
    "\n",
    "Other languages may refer to this as a standard library, maintained by the community.\n",
    "\n",
    "## How to use these built-ins?\n",
    "\n",
    "e.g. `random()`"
   ]
  },
  {
   "cell_type": "code",
   "execution_count": 1,
   "metadata": {},
   "outputs": [
    {
     "name": "stdout",
     "output_type": "stream",
     "text": [
      "<module 'random' from '/usr/lib/python3.10/random.py'>\n"
     ]
    }
   ],
   "source": [
    "import random\n",
    "\n",
    "print(random)"
   ]
  },
  {
   "cell_type": "markdown",
   "metadata": {},
   "source": [
    "This is actually installed on our machine. In Pycharm, go to...\n",
    "\n",
    "<br />\n",
    "\n",
    "![image](./pycharm5.png)"
   ]
  },
  {
   "cell_type": "markdown",
   "metadata": {},
   "source": [
    "<br />\n",
    "\n",
    "Drilling down, we'll see the `random.py` module within.\n",
    "\n",
    "<br />\n",
    "\n",
    "![image](./pycharm6.png)\n",
    "\n",
    "<br />"
   ]
  },
  {
   "cell_type": "markdown",
   "metadata": {},
   "source": [
    "If we double-click it, we get the exact file that allows us to use `random`.\n",
    "\n",
    "<br />\n",
    "\n",
    "![image](./pycharm7.png)\n",
    "\n",
    "<br />\n",
    "\n",
    "Scrolling further through the file, we should be able to see the `if __name__ == '__main__':` conditional we mentioned earlier.\n",
    "\n",
    "__*Only run this `test()` function if this is the main file being run.*__ We import it and therefore don't run it directly."
   ]
  },
  {
   "cell_type": "markdown",
   "metadata": {},
   "source": [
    "When we import a library, not knowing what it does, we use the help() function. But the `dir()` is also helpful"
   ]
  },
  {
   "cell_type": "code",
   "execution_count": 3,
   "metadata": {},
   "outputs": [
    {
     "name": "stdout",
     "output_type": "stream",
     "text": [
      "['BPF', 'LOG4', 'NV_MAGICCONST', 'RECIP_BPF', 'Random', 'SG_MAGICCONST', 'SystemRandom', 'TWOPI', '_ONE', '_Sequence', '_Set', '__all__', '__builtins__', '__cached__', '__doc__', '__file__', '__loader__', '__name__', '__package__', '__spec__', '_accumulate', '_acos', '_bisect', '_ceil', '_cos', '_e', '_exp', '_floor', '_index', '_inst', '_isfinite', '_log', '_os', '_pi', '_random', '_repeat', '_sha512', '_sin', '_sqrt', '_test', '_test_generator', '_urandom', '_warn', 'betavariate', 'choice', 'choices', 'expovariate', 'gammavariate', 'gauss', 'getrandbits', 'getstate', 'lognormvariate', 'normalvariate', 'paretovariate', 'randbytes', 'randint', 'random', 'randrange', 'sample', 'seed', 'setstate', 'shuffle', 'triangular', 'uniform', 'vonmisesvariate', 'weibullvariate']\n"
     ]
    }
   ],
   "source": [
    "print(dir(random))"
   ]
  },
  {
   "cell_type": "markdown",
   "metadata": {},
   "source": [
    "^^^ These are all the methods available on this package."
   ]
  },
  {
   "cell_type": "code",
   "execution_count": null,
   "metadata": {},
   "outputs": [],
   "source": [
    "print(dir(random._))"
   ]
  },
  {
   "cell_type": "markdown",
   "metadata": {},
   "source": [
    "The `.` after `random` brings a popup of all the available methods in the IDE, in this case VS Code."
   ]
  },
  {
   "cell_type": "code",
   "execution_count": 5,
   "metadata": {},
   "outputs": [
    {
     "name": "stdout",
     "output_type": "stream",
     "text": [
      "0.37677032188512316\n"
     ]
    }
   ],
   "source": [
    "print(random.random())"
   ]
  },
  {
   "cell_type": "markdown",
   "metadata": {},
   "source": [
    "gives us a random num from 0 to 1. But we need to give parameters for start and end:"
   ]
  },
  {
   "cell_type": "code",
   "execution_count": 7,
   "metadata": {},
   "outputs": [
    {
     "name": "stdout",
     "output_type": "stream",
     "text": [
      "33\n"
     ]
    }
   ],
   "source": [
    "print(random.randint(1, 59))"
   ]
  },
  {
   "cell_type": "markdown",
   "metadata": {},
   "source": [
    "Also try `choice` to pick a value from iterable:"
   ]
  },
  {
   "cell_type": "code",
   "execution_count": 13,
   "metadata": {},
   "outputs": [
    {
     "name": "stdout",
     "output_type": "stream",
     "text": [
      "67\n"
     ]
    }
   ],
   "source": [
    "print(random.choice([1,90,67,23]))"
   ]
  },
  {
   "cell_type": "markdown",
   "metadata": {},
   "source": [
    "Why is what we're surveying useful? Games have randomness built in."
   ]
  },
  {
   "cell_type": "markdown",
   "metadata": {},
   "source": [
    "random.shuffle executes in an unexpected way, shuffling in place. We can't just input a list the usual way:"
   ]
  },
  {
   "cell_type": "code",
   "execution_count": 18,
   "metadata": {},
   "outputs": [
    {
     "name": "stdout",
     "output_type": "stream",
     "text": [
      "[2, 1, 6, 5, 3, 4]\n"
     ]
    }
   ],
   "source": [
    "my_list = [1,2,3,4,5,6]\n",
    "random.shuffle(my_list)\n",
    "print(my_list)"
   ]
  },
  {
   "cell_type": "markdown",
   "metadata": {},
   "source": [
    "We could have imported random this way, should we need to avoid name collisions:"
   ]
  },
  {
   "cell_type": "code",
   "execution_count": 20,
   "metadata": {},
   "outputs": [
    {
     "name": "stdout",
     "output_type": "stream",
     "text": [
      "[6, 3, 1, 4, 5, 2]\n"
     ]
    }
   ],
   "source": [
    "from random import shuffle\n",
    "\n",
    "# or\n",
    "\n",
    "import random as waka_waka\n",
    "\n",
    "waka_waka.shuffle(my_list)\n",
    "print(my_list)"
   ]
  },
  {
   "cell_type": "markdown",
   "metadata": {},
   "source": [
    "In our case, we want to import from random just the shuffle, in order to be explicit, no guessing allowed:"
   ]
  },
  {
   "cell_type": "code",
   "execution_count": null,
   "metadata": {},
   "outputs": [],
   "source": [
    "from random import shuffle"
   ]
  }
 ],
 "metadata": {
  "kernelspec": {
   "display_name": "Python 3.10.6 64-bit",
   "language": "python",
   "name": "python3"
  },
  "language_info": {
   "codemirror_mode": {
    "name": "ipython",
    "version": 3
   },
   "file_extension": ".py",
   "mimetype": "text/x-python",
   "name": "python",
   "nbconvert_exporter": "python",
   "pygments_lexer": "ipython3",
   "version": "3.10.6"
  },
  "orig_nbformat": 4,
  "vscode": {
   "interpreter": {
    "hash": "916dbcbb3f70747c44a77c7bcd40155683ae19c65e1c03b4aa3499c5328201f1"
   }
  }
 },
 "nbformat": 4,
 "nbformat_minor": 2
}
