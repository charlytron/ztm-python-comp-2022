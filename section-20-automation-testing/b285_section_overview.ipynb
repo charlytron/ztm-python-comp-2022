{
 "cells": [
  {
   "cell_type": "markdown",
   "metadata": {},
   "source": [
    "# Section Overview\n",
    "\n",
    "We want to make sure that our apps work properly. So we need to hire people who can do testing. We need to test and automate the necessary steps to make sure that our applications work.\n",
    "\n",
    "Companies hire Python developers in order to help with automation. Through programming we can interact with a browser and mimic human actions making sure that the application works as expected. We can in fact mimic millions of users."
   ]
  }
 ],
 "metadata": {
  "language_info": {
   "name": "python"
  },
  "orig_nbformat": 4
 },
 "nbformat": 4,
 "nbformat_minor": 2
}
