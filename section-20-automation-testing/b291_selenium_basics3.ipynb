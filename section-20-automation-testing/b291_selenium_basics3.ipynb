{
 "cells": [
  {
   "cell_type": "markdown",
   "metadata": {},
   "source": [
    "# Selenium Basics 3\n",
    "\n",
    "How do we close all of the browsers that inevitably get opened during Selenium usage? If we look at line 35, all we have to do is write `chrome_browser.close()`."
   ]
  },
  {
   "cell_type": "code",
   "execution_count": 1,
   "metadata": {},
   "outputs": [
    {
     "name": "stdout",
     "output_type": "stream",
     "text": [
      "<selenium.webdriver.remote.webelement.WebElement (session=\"595d3824af5fbbdc98ac9ed3d7f6626a\", element=\"bfb05154-72ac-4e0a-b15b-744d796bf759\")>\n"
     ]
    }
   ],
   "source": [
    "from selenium import webdriver\n",
    "from selenium.webdriver.chrome.service import Service\n",
    "from selenium import webdriver\n",
    "from selenium.webdriver.common.by import By\n",
    "import time\n",
    " \n",
    "  \n",
    "service = Service(executable_path='./chromedriver_linux64/chromedriver')\n",
    "  \n",
    "chrome_browser = webdriver.Chrome(service=service)\n",
    "\n",
    "chrome_browser.maximize_window()\n",
    "chrome_browser.get('https://demo.seleniumeasy.com/basic-first-form-demo.html')\n",
    "\n",
    "# print('Selenium Easy Demo' in chrome_browser.title)\n",
    "\n",
    "show_button_text = chrome_browser.find_element(By.CLASS_NAME, 'btn-default')\n",
    "# print(show_button_text.get_attribute('innerHTML'))\n",
    "\n",
    "assert 'Show Message' in chrome_browser.page_source\n",
    "\n",
    "user_message = chrome_browser.find_element(By.ID, 'user-message')\n",
    "user_button2 = chrome_browser.find_element(By.CSS_SELECTOR, '#get-input > .btn')\n",
    "print(user_button2)\n",
    "user_message.clear()\n",
    "user_message.send_keys('I am Existroidinary')\n",
    "\n",
    "time.sleep(2)\n",
    "show_message_button = chrome_browser.find_element(By.CLASS_NAME, 'btn-default')\n",
    "show_message_button.click()\n",
    "  \n",
    "output_message = chrome_browser.find_element(By.ID, 'display')\n",
    "assert 'I am Existroidinary' in output_message.text\n",
    "\n",
    "chrome_browser.close()"
   ]
  },
  {
   "cell_type": "markdown",
   "metadata": {},
   "source": [
    "So this will close our browsers, however, browsers are always being updated. Sometimes Selenium won't close the browser properly. In some cases, we may need to call `chrome_browser.close()` twice to make sure that it closes the instance of the current window that is open. with `quit()`  we actually get to close the entire chrome driver, as per line 35:"
   ]
  },
  {
   "cell_type": "code",
   "execution_count": 2,
   "metadata": {},
   "outputs": [
    {
     "name": "stdout",
     "output_type": "stream",
     "text": [
      "<selenium.webdriver.remote.webelement.WebElement (session=\"2cdd0fd4f8437d3b5544be72325066c0\", element=\"f31b3780-7210-4b27-a748-5d09e77a6e61\")>\n"
     ]
    }
   ],
   "source": [
    "from selenium import webdriver\n",
    "from selenium.webdriver.chrome.service import Service\n",
    "from selenium import webdriver\n",
    "from selenium.webdriver.common.by import By\n",
    "import time\n",
    " \n",
    "  \n",
    "service = Service(executable_path='./chromedriver_linux64/chromedriver')\n",
    "  \n",
    "chrome_browser = webdriver.Chrome(service=service)\n",
    "\n",
    "chrome_browser.maximize_window()\n",
    "chrome_browser.get('https://demo.seleniumeasy.com/basic-first-form-demo.html')\n",
    "\n",
    "# print('Selenium Easy Demo' in chrome_browser.title)\n",
    "\n",
    "show_button_text = chrome_browser.find_element(By.CLASS_NAME, 'btn-default')\n",
    "# print(show_button_text.get_attribute('innerHTML'))\n",
    "\n",
    "assert 'Show Message' in chrome_browser.page_source\n",
    "\n",
    "user_message = chrome_browser.find_element(By.ID, 'user-message')\n",
    "user_button2 = chrome_browser.find_element(By.CSS_SELECTOR, '#get-input > .btn')\n",
    "print(user_button2)\n",
    "user_message.clear()\n",
    "user_message.send_keys('I am Existroidinary')\n",
    "\n",
    "time.sleep(2)\n",
    "show_message_button = chrome_browser.find_element(By.CLASS_NAME, 'btn-default')\n",
    "show_message_button.click()\n",
    "  \n",
    "output_message = chrome_browser.find_element(By.ID, 'display')\n",
    "assert 'I am Existroidinary' in output_message.text\n",
    "\n",
    "chrome_browser.quit()"
   ]
  },
  {
   "cell_type": "markdown",
   "metadata": {},
   "source": [
    "That also quits the browser, but if in our code we're opening up the browser twice, this command will quit all sessions.\n",
    "\n",
    "THe `quit()` and `close()` commands can create a lot of headaches, not working in some browsers, but it depends on the versions that we have installed.\n",
    "\n",
    "This gives us a lot of power in terms of writing bots for good or ill.\n",
    "\n",
    "Most websites will detect robots, though, because of how fast the machine is interacting with the site. That's why Selenium implemented `waits`. This allows us to simulate actions at a delay. Most people will use the `sleep()` or `wait()` methods to simulate pauses.\n",
    "\n",
    "Best to test on our own products though, not to abuse other sites and game the system. With power begins responsibility."
   ]
  }
 ],
 "metadata": {
  "kernelspec": {
   "display_name": "Python 3.9.12 ('base')",
   "language": "python",
   "name": "python3"
  },
  "language_info": {
   "codemirror_mode": {
    "name": "ipython",
    "version": 3
   },
   "file_extension": ".py",
   "mimetype": "text/x-python",
   "name": "python",
   "nbconvert_exporter": "python",
   "pygments_lexer": "ipython3",
   "version": "3.9.12"
  },
  "orig_nbformat": 4,
  "vscode": {
   "interpreter": {
    "hash": "66b6dfc241c8325d69ccfbaf588ee11e398b2b02082dd5e73e37f3a4fd18fba0"
   }
  }
 },
 "nbformat": 4,
 "nbformat_minor": 2
}
