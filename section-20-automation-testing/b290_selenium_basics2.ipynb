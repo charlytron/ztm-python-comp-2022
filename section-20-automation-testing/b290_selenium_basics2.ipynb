{
 "cells": [
  {
   "cell_type": "markdown",
   "metadata": {},
   "source": [
    "# Selenium Basics 2"
   ]
  },
  {
   "cell_type": "markdown",
   "metadata": {},
   "source": [
    "Time to do something useful with the selenium driver. "
   ]
  },
  {
   "cell_type": "code",
   "execution_count": 1,
   "metadata": {},
   "outputs": [
    {
     "name": "stdout",
     "output_type": "stream",
     "text": [
      "False\n",
      "Show Message\n"
     ]
    }
   ],
   "source": [
    "from selenium import webdriver\n",
    "from selenium.webdriver.chrome.service import Service\n",
    "from selenium import webdriver\n",
    "from selenium.webdriver.common.by import By\n",
    "import time\n",
    " \n",
    "  \n",
    "service = Service(executable_path='./chromedriver_linux64/chromedriver')\n",
    "  \n",
    "chrome_browser = webdriver.Chrome(service=service)\n",
    "\n",
    "chrome_browser.maximize_window()\n",
    "chrome_browser.get('https://demo.seleniumeasy.com/basic-first-form-demo.html')\n",
    "\n",
    "print('Selenium Easy - Best Demo website to practice Selenium Webdriver Online' in chrome_browser.title)\n",
    "\n",
    "button_text = chrome_browser.find_element(By.CLASS_NAME, 'btn-default')\n",
    "print(button_text.get_attribute('innerHTML'))"
   ]
  },
  {
   "cell_type": "markdown",
   "metadata": {},
   "source": [
    "We really want to assert that this `Show Message` actually exists on our page."
   ]
  },
  {
   "cell_type": "code",
   "execution_count": 3,
   "metadata": {},
   "outputs": [
    {
     "name": "stdout",
     "output_type": "stream",
     "text": [
      "True\n",
      "Show Message\n"
     ]
    }
   ],
   "source": [
    "from selenium import webdriver\n",
    "from selenium.webdriver.chrome.service import Service\n",
    "from selenium import webdriver\n",
    "from selenium.webdriver.common.by import By\n",
    "import time\n",
    " \n",
    "  \n",
    "service = Service(executable_path='./chromedriver_linux64/chromedriver')\n",
    "  \n",
    "chrome_browser = webdriver.Chrome(service=service)\n",
    "\n",
    "chrome_browser.maximize_window()\n",
    "chrome_browser.get('https://demo.seleniumeasy.com/basic-first-form-demo.html')\n",
    "\n",
    "print('Selenium Easy Demo' in chrome_browser.title)\n",
    "\n",
    "button_text = chrome_browser.find_element(By.CLASS_NAME, 'btn-default')\n",
    "print(button_text.get_attribute('innerHTML'))\n",
    "\n",
    "assert 'Show Message' in chrome_browser.page_source"
   ]
  },
  {
   "cell_type": "markdown",
   "metadata": {},
   "source": [
    "Moving on, we can find the input element by id:"
   ]
  },
  {
   "cell_type": "code",
   "execution_count": 6,
   "metadata": {},
   "outputs": [
    {
     "name": "stdout",
     "output_type": "stream",
     "text": [
      "True\n",
      "Show Message\n"
     ]
    }
   ],
   "source": [
    "from selenium import webdriver\n",
    "from selenium.webdriver.chrome.service import Service\n",
    "from selenium import webdriver\n",
    "from selenium.webdriver.common.by import By\n",
    "import time\n",
    " \n",
    "  \n",
    "service = Service(executable_path='./chromedriver_linux64/chromedriver')\n",
    "  \n",
    "chrome_browser = webdriver.Chrome(service=service)\n",
    "\n",
    "chrome_browser.maximize_window()\n",
    "chrome_browser.get('https://demo.seleniumeasy.com/basic-first-form-demo.html')\n",
    "\n",
    "print('Selenium Easy Demo' in chrome_browser.title)\n",
    "\n",
    "button_text = chrome_browser.find_element(By.CLASS_NAME, 'btn-default')\n",
    "print(button_text.get_attribute('innerHTML'))\n",
    "\n",
    "assert 'Show Message' in chrome_browser.page_source\n",
    "\n",
    "user_message = chrome_browser.find_element(By.ID, 'user-message')\n",
    "user_message.clear()\n",
    "user_message.send_keys('I am Existroidinary')\n"
   ]
  },
  {
   "cell_type": "markdown",
   "metadata": {},
   "source": [
    "So, this does print the test within the input form on the page.  Now, let's see if we can automate the button click so  that when we click `Show Message` our message prints."
   ]
  },
  {
   "cell_type": "code",
   "execution_count": 1,
   "metadata": {},
   "outputs": [
    {
     "name": "stdout",
     "output_type": "stream",
     "text": [
      "<selenium.webdriver.remote.webelement.WebElement (session=\"b12d75e5779734f8096800bf95ab3a89\", element=\"892e7260-1f80-40bd-b1a3-386ce664c8b8\")>\n"
     ]
    }
   ],
   "source": [
    "from selenium import webdriver\n",
    "from selenium.webdriver.chrome.service import Service\n",
    "from selenium import webdriver\n",
    "from selenium.webdriver.common.by import By\n",
    "import time\n",
    " \n",
    "  \n",
    "service = Service(executable_path='./chromedriver_linux64/chromedriver')\n",
    "  \n",
    "chrome_browser = webdriver.Chrome(service=service)\n",
    "\n",
    "chrome_browser.maximize_window()\n",
    "chrome_browser.get('https://demo.seleniumeasy.com/basic-first-form-demo.html')\n",
    "\n",
    "# print('Selenium Easy Demo' in chrome_browser.title)\n",
    "\n",
    "show_button_text = chrome_browser.find_element(By.CLASS_NAME, 'btn-default')\n",
    "# print(show_button_text.get_attribute('innerHTML'))\n",
    "\n",
    "assert 'Show Message' in chrome_browser.page_source\n",
    "\n",
    "user_message = chrome_browser.find_element(By.ID, 'user-message')\n",
    "user_button2 = chrome_browser.find_element(By.CSS_SELECTOR, '#get-input > .btn')\n",
    "print(user_button2)\n",
    "user_message.clear()\n",
    "user_message.send_keys('I am Existroidinary')\n",
    "\n",
    "time.sleep(2)\n",
    "show_message_button = chrome_browser.find_element(By.CLASS_NAME, 'btn-default')\n",
    "show_message_button.click()\n",
    "  \n",
    "output_message = chrome_browser.find_element(By.ID, 'display')\n",
    "assert 'I am Existroidinary' in output_message.text\n",
    "\n",
    "\n",
    "\n"
   ]
  },
  {
   "cell_type": "markdown",
   "metadata": {},
   "source": [
    "The point is that we're letting the machine control the browser extremely fast so that we can test as many times as we want without being schlepped around.\n",
    "\n",
    "We can simulate clicks, we can do anything that a human would do."
   ]
  }
 ],
 "metadata": {
  "kernelspec": {
   "display_name": "Python 3.9.12 ('base')",
   "language": "python",
   "name": "python3"
  },
  "language_info": {
   "codemirror_mode": {
    "name": "ipython",
    "version": 3
   },
   "file_extension": ".py",
   "mimetype": "text/x-python",
   "name": "python",
   "nbconvert_exporter": "python",
   "pygments_lexer": "ipython3",
   "version": "3.9.12"
  },
  "orig_nbformat": 4,
  "vscode": {
   "interpreter": {
    "hash": "66b6dfc241c8325d69ccfbaf588ee11e398b2b02082dd5e73e37f3a4fd18fba0"
   }
  }
 },
 "nbformat": 4,
 "nbformat_minor": 2
}
