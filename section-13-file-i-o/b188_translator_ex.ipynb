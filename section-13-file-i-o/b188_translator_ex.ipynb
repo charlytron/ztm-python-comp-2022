{
 "cells": [
  {
   "cell_type": "markdown",
   "metadata": {},
   "source": [
    "# Translator exercise:\n",
    "\n",
    "We're given a large text file, \"My name is Bubba Bean\", and we want to translate it."
   ]
  },
  {
   "cell_type": "code",
   "execution_count": 1,
   "metadata": {},
   "outputs": [
    {
     "name": "stdout",
     "output_type": "stream",
     "text": [
      "My name is Bubba, and only way I get high is kickin' booty on football field.\n"
     ]
    }
   ],
   "source": [
    "try:\n",
    "    with open('./trans.txt', mode='r') as my_file:\n",
    "      print(my_file.read())\n",
    "except FileNotFoundError as e:\n",
    "  print('check yo file path, Bubba')"
   ]
  },
  {
   "cell_type": "markdown",
   "metadata": {},
   "source": [
    "Use translate as a module:"
   ]
  },
  {
   "cell_type": "code",
   "execution_count": null,
   "metadata": {},
   "outputs": [],
   "source": [
    "from translate import Translator\n",
    "\n",
    "try:\n",
    "    with open('./trans.txt', mode='r') as my_file:\n",
    "      print(my_file.read())\n",
    "except FileNotFoundError as e:\n",
    "  print('check yo file path, Bubba')"
   ]
  }
 ],
 "metadata": {
  "kernelspec": {
   "display_name": "Python 3.10.6 64-bit",
   "language": "python",
   "name": "python3"
  },
  "language_info": {
   "codemirror_mode": {
    "name": "ipython",
    "version": 3
   },
   "file_extension": ".py",
   "mimetype": "text/x-python",
   "name": "python",
   "nbconvert_exporter": "python",
   "pygments_lexer": "ipython3",
   "version": "3.10.6"
  },
  "orig_nbformat": 4,
  "vscode": {
   "interpreter": {
    "hash": "916dbcbb3f70747c44a77c7bcd40155683ae19c65e1c03b4aa3499c5328201f1"
   }
  }
 },
 "nbformat": 4,
 "nbformat_minor": 2
}
