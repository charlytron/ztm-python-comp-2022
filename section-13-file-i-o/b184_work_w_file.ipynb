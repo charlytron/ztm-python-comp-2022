{
 "cells": [
  {
   "cell_type": "markdown",
   "metadata": {},
   "source": [
    "# Working with Files in Python\n",
    "\n",
    "In file I/O we interact with different parts of the system.\n",
    "\n",
    "- Speaking to another website\n",
    "- speaking to another file on desktop\n",
    "- Communicating with another machine\n",
    "- Speaking to a database\n",
    "- Compressing images\n",
    "- Work with PDF file, maybe add a watermark to it\n",
    "\n",
    "We want to input something from the outside world and output something into the outside world.\n",
    "\n",
    "__Reading files is one of the most common applications of this.__"
   ]
  },
  {
   "cell_type": "code",
   "execution_count": 3,
   "metadata": {},
   "outputs": [
    {
     "name": "stdout",
     "output_type": "stream",
     "text": [
      "<_io.TextIOWrapper name='test.txt' mode='r' encoding='UTF-8'>\n"
     ]
    }
   ],
   "source": [
    "my_file = open('test.txt')\n",
    "print(my_file)"
   ]
  },
  {
   "cell_type": "markdown",
   "metadata": {},
   "source": [
    "Here, we get an object, `io.TextIOWrapper`, `name`, `mode` and `encoding`"
   ]
  },
  {
   "cell_type": "markdown",
   "metadata": {},
   "source": [
    "And here's how we read the file:"
   ]
  },
  {
   "cell_type": "code",
   "execution_count": 4,
   "metadata": {},
   "outputs": [
    {
     "name": "stdout",
     "output_type": "stream",
     "text": [
      "<built-in method read of _io.TextIOWrapper object at 0x7f0602432f60>\n"
     ]
    }
   ],
   "source": [
    "my_file = open('test.txt')\n",
    "print(my_file.read)"
   ]
  },
  {
   "cell_type": "markdown",
   "metadata": {},
   "source": [
    "And if we invoke it, "
   ]
  },
  {
   "cell_type": "code",
   "execution_count": 6,
   "metadata": {},
   "outputs": [
    {
     "name": "stdout",
     "output_type": "stream",
     "text": [
      "Print(\"Polly wanna Cracker\")\n"
     ]
    }
   ],
   "source": [
    "my_file = open('test.txt')\n",
    "print(my_file.read())"
   ]
  },
  {
   "cell_type": "markdown",
   "metadata": {},
   "source": [
    "`read()` reads the first line of code, but for the consecutive times that we run it, it returns nothing:"
   ]
  },
  {
   "cell_type": "code",
   "execution_count": 7,
   "metadata": {},
   "outputs": [
    {
     "name": "stdout",
     "output_type": "stream",
     "text": [
      "Print(\"Polly wanna Cracker\")\n",
      "\n",
      "\n"
     ]
    }
   ],
   "source": [
    "my_file = open('test.txt')\n",
    "print(my_file.read())\n",
    "print(my_file.read())\n",
    "print(my_file.read())"
   ]
  },
  {
   "cell_type": "markdown",
   "metadata": {},
   "source": [
    "`open()` makes use of a cursor; that is, we can only read the file once, and once we open, it returns a file object and the contents of the file that we can read. These contents are read with a cursor, one-by-one and printed onto the screen.\n",
    "\n",
    "At the end of the first reading above, __the cursor is going to be at the end of the file__. So, maybe we can just move our cursor to our chosen index:"
   ]
  },
  {
   "cell_type": "code",
   "execution_count": 9,
   "metadata": {},
   "outputs": [
    {
     "name": "stdout",
     "output_type": "stream",
     "text": [
      "Print(\"Polly wanna Cracker\")\n",
      "Print(\"Polly wanna Cracker\")\n",
      "Print(\"Polly wanna Cracker\")\n"
     ]
    }
   ],
   "source": [
    "my_file = open('test.txt')\n",
    "print(my_file.read())\n",
    "my_file.seek(0)\n",
    "print(my_file.read())\n",
    "my_file.seek(0)\n",
    "print(my_file.read())"
   ]
  },
  {
   "cell_type": "markdown",
   "metadata": {},
   "source": [
    "We can also read a line:"
   ]
  },
  {
   "cell_type": "code",
   "execution_count": 18,
   "metadata": {},
   "outputs": [
    {
     "name": "stdout",
     "output_type": "stream",
     "text": [
      "Print(\"Polly wanna Cracker\")\n",
      "\n",
      ":)\n",
      "\n",
      "How the blankety-blank are ya?\n"
     ]
    }
   ],
   "source": [
    "my_file = open('test.txt')\n",
    "print(my_file.readline())\n",
    "print(my_file.readline())\n",
    "print(my_file.readline())\n"
   ]
  },
  {
   "cell_type": "markdown",
   "metadata": {},
   "source": [
    "Or we can use `readlines()`"
   ]
  },
  {
   "cell_type": "code",
   "execution_count": 19,
   "metadata": {},
   "outputs": [
    {
     "name": "stdout",
     "output_type": "stream",
     "text": [
      "['Print(\"Polly wanna Cracker\")\\n', ':)\\n', 'How the blankety-blank are ya?']\n"
     ]
    }
   ],
   "source": [
    "my_file = open('test.txt')\n",
    "print(my_file.readlines())\n"
   ]
  },
  {
   "cell_type": "markdown",
   "metadata": {},
   "source": [
    "^^^ Here, we get a list that contains the entire file. Useful because we can use regular expressions to search for a piece of text in a file.\n",
    "\n",
    "Problem is that we have to manually close the file after we've opened it with `open()`, allowing us to use it somewhere else in the program:"
   ]
  },
  {
   "cell_type": "code",
   "execution_count": 20,
   "metadata": {},
   "outputs": [
    {
     "name": "stdout",
     "output_type": "stream",
     "text": [
      "['Print(\"Polly wanna Cracker\")\\n', ':)\\n', 'How the blankety-blank are ya?']\n"
     ]
    }
   ],
   "source": [
    "my_file = open('test.txt')\n",
    "print(my_file.readlines())\n",
    "\n",
    "my_file.close()"
   ]
  },
  {
   "cell_type": "markdown",
   "metadata": {},
   "source": [
    "We're telling the computer to stop what it's doing, that we can use this functionality somewhere else."
   ]
  }
 ],
 "metadata": {
  "kernelspec": {
   "display_name": "Python 3.10.6 64-bit",
   "language": "python",
   "name": "python3"
  },
  "language_info": {
   "codemirror_mode": {
    "name": "ipython",
    "version": 3
   },
   "file_extension": ".py",
   "mimetype": "text/x-python",
   "name": "python",
   "nbconvert_exporter": "python",
   "pygments_lexer": "ipython3",
   "version": "3.10.6"
  },
  "orig_nbformat": 4,
  "vscode": {
   "interpreter": {
    "hash": "916dbcbb3f70747c44a77c7bcd40155683ae19c65e1c03b4aa3499c5328201f1"
   }
  }
 },
 "nbformat": 4,
 "nbformat_minor": 2
}
