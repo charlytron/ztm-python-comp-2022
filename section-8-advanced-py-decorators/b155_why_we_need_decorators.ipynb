{
 "cells": [
  {
   "cell_type": "markdown",
   "metadata": {},
   "source": [
    "# Why do we need decorators?\n",
    "\n",
    "We've seen how `@classmethod` and `@staticmethod` were able to be created on the class.\n",
    "\n",
    "Here, we'll make a performance decorator, building it from scratch, that we can use during testing, to see how fast our code runs:"
   ]
  },
  {
   "cell_type": "code",
   "execution_count": 2,
   "metadata": {},
   "outputs": [],
   "source": [
    "from time import time\n",
    "def performance(fn):\n",
    "  def wrapper(*args, **kwargs):\n",
    "    result = fn(*args, **kwargs)\n",
    "    return result\n",
    "  return wrapper\n",
    "\n",
    "@performance\n",
    "def long_time():\n",
    "    for i in range(1000000):\n",
    "        i * 5\n",
    "\n",
    "long_time()"
   ]
  },
  {
   "cell_type": "markdown",
   "metadata": {},
   "source": [
    "Nothing really happens here. Let's start figuring out the time that it takes for the function to run. Lines 4 through 7 are critical to making this happen:"
   ]
  },
  {
   "cell_type": "code",
   "execution_count": 6,
   "metadata": {},
   "outputs": [
    {
     "name": "stdout",
     "output_type": "stream",
     "text": [
      "took 3.251333236694336 seconds\n"
     ]
    }
   ],
   "source": [
    "from time import time\n",
    "def performance(fn):\n",
    "  def wrapper(*args, **kwargs):\n",
    "    t2 = time()\n",
    "    result = fn(*args, **kwargs)\n",
    "    t1 = time()\n",
    "    print(f'took {t1 - t2} seconds')\n",
    "    return result\n",
    "  return wrapper\n",
    "\n",
    "@performance\n",
    "def long_time():\n",
    "    for i in range(100000000):\n",
    "        i * 5\n",
    "\n",
    "long_time()"
   ]
  },
  {
   "cell_type": "markdown",
   "metadata": {},
   "source": [
    "This `@performance` decorator can be given to almost any function in our program and allow us to measure the performance, maybe allow us to optimize it as well, if we need to. It really depends on the machine and how fast is our CPU and memory."
   ]
  }
 ],
 "metadata": {
  "kernelspec": {
   "display_name": "Python 3.10.4 64-bit",
   "language": "python",
   "name": "python3"
  },
  "language_info": {
   "codemirror_mode": {
    "name": "ipython",
    "version": 3
   },
   "file_extension": ".py",
   "mimetype": "text/x-python",
   "name": "python",
   "nbconvert_exporter": "python",
   "pygments_lexer": "ipython3",
   "version": "3.10.4"
  },
  "orig_nbformat": 4,
  "vscode": {
   "interpreter": {
    "hash": "916dbcbb3f70747c44a77c7bcd40155683ae19c65e1c03b4aa3499c5328201f1"
   }
  }
 },
 "nbformat": 4,
 "nbformat_minor": 2
}
