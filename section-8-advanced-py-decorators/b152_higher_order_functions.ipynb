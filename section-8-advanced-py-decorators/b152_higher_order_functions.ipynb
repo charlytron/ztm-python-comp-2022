{
 "cells": [
  {
   "cell_type": "markdown",
   "metadata": {},
   "source": [
    "# Higher Order Functions\n",
    "\n",
    "They're another concept that needs to be addressed before one can discuss decorators. And they can be one of two things:\n",
    "\n",
    "1. A function that accepts another function:"
   ]
  },
  {
   "cell_type": "code",
   "execution_count": null,
   "metadata": {},
   "outputs": [],
   "source": [
    "def treat(func):\n",
    "  func()"
   ]
  },
  {
   "cell_type": "markdown",
   "metadata": {},
   "source": [
    "^^^ This is a function that accepts inside of its parameters another function.\n",
    "\n",
    "2. A function that returns another function:"
   ]
  },
  {
   "cell_type": "code",
   "execution_count": null,
   "metadata": {},
   "outputs": [],
   "source": [
    "def treat2():\n",
    "  def func():\n",
    "    return 5\n",
    "  return func"
   ]
  },
  {
   "cell_type": "markdown",
   "metadata": {},
   "source": [
    "__A higher order function is any that accepts a function as a parameter or returns a function__.\n",
    "\n",
    "That said, here's a few __built-in__ functions that qualify as HOF:\n",
    "\n",
    "1. `map()`\n",
    "2. `reduce()`\n",
    "3. `filter()`\n"
   ]
  }
 ],
 "metadata": {
  "language_info": {
   "name": "python"
  },
  "orig_nbformat": 4
 },
 "nbformat": 4,
 "nbformat_minor": 2
}
