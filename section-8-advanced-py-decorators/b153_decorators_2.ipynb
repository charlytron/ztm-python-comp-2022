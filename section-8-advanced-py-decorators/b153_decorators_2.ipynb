{
 "cells": [
  {
   "cell_type": "markdown",
   "metadata": {},
   "source": [
    "# Writing our own decorators\n",
    "\n",
    "A decorator is a function that wraps another function and enhances it or changes it.\n",
    "\n",
    "May also want to refer back to the Corey Schafer video on the same topic: [Decorators - Dynamically Alter the Functionality of Your Functions](https://www.youtube.com/watch?v=FsAPt_9Bf3U)."
   ]
  },
  {
   "cell_type": "code",
   "execution_count": null,
   "metadata": {},
   "outputs": [],
   "source": [
    "def jello():\n",
    "  print('Oh, yeah!')\n",
    "def my_decorator(func):\n",
    "    def wrap_function():\n",
    "        func()\n",
    "    return wrap_function"
   ]
  },
  {
   "cell_type": "markdown",
   "metadata": {},
   "source": [
    "We can now use `my_decorator` as the decorator. As soon as we put an `@` sign in front of it, Python will interpret it .thusly.\n",
    "\n",
    "As long as we follow this syntax of \n",
    "1. accepting a function\n",
    "2. having a wrapper function\n",
    "3. calling the function\n",
    "4. returning the function"
   ]
  },
  {
   "cell_type": "code",
   "execution_count": null,
   "metadata": {},
   "outputs": [],
   "source": [
    "def my_decorator(func):\n",
    "    def wrap_function():\n",
    "        func()\n",
    "    return wrap_function"
   ]
  },
  {
   "cell_type": "markdown",
   "metadata": {},
   "source": [
    "We can use this as a decorator on top when defining our function:"
   ]
  },
  {
   "cell_type": "code",
   "execution_count": 1,
   "metadata": {},
   "outputs": [
    {
     "name": "stdout",
     "output_type": "stream",
     "text": [
      "Oh, yeah!\n"
     ]
    }
   ],
   "source": [
    "def my_decorator(func):\n",
    "    def wrap_function():\n",
    "        func()\n",
    "    return wrap_function\n",
    "  \n",
    "@my_decorator\n",
    "def jello():\n",
    "  print('Oh, yeah!')\n",
    "  \n",
    "jello()"
   ]
  },
  {
   "cell_type": "markdown",
   "metadata": {},
   "source": [
    "__What would seem like an exercise in futility actually allows us to add extra functionality.__ How can we enhance the power of `jello()` though?"
   ]
  },
  {
   "cell_type": "code",
   "execution_count": 4,
   "metadata": {},
   "outputs": [
    {
     "name": "stdout",
     "output_type": "stream",
     "text": [
      "$$$$$$$$$$$$$\n",
      "Oh, yeah!\n",
      "$$$$$$$$$$$$$\n"
     ]
    }
   ],
   "source": [
    "def my_decorator(func):\n",
    "    def wrap_function():\n",
    "        print('$$$$$$$$$$$$$')\n",
    "        func()\n",
    "        print('$$$$$$$$$$$$$')\n",
    "    return wrap_function\n",
    "  \n",
    "@my_decorator\n",
    "def jello():\n",
    "  print('Oh, yeah!')\n",
    "  \n",
    "jello()"
   ]
  },
  {
   "cell_type": "markdown",
   "metadata": {},
   "source": [
    "We've now added value to our `jello()` function. If we create another function, called `adios()`"
   ]
  },
  {
   "cell_type": "code",
   "execution_count": 5,
   "metadata": {},
   "outputs": [
    {
     "name": "stdout",
     "output_type": "stream",
     "text": [
      "I81B4U\n"
     ]
    }
   ],
   "source": [
    "def my_decorator(func):\n",
    "    def wrap_function():\n",
    "        print('$$$$$$$$$$$$$')\n",
    "        func()\n",
    "        print('$$$$$$$$$$$$$')\n",
    "    return wrap_function\n",
    "  \n",
    "@my_decorator\n",
    "def jello():\n",
    "  print('Oh, yeah!')\n",
    "def adios():\n",
    "  print('I81B4U')\n",
    "\n",
    "adios()"
   ]
  },
  {
   "cell_type": "markdown",
   "metadata": {},
   "source": [
    "Not very impressive, right? But if we copy the decorator and place it above `adios()`, we get a prize:"
   ]
  },
  {
   "cell_type": "code",
   "execution_count": 6,
   "metadata": {},
   "outputs": [
    {
     "name": "stdout",
     "output_type": "stream",
     "text": [
      "$$$$$$$$$$$$$\n",
      "I81B4U\n",
      "$$$$$$$$$$$$$\n"
     ]
    }
   ],
   "source": [
    "def my_decorator(func):\n",
    "    def wrap_function():\n",
    "        print('$$$$$$$$$$$$$')\n",
    "        func()\n",
    "        print('$$$$$$$$$$$$$')\n",
    "    return wrap_function\n",
    "  \n",
    "\n",
    "def jello():\n",
    "  print('Oh, yeah!')\n",
    "@my_decorator\n",
    "def adios():\n",
    "  print('I81B4U')\n",
    "\n",
    "adios()"
   ]
  },
  {
   "cell_type": "markdown",
   "metadata": {},
   "source": [
    "We've just enhanced `adios()`. Such is the power of decorators, but all that is happening is nothing special: "
   ]
  },
  {
   "cell_type": "code",
   "execution_count": 7,
   "metadata": {},
   "outputs": [
    {
     "name": "stdout",
     "output_type": "stream",
     "text": [
      "$$$$$$$$$$$$$\n",
      "Oh, yeah!\n",
      "$$$$$$$$$$$$$\n"
     ]
    }
   ],
   "source": [
    "a = my_decorator(jello)\n",
    "a()"
   ]
  },
  {
   "cell_type": "markdown",
   "metadata": {},
   "source": [
    "Still working! Just wrapping the `jello()` with `my_decorator`, assigning it to a variable.\n",
    "\n",
    "The idea of the decorator is to make the code simpler and more reusable.\n",
    "\n",
    "Now, we just need to explain why decorators are dang so useful."
   ]
  }
 ],
 "metadata": {
  "kernelspec": {
   "display_name": "Python 3.10.4 64-bit",
   "language": "python",
   "name": "python3"
  },
  "language_info": {
   "codemirror_mode": {
    "name": "ipython",
    "version": 3
   },
   "file_extension": ".py",
   "mimetype": "text/x-python",
   "name": "python",
   "nbconvert_exporter": "python",
   "pygments_lexer": "ipython3",
   "version": "3.10.4"
  },
  "orig_nbformat": 4,
  "vscode": {
   "interpreter": {
    "hash": "916dbcbb3f70747c44a77c7bcd40155683ae19c65e1c03b4aa3499c5328201f1"
   }
  }
 },
 "nbformat": 4,
 "nbformat_minor": 2
}
