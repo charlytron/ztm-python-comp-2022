{
 "cells": [
  {
   "cell_type": "markdown",
   "metadata": {},
   "source": [
    "# Decorators III\n",
    "\n",
    "What happens if our `jello` function actually took a parameter, like `greeting` and printed out `greeting`? Would this still work?"
   ]
  },
  {
   "cell_type": "code",
   "execution_count": 13,
   "metadata": {},
   "outputs": [
    {
     "name": "stdout",
     "output_type": "stream",
     "text": [
      "$$$$$$$$$$$$$\n",
      "Jello pudding pops!\n",
      "$$$$$$$$$$$$$\n"
     ]
    }
   ],
   "source": [
    "def my_decorator(func):\n",
    "    def wrap_function(x):\n",
    "        print('$$$$$$$$$$$$$')\n",
    "        func(x)\n",
    "        print('$$$$$$$$$$$$$')\n",
    "    return wrap_function\n",
    "  \n",
    "\n",
    "@my_decorator\n",
    "def jello(greeting):\n",
    "  print(greeting)\n",
    "  \n",
    "jello(\"Jello pudding pops!\")"
   ]
  },
  {
   "cell_type": "markdown",
   "metadata": {},
   "source": [
    "We're calling `jello()` with `\"Jello pudding pops!\"` so \n",
    "\n",
    "1. This function gets passed in `my_decorator`.\n",
    "2. We receive as an argument the `(x)` in `func(x)` as `\"Jello pudding pops!\"` less abstractly, `my_decorator` is telling us..."
   ]
  },
  {
   "cell_type": "code",
   "execution_count": null,
   "metadata": {},
   "outputs": [],
   "source": [
    "# a = my_decorator(jello)"
   ]
  },
  {
   "cell_type": "markdown",
   "metadata": {},
   "source": [
    "We're just running the above, which turns into the wrapped function, so when we write"
   ]
  },
  {
   "cell_type": "code",
   "execution_count": 1,
   "metadata": {},
   "outputs": [
    {
     "name": "stdout",
     "output_type": "stream",
     "text": [
      "$$$$$$$$$$$$$\n",
      "$$$$$$$$$$$$$\n",
      "Hey, hey, hey\n",
      "$$$$$$$$$$$$$\n",
      "$$$$$$$$$$$$$\n"
     ]
    }
   ],
   "source": [
    "def my_decorator(func):\n",
    "    def wrap_function(x):\n",
    "        print('$$$$$$$$$$$$$')\n",
    "        func(x)\n",
    "        print('$$$$$$$$$$$$$')\n",
    "    return wrap_function\n",
    "  \n",
    "\n",
    "@my_decorator\n",
    "def jello(greeting):\n",
    "  print(greeting)\n",
    "\n",
    "a = my_decorator(jello)\n",
    "a('Hey, hey, hey')"
   ]
  },
  {
   "cell_type": "markdown",
   "metadata": {},
   "source": [
    "But what if `greeting` shared the parameter space with `emoji`?"
   ]
  },
  {
   "cell_type": "code",
   "execution_count": null,
   "metadata": {},
   "outputs": [],
   "source": [
    "def my_decorator(func):\n",
    "    def wrap_function(x):\n",
    "        print('$$$$$$$$$$$$$')\n",
    "        func(x)\n",
    "        print('$$$$$$$$$$$$$')\n",
    "    return wrap_function\n",
    "  \n",
    "\n",
    "@my_decorator\n",
    "def jello(greeting, emoji):\n",
    "  print(greeting, emoji)\n",
    "\n",
    "a = my_decorator(jello)\n",
    "a('Hey, hey, hey')"
   ]
  },
  {
   "cell_type": "markdown",
   "metadata": {},
   "source": [
    "We have to create another `y` parameter in `my_decorator` to go with `x`:"
   ]
  },
  {
   "cell_type": "code",
   "execution_count": 2,
   "metadata": {},
   "outputs": [
    {
     "name": "stdout",
     "output_type": "stream",
     "text": [
      "$$$$$$$$$$$$$\n",
      "$$$$$$$$$$$$$\n",
      "Hey, hey, hey! :)\n",
      "$$$$$$$$$$$$$\n",
      "$$$$$$$$$$$$$\n"
     ]
    }
   ],
   "source": [
    "def my_decorator(func):\n",
    "    def wrap_function(x, y):\n",
    "        print('$$$$$$$$$$$$$')\n",
    "        func(x, y)\n",
    "        print('$$$$$$$$$$$$$')\n",
    "    return wrap_function\n",
    "  \n",
    "\n",
    "@my_decorator\n",
    "def jello(greeting, emoji):\n",
    "  print(greeting, emoji)\n",
    "\n",
    "a = my_decorator(jello)\n",
    "a('Hey, hey, hey!', ':)')"
   ]
  },
  {
   "cell_type": "markdown",
   "metadata": {},
   "source": [
    "It works, but the process is a bit wonky. We get schlepped into making several changes to our code every time we need to change parameters.\n",
    "We can use a simpler pattern."
   ]
  },
  {
   "cell_type": "code",
   "execution_count": null,
   "metadata": {},
   "outputs": [],
   "source": [
    "def my_decorator(func):\n",
    "    def wrap_function(*args, **kwargs):  # *args takes all positional arguments, **kwargs are all keyword arguments\n",
    "        print('$$$$$$$$$$$$$')\n",
    "        func(*args, **kwargs)\n",
    "        print('$$$$$$$$$$$$$')\n",
    "    return wrap_function\n",
    "  \n",
    "\n",
    "@my_decorator\n",
    "def jello(greeting, emoji):\n",
    "  print(greeting, emoji)\n",
    "\n",
    "a = my_decorator(jello)\n",
    "a('Hey, hey, hey', ':)')"
   ]
  },
  {
   "cell_type": "markdown",
   "metadata": {},
   "source": [
    "We use `*args` to unpack all of the arguments and `**kwargs` to unpack all of the keyword arguments. We call the function as below to do all this unpacking."
   ]
  },
  {
   "cell_type": "code",
   "execution_count": 4,
   "metadata": {},
   "outputs": [
    {
     "name": "stdout",
     "output_type": "stream",
     "text": [
      "$$$$$$$$$$$$$\n",
      "$$$$$$$$$$$$$\n",
      "Hey, Fat Albert! :(\n",
      "$$$$$$$$$$$$$\n",
      "$$$$$$$$$$$$$\n"
     ]
    }
   ],
   "source": [
    "def my_decorator(func):\n",
    "    def wrap_function(*args, **kwargs):\n",
    "        print('$$$$$$$$$$$$$')\n",
    "        func(*args, **kwargs)\n",
    "        print('$$$$$$$$$$$$$')\n",
    "    return wrap_function\n",
    "  \n",
    "\n",
    "@my_decorator\n",
    "def jello(greeting, emoji=';('):\n",
    "  print(greeting, emoji)\n",
    "\n",
    "a('Hey, Fat Albert!', ':(')"
   ]
  },
  {
   "cell_type": "markdown",
   "metadata": {},
   "source": [
    "Now, we can pass `'Hey, Fat Albert!'` to `a`, and the emoji will show up.\n",
    "\n",
    "Such decorators represent the legendary, AKA __decorator patterns__. Our decorator pattern gives our decorator flexibility. Into our wrapped function, we can pass in as many arguments as we want using `*args` and `**kwargs`, thus unpacking them inside of a function.\n",
    "\n",
    "This syntax is why decorators are so powerful. By just using these lines of code, we're able to add functionality:"
   ]
  },
  {
   "cell_type": "code",
   "execution_count": null,
   "metadata": {},
   "outputs": [],
   "source": [
    "def my_decorator(func):\n",
    "    def wrap_function(*args, **kwargs):\n",
    "        func(*args, **kwargs)\n",
    "    return wrap_function"
   ]
  },
  {
   "cell_type": "markdown",
   "metadata": {},
   "source": [
    "We're using the decorator pattern to decorate our function. Decorators are used all over programming.\n",
    "\n",
    "So in what ways are decorators useful? What are some of the common locations of decorator patterns?"
   ]
  }
 ],
 "metadata": {
  "kernelspec": {
   "display_name": "Python 3.10.4 64-bit",
   "language": "python",
   "name": "python3"
  },
  "language_info": {
   "codemirror_mode": {
    "name": "ipython",
    "version": 3
   },
   "file_extension": ".py",
   "mimetype": "text/x-python",
   "name": "python",
   "nbconvert_exporter": "python",
   "pygments_lexer": "ipython3",
   "version": "3.10.6"
  },
  "orig_nbformat": 4,
  "vscode": {
   "interpreter": {
    "hash": "916dbcbb3f70747c44a77c7bcd40155683ae19c65e1c03b4aa3499c5328201f1"
   }
  }
 },
 "nbformat": 4,
 "nbformat_minor": 2
}
