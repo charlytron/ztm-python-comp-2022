{
 "cells": [
  {
   "cell_type": "markdown",
   "metadata": {},
   "source": [
    "# Decorators\n",
    "\n",
    "When we were building classes, we used __`@classmethod`__ and __`@staticmethod`__\n",
    "\n",
    "This is how decorators look.\n",
    "\n",
    "## Functions as first class citizens\n",
    "\n",
    "- Pass em around like variables\n",
    "- Make them an argument inside of a function"
   ]
  },
  {
   "cell_type": "code",
   "execution_count": 1,
   "metadata": {},
   "outputs": [
    {
     "name": "stdout",
     "output_type": "stream",
     "text": [
      "Yay, jello pudding pops!\n",
      "None\n"
     ]
    }
   ],
   "source": [
    "def jello():\n",
    "    print('Yay, jello pudding pops!')\n",
    "    \n",
    "treat = jello()\n",
    "print(treat)"
   ]
  },
  {
   "cell_type": "code",
   "execution_count": 2,
   "metadata": {},
   "outputs": [
    {
     "name": "stdout",
     "output_type": "stream",
     "text": [
      "<function jello at 0x7f5b278785e0>\n"
     ]
    }
   ],
   "source": [
    "treat = jello\n",
    "print(treat)"
   ]
  },
  {
   "cell_type": "markdown",
   "metadata": {},
   "source": [
    "This will just give us the function's memory location ^^^.\n",
    "we have to call the function, dig?\n",
    "\n",
    "What if we delete jello?"
   ]
  },
  {
   "cell_type": "code",
   "execution_count": 4,
   "metadata": {},
   "outputs": [
    {
     "name": "stdout",
     "output_type": "stream",
     "text": [
      "Yay, jello pudding pops!\n",
      "None\n"
     ]
    }
   ],
   "source": [
    "def jello():\n",
    "    print('Yay, jello pudding pops!')\n",
    "\n",
    "\n",
    "treat = jello()\n",
    "del jello\n",
    "\n",
    "print(treat)\n"
   ]
  },
  {
   "cell_type": "markdown",
   "metadata": {},
   "source": [
    "Not what we expected. We create `jello()`, and now it's created in memory. in line 5, `treat` will point to `jello`, but we can still __call__ `jello`. It's all about memory location.\n",
    "\n",
    "When we delete `jello` all that happens is that we delete a name reference to the function.\n",
    "\n",
    "But `treat` is still pointing to this function and therefore `treat()` still makes a go of it."
   ]
  },
  {
   "cell_type": "code",
   "execution_count": 5,
   "metadata": {},
   "outputs": [
    {
     "ename": "NameError",
     "evalue": "name 'jello' is not defined",
     "output_type": "error",
     "traceback": [
      "\u001b[0;31m---------------------------------------------------------------------------\u001b[0m",
      "\u001b[0;31mNameError\u001b[0m                                 Traceback (most recent call last)",
      "Cell \u001b[0;32mIn [5], line 1\u001b[0m\n\u001b[0;32m----> 1\u001b[0m \u001b[43mjello\u001b[49m()\n",
      "\u001b[0;31mNameError\u001b[0m: name 'jello' is not defined"
     ]
    }
   ],
   "source": [
    "jello()"
   ]
  },
  {
   "cell_type": "markdown",
   "metadata": {},
   "source": [
    "Okay, so how about this?"
   ]
  },
  {
   "cell_type": "code",
   "execution_count": 8,
   "metadata": {},
   "outputs": [
    {
     "name": "stdout",
     "output_type": "stream",
     "text": [
      "Yay, jello pudding pops!\n",
      "None\n"
     ]
    }
   ],
   "source": [
    "def jello():\n",
    "    print('Yay, jello pudding pops!')\n",
    "\n",
    "\n",
    "treat = jello()\n",
    "del jello\n",
    "\n",
    "print(treat)"
   ]
  },
  {
   "cell_type": "markdown",
   "metadata": {},
   "source": [
    "The `treat` is still pointing to the location of jello!\n",
    "\n",
    "We can also pass functions around inside of arguments. `jello` will receive another function that calls.\n",
    "\n",
    "If we print `jello` with `treat` as an argument, we get what's returned by `treat`."
   ]
  },
  {
   "cell_type": "code",
   "execution_count": 11,
   "metadata": {},
   "outputs": [
    {
     "name": "stdout",
     "output_type": "stream",
     "text": [
      "still tasty!\n",
      "None\n"
     ]
    }
   ],
   "source": [
    "def jello(func):\n",
    "    func()\n",
    "\n",
    "\n",
    "def treat():\n",
    "    print(\"still tasty!\")\n",
    "\n",
    "\n",
    "a = jello(treat)\n",
    "print(a)\n"
   ]
  },
  {
   "cell_type": "markdown",
   "metadata": {},
   "source": [
    "In English:\n",
    "\n",
    "- Call the `jello` function \n",
    "- Call it with the argument, `treat`\n",
    "\n",
    "Decorators are only possible because of such features; that is, functions acting like variables or first class citizens, as they're called.\n",
    "\n",
    "Less abstractly, they're using this power of functions. But we need to further elaborate the concept.\n",
    "\n",
    "Very briefly, decorators make functions more powerful in the way they add functionality. We inform the interpreter that we want the `jello` function to gain some features.\n"
   ]
  },
  {
   "cell_type": "code",
   "execution_count": null,
   "metadata": {},
   "outputs": [],
   "source": [
    "from symbol import decorator\n",
    "\n",
    "\n",
    "@decorator\n",
    "def jello():\n",
    "  pass"
   ]
  }
 ],
 "metadata": {
  "kernelspec": {
   "display_name": "Python 3.10.4 64-bit",
   "language": "python",
   "name": "python3"
  },
  "language_info": {
   "codemirror_mode": {
    "name": "ipython",
    "version": 3
   },
   "file_extension": ".py",
   "mimetype": "text/x-python",
   "name": "python",
   "nbconvert_exporter": "python",
   "pygments_lexer": "ipython3",
   "version": "3.10.6"
  },
  "orig_nbformat": 4,
  "vscode": {
   "interpreter": {
    "hash": "916dbcbb3f70747c44a77c7bcd40155683ae19c65e1c03b4aa3499c5328201f1"
   }
  }
 },
 "nbformat": 4,
 "nbformat_minor": 2
}
