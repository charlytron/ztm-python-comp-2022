{
 "cells": [
  {
   "cell_type": "markdown",
   "metadata": {},
   "source": [
    "# Hacker News Project\n",
    "\n",
    "We have to change our strategy to get this to work. Instead of grabbing the points, we should be grabbing the `subtext` class which comes underneath the title. Every single title has one of these classes, and underneath this `subtext` we have the `score`."
   ]
  },
  {
   "cell_type": "code",
   "execution_count": null,
   "metadata": {},
   "outputs": [],
   "source": [
    "import requests\n",
    "from bs4 import BeautifulSoup\n",
    "\n",
    "res = requests.get('https://news.ycombinator.com/')\n",
    "soup = BeautifulSoup(res.text, 'html.parser')\n",
    "links = soup.select('.titleline > a')\n",
    "votes = soup.select('.score')\n",
    "\n",
    "\n",
    "def create_custom_hn(links, votes):\n",
    "    hn = []\n",
    "    for idx, item in enumerate(links):\n",
    "        title = links[idx].getText()\n",
    "        href = links[idx].get('href', None)\n",
    "        points = int(votes[idx].getText().replace(' points', ''))\n",
    "        print(points)\n",
    "        hn.append({'title': title, 'link': href})\n",
    "    return hn\n",
    "\n",
    "\n",
    "print(create_custom_hn(links, votes))\n"
   ]
  },
  {
   "cell_type": "markdown",
   "metadata": {},
   "source": [
    "Instead of the `votes`, we can grab the `subtext` in line 7 to make sure that all links are going to have the subtext."
   ]
  },
  {
   "cell_type": "code",
   "execution_count": null,
   "metadata": {},
   "outputs": [],
   "source": [
    "import requests\n",
    "from bs4 import BeautifulSoup\n",
    "\n",
    "res = requests.get('https://news.ycombinator.com/')\n",
    "soup = BeautifulSoup(res.text, 'html.parser')\n",
    "links = soup.select('.titleline > a')\n",
    "subtext = soup.select('.subtext')\n",
    "\n",
    "\n",
    "def create_custom_hn(links, subtext):\n",
    "    hn = []\n",
    "    for idx, item in enumerate(links):\n",
    "        title = item.getText()\n",
    "        href = item.get('href', None)\n",
    "        vote = subtext[idx].select('.score')\n",
    "        if len(vote):\n",
    "          points = int(vote[0].getText().replace(' points', ''))\n",
    "          hn.append({'title': title, 'link': href}, 'votes': points)\n",
    "    return hn\n",
    "\n",
    "\n",
    "create_custom_hn(links, subtext)"
   ]
  }
 ],
 "metadata": {
  "kernelspec": {
   "display_name": "Python 3.10.6 64-bit",
   "language": "python",
   "name": "python3"
  },
  "language_info": {
   "codemirror_mode": {
    "name": "ipython",
    "version": 3
   },
   "file_extension": ".py",
   "mimetype": "text/x-python",
   "name": "python",
   "nbconvert_exporter": "python",
   "pygments_lexer": "ipython3",
   "version": "3.10.6"
  },
  "orig_nbformat": 4,
  "vscode": {
   "interpreter": {
    "hash": "916dbcbb3f70747c44a77c7bcd40155683ae19c65e1c03b4aa3499c5328201f1"
   }
  }
 },
 "nbformat": 4,
 "nbformat_minor": 2
}
