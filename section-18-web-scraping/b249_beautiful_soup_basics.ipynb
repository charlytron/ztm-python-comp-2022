{
 "cells": [
  {
   "cell_type": "markdown",
   "metadata": {},
   "source": [
    "# Beautiful Soup Basics\n",
    "\n",
    "`res.text` gave all the HTML that we needed. But it's just a string. BS will allow us to parse that string, i.e. convert it into an actual object that we can manipulate and use.\n",
    "\n",
    "We can now use Beautiful Soup to clean up our string and turn it into useful HTML, e.g. `soup.body`:"
   ]
  },
  {
   "cell_type": "code",
   "execution_count": 3,
   "metadata": {},
   "outputs": [
    {
     "name": "stdout",
     "output_type": "stream",
     "text": [
      "[<center><table bgcolor=\"#f6f6ef\" border=\"0\" cellpadding=\"0\" cellspacing=\"0\" id=\"hnmain\" width=\"85%\">\n",
      "<tr><td bgcolor=\"#ff6600\"><table border=\"0\" cellpadding=\"0\" cellspacing=\"0\" style=\"padding:2px\" width=\"100%\"><tr><td style=\"width:18px;padding-right:4px\"><a href=\"https://news.ycombinator.com\"><img height=\"18\" src=\"y18.gif\" style=\"border:1px white solid;\" width=\"18\"/></a></td>\n",
      "<td style=\"line-height:12pt; height:10px;\"><span class=\"pagetop\"><b class=\"hnname\"><a href=\"news\">Hacker News</a></b>\n",
      "<a href=\"newest\">new</a> | <a href=\"front\">past</a> | <a href=\"newcomments\">comments</a> | <a href=\"ask\">ask</a> | <a href=\"show\">show</a> | <a href=\"jobs\">jobs</a> | <a href=\"submit\">submit</a> </span></td><td style=\"text-align:right;padding-right:4px;\"><span class=\"pagetop\">\n",
      "<a href=\"login?goto=news\">login</a>\n",
      "</span></td>\n",
      "</tr></table></td></tr>\n",
      "<tr id=\"pagespace\" style=\"height:10px\" title=\"\"></tr><tr><td><table border=\"0\" cellpadding=\"0\" cellspacing=\"0\" class=\"itemlist\">\n",
      "<tr class=\"athing\" id=\"33261125\">\n",
      "<td align=\"right\" class=\"title\" valign=\"top\"><span class=\"rank\">1.</span></td> <td class=\"votelinks\" valign=\"top\"><center><a href=\"vote?id=33261125&amp;how=up&amp;goto=news\" id=\"up_33261125\"><div class=\"votearrow\" title=\"upvote\"></div></a></center></td><td class=\"title\"><span class=\"titleline\"><a href=\"https://wix-ux.com/when-life-gives-you-lemons-write-better-error-messages-46c5223e1a2f\">Write Better Error Messages</a><span class=\"sitebit comhead\"> (<a href=\"from?site=wix-ux.com\"><span class=\"sitestr\">wix-ux.com</span></a>)</span></span></td></tr><tr><td colspan=\"2\"></td><td class=\"subtext\"><span class=\"subline\">\n",
      "<span class=\"score\" id=\"score_33261125\">30 points</span> by <a class=\"hnuser\" href=\"user?id=noch\">noch</a> <span class=\"age\" title=\"2022-10-19T12:27:18\"><a href=\"item?id=33261125\">59 minutes ago</a></span> <span id=\"unv_33261125\"></span> | <a href=\"hide?id=33261125&amp;goto=news\">hide</a> | <a href=\"item?id=33261125\">16 comments</a> </span>\n",
      "</td></tr>\n",
      "<tr class=\"spacer\" style=\"height:5px\"></tr>\n",
      "<tr class=\"athing\" id=\"33261399\">\n",
      "<td align=\"right\" class=\"title\" valign=\"top\"><span class=\"rank\">2.</span></td> <td class=\"votelinks\" valign=\"top\"><center><a href=\"vote?id=33261399&amp;how=up&amp;goto=news\" id=\"up_33261399\"><div class=\"votearrow\" title=\"upvote\"></div></a></center></td><td class=\"title\"><span class=\"titleline\"><a href=\"https://dispatchesmag.com/reappraisal-enzo-mari/\">Furniture as Comrade: Enzo Mari’s Autoprogettazione</a><span class=\"sitebit comhead\"> (<a href=\"from?site=dispatchesmag.com\"><span class=\"sitestr\">dispatchesmag.com</span></a>)</span></span></td></tr><tr><td colspan=\"2\"></td><td class=\"subtext\"><span class=\"subline\">\n",
      "<span class=\"score\" id=\"score_33261399\">9 points</span> by <a class=\"hnuser\" href=\"user?id=anarbadalov\">anarbadalov</a> <span class=\"age\" title=\"2022-10-19T12:53:26\"><a href=\"item?id=33261399\">33 minutes ago</a></span> <span id=\"unv_33261399\"></span> | <a href=\"hide?id=33261399&amp;goto=news\">hide</a> | <a href=\"item?id=33261399\">discuss</a> </span>\n",
      "</td></tr>\n",
      "<tr class=\"spacer\" style=\"height:5px\"></tr>\n",
      "<tr class=\"athing\" id=\"33260525\">\n",
      "<td align=\"right\" class=\"title\" valign=\"top\"><span class=\"rank\">3.</span></td> <td class=\"votelinks\" valign=\"top\"><center><a href=\"vote?id=33260525&amp;how=up&amp;goto=news\" id=\"up_33260525\"><div class=\"votearrow\" title=\"upvote\"></div></a></center></td><td class=\"title\"><span class=\"titleline\"><a href=\"item?id=33260525\">Ask HN: Has anyone managed to find enjoyment in their work after burnout?</a></span></td></tr><tr><td colspan=\"2\"></td><td class=\"subtext\"><span class=\"subline\">\n",
      "<span class=\"score\" id=\"score_33260525\">208 points</span> by <a class=\"hnuser\" href=\"user?id=dotdashdashdash\">dotdashdashdash</a> <span class=\"age\" title=\"2022-10-19T11:26:30\"><a href=\"item?id=33260525\">2 hours ago</a></span> <span id=\"unv_33260525\"></span> | <a href=\"hide?id=33260525&amp;goto=news\">hide</a> | <a href=\"item?id=33260525\">148 comments</a> </span>\n",
      "</td></tr>\n",
      "<tr class=\"spacer\" style=\"height:5px\"></tr>\n",
      "<tr class=\"athing\" id=\"33228398\">\n",
      "<td align=\"right\" class=\"title\" valign=\"top\"><span class=\"rank\">4.</span></td> <td class=\"votelinks\" valign=\"top\"><center><a href=\"vote?id=33228398&amp;how=up&amp;goto=news\" id=\"up_33228398\"><div class=\"votearrow\" title=\"upvote\"></div></a></center></td><td class=\"title\"><span class=\"titleline\"><a href=\"https://canvatechblog.com/simple-fast-and-scalable-reverse-image-search-using-perceptual-hashes-and-dynamodb-df3007d19934\">Simple, Fast, and Scalable Reverse Image Search</a><span class=\"sitebit comhead\"> (<a href=\"from?site=canvatechblog.com\"><span class=\"sitestr\">canvatechblog.com</span></a>)</span></span></td></tr><tr><td colspan=\"2\"></td><td class=\"subtext\"><span class=\"subline\">\n",
      "<span class=\"score\" id=\"score_33228398\">43 points</span> by <a class=\"hnuser\" href=\"user?id=SerCe\">SerCe</a> <span class=\"age\" title=\"2022-10-17T00:03:38\"><a href=\"item?id=33228398\">3 hours ago</a></span> <span id=\"unv_33228398\"></span> | <a href=\"hide?id=33228398&amp;goto=news\">hide</a> | <a href=\"item?id=33228398\">5 comments</a> </span>\n",
      "</td></tr>\n",
      "<tr class=\"spacer\" style=\"height:5px\"></tr>\n",
      "<tr class=\"athing\" id=\"33256446\">\n",
      "<td align=\"right\" class=\"title\" valign=\"top\"><span class=\"rank\">5.</span></td> <td class=\"votelinks\" valign=\"top\"><center><a href=\"vote?id=33256446&amp;how=up&amp;goto=news\" id=\"up_33256446\"><div class=\"votearrow\" title=\"upvote\"></div></a></center></td><td class=\"title\"><span class=\"titleline\"><a href=\"https://commoncog.com/focus-saying-no-to-good-ideas/\">Focus is saying no to good ideas</a><span class=\"sitebit comhead\"> (<a href=\"from?site=commoncog.com\"><span class=\"sitestr\">commoncog.com</span></a>)</span></span></td></tr><tr><td colspan=\"2\"></td><td class=\"subtext\"><span class=\"subline\">\n",
      "<span class=\"score\" id=\"score_33256446\">261 points</span> by <a class=\"hnuser\" href=\"user?id=nsoonhui\">nsoonhui</a> <span class=\"age\" title=\"2022-10-19T01:49:45\"><a href=\"item?id=33256446\">11 hours ago</a></span> <span id=\"unv_33256446\"></span> | <a href=\"hide?id=33256446&amp;goto=news\">hide</a> | <a href=\"item?id=33256446\">76 comments</a> </span>\n",
      "</td></tr>\n",
      "<tr class=\"spacer\" style=\"height:5px\"></tr>\n",
      "<tr class=\"athing\" id=\"33251954\">\n",
      "<td align=\"right\" class=\"title\" valign=\"top\"><span class=\"rank\">6.</span></td> <td class=\"votelinks\" valign=\"top\"><center><a href=\"vote?id=33251954&amp;how=up&amp;goto=news\" id=\"up_33251954\"><div class=\"votearrow\" title=\"upvote\"></div></a></center></td><td class=\"title\"><span class=\"titleline\"><a href=\"https://swurl.com/?q=Paul+Graham+y+combinator\">Show HN: A new search engine UX I've been working on in my free time</a><span class=\"sitebit comhead\"> (<a href=\"from?site=swurl.com\"><span class=\"sitestr\">swurl.com</span></a>)</span></span></td></tr><tr><td colspan=\"2\"></td><td class=\"subtext\"><span class=\"subline\">\n",
      "<span class=\"score\" id=\"score_33251954\">286 points</span> by <a class=\"hnuser\" href=\"user?id=ryes\">ryes</a> <span class=\"age\" title=\"2022-10-18T18:40:31\"><a href=\"item?id=33251954\">11 hours ago</a></span> <span id=\"unv_33251954\"></span> | <a href=\"hide?id=33251954&amp;goto=news\">hide</a> | <a href=\"item?id=33251954\">129 comments</a> </span>\n",
      "</td></tr>\n",
      "<tr class=\"spacer\" style=\"height:5px\"></tr>\n",
      "<tr class=\"athing\" id=\"33249215\">\n",
      "<td align=\"right\" class=\"title\" valign=\"top\"><span class=\"rank\">7.</span></td> <td class=\"votelinks\" valign=\"top\"><center><a href=\"vote?id=33249215&amp;how=up&amp;goto=news\" id=\"up_33249215\"><div class=\"votearrow\" title=\"upvote\"></div></a></center></td><td class=\"title\"><span class=\"titleline\"><a href=\"https://ciechanow.ski/sound/\">Sound</a><span class=\"sitebit comhead\"> (<a href=\"from?site=ciechanow.ski\"><span class=\"sitestr\">ciechanow.ski</span></a>)</span></span></td></tr><tr><td colspan=\"2\"></td><td class=\"subtext\"><span class=\"subline\">\n",
      "<span class=\"score\" id=\"score_33249215\">2579 points</span> by <a class=\"hnuser\" href=\"user?id=todsacerdoti\">todsacerdoti</a> <span class=\"age\" title=\"2022-10-18T15:48:16\"><a href=\"item?id=33249215\">21 hours ago</a></span> <span id=\"unv_33249215\"></span> | <a href=\"hide?id=33249215&amp;goto=news\">hide</a> | <a href=\"item?id=33249215\">182 comments</a> </span>\n",
      "</td></tr>\n",
      "<tr class=\"spacer\" style=\"height:5px\"></tr>\n",
      "<tr class=\"athing\" id=\"33254791\">\n",
      "<td align=\"right\" class=\"title\" valign=\"top\"><span class=\"rank\">8.</span></td> <td class=\"votelinks\" valign=\"top\"><center><a href=\"vote?id=33254791&amp;how=up&amp;goto=news\" id=\"up_33254791\"><div class=\"votearrow\" title=\"upvote\"></div></a></center></td><td class=\"title\"><span class=\"titleline\"><a href=\"https://arstechnica.com/gaming/2022/10/lost-something-search-through-91-7-million-files-from-the-80s-90s-and-2000s/\">Lost something? Search through 91.7M files from the 80s, 90s, and 2000s</a><span class=\"sitebit comhead\"> (<a href=\"from?site=arstechnica.com\"><span class=\"sitestr\">arstechnica.com</span></a>)</span></span></td></tr><tr><td colspan=\"2\"></td><td class=\"subtext\"><span class=\"subline\">\n",
      "<span class=\"score\" id=\"score_33254791\">333 points</span> by <a class=\"hnuser\" href=\"user?id=dangle1\">dangle1</a> <span class=\"age\" title=\"2022-10-18T22:17:26\"><a href=\"item?id=33254791\">15 hours ago</a></span> <span id=\"unv_33254791\"></span> | <a href=\"hide?id=33254791&amp;goto=news\">hide</a> | <a href=\"item?id=33254791\">178 comments</a> </span>\n",
      "</td></tr>\n",
      "<tr class=\"spacer\" style=\"height:5px\"></tr>\n",
      "<tr class=\"athing\" id=\"33260380\">\n",
      "<td align=\"right\" class=\"title\" valign=\"top\"><span class=\"rank\">9.</span></td> <td class=\"votelinks\" valign=\"top\"><center><a href=\"vote?id=33260380&amp;how=up&amp;goto=news\" id=\"up_33260380\"><div class=\"votearrow\" title=\"upvote\"></div></a></center></td><td class=\"title\"><span class=\"titleline\"><a href=\"item?id=33260380\">Show HN: I made a simple platform to find founders and buy side-projects</a></span></td></tr><tr><td colspan=\"2\"></td><td class=\"subtext\"><span class=\"subline\">\n",
      "<span class=\"score\" id=\"score_33260380\">11 points</span> by <a class=\"hnuser\" href=\"user?id=heyarviind2\">heyarviind2</a> <span class=\"age\" title=\"2022-10-19T11:10:03\"><a href=\"item?id=33260380\">2 hours ago</a></span> <span id=\"unv_33260380\"></span> | <a href=\"hide?id=33260380&amp;goto=news\">hide</a> | <a href=\"item?id=33260380\">4 comments</a> </span>\n",
      "</td></tr>\n",
      "<tr class=\"spacer\" style=\"height:5px\"></tr>\n",
      "<tr class=\"athing\" id=\"33257197\">\n",
      "<td align=\"right\" class=\"title\" valign=\"top\"><span class=\"rank\">10.</span></td> <td class=\"votelinks\" valign=\"top\"><center><a href=\"vote?id=33257197&amp;how=up&amp;goto=news\" id=\"up_33257197\"><div class=\"votearrow\" title=\"upvote\"></div></a></center></td><td class=\"title\"><span class=\"titleline\"><a href=\"https://smartfinvc.com/news/smartfin-acquires-leading-cybersecurity-software-provider-hex-rays-together-with-sfpim-and-sriw/\">IDA cybersecurity software provider Hex-Rays acquired</a><span class=\"sitebit comhead\"> (<a href=\"from?site=smartfinvc.com\"><span class=\"sitestr\">smartfinvc.com</span></a>)</span></span></td></tr><tr><td colspan=\"2\"></td><td class=\"subtext\"><span class=\"subline\">\n",
      "<span class=\"score\" id=\"score_33257197\">136 points</span> by <a class=\"hnuser\" href=\"user?id=walterbell\">walterbell</a> <span class=\"age\" title=\"2022-10-19T03:23:42\"><a href=\"item?id=33257197\">10 hours ago</a></span> <span id=\"unv_33257197\"></span> | <a href=\"hide?id=33257197&amp;goto=news\">hide</a> | <a href=\"item?id=33257197\">70 comments</a> </span>\n",
      "</td></tr>\n",
      "<tr class=\"spacer\" style=\"height:5px\"></tr>\n",
      "<tr class=\"athing\" id=\"33244819\">\n",
      "<td align=\"right\" class=\"title\" valign=\"top\"><span class=\"rank\">11.</span></td> <td class=\"votelinks\" valign=\"top\"><center><a href=\"vote?id=33244819&amp;how=up&amp;goto=news\" id=\"up_33244819\"><div class=\"votearrow\" title=\"upvote\"></div></a></center></td><td class=\"title\"><span class=\"titleline\"><a href=\"https://www.ableton.com/en/note/\">Ableton Note – A playable iOS app for forming musical ideas</a><span class=\"sitebit comhead\"> (<a href=\"from?site=ableton.com\"><span class=\"sitestr\">ableton.com</span></a>)</span></span></td></tr><tr><td colspan=\"2\"></td><td class=\"subtext\"><span class=\"subline\">\n",
      "<span class=\"score\" id=\"score_33244819\">99 points</span> by <a class=\"hnuser\" href=\"user?id=alphadelphi\">alphadelphi</a> <span class=\"age\" title=\"2022-10-18T09:22:56\"><a href=\"item?id=33244819\">9 hours ago</a></span> <span id=\"unv_33244819\"></span> | <a href=\"hide?id=33244819&amp;goto=news\">hide</a> | <a href=\"item?id=33244819\">47 comments</a> </span>\n",
      "</td></tr>\n",
      "<tr class=\"spacer\" style=\"height:5px\"></tr>\n",
      "<tr class=\"athing\" id=\"33259835\">\n",
      "<td align=\"right\" class=\"title\" valign=\"top\"><span class=\"rank\">12.</span></td> <td class=\"votelinks\" valign=\"top\"><center><a href=\"vote?id=33259835&amp;how=up&amp;goto=news\" id=\"up_33259835\"><div class=\"votearrow\" title=\"upvote\"></div></a></center></td><td class=\"title\"><span class=\"titleline\"><a href=\"https://github.com/FPGAwars/icestudio\">Icestudio: Drag and Drop FPGA programming and learning</a><span class=\"sitebit comhead\"> (<a href=\"from?site=github.com/fpgawars\"><span class=\"sitestr\">github.com/fpgawars</span></a>)</span></span></td></tr><tr><td colspan=\"2\"></td><td class=\"subtext\"><span class=\"subline\">\n",
      "<span class=\"score\" id=\"score_33259835\">20 points</span> by <a class=\"hnuser\" href=\"user?id=harvie\">harvie</a> <span class=\"age\" title=\"2022-10-19T09:59:34\"><a href=\"item?id=33259835\">3 hours ago</a></span> <span id=\"unv_33259835\"></span> | <a href=\"hide?id=33259835&amp;goto=news\">hide</a> | <a href=\"item?id=33259835\">1 comment</a> </span>\n",
      "</td></tr>\n",
      "<tr class=\"spacer\" style=\"height:5px\"></tr>\n",
      "<tr class=\"athing\" id=\"33261288\">\n",
      "<td align=\"right\" class=\"title\" valign=\"top\"><span class=\"rank\">13.</span></td> <td class=\"votelinks\" valign=\"top\"><center><a href=\"vote?id=33261288&amp;how=up&amp;goto=news\" id=\"up_33261288\"><div class=\"votearrow\" title=\"upvote\"></div></a></center></td><td class=\"title\"><span class=\"titleline\"><a href=\"https://lwn.net/SubscriberLink/910766/7678f8c4ede60928/\" rel=\"nofollow\">Identity management for WireGuard networks</a><span class=\"sitebit comhead\"> (<a href=\"from?site=lwn.net\"><span class=\"sitestr\">lwn.net</span></a>)</span></span></td></tr><tr><td colspan=\"2\"></td><td class=\"subtext\"><span class=\"subline\">\n",
      "<span class=\"score\" id=\"score_33261288\">5 points</span> by <a class=\"hnuser\" href=\"user?id=chmaynard\">chmaynard</a> <span class=\"age\" title=\"2022-10-19T12:43:56\"><a href=\"item?id=33261288\">42 minutes ago</a></span> <span id=\"unv_33261288\"></span> | <a href=\"hide?id=33261288&amp;goto=news\">hide</a> | <a href=\"item?id=33261288\">1 comment</a> </span>\n",
      "</td></tr>\n",
      "<tr class=\"spacer\" style=\"height:5px\"></tr>\n",
      "<tr class=\"athing\" id=\"33256378\">\n",
      "<td align=\"right\" class=\"title\" valign=\"top\"><span class=\"rank\">14.</span></td> <td class=\"votelinks\" valign=\"top\"><center><a href=\"vote?id=33256378&amp;how=up&amp;goto=news\" id=\"up_33256378\"><div class=\"votearrow\" title=\"upvote\"></div></a></center></td><td class=\"title\"><span class=\"titleline\"><a href=\"https://www.starlink.com/aviation\">Starlink Aviation</a><span class=\"sitebit comhead\"> (<a href=\"from?site=starlink.com\"><span class=\"sitestr\">starlink.com</span></a>)</span></span></td></tr><tr><td colspan=\"2\"></td><td class=\"subtext\"><span class=\"subline\">\n",
      "<span class=\"score\" id=\"score_33256378\">389 points</span> by <a class=\"hnuser\" href=\"user?id=lgats\">lgats</a> <span class=\"age\" title=\"2022-10-19T01:40:46\"><a href=\"item?id=33256378\">11 hours ago</a></span> <span id=\"unv_33256378\"></span> | <a href=\"hide?id=33256378&amp;goto=news\">hide</a> | <a href=\"item?id=33256378\">403 comments</a> </span>\n",
      "</td></tr>\n",
      "<tr class=\"spacer\" style=\"height:5px\"></tr>\n",
      "<tr class=\"athing\" id=\"33228387\">\n",
      "<td align=\"right\" class=\"title\" valign=\"top\"><span class=\"rank\">15.</span></td> <td class=\"votelinks\" valign=\"top\"><center><a href=\"vote?id=33228387&amp;how=up&amp;goto=news\" id=\"up_33228387\"><div class=\"votearrow\" title=\"upvote\"></div></a></center></td><td class=\"title\"><span class=\"titleline\"><a href=\"https://en.wikipedia.org/wiki/C--\">C Minus Minus</a><span class=\"sitebit comhead\"> (<a href=\"from?site=wikipedia.org\"><span class=\"sitestr\">wikipedia.org</span></a>)</span></span></td></tr><tr><td colspan=\"2\"></td><td class=\"subtext\"><span class=\"subline\">\n",
      "<span class=\"score\" id=\"score_33228387\">86 points</span> by <a class=\"hnuser\" href=\"user?id=jkuria\">jkuria</a> <span class=\"age\" title=\"2022-10-17T00:02:39\"><a href=\"item?id=33228387\">9 hours ago</a></span> <span id=\"unv_33228387\"></span> | <a href=\"hide?id=33228387&amp;goto=news\">hide</a> | <a href=\"item?id=33228387\">39 comments</a> </span>\n",
      "</td></tr>\n",
      "<tr class=\"spacer\" style=\"height:5px\"></tr>\n",
      "<tr class=\"athing\" id=\"33259351\">\n",
      "<td align=\"right\" class=\"title\" valign=\"top\"><span class=\"rank\">16.</span></td> <td class=\"votelinks\" valign=\"top\"><center><a href=\"vote?id=33259351&amp;how=up&amp;goto=news\" id=\"up_33259351\"><div class=\"votearrow\" title=\"upvote\"></div></a></center></td><td class=\"title\"><span class=\"titleline\"><a href=\"item?id=33259351\">Ask HN: Why don't I see gold at the end of the remote working rainbow?</a></span></td></tr><tr><td colspan=\"2\"></td><td class=\"subtext\"><span class=\"subline\">\n",
      "<span class=\"score\" id=\"score_33259351\">81 points</span> by <a class=\"hnuser\" href=\"user?id=samuel_backend\">samuel_backend</a> <span class=\"age\" title=\"2022-10-19T08:50:25\"><a href=\"item?id=33259351\">4 hours ago</a></span> <span id=\"unv_33259351\"></span> | <a href=\"hide?id=33259351&amp;goto=news\">hide</a> | <a href=\"item?id=33259351\">132 comments</a> </span>\n",
      "</td></tr>\n",
      "<tr class=\"spacer\" style=\"height:5px\"></tr>\n",
      "<tr class=\"athing\" id=\"33249988\">\n",
      "<td align=\"right\" class=\"title\" valign=\"top\"><span class=\"rank\">17.</span></td> <td class=\"votelinks\" valign=\"top\"><center><a href=\"vote?id=33249988&amp;how=up&amp;goto=news\" id=\"up_33249988\"><div class=\"votearrow\" title=\"upvote\"></div></a></center></td><td class=\"title\"><span class=\"titleline\"><a href=\"https://play.elevatorsaga.com/\">Elevator Saga: Elevator programming game</a><span class=\"sitebit comhead\"> (<a href=\"from?site=elevatorsaga.com\"><span class=\"sitestr\">elevatorsaga.com</span></a>)</span></span></td></tr><tr><td colspan=\"2\"></td><td class=\"subtext\"><span class=\"subline\">\n",
      "<span class=\"score\" id=\"score_33249988\">14 points</span> by <a class=\"hnuser\" href=\"user?id=homarp\">homarp</a> <span class=\"age\" title=\"2022-10-18T16:30:31\"><a href=\"item?id=33249988\">3 hours ago</a></span> <span id=\"unv_33249988\"></span> | <a href=\"hide?id=33249988&amp;goto=news\">hide</a> | <a href=\"item?id=33249988\">3 comments</a> </span>\n",
      "</td></tr>\n",
      "<tr class=\"spacer\" style=\"height:5px\"></tr>\n",
      "<tr class=\"athing\" id=\"33260998\">\n",
      "<td align=\"right\" class=\"title\" valign=\"top\"><span class=\"rank\">18.</span></td> <td class=\"votelinks\" valign=\"top\"><center><a href=\"vote?id=33260998&amp;how=up&amp;goto=news\" id=\"up_33260998\"><div class=\"votearrow\" title=\"upvote\"></div></a></center></td><td class=\"title\"><span class=\"titleline\"><a href=\"https://learn.microsoft.com/en-us/training/paths/startups/\">Build an early-stage startup</a><span class=\"sitebit comhead\"> (<a href=\"from?site=microsoft.com\"><span class=\"sitestr\">microsoft.com</span></a>)</span></span></td></tr><tr><td colspan=\"2\"></td><td class=\"subtext\"><span class=\"subline\">\n",
      "<span class=\"score\" id=\"score_33260998\">21 points</span> by <a class=\"hnuser\" href=\"user?id=open-source-ux\">open-source-ux</a> <span class=\"age\" title=\"2022-10-19T12:16:19\"><a href=\"item?id=33260998\">1 hour ago</a></span> <span id=\"unv_33260998\"></span> | <a href=\"hide?id=33260998&amp;goto=news\">hide</a> | <a href=\"item?id=33260998\">2 comments</a> </span>\n",
      "</td></tr>\n",
      "<tr class=\"spacer\" style=\"height:5px\"></tr>\n",
      "<tr class=\"athing\" id=\"33257300\">\n",
      "<td align=\"right\" class=\"title\" valign=\"top\"><span class=\"rank\">19.</span></td> <td class=\"votelinks\" valign=\"top\"><center><a href=\"vote?id=33257300&amp;how=up&amp;goto=news\" id=\"up_33257300\"><div class=\"votearrow\" title=\"upvote\"></div></a></center></td><td class=\"title\"><span class=\"titleline\"><a href=\"https://futurepinball.com\">Future Pinball – A Real Time Pinball Development System</a><span class=\"sitebit comhead\"> (<a href=\"from?site=futurepinball.com\"><span class=\"sitestr\">futurepinball.com</span></a>)</span></span></td></tr><tr><td colspan=\"2\"></td><td class=\"subtext\"><span class=\"subline\">\n",
      "<span class=\"score\" id=\"score_33257300\">72 points</span> by <a class=\"hnuser\" href=\"user?id=vyrotek\">vyrotek</a> <span class=\"age\" title=\"2022-10-19T03:36:22\"><a href=\"item?id=33257300\">9 hours ago</a></span> <span id=\"unv_33257300\"></span> | <a href=\"hide?id=33257300&amp;goto=news\">hide</a> | <a href=\"item?id=33257300\">25 comments</a> </span>\n",
      "</td></tr>\n",
      "<tr class=\"spacer\" style=\"height:5px\"></tr>\n",
      "<tr class=\"athing\" id=\"33247681\">\n",
      "<td align=\"right\" class=\"title\" valign=\"top\"><span class=\"rank\">20.</span></td> <td class=\"votelinks\" valign=\"top\"><center><a href=\"vote?id=33247681&amp;how=up&amp;goto=news\" id=\"up_33247681\"><div class=\"votearrow\" title=\"upvote\"></div></a></center></td><td class=\"title\"><span class=\"titleline\"><a href=\"https://m65digest.substack.com/p/mega65-adventures\">MEGA65 Adventures</a><span class=\"sitebit comhead\"> (<a href=\"from?site=m65digest.substack.com\"><span class=\"sitestr\">m65digest.substack.com</span></a>)</span></span></td></tr><tr><td colspan=\"2\"></td><td class=\"subtext\"><span class=\"subline\">\n",
      "<span class=\"score\" id=\"score_33247681\">34 points</span> by <a class=\"hnuser\" href=\"user?id=erickhill\">erickhill</a> <span class=\"age\" title=\"2022-10-18T14:25:24\"><a href=\"item?id=33247681\">7 hours ago</a></span> <span id=\"unv_33247681\"></span> | <a href=\"hide?id=33247681&amp;goto=news\">hide</a> | <a href=\"item?id=33247681\">4 comments</a> </span>\n",
      "</td></tr>\n",
      "<tr class=\"spacer\" style=\"height:5px\"></tr>\n",
      "<tr class=\"athing\" id=\"33230977\">\n",
      "<td align=\"right\" class=\"title\" valign=\"top\"><span class=\"rank\">21.</span></td> <td class=\"votelinks\" valign=\"top\"><center><a href=\"vote?id=33230977&amp;how=up&amp;goto=news\" id=\"up_33230977\"><div class=\"votearrow\" title=\"upvote\"></div></a></center></td><td class=\"title\"><span class=\"titleline\"><a href=\"https://www.youtube.com/watch?v=RwEKg5cjkKQ\">Intelligence Beyond the Brain [video]</a><span class=\"sitebit comhead\"> (<a href=\"from?site=youtube.com\"><span class=\"sitestr\">youtube.com</span></a>)</span></span></td></tr><tr><td colspan=\"2\"></td><td class=\"subtext\"><span class=\"subline\">\n",
      "<span class=\"score\" id=\"score_33230977\">65 points</span> by <a class=\"hnuser\" href=\"user?id=tux1968\">tux1968</a> <span class=\"age\" title=\"2022-10-17T08:19:14\"><a href=\"item?id=33230977\">10 hours ago</a></span> <span id=\"unv_33230977\"></span> | <a href=\"hide?id=33230977&amp;goto=news\">hide</a> | <a href=\"item?id=33230977\">21 comments</a> </span>\n",
      "</td></tr>\n",
      "<tr class=\"spacer\" style=\"height:5px\"></tr>\n",
      "<tr class=\"athing\" id=\"33258598\">\n",
      "<td align=\"right\" class=\"title\" valign=\"top\"><span class=\"rank\">22.</span></td> <td class=\"votelinks\" valign=\"top\"><center><a href=\"vote?id=33258598&amp;how=up&amp;goto=news\" id=\"up_33258598\"><div class=\"votearrow\" title=\"upvote\"></div></a></center></td><td class=\"title\"><span class=\"titleline\"><a href=\"https://www.docker.com/pricing/october-2022-pricing-change-faq/\">Docker October 2022 Pricing Change FAQ</a><span class=\"sitebit comhead\"> (<a href=\"from?site=docker.com\"><span class=\"sitestr\">docker.com</span></a>)</span></span></td></tr><tr><td colspan=\"2\"></td><td class=\"subtext\"><span class=\"subline\">\n",
      "<span class=\"score\" id=\"score_33258598\">29 points</span> by <a class=\"hnuser\" href=\"user?id=wiennat\">wiennat</a> <span class=\"age\" title=\"2022-10-19T06:55:06\"><a href=\"item?id=33258598\">6 hours ago</a></span> <span id=\"unv_33258598\"></span> | <a href=\"hide?id=33258598&amp;goto=news\">hide</a> | <a href=\"item?id=33258598\">23 comments</a> </span>\n",
      "</td></tr>\n",
      "<tr class=\"spacer\" style=\"height:5px\"></tr>\n",
      "<tr class=\"athing\" id=\"33256388\">\n",
      "<td align=\"right\" class=\"title\" valign=\"top\"><span class=\"rank\">23.</span></td> <td class=\"votelinks\" valign=\"top\"><center><a href=\"vote?id=33256388&amp;how=up&amp;goto=news\" id=\"up_33256388\"><div class=\"votearrow\" title=\"upvote\"></div></a></center></td><td class=\"title\"><span class=\"titleline\"><a href=\"https://www.cis.upenn.edu/~jean/math-deep.pdf\">Algebra, Topology, Differential Calculus, and Optimization Theory [pdf]</a><span class=\"sitebit comhead\"> (<a href=\"from?site=upenn.edu\"><span class=\"sitestr\">upenn.edu</span></a>)</span></span></td></tr><tr><td colspan=\"2\"></td><td class=\"subtext\"><span class=\"subline\">\n",
      "<span class=\"score\" id=\"score_33256388\">72 points</span> by <a class=\"hnuser\" href=\"user?id=azhenley\">azhenley</a> <span class=\"age\" title=\"2022-10-19T01:41:59\"><a href=\"item?id=33256388\">11 hours ago</a></span> <span id=\"unv_33256388\"></span> | <a href=\"hide?id=33256388&amp;goto=news\">hide</a> | <a href=\"item?id=33256388\">15 comments</a> </span>\n",
      "</td></tr>\n",
      "<tr class=\"spacer\" style=\"height:5px\"></tr>\n",
      "<tr class=\"athing\" id=\"33254857\">\n",
      "<td align=\"right\" class=\"title\" valign=\"top\"><span class=\"rank\">24.</span></td> <td class=\"votelinks\" valign=\"top\"><center><a href=\"vote?id=33254857&amp;how=up&amp;goto=news\" id=\"up_33254857\"><div class=\"votearrow\" title=\"upvote\"></div></a></center></td><td class=\"title\"><span class=\"titleline\"><a href=\"https://web.archive.org/web/20030809073312/https://www.microsoft.com/msj/archive/S408.aspx\">To Learn About the Voice Modem Extensions for Windows 95, Press 1 Now (1996)</a><span class=\"sitebit comhead\"> (<a href=\"from?site=archive.org\"><span class=\"sitestr\">archive.org</span></a>)</span></span></td></tr><tr><td colspan=\"2\"></td><td class=\"subtext\"><span class=\"subline\">\n",
      "<span class=\"score\" id=\"score_33254857\">36 points</span> by <a class=\"hnuser\" href=\"user?id=dcminter\">dcminter</a> <span class=\"age\" title=\"2022-10-18T22:23:38\"><a href=\"item?id=33254857\">8 hours ago</a></span> <span id=\"unv_33254857\"></span> | <a href=\"hide?id=33254857&amp;goto=news\">hide</a> | <a href=\"item?id=33254857\">3 comments</a> </span>\n",
      "</td></tr>\n",
      "<tr class=\"spacer\" style=\"height:5px\"></tr>\n",
      "<tr class=\"athing\" id=\"33259414\">\n",
      "<td align=\"right\" class=\"title\" valign=\"top\"><span class=\"rank\">25.</span></td> <td class=\"votelinks\" valign=\"top\"><center><a href=\"vote?id=33259414&amp;how=up&amp;goto=news\" id=\"up_33259414\"><div class=\"votearrow\" title=\"upvote\"></div></a></center></td><td class=\"title\"><span class=\"titleline\"><a href=\"item?id=33259414\">Ask HN: How to deal with regret of not having kids</a></span></td></tr><tr><td colspan=\"2\"></td><td class=\"subtext\"><span class=\"subline\">\n",
      "<span class=\"score\" id=\"score_33259414\">154 points</span> by <a class=\"hnuser\" href=\"user?id=dominotw\">dominotw</a> <span class=\"age\" title=\"2022-10-19T09:00:16\"><a href=\"item?id=33259414\">4 hours ago</a></span> <span id=\"unv_33259414\"></span> | <a href=\"hide?id=33259414&amp;goto=news\">hide</a> | <a href=\"item?id=33259414\">169 comments</a> </span>\n",
      "</td></tr>\n",
      "<tr class=\"spacer\" style=\"height:5px\"></tr>\n",
      "<tr class=\"athing\" id=\"33248391\">\n",
      "<td align=\"right\" class=\"title\" valign=\"top\"><span class=\"rank\">26.</span></td> <td class=\"votelinks\" valign=\"top\"><center><a href=\"vote?id=33248391&amp;how=up&amp;goto=news\" id=\"up_33248391\"><div class=\"votearrow\" title=\"upvote\"></div></a></center></td><td class=\"title\"><span class=\"titleline\"><a href=\"https://twitter.com/hillelogram/status/1534301374166474752\">I am endlessly fascinated with content tagging systems</a><span class=\"sitebit comhead\"> (<a href=\"from?site=twitter.com/hillelogram\"><span class=\"sitestr\">twitter.com/hillelogram</span></a>)</span></span></td></tr><tr><td colspan=\"2\"></td><td class=\"subtext\"><span class=\"subline\">\n",
      "<span class=\"score\" id=\"score_33248391\">537 points</span> by <a class=\"hnuser\" href=\"user?id=redbar0n\">redbar0n</a> <span class=\"age\" title=\"2022-10-18T15:07:29\"><a href=\"item?id=33248391\">21 hours ago</a></span> <span id=\"unv_33248391\"></span> | <a href=\"hide?id=33248391&amp;goto=news\">hide</a> | <a href=\"item?id=33248391\">234 comments</a> </span>\n",
      "</td></tr>\n",
      "<tr class=\"spacer\" style=\"height:5px\"></tr>\n",
      "<tr class=\"athing\" id=\"33261196\">\n",
      "<td align=\"right\" class=\"title\" valign=\"top\"><span class=\"rank\">27.</span></td> <td class=\"votelinks\" valign=\"top\"><center><a href=\"vote?id=33261196&amp;how=up&amp;goto=news\" id=\"up_33261196\"><div class=\"votearrow\" title=\"upvote\"></div></a></center></td><td class=\"title\"><span class=\"titleline\"><a href=\"https://www.lesswrong.com/posts/CKpByWmsZ8WmpHtYa/competent-elites\">Competent Elites</a><span class=\"sitebit comhead\"> (<a href=\"from?site=lesswrong.com\"><span class=\"sitestr\">lesswrong.com</span></a>)</span></span></td></tr><tr><td colspan=\"2\"></td><td class=\"subtext\"><span class=\"subline\">\n",
      "<span class=\"score\" id=\"score_33261196\">9 points</span> by <a class=\"hnuser\" href=\"user?id=ibobev\">ibobev</a> <span class=\"age\" title=\"2022-10-19T12:34:21\"><a href=\"item?id=33261196\">52 minutes ago</a></span> <span id=\"unv_33261196\"></span> | <a href=\"hide?id=33261196&amp;goto=news\">hide</a> | <a href=\"item?id=33261196\">1 comment</a> </span>\n",
      "</td></tr>\n",
      "<tr class=\"spacer\" style=\"height:5px\"></tr>\n",
      "<tr class=\"athing\" id=\"33250020\">\n",
      "<td align=\"right\" class=\"title\" valign=\"top\"><span class=\"rank\">28.</span></td> <td class=\"votelinks\" valign=\"top\"><center><a href=\"vote?id=33250020&amp;how=up&amp;goto=news\" id=\"up_33250020\"><div class=\"votearrow\" title=\"upvote\"></div></a></center></td><td class=\"title\"><span class=\"titleline\"><a href=\"https://www.timr.co/slice-of-any-not-slice-of-any/\" rel=\"nofollow\">When is a slice of any not a slice of any?</a><span class=\"sitebit comhead\"> (<a href=\"from?site=timr.co\"><span class=\"sitestr\">timr.co</span></a>)</span></span></td></tr><tr><td colspan=\"2\"></td><td class=\"subtext\"><span class=\"subline\">\n",
      "<span class=\"score\" id=\"score_33250020\">7 points</span> by <a class=\"hnuser\" href=\"user?id=fremden\">fremden</a> <span class=\"age\" title=\"2022-10-18T16:32:08\"><a href=\"item?id=33250020\">2 hours ago</a></span> <span id=\"unv_33250020\"></span> | <a href=\"hide?id=33250020&amp;goto=news\">hide</a> | <a href=\"item?id=33250020\">4 comments</a> </span>\n",
      "</td></tr>\n",
      "<tr class=\"spacer\" style=\"height:5px\"></tr>\n",
      "<tr class=\"athing\" id=\"33228215\">\n",
      "<td align=\"right\" class=\"title\" valign=\"top\"><span class=\"rank\">29.</span></td> <td class=\"votelinks\" valign=\"top\"><center><a href=\"vote?id=33228215&amp;how=up&amp;goto=news\" id=\"up_33228215\"><div class=\"votearrow\" title=\"upvote\"></div></a></center></td><td class=\"title\"><span class=\"titleline\"><a href=\"https://russellking.me/2012/08/19/duct-size-vs-airflow-part-1/\">Duct Size vs. Airflow (2012)</a><span class=\"sitebit comhead\"> (<a href=\"from?site=russellking.me\"><span class=\"sitestr\">russellking.me</span></a>)</span></span></td></tr><tr><td colspan=\"2\"></td><td class=\"subtext\"><span class=\"subline\">\n",
      "<span class=\"score\" id=\"score_33228215\">50 points</span> by <a class=\"hnuser\" href=\"user?id=walterbell\">walterbell</a> <span class=\"age\" title=\"2022-10-16T23:41:30\"><a href=\"item?id=33228215\">11 hours ago</a></span> <span id=\"unv_33228215\"></span> | <a href=\"hide?id=33228215&amp;goto=news\">hide</a> | <a href=\"item?id=33228215\">22 comments</a> </span>\n",
      "</td></tr>\n",
      "<tr class=\"spacer\" style=\"height:5px\"></tr>\n",
      "<tr class=\"athing\" id=\"33228750\">\n",
      "<td align=\"right\" class=\"title\" valign=\"top\"><span class=\"rank\">30.</span></td> <td class=\"votelinks\" valign=\"top\"><center><a href=\"vote?id=33228750&amp;how=up&amp;goto=news\" id=\"up_33228750\"><div class=\"votearrow\" title=\"upvote\"></div></a></center></td><td class=\"title\"><span class=\"titleline\"><a href=\"https://longreads.com/2017/07/25/twelve-ways-of-looking-at-bells-palsy/\">Life with Bell’s Palsy (2017)</a><span class=\"sitebit comhead\"> (<a href=\"from?site=longreads.com\"><span class=\"sitestr\">longreads.com</span></a>)</span></span></td></tr><tr><td colspan=\"2\"></td><td class=\"subtext\"><span class=\"subline\">\n",
      "<span class=\"score\" id=\"score_33228750\">13 points</span> by <a class=\"hnuser\" href=\"user?id=mooreds\">mooreds</a> <span class=\"age\" title=\"2022-10-17T01:01:05\"><a href=\"item?id=33228750\">4 hours ago</a></span> <span id=\"unv_33228750\"></span> | <a href=\"hide?id=33228750&amp;goto=news\">hide</a> | <a href=\"item?id=33228750\">7 comments</a> </span>\n",
      "</td></tr>\n",
      "<tr class=\"spacer\" style=\"height:5px\"></tr>\n",
      "<tr class=\"morespace\" style=\"height:10px\"></tr><tr><td colspan=\"2\"></td>\n",
      "<td class=\"title\"><a class=\"morelink\" href=\"news?p=2\" rel=\"next\">More</a></td> </tr>\n",
      "</table>\n",
      "</td></tr>\n",
      "<tr><td><img height=\"10\" src=\"s.gif\" width=\"0\"/><table cellpadding=\"1\" cellspacing=\"0\" width=\"100%\"><tr><td bgcolor=\"#ff6600\"></td></tr></table><br/><center><a href=\"https://www.ycombinator.com/apply/\">\n",
      "        Applications are open for YC Winter 2023\n",
      "      </a></center><br/><center><span class=\"yclinks\"><a href=\"newsguidelines.html\">Guidelines</a>\n",
      "        | <a href=\"newsfaq.html\">FAQ</a>\n",
      "        | <a href=\"lists\">Lists</a>\n",
      "        | <a href=\"https://github.com/HackerNews/API\">API</a>\n",
      "        | <a href=\"security.html\">Security</a>\n",
      "        | <a href=\"http://www.ycombinator.com/legal/\">Legal</a>\n",
      "        | <a href=\"http://www.ycombinator.com/apply/\">Apply to YC</a>\n",
      "        | <a href=\"mailto:hn@ycombinator.com\">Contact</a></span><br/><br/><form action=\"//hn.algolia.com/\" method=\"get\">Search:\n",
      "          <input autocapitalize=\"off\" autocomplete=\"false\" autocorrect=\"off\" name=\"q\" size=\"17\" spellcheck=\"false\" type=\"text\" value=\"\"/></form>\n",
      "</center></td></tr>\n",
      "</table></center>]\n"
     ]
    }
   ],
   "source": [
    "# scrape.py\n",
    "\n",
    "import requests\n",
    "from bs4 import BeautifulSoup\n",
    "\n",
    "res = requests.get('https://news.ycombinator.com/')\n",
    "soup = BeautifulSoup(res.text, 'html.parser')\n",
    "print(soup.body.contents)"
   ]
  },
  {
   "cell_type": "markdown",
   "metadata": {},
   "source": [
    "We can look for all the `div`s that we have in the Soup object"
   ]
  },
  {
   "cell_type": "code",
   "execution_count": 4,
   "metadata": {},
   "outputs": [
    {
     "name": "stdout",
     "output_type": "stream",
     "text": [
      "[<div class=\"votearrow\" title=\"upvote\"></div>, <div class=\"votearrow\" title=\"upvote\"></div>, <div class=\"votearrow\" title=\"upvote\"></div>, <div class=\"votearrow\" title=\"upvote\"></div>, <div class=\"votearrow\" title=\"upvote\"></div>, <div class=\"votearrow\" title=\"upvote\"></div>, <div class=\"votearrow\" title=\"upvote\"></div>, <div class=\"votearrow\" title=\"upvote\"></div>, <div class=\"votearrow\" title=\"upvote\"></div>, <div class=\"votearrow\" title=\"upvote\"></div>, <div class=\"votearrow\" title=\"upvote\"></div>, <div class=\"votearrow\" title=\"upvote\"></div>, <div class=\"votearrow\" title=\"upvote\"></div>, <div class=\"votearrow\" title=\"upvote\"></div>, <div class=\"votearrow\" title=\"upvote\"></div>, <div class=\"votearrow\" title=\"upvote\"></div>, <div class=\"votearrow\" title=\"upvote\"></div>, <div class=\"votearrow\" title=\"upvote\"></div>, <div class=\"votearrow\" title=\"upvote\"></div>, <div class=\"votearrow\" title=\"upvote\"></div>, <div class=\"votearrow\" title=\"upvote\"></div>, <div class=\"votearrow\" title=\"upvote\"></div>, <div class=\"votearrow\" title=\"upvote\"></div>, <div class=\"votearrow\" title=\"upvote\"></div>, <div class=\"votearrow\" title=\"upvote\"></div>, <div class=\"votearrow\" title=\"upvote\"></div>, <div class=\"votearrow\" title=\"upvote\"></div>, <div class=\"votearrow\" title=\"upvote\"></div>, <div class=\"votearrow\" title=\"upvote\"></div>, <div class=\"votearrow\" title=\"upvote\"></div>]\n"
     ]
    }
   ],
   "source": [
    "import requests\n",
    "from bs4 import BeautifulSoup\n",
    "\n",
    "res = requests.get('https://news.ycombinator.com/')\n",
    "soup = BeautifulSoup(res.text, 'html.parser')\n",
    "print(soup.find_all('div'))"
   ]
  },
  {
   "cell_type": "markdown",
   "metadata": {},
   "source": [
    "Maybe we want to get all the `<a>` tags, which are the links:"
   ]
  },
  {
   "cell_type": "code",
   "execution_count": null,
   "metadata": {},
   "outputs": [],
   "source": [
    "import requests\n",
    "from bs4 import BeautifulSoup\n",
    "\n",
    "res = requests.get('https://news.ycombinator.com/')\n",
    "soup = BeautifulSoup(res.text, 'html.parser')\n",
    "print(soup.find_all('a'))"
   ]
  },
  {
   "cell_type": "markdown",
   "metadata": {},
   "source": [
    "And this gives us something like all the links on the page:"
   ]
  },
  {
   "cell_type": "raw",
   "metadata": {},
   "source": [
    "[<a href=\"https://news.ycombinator.com\"><img height=\"18\" src=\"y18.gif\" style=\"border:1px white solid;\" width=\"18\"/></a>, <a href=\"news\">Hacker News</a>, <a href=\"newest\">new</a>, <a href=\"front\">past</a>, <a href=\"newcomments\">comments</a>, <a href=\"ask\">ask</a>, <a href=\"show\">show</a>, <a href=\"jobs\">jobs</a>, <a href=\"submit\">submit</a>, <a href=\"login?goto=news\">login</a>, <a href=\"vote?id=33261125&amp;how=up&amp;goto=news\" id=\"up_33261125\"><div class=\"votearrow\" title=\"upvote\"></div></a>, <a href=\"https://wix-ux.com/when-life-gives-you-lemons-write-better-error-messages-46c5223e1a2f\">Write Better Error Messages</a>, <a href=\"from?site=wix-ux.com\"><span class=\"sitestr\">wix-ux.com</span></a>, <a class=\"hnuser\" href=\"user?id=noch\">noch</a>, <a href=\"item?id=33261125\">1 hour ago</a>, <a href=\"hide?id=33261125&amp;goto=news\">hide</a>"
   ]
  },
  {
   "cell_type": "code",
   "execution_count": 7,
   "metadata": {},
   "outputs": [
    {
     "name": "stdout",
     "output_type": "stream",
     "text": [
      "<title>Hacker News</title>\n"
     ]
    }
   ],
   "source": [
    "import requests\n",
    "from bs4 import BeautifulSoup\n",
    "\n",
    "res = requests.get('https://news.ycombinator.com/')\n",
    "soup = BeautifulSoup(res.text, 'html.parser')\n",
    "print(soup.title)"
   ]
  },
  {
   "cell_type": "code",
   "execution_count": 8,
   "metadata": {},
   "outputs": [
    {
     "name": "stdout",
     "output_type": "stream",
     "text": [
      "<a href=\"https://news.ycombinator.com\"><img height=\"18\" src=\"y18.gif\" style=\"border:1px white solid;\" width=\"18\"/></a>\n"
     ]
    }
   ],
   "source": [
    "import requests\n",
    "from bs4 import BeautifulSoup\n",
    "\n",
    "res = requests.get('https://news.ycombinator.com/')\n",
    "soup = BeautifulSoup(res.text, 'html.parser')\n",
    "print(soup.a)"
   ]
  },
  {
   "cell_type": "markdown",
   "metadata": {},
   "source": [
    "We get the first `<a>` tag that comes up."
   ]
  },
  {
   "cell_type": "code",
   "execution_count": 9,
   "metadata": {},
   "outputs": [
    {
     "name": "stdout",
     "output_type": "stream",
     "text": [
      "<a href=\"https://news.ycombinator.com\"><img height=\"18\" src=\"y18.gif\" style=\"border:1px white solid;\" width=\"18\"/></a>\n"
     ]
    }
   ],
   "source": [
    "import requests\n",
    "from bs4 import BeautifulSoup\n",
    "\n",
    "res = requests.get('https://news.ycombinator.com/')\n",
    "soup = BeautifulSoup(res.text, 'html.parser')\n",
    "print(soup.find('a'))"
   ]
  },
  {
   "cell_type": "markdown",
   "metadata": {},
   "source": [
    "This is useful because if we go to our Hacker News first link, for example, and inspect it, we're given the HTML DOM object that gives us all the information on the page. But if we also want the `votes` we'll need to keep drilling down to the table data that contains the votes"
   ]
  },
  {
   "cell_type": "code",
   "execution_count": null,
   "metadata": {
    "vscode": {
     "languageId": "html"
    }
   },
   "outputs": [],
   "source": [
    "<td align=\"right\" valign=\"top\" class=\"title\"><span class=\"rank\">3.</span></td>      <td valign=\"top\" class=\"votelinks\"><center><a id='up_33256446'href='vote?id=33256446&amp;how=up&amp;goto=news'><div class='votearrow' title='upvote'></div></a></center></td><td class=\"title\"><span class=\"titleline\"><a href=\"https://commoncog.com/focus-saying-no-to-good-ideas/\">Focus is saying no to good ideas</a><span class=\"sitebit comhead\"> (<a href=\"from?site=commoncog.com\"><span class=\"sitestr\">commoncog.com</span></a>)</span></span></td></tr><tr><td colspan=\"2\"></td><td class=\"subtext\"><span class=\"subline\">\n",
    "  <span class=\"score\" id=\"score_33256446\">232 points</span> by <a href=\"user?id=nsoonhui\" class=\"hnuser\">nsoonhui</a> <span class=\"age\" title=\"2022-10-19T01:49:45\"><a href=\"item?id=33256446\">10 hours ago</a></span> <span id=\"unv_33256446\"></span> | <a href=\"hide?id=33256446&amp;goto=news\">hide</a> | <a href=\"item?id=33256446\">67&nbsp;comments</a>        </span>\n",
    "      </td>"
   ]
  },
  {
   "cell_type": "markdown",
   "metadata": {},
   "source": [
    "We can probably use the `id` attribute `id=\"score_33256446\"`, copying the score:"
   ]
  },
  {
   "cell_type": "code",
   "execution_count": 10,
   "metadata": {},
   "outputs": [
    {
     "name": "stdout",
     "output_type": "stream",
     "text": [
      "<span class=\"score\" id=\"score_33256446\">269 points</span>\n"
     ]
    }
   ],
   "source": [
    "import requests\n",
    "from bs4 import BeautifulSoup\n",
    "\n",
    "res = requests.get('https://news.ycombinator.com/')\n",
    "soup = BeautifulSoup(res.text, 'html.parser')\n",
    "print(soup.find(id='score_33256446'))"
   ]
  },
  {
   "cell_type": "markdown",
   "metadata": {},
   "source": [
    "We can select whatever data we want!"
   ]
  }
 ],
 "metadata": {
  "kernelspec": {
   "display_name": "Python 3.10.6 64-bit",
   "language": "python",
   "name": "python3"
  },
  "language_info": {
   "codemirror_mode": {
    "name": "ipython",
    "version": 3
   },
   "file_extension": ".py",
   "mimetype": "text/x-python",
   "name": "python",
   "nbconvert_exporter": "python",
   "pygments_lexer": "ipython3",
   "version": "3.10.6"
  },
  "orig_nbformat": 4,
  "vscode": {
   "interpreter": {
    "hash": "916dbcbb3f70747c44a77c7bcd40155683ae19c65e1c03b4aa3499c5328201f1"
   }
  }
 },
 "nbformat": 4,
 "nbformat_minor": 2
}
