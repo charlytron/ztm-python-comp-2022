{
 "cells": [
  {
   "cell_type": "markdown",
   "metadata": {},
   "source": [
    "# Our Hacker News Project\n",
    "\n",
    "We basically want to build a nicer version of Hacker News. We'll use Web scraping to only present the stories that have 100 points or more. We'll remove all of the stories that don't matter.\n",
    "\n",
    "We'll need to use [Beautiful Soup](https://www.crummy.com/software/BeautifulSoup/bs4/doc/) to do this.\n",
    "\n"
   ]
  }
 ],
 "metadata": {
  "kernelspec": {
   "display_name": "Python 3.10.6 64-bit",
   "language": "python",
   "name": "python3"
  },
  "language_info": {
   "name": "python",
   "version": "3.10.6"
  },
  "orig_nbformat": 4,
  "vscode": {
   "interpreter": {
    "hash": "916dbcbb3f70747c44a77c7bcd40155683ae19c65e1c03b4aa3499c5328201f1"
   }
  }
 },
 "nbformat": 4,
 "nbformat_minor": 2
}
