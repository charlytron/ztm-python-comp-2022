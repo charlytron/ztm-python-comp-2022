{
 "cells": [
  {
   "cell_type": "markdown",
   "metadata": {},
   "source": [
    "# What to do next with scraping?\n",
    "\n",
    "1. Get more familiar with Beautiful Soup\n",
    "  - ideally, we should just be able to use an API, i.e. Air BnB\n",
    "    - we can read about what data we have access to\n",
    "    - It's a smaller library\n",
    "2. check out [Scrapy](https://scrapy.org/)\n",
    "  - Beautiful Soup, but with more features\n",
    "  - Such a framework is a whole tool belt for scraping\n",
    "  - One would use it for scraping massive websites\n",
    "  - __A framework practically teaches an entirely new language__\n",
    "3. What are you gonna do with all this data?\n",
    "  - Store it in a text file\n",
    "  - CSV file\n",
    "  - As we collect more data, we might want to look into databases\n",
    "    - massive amounts\n",
    "    - easily accessible\n",
    "    - MongoDB, Redis, MySql, Postgres\n",
    "\n",
    "Be ethical, read robots.txt whenever possible to see what is allowed."
   ]
  }
 ],
 "metadata": {
  "language_info": {
   "name": "python"
  },
  "orig_nbformat": 4
 },
 "nbformat": 4,
 "nbformat_minor": 2
}
