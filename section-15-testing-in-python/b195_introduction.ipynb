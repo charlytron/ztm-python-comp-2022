{
 "cells": [
  {
   "cell_type": "markdown",
   "metadata": {},
   "source": [
    "# Testing in Python\n",
    "\n",
    "__A test is just another Python file which accompanies the main file.__\n",
    "\n",
    "It never actually runs in production. We run it to make sure that, before we release main.py, everything works. It's only for development.\n",
    "\n",
    "We know py-linting because it's installed in VS Code to check syntax and small errors as we type. Also remember `PEP 8`, basically the style manual of Python; that is what the community agrees on.\n",
    "\n",
    "These tools only take us so far. Testing goes one step further.\n",
    "\n",
    "We have a built-in module, called `unittest`\n"
   ]
  },
  {
   "cell_type": "code",
   "execution_count": null,
   "metadata": {},
   "outputs": [],
   "source": [
    "# main.py"
   ]
  },
  {
   "cell_type": "code",
   "execution_count": null,
   "metadata": {},
   "outputs": [],
   "source": [
    "# test.py\n",
    "\n",
    "import unittest"
   ]
  }
 ],
 "metadata": {
  "language_info": {
   "name": "python"
  },
  "orig_nbformat": 4
 },
 "nbformat": 4,
 "nbformat_minor": 2
}
