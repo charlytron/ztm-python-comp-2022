{
 "cells": [
  {
   "cell_type": "markdown",
   "metadata": {},
   "source": [
    "# Writing Unit Tests"
   ]
  },
  {
   "cell_type": "code",
   "execution_count": null,
   "metadata": {},
   "outputs": [],
   "source": [
    "import unittest\n",
    "import main\n",
    "\n",
    "class TestMain(unittest.TestCase):\n",
    "  def test_bar_foo(self):\n",
    "    test_param = 10\n",
    "    result = main.bar_foo(test_param)\n",
    "    self.assertEqual(result, 15)\n",
    "    \n",
    "  def test_bar_foo2(self):\n",
    "    test_param = 'oogabooga'\n",
    "    result = main.bar_foo(test_param)\n",
    "    self.assertIsInstance(result, ValueError)\n",
    "    \n",
    "  def test_bar_foo3(self):\n",
    "    test_param = None\n",
    "    \n",
    "unittest.main()"
   ]
  }
 ],
 "metadata": {
  "kernelspec": {
   "display_name": "Python 3.10.6 64-bit",
   "language": "python",
   "name": "python3"
  },
  "language_info": {
   "name": "python",
   "version": "3.10.6"
  },
  "orig_nbformat": 4,
  "vscode": {
   "interpreter": {
    "hash": "916dbcbb3f70747c44a77c7bcd40155683ae19c65e1c03b4aa3499c5328201f1"
   }
  }
 },
 "nbformat": 4,
 "nbformat_minor": 2
}
