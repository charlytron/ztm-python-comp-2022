{
 "cells": [
  {
   "cell_type": "markdown",
   "metadata": {},
   "source": [
    "# Writing Unit Tests II\n",
    "\n",
    "## More things one can do with unit tests:\n",
    "\n",
    "We may wonder why it's at all useful to write `if __name__ == '__main__':`\n",
    "at the bottom of the code here:"
   ]
  },
  {
   "cell_type": "code",
   "execution_count": null,
   "metadata": {},
   "outputs": [],
   "source": [
    "import unittest\n",
    "import main\n",
    "\n",
    "class TestMain(unittest.TestCase):\n",
    "  def test_bar_foo(self):\n",
    "    test_param = 10\n",
    "    result = main.bar_foo(test_param)\n",
    "    self.assertEqual(result, 15)\n",
    "    \n",
    "  def test_bar_foo2(self):\n",
    "    test_param = 'oogabooga'\n",
    "    result = main.bar_foo(test_param)\n",
    "    self.assertIsInstance(result, ValueError)\n",
    "    \n",
    "  def test_bar_foo3(self):\n",
    "    test_param = None\n",
    "    result = main.bar_foo(test_param)\n",
    "    self.assertEqual(result, 'please enter number, yo')\n",
    "    \n",
    "  def test_bar_foo4(self):\n",
    "    test_param = ''\n",
    "    result = main.bar_foo(test_param)\n",
    "    self.assertEqual(result, \"please enter number, yo\")\n",
    "    \n",
    "if __name__ == '__main__':\n",
    "  unittest.main()"
   ]
  },
  {
   "cell_type": "markdown",
   "metadata": {},
   "source": [
    "We want to run all of our tests together.\n",
    "\n",
    "``` bash\n",
    "python3 -m unittest -v\n",
    "```\n",
    "\n",
    "which should give us\n",
    "\n",
    "``` bash\n",
    "(base) ct@pop-os:~/Documents/comp-python-2022-Neagoie/section-15-testing-in-python$ python3 -m unittest -v\n",
    "test_bar_foo (test.TestMain) ... ok\n",
    "test_bar_foo2 (test.TestMain) ... ok\n",
    "test_bar_foo3 (test.TestMain) ... ok\n",
    "test_bar_foo4 (test.TestMain) ... ok\n",
    "\n",
    "----------------------------------------------------------------------\n",
    "Ran 4 tests in 0.000s\n",
    "\n",
    "OK\n",
    "```"
   ]
  }
 ],
 "metadata": {
  "kernelspec": {
   "display_name": "Python 3.10.6 64-bit",
   "language": "python",
   "name": "python3"
  },
  "language_info": {
   "name": "python",
   "version": "3.10.6"
  },
  "orig_nbformat": 4,
  "vscode": {
   "interpreter": {
    "hash": "916dbcbb3f70747c44a77c7bcd40155683ae19c65e1c03b4aa3499c5328201f1"
   }
  }
 },
 "nbformat": 4,
 "nbformat_minor": 2
}
