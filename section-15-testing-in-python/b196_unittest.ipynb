{
 "cells": [
  {
   "cell_type": "markdown",
   "metadata": {},
   "source": [
    "# `unittest`\n",
    "\n",
    "Here, we'll write our first test."
   ]
  },
  {
   "cell_type": "code",
   "execution_count": null,
   "metadata": {},
   "outputs": [],
   "source": [
    "# main.py\n",
    "\n",
    "def bar_foo(num):\n",
    "  return num + 5"
   ]
  },
  {
   "cell_type": "code",
   "execution_count": null,
   "metadata": {},
   "outputs": [],
   "source": [
    "# test.py\n",
    "\n",
    "import unittest\n",
    "import main\n",
    "\n",
    "class TestMain(unittest.TestCase):\n",
    "  def test_bar_foo(self):\n",
    "    test_param = 10\n",
    "    result = main.bar_foo(test_param)\n",
    "    self.assertEqual(result, 15)\n",
    "    \n",
    "unittest.main()"
   ]
  },
  {
   "cell_type": "markdown",
   "metadata": {},
   "source": [
    "If we run `test.py` in the terminal:\n",
    "\n",
    "``` bash\n",
    "(base) ct@pop-os:~/Documents/comp-python-2022-Neagoie/section-15-testing-in-python$ python3 test.py\n",
    ".\n",
    "----------------------------------------------------------------------\n",
    "Ran 1 test in 0.000s\n",
    "\n",
    "OK\n",
    "(base) ct@pop-os:~/Documents/comp-python-2022-Neagoie/section-15-testing-in-python$ \n",
    "```\n",
    "\n",
    "__But what if we change our assertion? Let's try to assert that our result equals 10.__"
   ]
  },
  {
   "cell_type": "code",
   "execution_count": null,
   "metadata": {},
   "outputs": [],
   "source": [
    "# test.py\n",
    "\n",
    "import unittest\n",
    "import main\n",
    "\n",
    "class TestMain(unittest.TestCase):\n",
    "  def test_bar_foo(self):\n",
    "    test_param = 10\n",
    "    result = main.bar_foo(test_param)\n",
    "    self.assertEqual(result, 10)\n",
    "    \n",
    "unittest.main()"
   ]
  },
  {
   "cell_type": "markdown",
   "metadata": {},
   "source": [
    "The test should return us the expected result:\n",
    "\n",
    "``` bash\n",
    "(base) ct@pop-os:~/Documents/comp-python-2022-Neagoie/section-15-testing-in-python$ python3 test.py\n",
    "F\n",
    "======================================================================\n",
    "FAIL: test_bar_foo (__main__.TestMain)\n",
    "----------------------------------------------------------------------\n",
    "Traceback (most recent call last):\n",
    "  File \"/home/ct/Documents/comp-python-2022-Neagoie/section-15-testing-in-python/test.py\", line 8, in test_bar_foo\n",
    "    self.assertEqual(result, 10)\n",
    "AssertionError: 15 != 10\n",
    "\n",
    "----------------------------------------------------------------------\n",
    "Ran 1 test in 0.000s\n",
    "\n",
    "FAILED (failures=1)\n",
    "(base) ct@pop-os:~/Documents/comp-python-2022-Neagoie/section-15-testing-in-python$ \n",
    "```\n",
    "\n",
    "We got 15 but we expected 10, so we need to adjust our code because we wrongfully asserted the answer.\n",
    "\n",
    "Now, we'll change the test param to a piece of string:"
   ]
  },
  {
   "cell_type": "code",
   "execution_count": null,
   "metadata": {},
   "outputs": [],
   "source": [
    "# test.py\n",
    "\n",
    "import unittest\n",
    "import main\n",
    "\n",
    "class TestMain(unittest.TestCase):\n",
    "  def test_bar_foo(self):\n",
    "    test_param = 10\n",
    "    result = main.bar_foo(test_param)\n",
    "    self.assertEqual(result, 10)\n",
    "    \n",
    "  def test_bar_foo2(self):\n",
    "    test_param = 'oogabooga'\n",
    "    result = main.bar_foo(test_param)\n",
    "    self.assertEqual(result, ValueError)\n",
    "    \n",
    "unittest.main()"
   ]
  },
  {
   "cell_type": "markdown",
   "metadata": {},
   "source": [
    "We can also wrap our code in a `try...except` block:"
   ]
  },
  {
   "cell_type": "code",
   "execution_count": null,
   "metadata": {},
   "outputs": [],
   "source": [
    "# main.py\n",
    "\n",
    "def bar_foo(num):\n",
    "  try:\n",
    "    return int(num) + 5\n",
    "  except ValueError as err:\n",
    "    return err\n",
    "    "
   ]
  }
 ],
 "metadata": {
  "kernelspec": {
   "display_name": "Python 3.10.6 64-bit",
   "language": "python",
   "name": "python3"
  },
  "language_info": {
   "codemirror_mode": {
    "name": "ipython",
    "version": 3
   },
   "file_extension": ".py",
   "mimetype": "text/x-python",
   "name": "python",
   "nbconvert_exporter": "python",
   "pygments_lexer": "ipython3",
   "version": "3.10.6"
  },
  "orig_nbformat": 4,
  "vscode": {
   "interpreter": {
    "hash": "916dbcbb3f70747c44a77c7bcd40155683ae19c65e1c03b4aa3499c5328201f1"
   }
  }
 },
 "nbformat": 4,
 "nbformat_minor": 2
}
