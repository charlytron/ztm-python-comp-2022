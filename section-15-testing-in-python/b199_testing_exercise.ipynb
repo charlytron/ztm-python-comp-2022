{
 "cells": [
  {
   "cell_type": "code",
   "execution_count": null,
   "metadata": {},
   "outputs": [],
   "source": [
    "# Testing Exercise\n",
    "\n"
   ]
  },
  {
   "cell_type": "code",
   "execution_count": null,
   "metadata": {},
   "outputs": [],
   "source": [
    "from random import randint\n",
    "import sys\n",
    "# generate a number 1~10\n",
    "answer = randint(1, 10)\n",
    "\n",
    "# input from user?\n",
    "# check that input is a number 1~10\n",
    "while True:\n",
    "    try:\n",
    "        guess = int(input('guess a number 1~10:  '))\n",
    "        if  0 < guess < 11:\n",
    "            if guess == answer:\n",
    "                print('you are a genius!')\n",
    "                break\n",
    "        else:\n",
    "            print('hey bozo, I said 1~10')\n",
    "    except ValueError:\n",
    "        print('please enter a number')\n",
    "        continue"
   ]
  }
 ],
 "metadata": {
  "kernelspec": {
   "display_name": "Python 3.10.6 64-bit",
   "language": "python",
   "name": "python3"
  },
  "language_info": {
   "codemirror_mode": {
    "name": "ipython",
    "version": 3
   },
   "file_extension": ".py",
   "mimetype": "text/x-python",
   "name": "python",
   "nbconvert_exporter": "python",
   "pygments_lexer": "ipython3",
   "version": "3.10.6"
  },
  "orig_nbformat": 4,
  "vscode": {
   "interpreter": {
    "hash": "916dbcbb3f70747c44a77c7bcd40155683ae19c65e1c03b4aa3499c5328201f1"
   }
  }
 },
 "nbformat": 4,
 "nbformat_minor": 2
}
